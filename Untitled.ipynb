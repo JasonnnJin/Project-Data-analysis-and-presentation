{
 "cells": [
  {
   "cell_type": "code",
   "execution_count": 1,
   "id": "e87eaba1",
   "metadata": {},
   "outputs": [],
   "source": [
    "import pandas as pd\n",
    "import numpy as np"
   ]
  },
  {
   "cell_type": "markdown",
   "id": "9ae16152",
   "metadata": {},
   "source": [
    "# Data processing"
   ]
  },
  {
   "cell_type": "code",
   "execution_count": 285,
   "id": "4e2e31fb",
   "metadata": {},
   "outputs": [
    {
     "data": {
      "text/html": [
       "<div>\n",
       "<style scoped>\n",
       "    .dataframe tbody tr th:only-of-type {\n",
       "        vertical-align: middle;\n",
       "    }\n",
       "\n",
       "    .dataframe tbody tr th {\n",
       "        vertical-align: top;\n",
       "    }\n",
       "\n",
       "    .dataframe thead th {\n",
       "        text-align: right;\n",
       "    }\n",
       "</style>\n",
       "<table border=\"1\" class=\"dataframe\">\n",
       "  <thead>\n",
       "    <tr style=\"text-align: right;\">\n",
       "      <th></th>\n",
       "      <th>Unnamed: 0</th>\n",
       "      <th>Brand</th>\n",
       "      <th>Name</th>\n",
       "      <th>Price</th>\n",
       "      <th>Processor_Name</th>\n",
       "      <th>Processor_Brand</th>\n",
       "      <th>RAM_Expandable</th>\n",
       "      <th>RAM</th>\n",
       "      <th>RAM_TYPE</th>\n",
       "      <th>Ghz</th>\n",
       "      <th>Display_type</th>\n",
       "      <th>Display</th>\n",
       "      <th>GPU</th>\n",
       "      <th>GPU_Brand</th>\n",
       "      <th>SSD</th>\n",
       "      <th>HDD</th>\n",
       "      <th>Adapter</th>\n",
       "      <th>Battery_Life</th>\n",
       "    </tr>\n",
       "  </thead>\n",
       "  <tbody>\n",
       "    <tr>\n",
       "      <th>0</th>\n",
       "      <td>0</td>\n",
       "      <td>HP</td>\n",
       "      <td>HP Chromebook 11A-NA0002MU (2E4N0PA) Laptop (1...</td>\n",
       "      <td>22990</td>\n",
       "      <td>MediaTek Octa-core</td>\n",
       "      <td>MediaTek</td>\n",
       "      <td>Not Expandable</td>\n",
       "      <td>4 GB</td>\n",
       "      <td>DDR4 RAM</td>\n",
       "      <td>2.0 Ghz Processor</td>\n",
       "      <td>LED</td>\n",
       "      <td>11.6</td>\n",
       "      <td>Integrated Graphics</td>\n",
       "      <td>MediaTek</td>\n",
       "      <td>64 GB SSD Storage</td>\n",
       "      <td>No HDD</td>\n",
       "      <td>45</td>\n",
       "      <td>Upto 12 Hrs Battery Life</td>\n",
       "    </tr>\n",
       "    <tr>\n",
       "      <th>1</th>\n",
       "      <td>1</td>\n",
       "      <td>Lenovo</td>\n",
       "      <td>Lenovo Ideapad Slim 3 (82KU017KIN) Laptop (15....</td>\n",
       "      <td>36289</td>\n",
       "      <td>AMD Hexa-Core Ryzen 5</td>\n",
       "      <td>AMD</td>\n",
       "      <td>12 GB Expandable</td>\n",
       "      <td>8 GB</td>\n",
       "      <td>DDR4 RAM</td>\n",
       "      <td>4.0 Ghz Processor</td>\n",
       "      <td>LCD</td>\n",
       "      <td>15.6</td>\n",
       "      <td>Radeon</td>\n",
       "      <td>AMD</td>\n",
       "      <td>512 GB SSD Storage</td>\n",
       "      <td>No HDD</td>\n",
       "      <td>65</td>\n",
       "      <td>Upto 11 Hrs Battery Life</td>\n",
       "    </tr>\n",
       "    <tr>\n",
       "      <th>2</th>\n",
       "      <td>3</td>\n",
       "      <td>Dell</td>\n",
       "      <td>Dell G15-5520 (D560822WIN9B) Laptop (15.6 Inch...</td>\n",
       "      <td>78500</td>\n",
       "      <td>Intel Core i5 (12th Gen)</td>\n",
       "      <td>Intel</td>\n",
       "      <td>32 GB Expandable</td>\n",
       "      <td>16 GB</td>\n",
       "      <td>DDR5 RAM</td>\n",
       "      <td>3.3 Ghz Processor</td>\n",
       "      <td>LCD</td>\n",
       "      <td>15.6</td>\n",
       "      <td>GeForce RTX 3050 GPU, 4 GB</td>\n",
       "      <td>NVIDIA</td>\n",
       "      <td>512 GB SSD Storage</td>\n",
       "      <td>No HDD</td>\n",
       "      <td>56</td>\n",
       "      <td>Upto 10 Hrs Battery Life</td>\n",
       "    </tr>\n",
       "    <tr>\n",
       "      <th>3</th>\n",
       "      <td>4</td>\n",
       "      <td>HP</td>\n",
       "      <td>HP 15s-fy5007TU (91R03PA) Laptop (15.6 Inch | ...</td>\n",
       "      <td>55490</td>\n",
       "      <td>Intel Core i5 (12th Gen)</td>\n",
       "      <td>Intel</td>\n",
       "      <td>8 GB Expandable</td>\n",
       "      <td>8 GB</td>\n",
       "      <td>DDR4 RAM</td>\n",
       "      <td>4.2 Ghz Processor</td>\n",
       "      <td>LCD</td>\n",
       "      <td>15.6</td>\n",
       "      <td>Iris Xe</td>\n",
       "      <td>Intel</td>\n",
       "      <td>512 GB SSD Storage</td>\n",
       "      <td>No HDD</td>\n",
       "      <td>no</td>\n",
       "      <td>Upto 7.30 Hrs Battery Life</td>\n",
       "    </tr>\n",
       "    <tr>\n",
       "      <th>4</th>\n",
       "      <td>6</td>\n",
       "      <td>Infinix</td>\n",
       "      <td>Infinix Inbook Y2 Plus XL29 Laptop (15.6 Inch ...</td>\n",
       "      <td>21990</td>\n",
       "      <td>Intel Core i3 (11th Gen)</td>\n",
       "      <td>Intel</td>\n",
       "      <td>Not Expandable</td>\n",
       "      <td>8 GB LP</td>\n",
       "      <td>LPDDR4X RAM</td>\n",
       "      <td>1.7 Ghz Processor</td>\n",
       "      <td>LCD</td>\n",
       "      <td>15.6</td>\n",
       "      <td>UHD</td>\n",
       "      <td>Intel</td>\n",
       "      <td>512 GB SSD Storage</td>\n",
       "      <td>No HDD</td>\n",
       "      <td>45</td>\n",
       "      <td>Upto 8 Hrs Battery Life</td>\n",
       "    </tr>\n",
       "  </tbody>\n",
       "</table>\n",
       "</div>"
      ],
      "text/plain": [
       "   Unnamed: 0    Brand                                               Name  \\\n",
       "0           0       HP  HP Chromebook 11A-NA0002MU (2E4N0PA) Laptop (1...   \n",
       "1           1   Lenovo  Lenovo Ideapad Slim 3 (82KU017KIN) Laptop (15....   \n",
       "2           3     Dell  Dell G15-5520 (D560822WIN9B) Laptop (15.6 Inch...   \n",
       "3           4       HP  HP 15s-fy5007TU (91R03PA) Laptop (15.6 Inch | ...   \n",
       "4           6  Infinix  Infinix Inbook Y2 Plus XL29 Laptop (15.6 Inch ...   \n",
       "\n",
       "   Price            Processor_Name Processor_Brand     RAM_Expandable  \\\n",
       "0  22990        MediaTek Octa-core        MediaTek     Not Expandable   \n",
       "1  36289     AMD Hexa-Core Ryzen 5             AMD   12 GB Expandable   \n",
       "2  78500  Intel Core i5 (12th Gen)           Intel   32 GB Expandable   \n",
       "3  55490  Intel Core i5 (12th Gen)           Intel    8 GB Expandable   \n",
       "4  21990  Intel Core i3 (11th Gen)           Intel     Not Expandable   \n",
       "\n",
       "       RAM      RAM_TYPE                 Ghz Display_type Display  \\\n",
       "0    4 GB       DDR4 RAM   2.0 Ghz Processor          LED   11.6    \n",
       "1    8 GB      DDR4 RAM    4.0 Ghz Processor          LCD   15.6    \n",
       "2   16 GB      DDR5 RAM    3.3 Ghz Processor          LCD   15.6    \n",
       "3    8 GB      DDR4 RAM    4.2 Ghz Processor          LCD   15.6    \n",
       "4  8 GB LP   LPDDR4X RAM   1.7 Ghz Processor          LCD   15.6    \n",
       "\n",
       "                          GPU GPU_Brand                 SSD     HDD Adapter  \\\n",
       "0         Integrated Graphics  MediaTek   64 GB SSD Storage  No HDD      45   \n",
       "1                      Radeon       AMD  512 GB SSD Storage  No HDD      65   \n",
       "2  GeForce RTX 3050 GPU, 4 GB    NVIDIA  512 GB SSD Storage  No HDD      56   \n",
       "3                     Iris Xe     Intel  512 GB SSD Storage  No HDD      no   \n",
       "4                         UHD     Intel  512 GB SSD Storage  No HDD      45   \n",
       "\n",
       "                 Battery_Life  \n",
       "0    Upto 12 Hrs Battery Life  \n",
       "1    Upto 11 Hrs Battery Life  \n",
       "2    Upto 10 Hrs Battery Life  \n",
       "3  Upto 7.30 Hrs Battery Life  \n",
       "4     Upto 8 Hrs Battery Life  "
      ]
     },
     "execution_count": 285,
     "metadata": {},
     "output_type": "execute_result"
    }
   ],
   "source": [
    "##step1 load the data and removing missing or irrelevant entires\n",
    "laptop_original = pd.read_csv(\"laptop.csv\")\n",
    "laptop_original.head()"
   ]
  },
  {
   "cell_type": "code",
   "execution_count": 286,
   "id": "5e8af909",
   "metadata": {},
   "outputs": [
    {
     "data": {
      "text/plain": [
       "Unnamed: 0          int64\n",
       "Brand              object\n",
       "Price               int64\n",
       "Processor_Name     object\n",
       "Processor_Brand    object\n",
       "RAM_Expandable     object\n",
       "RAM                object\n",
       "RAM_TYPE           object\n",
       "Ghz                object\n",
       "Display_type       object\n",
       "Display            object\n",
       "GPU                object\n",
       "GPU_Brand          object\n",
       "SSD                object\n",
       "HDD                object\n",
       "Adapter            object\n",
       "Battery_Life       object\n",
       "dtype: object"
      ]
     },
     "execution_count": 286,
     "metadata": {},
     "output_type": "execute_result"
    }
   ],
   "source": [
    "####dropna\n",
    "laptop_original.dropna(inplace=True)\n",
    "####it seems the Name column is very complex and will not \n",
    "laptop_original = laptop_original.drop(['Name'],axis=1)\n",
    "####then determine the type of each colum, label the string column and normalize the number column\n",
    "laptop_original.dtypes"
   ]
  },
  {
   "cell_type": "code",
   "execution_count": 287,
   "id": "7108a7ed",
   "metadata": {},
   "outputs": [
    {
     "name": "stdout",
     "output_type": "stream",
     "text": [
      "Unnamed: 0         3546\n",
      "Brand                31\n",
      "Price              1682\n",
      "Processor_Name      124\n",
      "Processor_Brand      19\n",
      "RAM_Expandable       10\n",
      "RAM                  20\n",
      "RAM_TYPE             19\n",
      "Ghz                  31\n",
      "Display_type          2\n",
      "Display              34\n",
      "GPU                 277\n",
      "GPU_Brand            10\n",
      "SSD                  18\n",
      "HDD                   8\n",
      "Adapter              68\n",
      "Battery_Life        191\n",
      "dtype: int64\n",
      "Unnamed: 0           int64\n",
      "Brand               object\n",
      "Price                int64\n",
      "Processor_Name      object\n",
      "Processor_Brand     object\n",
      "RAM_Expandable      object\n",
      "RAM                 object\n",
      "RAM_TYPE            object\n",
      "Ghz                float64\n",
      "Display_type        object\n",
      "Display             object\n",
      "GPU                 object\n",
      "GPU_Brand           object\n",
      "SSD                 object\n",
      "HDD                 object\n",
      "Adapter              int64\n",
      "Battery_Life        object\n",
      "dtype: object\n"
     ]
    }
   ],
   "source": [
    "###The Ghz column,  Adapter column can be transform to number\n",
    "def process_Ghz(row):\n",
    "    if row == \"0\":\n",
    "        return 0\n",
    "    return float(row.split(\" \")[1])\n",
    "laptop_original['Ghz'] = laptop_original['Ghz'].apply(process_Ghz)\n",
    "\n",
    "def process_adapter(row):\n",
    "    if row == \"no\":\n",
    "        return 0\n",
    "    return int(row)\n",
    "laptop_original['Adapter'] = laptop_original['Adapter'].apply(process_adapter)\n",
    "\n",
    "####and then, lets viisualize the type of each column and the unique value for each column\n",
    "print(laptop_original.nunique())\n",
    "print(laptop_original.dtypes)"
   ]
  },
  {
   "cell_type": "code",
   "execution_count": 288,
   "id": "4a5fdd25",
   "metadata": {},
   "outputs": [],
   "source": [
    "####transform all the other non-numeric column to nmber types\n",
    "str_columns = ['Brand', 'Processor_Name', 'Processor_Brand','RAM_Expandable',\"RAM\",\"RAM_TYPE\",'Display_type','Display','GPU','GPU_Brand','SSD','HDD','Battery_Life']\n",
    "\n",
    "encoding_map = {}\n",
    "\n",
    "for col in str_columns:\n",
    "    laptop_original[col], uniques = pd.factorize(laptop_original[col])\n",
    "    encoding_map[col] = dict(enumerate(uniques))"
   ]
  },
  {
   "cell_type": "code",
   "execution_count": 326,
   "id": "edec2024",
   "metadata": {},
   "outputs": [
    {
     "data": {
      "image/png": "[encoded data removed]",
      "text/plain": [
       "<Figure size 720x576 with 1 Axes>"
      ]
     },
     "metadata": {
      "needs_background": "light"
     },
     "output_type": "display_data"
    }
   ],
   "source": [
    "#as we can see, the processer name and GPU columns have too many types, lets visualize the relationship bettwen all the other features with price\n",
    "import seaborn as sns\n",
    "import matplotlib.pyplot as plt\n",
    "\n",
    "# Calculate correlation matrix\n",
    "correlation_matrix = laptop_original.corr()\n",
    "price_correlation = correlation_matrix['Price'].drop('Price')\n",
    "\n",
    "# Plot heatmap for correlation\n",
    "plt.figure(figsize=(10, 8))\n",
    "price_correlation.sort_values().plot(kind='barh')\n",
    "plt.title('Feature Correlation with Price')\n",
    "plt.savefig(\"Feautre_corr_price.png\")\n",
    "plt.show()"
   ]
  },
  {
   "cell_type": "code",
   "execution_count": 290,
   "id": "b1dee402",
   "metadata": {},
   "outputs": [
    {
     "data": {
      "text/html": [
       "<div>\n",
       "<style scoped>\n",
       "    .dataframe tbody tr th:only-of-type {\n",
       "        vertical-align: middle;\n",
       "    }\n",
       "\n",
       "    .dataframe tbody tr th {\n",
       "        vertical-align: top;\n",
       "    }\n",
       "\n",
       "    .dataframe thead th {\n",
       "        text-align: right;\n",
       "    }\n",
       "</style>\n",
       "<table border=\"1\" class=\"dataframe\">\n",
       "  <thead>\n",
       "    <tr style=\"text-align: right;\">\n",
       "      <th></th>\n",
       "      <th>Unnamed: 0</th>\n",
       "      <th>Brand</th>\n",
       "      <th>Price</th>\n",
       "      <th>Processor_Name</th>\n",
       "      <th>RAM_Expandable</th>\n",
       "      <th>RAM</th>\n",
       "      <th>RAM_TYPE</th>\n",
       "      <th>Ghz</th>\n",
       "      <th>Display_type</th>\n",
       "      <th>Display</th>\n",
       "      <th>GPU</th>\n",
       "      <th>SSD</th>\n",
       "      <th>HDD</th>\n",
       "      <th>Adapter</th>\n",
       "      <th>Battery_Life</th>\n",
       "    </tr>\n",
       "  </thead>\n",
       "  <tbody>\n",
       "    <tr>\n",
       "      <th>0</th>\n",
       "      <td>0</td>\n",
       "      <td>0</td>\n",
       "      <td>22990</td>\n",
       "      <td>0</td>\n",
       "      <td>0</td>\n",
       "      <td>0</td>\n",
       "      <td>0</td>\n",
       "      <td>2.0</td>\n",
       "      <td>0</td>\n",
       "      <td>0</td>\n",
       "      <td>0</td>\n",
       "      <td>0</td>\n",
       "      <td>0</td>\n",
       "      <td>45</td>\n",
       "      <td>0</td>\n",
       "    </tr>\n",
       "    <tr>\n",
       "      <th>1</th>\n",
       "      <td>1</td>\n",
       "      <td>1</td>\n",
       "      <td>36289</td>\n",
       "      <td>1</td>\n",
       "      <td>1</td>\n",
       "      <td>1</td>\n",
       "      <td>1</td>\n",
       "      <td>4.0</td>\n",
       "      <td>1</td>\n",
       "      <td>1</td>\n",
       "      <td>1</td>\n",
       "      <td>1</td>\n",
       "      <td>0</td>\n",
       "      <td>65</td>\n",
       "      <td>1</td>\n",
       "    </tr>\n",
       "    <tr>\n",
       "      <th>2</th>\n",
       "      <td>3</td>\n",
       "      <td>2</td>\n",
       "      <td>78500</td>\n",
       "      <td>2</td>\n",
       "      <td>2</td>\n",
       "      <td>2</td>\n",
       "      <td>2</td>\n",
       "      <td>3.3</td>\n",
       "      <td>1</td>\n",
       "      <td>1</td>\n",
       "      <td>2</td>\n",
       "      <td>1</td>\n",
       "      <td>0</td>\n",
       "      <td>56</td>\n",
       "      <td>2</td>\n",
       "    </tr>\n",
       "    <tr>\n",
       "      <th>3</th>\n",
       "      <td>4</td>\n",
       "      <td>0</td>\n",
       "      <td>55490</td>\n",
       "      <td>2</td>\n",
       "      <td>3</td>\n",
       "      <td>1</td>\n",
       "      <td>1</td>\n",
       "      <td>4.2</td>\n",
       "      <td>1</td>\n",
       "      <td>1</td>\n",
       "      <td>3</td>\n",
       "      <td>1</td>\n",
       "      <td>0</td>\n",
       "      <td>0</td>\n",
       "      <td>3</td>\n",
       "    </tr>\n",
       "    <tr>\n",
       "      <th>4</th>\n",
       "      <td>6</td>\n",
       "      <td>3</td>\n",
       "      <td>21990</td>\n",
       "      <td>3</td>\n",
       "      <td>0</td>\n",
       "      <td>3</td>\n",
       "      <td>3</td>\n",
       "      <td>1.7</td>\n",
       "      <td>1</td>\n",
       "      <td>1</td>\n",
       "      <td>4</td>\n",
       "      <td>1</td>\n",
       "      <td>0</td>\n",
       "      <td>45</td>\n",
       "      <td>4</td>\n",
       "    </tr>\n",
       "  </tbody>\n",
       "</table>\n",
       "</div>"
      ],
      "text/plain": [
       "   Unnamed: 0  Brand  Price  Processor_Name  RAM_Expandable  RAM  RAM_TYPE  \\\n",
       "0           0      0  22990               0               0    0         0   \n",
       "1           1      1  36289               1               1    1         1   \n",
       "2           3      2  78500               2               2    2         2   \n",
       "3           4      0  55490               2               3    1         1   \n",
       "4           6      3  21990               3               0    3         3   \n",
       "\n",
       "   Ghz  Display_type  Display  GPU  SSD  HDD  Adapter  Battery_Life  \n",
       "0  2.0             0        0    0    0    0       45             0  \n",
       "1  4.0             1        1    1    1    0       65             1  \n",
       "2  3.3             1        1    2    1    0       56             2  \n",
       "3  4.2             1        1    3    1    0        0             3  \n",
       "4  1.7             1        1    4    1    0       45             4  "
      ]
     },
     "execution_count": 290,
     "metadata": {},
     "output_type": "execute_result"
    }
   ],
   "source": [
    "##from the above result, it seems the Processor_Brand and GPU Brand is not very correlate with the price, let's drop them\n",
    "laptop_original = laptop_original.drop(['Processor_Brand','GPU_Brand'],axis=1)\n",
    "laptop_original.head()"
   ]
  },
  {
   "cell_type": "code",
   "execution_count": 291,
   "id": "af6697ad",
   "metadata": {},
   "outputs": [
    {
     "data": {
      "text/html": [
       "<div>\n",
       "<style scoped>\n",
       "    .dataframe tbody tr th:only-of-type {\n",
       "        vertical-align: middle;\n",
       "    }\n",
       "\n",
       "    .dataframe tbody tr th {\n",
       "        vertical-align: top;\n",
       "    }\n",
       "\n",
       "    .dataframe thead th {\n",
       "        text-align: right;\n",
       "    }\n",
       "</style>\n",
       "<table border=\"1\" class=\"dataframe\">\n",
       "  <thead>\n",
       "    <tr style=\"text-align: right;\">\n",
       "      <th></th>\n",
       "      <th>Unnamed: 0</th>\n",
       "      <th>Brand</th>\n",
       "      <th>Price</th>\n",
       "      <th>Processor_Name</th>\n",
       "      <th>RAM_Expandable</th>\n",
       "      <th>RAM</th>\n",
       "      <th>RAM_TYPE</th>\n",
       "      <th>Ghz</th>\n",
       "      <th>Display_type</th>\n",
       "      <th>Display</th>\n",
       "      <th>GPU</th>\n",
       "      <th>SSD</th>\n",
       "      <th>HDD</th>\n",
       "      <th>Adapter</th>\n",
       "      <th>Battery_Life</th>\n",
       "    </tr>\n",
       "  </thead>\n",
       "  <tbody>\n",
       "    <tr>\n",
       "      <th>0</th>\n",
       "      <td>0</td>\n",
       "      <td>0</td>\n",
       "      <td>0.030248</td>\n",
       "      <td>0</td>\n",
       "      <td>0</td>\n",
       "      <td>0</td>\n",
       "      <td>0</td>\n",
       "      <td>0.363636</td>\n",
       "      <td>0</td>\n",
       "      <td>0</td>\n",
       "      <td>0</td>\n",
       "      <td>0</td>\n",
       "      <td>0</td>\n",
       "      <td>0.136364</td>\n",
       "      <td>0</td>\n",
       "    </tr>\n",
       "    <tr>\n",
       "      <th>1</th>\n",
       "      <td>1</td>\n",
       "      <td>1</td>\n",
       "      <td>0.057066</td>\n",
       "      <td>1</td>\n",
       "      <td>1</td>\n",
       "      <td>1</td>\n",
       "      <td>1</td>\n",
       "      <td>0.727273</td>\n",
       "      <td>1</td>\n",
       "      <td>1</td>\n",
       "      <td>1</td>\n",
       "      <td>1</td>\n",
       "      <td>0</td>\n",
       "      <td>0.196970</td>\n",
       "      <td>1</td>\n",
       "    </tr>\n",
       "    <tr>\n",
       "      <th>2</th>\n",
       "      <td>3</td>\n",
       "      <td>2</td>\n",
       "      <td>0.142186</td>\n",
       "      <td>2</td>\n",
       "      <td>2</td>\n",
       "      <td>2</td>\n",
       "      <td>2</td>\n",
       "      <td>0.600000</td>\n",
       "      <td>1</td>\n",
       "      <td>1</td>\n",
       "      <td>2</td>\n",
       "      <td>1</td>\n",
       "      <td>0</td>\n",
       "      <td>0.169697</td>\n",
       "      <td>2</td>\n",
       "    </tr>\n",
       "    <tr>\n",
       "      <th>3</th>\n",
       "      <td>4</td>\n",
       "      <td>0</td>\n",
       "      <td>0.095785</td>\n",
       "      <td>2</td>\n",
       "      <td>3</td>\n",
       "      <td>1</td>\n",
       "      <td>1</td>\n",
       "      <td>0.763636</td>\n",
       "      <td>1</td>\n",
       "      <td>1</td>\n",
       "      <td>3</td>\n",
       "      <td>1</td>\n",
       "      <td>0</td>\n",
       "      <td>0.000000</td>\n",
       "      <td>3</td>\n",
       "    </tr>\n",
       "    <tr>\n",
       "      <th>4</th>\n",
       "      <td>6</td>\n",
       "      <td>3</td>\n",
       "      <td>0.028231</td>\n",
       "      <td>3</td>\n",
       "      <td>0</td>\n",
       "      <td>3</td>\n",
       "      <td>3</td>\n",
       "      <td>0.309091</td>\n",
       "      <td>1</td>\n",
       "      <td>1</td>\n",
       "      <td>4</td>\n",
       "      <td>1</td>\n",
       "      <td>0</td>\n",
       "      <td>0.136364</td>\n",
       "      <td>4</td>\n",
       "    </tr>\n",
       "  </tbody>\n",
       "</table>\n",
       "</div>"
      ],
      "text/plain": [
       "   Unnamed: 0  Brand     Price  Processor_Name  RAM_Expandable  RAM  RAM_TYPE  \\\n",
       "0           0      0  0.030248               0               0    0         0   \n",
       "1           1      1  0.057066               1               1    1         1   \n",
       "2           3      2  0.142186               2               2    2         2   \n",
       "3           4      0  0.095785               2               3    1         1   \n",
       "4           6      3  0.028231               3               0    3         3   \n",
       "\n",
       "        Ghz  Display_type  Display  GPU  SSD  HDD   Adapter  Battery_Life  \n",
       "0  0.363636             0        0    0    0    0  0.136364             0  \n",
       "1  0.727273             1        1    1    1    0  0.196970             1  \n",
       "2  0.600000             1        1    2    1    0  0.169697             2  \n",
       "3  0.763636             1        1    3    1    0  0.000000             3  \n",
       "4  0.309091             1        1    4    1    0  0.136364             4  "
      ]
     },
     "execution_count": 291,
     "metadata": {},
     "output_type": "execute_result"
    }
   ],
   "source": [
    "###then do the min max normalization for Price, Ghz and Adapter\n",
    "selected_columns = ['Price', 'Ghz','Adapter']\n",
    "\n",
    "save_price_max = laptop_original['Price'].max()\n",
    "save_price_min = laptop_original['Price'].min()\n",
    "\n",
    "save_Ghz_max = laptop_original['Ghz'].max()\n",
    "save_Ghz_min = laptop_original['Ghz'].min()\n",
    "\n",
    "save_Adapter_max = laptop_original['Adapter'].max()\n",
    "save_Adapter_min = laptop_original['Adapter'].min()\n",
    "\n",
    "laptop_original[selected_columns] = laptop_original[selected_columns].apply(lambda x: (x - x.min()) / (x.max() - x.min()))\n",
    "laptop_original.head()"
   ]
  },
  {
   "cell_type": "code",
   "execution_count": 292,
   "id": "7be4db7b",
   "metadata": {},
   "outputs": [
    {
     "data": {
      "text/html": [
       "<div>\n",
       "<style scoped>\n",
       "    .dataframe tbody tr th:only-of-type {\n",
       "        vertical-align: middle;\n",
       "    }\n",
       "\n",
       "    .dataframe tbody tr th {\n",
       "        vertical-align: top;\n",
       "    }\n",
       "\n",
       "    .dataframe thead th {\n",
       "        text-align: right;\n",
       "    }\n",
       "</style>\n",
       "<table border=\"1\" class=\"dataframe\">\n",
       "  <thead>\n",
       "    <tr style=\"text-align: right;\">\n",
       "      <th></th>\n",
       "      <th>Price</th>\n",
       "      <th>Ghz</th>\n",
       "      <th>Adapter</th>\n",
       "    </tr>\n",
       "  </thead>\n",
       "  <tbody>\n",
       "    <tr>\n",
       "      <th>count</th>\n",
       "      <td>3546.000000</td>\n",
       "      <td>3546.000000</td>\n",
       "      <td>3546.000000</td>\n",
       "    </tr>\n",
       "    <tr>\n",
       "      <th>mean</th>\n",
       "      <td>0.128615</td>\n",
       "      <td>0.466144</td>\n",
       "      <td>0.219024</td>\n",
       "    </tr>\n",
       "    <tr>\n",
       "      <th>std</th>\n",
       "      <td>0.103749</td>\n",
       "      <td>0.228688</td>\n",
       "      <td>0.174760</td>\n",
       "    </tr>\n",
       "    <tr>\n",
       "      <th>min</th>\n",
       "      <td>0.000000</td>\n",
       "      <td>0.000000</td>\n",
       "      <td>0.000000</td>\n",
       "    </tr>\n",
       "    <tr>\n",
       "      <th>25%</th>\n",
       "      <td>0.063134</td>\n",
       "      <td>0.309091</td>\n",
       "      <td>0.136364</td>\n",
       "    </tr>\n",
       "    <tr>\n",
       "      <th>50%</th>\n",
       "      <td>0.101835</td>\n",
       "      <td>0.436364</td>\n",
       "      <td>0.196970</td>\n",
       "    </tr>\n",
       "    <tr>\n",
       "      <th>75%</th>\n",
       "      <td>0.155273</td>\n",
       "      <td>0.600000</td>\n",
       "      <td>0.196970</td>\n",
       "    </tr>\n",
       "    <tr>\n",
       "      <th>max</th>\n",
       "      <td>1.000000</td>\n",
       "      <td>1.000000</td>\n",
       "      <td>1.000000</td>\n",
       "    </tr>\n",
       "  </tbody>\n",
       "</table>\n",
       "</div>"
      ],
      "text/plain": [
       "             Price          Ghz      Adapter\n",
       "count  3546.000000  3546.000000  3546.000000\n",
       "mean      0.128615     0.466144     0.219024\n",
       "std       0.103749     0.228688     0.174760\n",
       "min       0.000000     0.000000     0.000000\n",
       "25%       0.063134     0.309091     0.136364\n",
       "50%       0.101835     0.436364     0.196970\n",
       "75%       0.155273     0.600000     0.196970\n",
       "max       1.000000     1.000000     1.000000"
      ]
     },
     "execution_count": 292,
     "metadata": {},
     "output_type": "execute_result"
    }
   ],
   "source": [
    "# calculate the statistic result for all nnumeric columns\n",
    "laptop_original[['Price', 'Ghz','Adapter']].describe()"
   ]
  },
  {
   "cell_type": "code",
   "execution_count": 327,
   "id": "50e59a16",
   "metadata": {},
   "outputs": [
    {
     "data": {
      "image/png": "[encoded data removed]",
      "text/plain": [
       "<Figure size 720x576 with 2 Axes>"
      ]
     },
     "metadata": {
      "needs_background": "light"
     },
     "output_type": "display_data"
    }
   ],
   "source": [
    "# calculate the correlatio betwee all features\n",
    "correlation_matrix = laptop_original.corr()\n",
    "\n",
    "plt.figure(figsize=(10, 8))\n",
    "sns.heatmap(correlation_matrix, annot=True, cmap='coolwarm')\n",
    "plt.title('correlatio for all')\n",
    "plt.savefig(\"All_feautre_corr.png\")\n",
    "plt.show()"
   ]
  },
  {
   "cell_type": "code",
   "execution_count": 294,
   "id": "711ac43e",
   "metadata": {},
   "outputs": [
    {
     "data": {
      "image/png": "[encoded data removed]",
      "text/plain": [
       "<Figure size 432x288 with 1 Axes>"
      ]
     },
     "metadata": {
      "needs_background": "light"
     },
     "output_type": "display_data"
    },
    {
     "data": {
      "text/plain": [
       "{0: 'HP',\n",
       " 1: 'Lenovo',\n",
       " 2: 'Dell',\n",
       " 3: 'Infinix',\n",
       " 4: 'Acer',\n",
       " 5: 'ASUS',\n",
       " 6: 'Tecno',\n",
       " 7: 'Xiaomi',\n",
       " 8: 'MSI',\n",
       " 9: 'Samsung',\n",
       " 10: 'Apple',\n",
       " 11: 'Realme',\n",
       " 12: 'AVITA',\n",
       " 13: 'Zebronics',\n",
       " 14: 'Honor',\n",
       " 15: 'Fujitsu',\n",
       " 16: 'Wings',\n",
       " 17: 'LG',\n",
       " 18: 'Microsoft',\n",
       " 19: 'Razer',\n",
       " 20: 'Coconics',\n",
       " 21: 'Gigabyte',\n",
       " 22: 'Huawei',\n",
       " 23: 'Micromax',\n",
       " 24: 'iball',\n",
       " 25: 'Lava',\n",
       " 26: 'VAIO',\n",
       " 27: 'Smartron',\n",
       " 28: 'Colorful',\n",
       " 29: 'Nokia',\n",
       " 30: 'RDP'}"
      ]
     },
     "execution_count": 294,
     "metadata": {},
     "output_type": "execute_result"
    }
   ],
   "source": [
    "##bar chart for brands\n",
    "brand_counts = laptop_original['Brand'].value_counts()\n",
    "brand_counts.plot(kind='bar', title='Brand Distribution')\n",
    "plt.xlabel('Brand')\n",
    "plt.ylabel('Count')\n",
    "plt.show()\n",
    "encoding_map['Brand']"
   ]
  },
  {
   "cell_type": "code",
   "execution_count": 295,
   "id": "a70f0c88",
   "metadata": {},
   "outputs": [
    {
     "data": {
      "image/png": "[encoded data removed]",
      "text/plain": [
       "<Figure size 432x288 with 1 Axes>"
      ]
     },
     "metadata": {
      "needs_background": "light"
     },
     "output_type": "display_data"
    },
    {
     "data": {
      "text/plain": [
       "{0: '11.6 ',\n",
       " 1: '15.6 ',\n",
       " 2: '14 ',\n",
       " 3: '16 ',\n",
       " 4: '17.3 ',\n",
       " 5: '13.3 ',\n",
       " 6: '16.1 ',\n",
       " 7: '13.6 ',\n",
       " 8: '14.2 ',\n",
       " 9: '14.1 ',\n",
       " 10: '13.4 ',\n",
       " 11: '15 ',\n",
       " 12: '10.5 ',\n",
       " 13: '13.5 ',\n",
       " 14: '13 ',\n",
       " 15: '12.4 ',\n",
       " 16: '16.2 ',\n",
       " 17: 'OLED Display With Touchscreen',\n",
       " 18: '14.0 ',\n",
       " 19: '17 ',\n",
       " 20: '18 ',\n",
       " 21: '14.5 ',\n",
       " 22: '12 ',\n",
       " 23: '10.1 ',\n",
       " 24: '15. ',\n",
       " 25: '14.9 ',\n",
       " 26: '11 ',\n",
       " 27: '12.3 ',\n",
       " 28: '15.3 ',\n",
       " 29: '16.6 ',\n",
       " 30: '12.2 ',\n",
       " 31: '12.5 ',\n",
       " 32: '15.4 ',\n",
       " 33: '12.0 '}"
      ]
     },
     "execution_count": 295,
     "metadata": {},
     "output_type": "execute_result"
    }
   ],
   "source": [
    "brand_counts = laptop_original['Display'].value_counts()\n",
    "brand_counts.plot(kind='bar', title='Display Distribution')\n",
    "plt.xlabel('Display')\n",
    "plt.ylabel('Count')\n",
    "plt.show()\n",
    "encoding_map['Display']"
   ]
  },
  {
   "cell_type": "code",
   "execution_count": 296,
   "id": "2c90b589",
   "metadata": {},
   "outputs": [
    {
     "data": {
      "image/png": "[encoded data removed]",
      "text/plain": [
       "<Figure size 432x288 with 1 Axes>"
      ]
     },
     "metadata": {
      "needs_background": "light"
     },
     "output_type": "display_data"
    },
    {
     "data": {
      "text/plain": [
       "{0: 'HP',\n",
       " 1: 'Lenovo',\n",
       " 2: 'Dell',\n",
       " 3: 'Infinix',\n",
       " 4: 'Acer',\n",
       " 5: 'ASUS',\n",
       " 6: 'Tecno',\n",
       " 7: 'Xiaomi',\n",
       " 8: 'MSI',\n",
       " 9: 'Samsung',\n",
       " 10: 'Apple',\n",
       " 11: 'Realme',\n",
       " 12: 'AVITA',\n",
       " 13: 'Zebronics',\n",
       " 14: 'Honor',\n",
       " 15: 'Fujitsu',\n",
       " 16: 'Wings',\n",
       " 17: 'LG',\n",
       " 18: 'Microsoft',\n",
       " 19: 'Razer',\n",
       " 20: 'Coconics',\n",
       " 21: 'Gigabyte',\n",
       " 22: 'Huawei',\n",
       " 23: 'Micromax',\n",
       " 24: 'iball',\n",
       " 25: 'Lava',\n",
       " 26: 'VAIO',\n",
       " 27: 'Smartron',\n",
       " 28: 'Colorful',\n",
       " 29: 'Nokia',\n",
       " 30: 'RDP'}"
      ]
     },
     "execution_count": 296,
     "metadata": {},
     "output_type": "execute_result"
    }
   ],
   "source": [
    "#bos plot for price var vs brands\n",
    "sns.boxplot(x='Brand', y='Price', data=laptop_original)\n",
    "plt.title('Price Variation Across Brands')\n",
    "plt.xlabel('Brand')\n",
    "plt.ylabel('Price (normalized)')\n",
    "plt.show()\n",
    "encoding_map['Brand']"
   ]
  },
  {
   "cell_type": "code",
   "execution_count": 297,
   "id": "796b369e",
   "metadata": {},
   "outputs": [
    {
     "data": {
      "text/html": [
       "<div>\n",
       "<style scoped>\n",
       "    .dataframe tbody tr th:only-of-type {\n",
       "        vertical-align: middle;\n",
       "    }\n",
       "\n",
       "    .dataframe tbody tr th {\n",
       "        vertical-align: top;\n",
       "    }\n",
       "\n",
       "    .dataframe thead th {\n",
       "        text-align: right;\n",
       "    }\n",
       "</style>\n",
       "<table border=\"1\" class=\"dataframe\">\n",
       "  <thead>\n",
       "    <tr style=\"text-align: right;\">\n",
       "      <th></th>\n",
       "      <th>Unnamed: 0</th>\n",
       "      <th>Brand</th>\n",
       "      <th>Price</th>\n",
       "      <th>Processor_Name</th>\n",
       "      <th>RAM_Expandable</th>\n",
       "      <th>RAM</th>\n",
       "      <th>RAM_TYPE</th>\n",
       "      <th>Ghz</th>\n",
       "      <th>Display_type</th>\n",
       "      <th>Display</th>\n",
       "      <th>GPU</th>\n",
       "      <th>SSD</th>\n",
       "      <th>HDD</th>\n",
       "      <th>Adapter</th>\n",
       "      <th>Battery_Life</th>\n",
       "    </tr>\n",
       "  </thead>\n",
       "  <tbody>\n",
       "    <tr>\n",
       "      <th>0</th>\n",
       "      <td>0</td>\n",
       "      <td>0</td>\n",
       "      <td>0.030248</td>\n",
       "      <td>0</td>\n",
       "      <td>0</td>\n",
       "      <td>0</td>\n",
       "      <td>0</td>\n",
       "      <td>0.363636</td>\n",
       "      <td>0</td>\n",
       "      <td>0</td>\n",
       "      <td>0</td>\n",
       "      <td>0</td>\n",
       "      <td>0</td>\n",
       "      <td>0.136364</td>\n",
       "      <td>0</td>\n",
       "    </tr>\n",
       "    <tr>\n",
       "      <th>1</th>\n",
       "      <td>1</td>\n",
       "      <td>1</td>\n",
       "      <td>0.057066</td>\n",
       "      <td>1</td>\n",
       "      <td>1</td>\n",
       "      <td>1</td>\n",
       "      <td>1</td>\n",
       "      <td>0.727273</td>\n",
       "      <td>1</td>\n",
       "      <td>1</td>\n",
       "      <td>1</td>\n",
       "      <td>1</td>\n",
       "      <td>0</td>\n",
       "      <td>0.196970</td>\n",
       "      <td>1</td>\n",
       "    </tr>\n",
       "    <tr>\n",
       "      <th>2</th>\n",
       "      <td>3</td>\n",
       "      <td>2</td>\n",
       "      <td>0.142186</td>\n",
       "      <td>2</td>\n",
       "      <td>2</td>\n",
       "      <td>2</td>\n",
       "      <td>2</td>\n",
       "      <td>0.600000</td>\n",
       "      <td>1</td>\n",
       "      <td>1</td>\n",
       "      <td>2</td>\n",
       "      <td>1</td>\n",
       "      <td>0</td>\n",
       "      <td>0.169697</td>\n",
       "      <td>2</td>\n",
       "    </tr>\n",
       "    <tr>\n",
       "      <th>3</th>\n",
       "      <td>4</td>\n",
       "      <td>0</td>\n",
       "      <td>0.095785</td>\n",
       "      <td>2</td>\n",
       "      <td>3</td>\n",
       "      <td>1</td>\n",
       "      <td>1</td>\n",
       "      <td>0.763636</td>\n",
       "      <td>1</td>\n",
       "      <td>1</td>\n",
       "      <td>3</td>\n",
       "      <td>1</td>\n",
       "      <td>0</td>\n",
       "      <td>0.000000</td>\n",
       "      <td>3</td>\n",
       "    </tr>\n",
       "    <tr>\n",
       "      <th>4</th>\n",
       "      <td>6</td>\n",
       "      <td>3</td>\n",
       "      <td>0.028231</td>\n",
       "      <td>3</td>\n",
       "      <td>0</td>\n",
       "      <td>3</td>\n",
       "      <td>3</td>\n",
       "      <td>0.309091</td>\n",
       "      <td>1</td>\n",
       "      <td>1</td>\n",
       "      <td>4</td>\n",
       "      <td>1</td>\n",
       "      <td>0</td>\n",
       "      <td>0.136364</td>\n",
       "      <td>4</td>\n",
       "    </tr>\n",
       "    <tr>\n",
       "      <th>...</th>\n",
       "      <td>...</td>\n",
       "      <td>...</td>\n",
       "      <td>...</td>\n",
       "      <td>...</td>\n",
       "      <td>...</td>\n",
       "      <td>...</td>\n",
       "      <td>...</td>\n",
       "      <td>...</td>\n",
       "      <td>...</td>\n",
       "      <td>...</td>\n",
       "      <td>...</td>\n",
       "      <td>...</td>\n",
       "      <td>...</td>\n",
       "      <td>...</td>\n",
       "      <td>...</td>\n",
       "    </tr>\n",
       "    <tr>\n",
       "      <th>3971</th>\n",
       "      <td>4403</td>\n",
       "      <td>5</td>\n",
       "      <td>0.155273</td>\n",
       "      <td>31</td>\n",
       "      <td>2</td>\n",
       "      <td>1</td>\n",
       "      <td>1</td>\n",
       "      <td>0.290909</td>\n",
       "      <td>0</td>\n",
       "      <td>2</td>\n",
       "      <td>24</td>\n",
       "      <td>1</td>\n",
       "      <td>0</td>\n",
       "      <td>0.196970</td>\n",
       "      <td>6</td>\n",
       "    </tr>\n",
       "    <tr>\n",
       "      <th>3972</th>\n",
       "      <td>4404</td>\n",
       "      <td>5</td>\n",
       "      <td>0.064612</td>\n",
       "      <td>3</td>\n",
       "      <td>0</td>\n",
       "      <td>1</td>\n",
       "      <td>0</td>\n",
       "      <td>0.727273</td>\n",
       "      <td>0</td>\n",
       "      <td>1</td>\n",
       "      <td>4</td>\n",
       "      <td>4</td>\n",
       "      <td>0</td>\n",
       "      <td>0.196970</td>\n",
       "      <td>56</td>\n",
       "    </tr>\n",
       "    <tr>\n",
       "      <th>3973</th>\n",
       "      <td>4405</td>\n",
       "      <td>5</td>\n",
       "      <td>0.137124</td>\n",
       "      <td>7</td>\n",
       "      <td>0</td>\n",
       "      <td>2</td>\n",
       "      <td>0</td>\n",
       "      <td>0.563636</td>\n",
       "      <td>0</td>\n",
       "      <td>1</td>\n",
       "      <td>2</td>\n",
       "      <td>3</td>\n",
       "      <td>0</td>\n",
       "      <td>0.363636</td>\n",
       "      <td>56</td>\n",
       "    </tr>\n",
       "    <tr>\n",
       "      <th>3974</th>\n",
       "      <td>4407</td>\n",
       "      <td>5</td>\n",
       "      <td>0.128895</td>\n",
       "      <td>24</td>\n",
       "      <td>2</td>\n",
       "      <td>1</td>\n",
       "      <td>1</td>\n",
       "      <td>0.381818</td>\n",
       "      <td>0</td>\n",
       "      <td>1</td>\n",
       "      <td>9</td>\n",
       "      <td>1</td>\n",
       "      <td>0</td>\n",
       "      <td>0.454545</td>\n",
       "      <td>7</td>\n",
       "    </tr>\n",
       "    <tr>\n",
       "      <th>3975</th>\n",
       "      <td>4408</td>\n",
       "      <td>1</td>\n",
       "      <td>0.125025</td>\n",
       "      <td>13</td>\n",
       "      <td>0</td>\n",
       "      <td>1</td>\n",
       "      <td>0</td>\n",
       "      <td>0.454545</td>\n",
       "      <td>0</td>\n",
       "      <td>1</td>\n",
       "      <td>71</td>\n",
       "      <td>1</td>\n",
       "      <td>0</td>\n",
       "      <td>0.181818</td>\n",
       "      <td>64</td>\n",
       "    </tr>\n",
       "  </tbody>\n",
       "</table>\n",
       "<p>3546 rows × 15 columns</p>\n",
       "</div>"
      ],
      "text/plain": [
       "      Unnamed: 0  Brand     Price  Processor_Name  RAM_Expandable  RAM  \\\n",
       "0              0      0  0.030248               0               0    0   \n",
       "1              1      1  0.057066               1               1    1   \n",
       "2              3      2  0.142186               2               2    2   \n",
       "3              4      0  0.095785               2               3    1   \n",
       "4              6      3  0.028231               3               0    3   \n",
       "...          ...    ...       ...             ...             ...  ...   \n",
       "3971        4403      5  0.155273              31               2    1   \n",
       "3972        4404      5  0.064612               3               0    1   \n",
       "3973        4405      5  0.137124               7               0    2   \n",
       "3974        4407      5  0.128895              24               2    1   \n",
       "3975        4408      1  0.125025              13               0    1   \n",
       "\n",
       "      RAM_TYPE       Ghz  Display_type  Display  GPU  SSD  HDD   Adapter  \\\n",
       "0            0  0.363636             0        0    0    0    0  0.136364   \n",
       "1            1  0.727273             1        1    1    1    0  0.196970   \n",
       "2            2  0.600000             1        1    2    1    0  0.169697   \n",
       "3            1  0.763636             1        1    3    1    0  0.000000   \n",
       "4            3  0.309091             1        1    4    1    0  0.136364   \n",
       "...        ...       ...           ...      ...  ...  ...  ...       ...   \n",
       "3971         1  0.290909             0        2   24    1    0  0.196970   \n",
       "3972         0  0.727273             0        1    4    4    0  0.196970   \n",
       "3973         0  0.563636             0        1    2    3    0  0.363636   \n",
       "3974         1  0.381818             0        1    9    1    0  0.454545   \n",
       "3975         0  0.454545             0        1   71    1    0  0.181818   \n",
       "\n",
       "      Battery_Life  \n",
       "0                0  \n",
       "1                1  \n",
       "2                2  \n",
       "3                3  \n",
       "4                4  \n",
       "...            ...  \n",
       "3971             6  \n",
       "3972            56  \n",
       "3973            56  \n",
       "3974             7  \n",
       "3975            64  \n",
       "\n",
       "[3546 rows x 15 columns]"
      ]
     },
     "execution_count": 297,
     "metadata": {},
     "output_type": "execute_result"
    }
   ],
   "source": [
    "laptop_original"
   ]
  },
  {
   "cell_type": "code",
   "execution_count": 274,
   "id": "850b53c6",
   "metadata": {},
   "outputs": [],
   "source": [
    "# ####score computer by our own strategy\n",
    "# weights = {\n",
    "#     'Processor': 0.4,   \n",
    "#     'RAM': 0.2,         \n",
    "#     'Storage': 0.2,     \n",
    "#     'Battery_Life': 0.2 \n",
    "# }\n",
    "\n",
    "# processor_scores = {\n",
    "#     'i3': 1,\n",
    "#     'i5': 2,\n",
    "#     'i7': 3,\n",
    "#     'i9': 4,\n",
    "#     'AMD Ryzen 3': 1.5,\n",
    "#     'AMD Ryzen 5': 2.5,\n",
    "#     'AMD Ryzen 7': 3.5\n",
    "# }\n",
    "\n",
    "# laptops = laptop_original.copy()\n",
    "# for col in encoding_map:\n",
    "#     laptops[col] = laptops[col].map(encoding_map[col])\n",
    "\n",
    "# laptops['Processor_Score'] = laptops['Processor_Name'].map(processor_scores).fillna(1)\n",
    "\n",
    "# laptops['RAM_Score'] = laptops['RAM'].apply(lambda x: 1 + (x - 8) * 0.5 / 4)\n",
    "\n",
    "# def storage_score(row):\n",
    "#     base_score = (row['SSD'] / 256)\n",
    "#     return base_score + 0.5 if row['Storage_Type'] == 'SSD' else base_score\n",
    "\n",
    "# laptops['Storage_Score'] = laptops.apply(storage_score, axis=1)\n",
    "\n",
    "# laptops['Battery_Score'] = laptops['Battery_Life'] / 5\n",
    "\n",
    "# laptops['Total_Score'] = (\n",
    "#     laptops['Processor_Score'] * weights['Processor'] +\n",
    "#     laptops['RAM_Score'] * weights['RAM'] +\n",
    "#     laptops['Storage_Score'] * weights['Storage'] +\n",
    "#     laptops['Battery_Score'] * weights['Battery_Life']\n",
    "# )"
   ]
  },
  {
   "cell_type": "code",
   "execution_count": 298,
   "id": "f8400265",
   "metadata": {},
   "outputs": [
    {
     "data": {
      "application/vnd.plotly.v1+json": {
       "config": {
        "plotlyServerURL": "https://plot.ly"
       },
       "data": [
        {
         "customdata": [
          [
           "Intel Core i5 (11th Gen)",
           "16 GB LP"
          ],
          [
           "Intel Pentium Dual-Core",
           "8 GB LP"
          ],
          [
           "Intel Core i5 (11th Gen) Processor",
           "8 GB "
          ],
          [
           "Intel Core i5 (6th Gen)",
           "8 GB "
          ],
          [
           "Intel Core M3 (6th Gen)",
           "4 GB "
          ],
          [
           "Intel Core i7 (6th Gen)",
           "8 GB "
          ],
          [
           "Intel Core i5 (6th Gen)",
           "4 GB "
          ],
          [
           "Intel Core i5 (10th Gen)",
           "8 GB LP"
          ],
          [
           "Intel Core M3 (7th Gen)",
           "4 GB "
          ],
          [
           "Microsoft SQ1 Processor",
           "8 GB LP"
          ],
          [
           "Intel Core i5 (11th Gen)",
           "8 GB LP"
          ],
          [
           "Intel Core i7 (7th Gen)",
           "16 GB "
          ],
          [
           "Intel Core i5 (11th Gen)",
           "8 GB LP"
          ],
          [
           "Intel Core i5 (7th Gen)",
           "4 GB "
          ],
          [
           "Intel Core i5 (8th Gen)",
           "8 GB "
          ],
          [
           "Intel Core i5 (7th Gen)",
           "8 GB "
          ],
          [
           "Intel Core i5 (12th Gen) Processor",
           "8 GB LP"
          ],
          [
           "Intel Core i5 (12th Gen)",
           "8 GB LP"
          ],
          [
           "Intel Core i7 (8th Gen)",
           "16 GB LP"
          ],
          [
           "Intel Core i5 (12th Gen)",
           "8 GB LP"
          ],
          [
           "Intel Core i7 (12th Gen)",
           "32 GB LP"
          ],
          [
           "Intel Core i5 (12th Gen)",
           "8 GB LP"
          ],
          [
           "Intel Core i5 (12th Gen)",
           "8 GB LP"
          ],
          [
           "Intel Core i5 (12th Gen)",
           "8 GB LP"
          ],
          [
           "Intel Core i7 (12th Gen)",
           "16 GB LP"
          ],
          [
           "Intel Core i7 (11th Gen)",
           "16 GB "
          ],
          [
           "Intel Core i7 (12th Gen)",
           "16 GB LP"
          ],
          [
           "Intel Core i7 (8th Gen)",
           "16 GB "
          ],
          [
           "Intel Core i7 (12th Gen)",
           "8 GB LP"
          ],
          [
           "Intel Core i5 (12th Gen)",
           "8 GB LP"
          ],
          [
           "Intel Core i7 (12th Gen)",
           "16 GB LP"
          ],
          [
           "AMD Hexa-Core Ryzen 5",
           "8 GB LP"
          ]
         ],
         "hovertemplate": "Brand=Microsoft<br>Price=%{x}<br>Battery_Life_num=%{y}<br>Processor_Name=%{customdata[0]}<br>RAM=%{customdata[1]}<extra></extra>",
         "legendgroup": "Microsoft",
         "marker": {
          "color": "#636efa",
          "symbol": "circle"
         },
         "mode": "markers",
         "name": "Microsoft",
         "showlegend": true,
         "type": "scattergl",
         "x": [
          0.2903992740471869,
          0.09679370840895342,
          0.18148820326678766,
          0.18552127445049404,
          0.1399657188949385,
          0.21982052833232507,
          0.14519056261343014,
          0.17039725751159507,
          0.08469449485783424,
          0.11496269409155072,
          0.14722524702561,
          0.2811252268602541,
          0.13310949788263762,
          0.1452087114337568,
          0.21980237951199838,
          0.21578745714861866,
          0.14519056261343014,
          0.14519056261343014,
          0.488021778584392,
          0.16329703569267998,
          0.5122000403307119,
          0.18552127445049404,
          0.19157088122605365,
          0.18552127445049404,
          0.3730590844928413,
          0.24198427102238354,
          0.35289372857430934,
          0.43357330106876385,
          0.25610002016535593,
          0.17555152248437184,
          0.33272837265577737,
          0.189574510990119
         ],
         "xaxis": "x",
         "y": [
          2.25,
          4,
          6,
          9,
          9,
          9,
          9,
          10.5,
          13,
          13,
          13.5,
          13.5,
          13.5,
          13.5,
          14,
          14,
          15,
          15,
          15,
          15.5,
          15.5,
          15.5,
          15.5,
          15.5,
          15.5,
          16,
          17,
          17,
          17,
          18,
          18,
          19
         ],
         "yaxis": "y"
        },
        {
         "customdata": [
          [
           "Intel Celeron Dual-Core",
           "8 GB "
          ],
          [
           "1.7 Ghz Processor",
           "4 GB "
          ],
          [
           "AMD Dual-Core E1 APU",
           "4 GB "
          ],
          [
           "AMD Hexa-Core Ryzen 5",
           "8 GB "
          ],
          [
           "AMD Dual-Core Ryzen 3",
           "8 GB "
          ],
          [
           "1.9 Ghz Processor",
           "4 GB "
          ],
          [
           "AMD Quad-Core APU",
           "4 GB "
          ],
          [
           "AMD Octa-Core Ryzen 7",
           "16 GB "
          ],
          [
           "AMD Hexa-Core Ryzen 5",
           "8 GB "
          ],
          [
           "AMD Dual-Core Ryzen 3",
           "8 GB "
          ],
          [
           "Intel Core i5 (12th Gen)",
           "8 GB "
          ],
          [
           "Intel Core i3 (12th Gen)",
           "8 GB "
          ],
          [
           "AMD Quad-Core Ryzen 5",
           "8 GB "
          ],
          [
           "Intel Core i7 (11th Gen) Processor",
           "8 GB "
          ],
          [
           "AMD Dual-Core Athlon",
           "4 GB "
          ],
          [
           "AMD Dual-Core Ryzen 3",
           "8 GB "
          ],
          [
           "AMD Dual-Core Ryzen 3",
           "8 GB "
          ],
          [
           "AMD Dual-Core A9 APU",
           "4 GB "
          ],
          [
           "AMD Dual-Core Athlon",
           "4 GB "
          ],
          [
           "Intel Core i3 (6th Gen)",
           "4 GB "
          ],
          [
           "Intel Core i5 (6th Gen)",
           "4 GB "
          ],
          [
           "Intel Core i3 (6th Gen)",
           "4 GB "
          ],
          [
           "AMD Hexa-Core Ryzen 5",
           "8 GB "
          ],
          [
           "AMD Hexa-Core Ryzen 5",
           "8 GB "
          ],
          [
           "AMD Hexa-Core Ryzen 5",
           "8 GB "
          ],
          [
           "Intel Core i7 (12th Gen) Processor",
           "16 GB "
          ],
          [
           "Intel Core i5 (8th Gen)",
           "8 GB "
          ],
          [
           "AMD Dual-Core Ryzen 3",
           "8 GB "
          ],
          [
           "Intel Core i5 (12th Gen)",
           "8 GB "
          ],
          [
           "Intel Core i3 (11th Gen)",
           "4 GB "
          ],
          [
           "AMD Dual-Core Athlon",
           "4 GB "
          ],
          [
           "Intel Core i3 (6th Gen)",
           "4 GB "
          ],
          [
           "Intel Pentium Quad-Core",
           "4 GB "
          ],
          [
           "AMD Hexa-Core Ryzen 5",
           "8 GB "
          ],
          [
           "AMD Dual-Core Ryzen 3 Processor",
           "4 GB "
          ],
          [
           "Intel Core i3 (10th Gen)",
           "4 GB "
          ],
          [
           "Intel Core i5 (12th Gen)",
           "8 GB "
          ],
          [
           "AMD Octa-Core Ryzen 7",
           "8 GB "
          ],
          [
           "AMD Hexa-Core Ryzen 5 Processor",
           "16 GB "
          ],
          [
           "Intel Core i5 (11th Gen)",
           "8 GB "
          ],
          [
           "AMD Octa-Core Ryzen 7",
           "16 GB "
          ],
          [
           "Intel Core i5 (6th Gen)",
           "8 GB "
          ],
          [
           "AMD Quad-Core APU",
           "4 GB "
          ],
          [
           "Intel Core i3 (7th Gen)",
           "4 GB "
          ],
          [
           "AMD Dual-Core Athlon",
           "4 GB "
          ],
          [
           "Intel Core i3 (11th Gen)",
           "8 GB "
          ],
          [
           "Intel Core i5 (10th Gen)",
           "8 GB "
          ],
          [
           "Intel Core i5 (11th Gen)",
           "8 GB "
          ],
          [
           "AMD Dual-Core Ryzen 3",
           "8 GB "
          ],
          [
           "Intel Core Ultra 5",
           "16 GB "
          ],
          [
           "Intel Core Ultra 5",
           "8 GB "
          ],
          [
           "Intel Core i7 (13th Gen)",
           "16 GB "
          ],
          [
           "Intel Core i5 (12th Gen)",
           "16 GB "
          ],
          [
           "Intel Core i5 (11th Gen)",
           "8 GB "
          ],
          [
           "Intel Core i3 (11th Gen)",
           "8 GB "
          ],
          [
           "AMD Dual-Core Ryzen 3",
           "8 GB "
          ],
          [
           "AMD Dual-Core Ryzen 3",
           "8 GB "
          ],
          [
           "AMD Octa-Core Ryzen 7",
           "16 GB "
          ],
          [
           "AMD Dual-Core Ryzen 3",
           "8 GB "
          ],
          [
           "Intel Core i9 (11th Gen)",
           "32 GB "
          ],
          [
           "Intel Core i5 (11th Gen)",
           "8 GB "
          ],
          [
           "Intel Core i3 (12th Gen)",
           "8 GB "
          ],
          [
           "Intel Core i5 (12th Gen)",
           "8 GB "
          ],
          [
           "Intel Core i3 (12th Gen)",
           "8 GB "
          ],
          [
           "Intel Celeron Dual-Core",
           "8 GB "
          ],
          [
           "Intel Core i3 (12th Gen)",
           "8 GB "
          ],
          [
           "Intel Core i5 (12th Gen)",
           "16 GB "
          ],
          [
           "Intel Core i7 (12th Gen)",
           "16 GB "
          ],
          [
           "Intel Core i3 (13th Gen)",
           "8 GB "
          ],
          [
           "AMD Octa-Core Ryzen 7",
           "16 GB "
          ],
          [
           "Intel Core i9 (12th Gen)",
           "32 GB "
          ],
          [
           "Intel Core i5 (12th Gen)",
           "8 GB "
          ],
          [
           "Intel Core i7 (12th Gen)",
           "16 GB "
          ],
          [
           "AMD Octa-Core Ryzen 7",
           "16 GB "
          ],
          [
           "Intel Core i7 (13th Gen)",
           "16 GB "
          ],
          [
           "Intel Core i7 (13th Gen)",
           "16 GB "
          ],
          [
           "Intel Core i7 (11th Gen)",
           "16 GB "
          ],
          [
           "AMD Dual-Core Athlon",
           "4 GB "
          ],
          [
           "Intel Core i5 (11th Gen)",
           "8 GB "
          ],
          [
           "Intel Core i5 (12th Gen) Processor",
           "16 GB "
          ],
          [
           "AMD Octa-Core Ryzen 7",
           "16 GB "
          ],
          [
           "Intel Pentium Dual-Core",
           "4 GB "
          ],
          [
           "Intel Core i5 (11th Gen)",
           "16 GB "
          ],
          [
           "Intel Core i5 (11th Gen)",
           "16 GB "
          ],
          [
           "AMD Octa-Core Ryzen 7",
           "16 GB LP"
          ],
          [
           "Intel Core i5 (11th Gen)",
           "16 GB "
          ],
          [
           "Intel Core i7 (11th Gen)",
           "16 GB "
          ],
          [
           "Intel Core i5 (12th Gen)",
           "8 GB "
          ],
          [
           "Intel Core i5 (10th Gen)",
           "8 GB "
          ],
          [
           "Intel Core i7 (11th Gen)",
           "16 GB "
          ],
          [
           "AMD Quad-Core Ryzen 3",
           "8 GB "
          ],
          [
           "AMD Hexa-Core Ryzen 5",
           "8 GB "
          ],
          [
           "AMD Hexa-Core Ryzen 5",
           "8 GB "
          ],
          [
           "Intel Core i3 (11th Gen)",
           "8 GB "
          ],
          [
           "Intel Core i5 (13th Gen)",
           "16 GB "
          ],
          [
           "AMD Octa-Core Ryzen 7",
           "16 GB "
          ],
          [
           "AMD Octa-Core Ryzen 7",
           "16 GB "
          ],
          [
           "AMD Hexa-Core Ryzen 5",
           "8 GB "
          ],
          [
           "AMD Hexa-Core Ryzen 5",
           "16 GB "
          ],
          [
           "Intel Core i5 (12th Gen)",
           "16 GB "
          ],
          [
           "Intel Core i3 (13th Gen)",
           "8 GB "
          ],
          [
           "Intel Core i3 (11th Gen)",
           "8 GB "
          ],
          [
           "AMD Octa-Core Ryzen 7",
           "16 GB "
          ],
          [
           "AMD Octa-Core Ryzen 7",
           "16 GB "
          ],
          [
           "Intel Core i5 (8th Gen)",
           "8 GB "
          ],
          [
           "Intel Core i5 (11th Gen)",
           "8 GB "
          ],
          [
           "AMD Hexa-Core Ryzen 5",
           "8 GB "
          ],
          [
           "Intel Core i5 (11th Gen)",
           "16 GB "
          ],
          [
           "Intel Core i3 (11th Gen)",
           "8 GB "
          ],
          [
           "AMD Hexa-Core Ryzen 5",
           "8 GB "
          ],
          [
           "Intel Core i7 (12th Gen)",
           "16 GB "
          ],
          [
           "Intel Core i3 (11th Gen)",
           "8 GB "
          ],
          [
           "AMD Dual-Core Athlon",
           "8 GB "
          ],
          [
           "Intel Core i5 (12th Gen)",
           "16 GB "
          ],
          [
           "AMD Hexa-Core Ryzen 5",
           "16 GB "
          ],
          [
           "AMD Quad-Core Ryzen 3",
           "8 GB "
          ],
          [
           "Intel Core i3 (11th Gen)",
           "8 GB "
          ],
          [
           "Intel Core i5 (10th Gen)",
           "8 GB "
          ],
          [
           "AMD Hexa-Core Ryzen 5",
           "16 GB "
          ],
          [
           "Intel Core i3 (8th Gen)",
           "4 GB "
          ],
          [
           "Intel Core i5 (12th Gen)",
           "16 GB "
          ],
          [
           "AMD Dual-Core Ryzen 3",
           "8 GB "
          ],
          [
           "Intel Core i5 (12th Gen)",
           "8 GB "
          ],
          [
           "Intel Core i5 (9th Gen)",
           "8 GB "
          ],
          [
           "Intel Core i5 (12th Gen)",
           "8 GB "
          ],
          [
           "AMD Hexa-Core Ryzen 5",
           "8 GB "
          ],
          [
           "Intel Core i5 (11th Gen)",
           "8 GB "
          ],
          [
           "Intel Core i5 (12th Gen)",
           "8 GB "
          ],
          [
           "Intel Core i5 (13th Gen)",
           "16 GB "
          ],
          [
           "Intel Core i5 (12th Gen)",
           "8 GB "
          ],
          [
           "AMD Octa-Core Ryzen 7",
           "16 GB "
          ],
          [
           "Intel Core i7 (12th Gen)",
           "8 GB "
          ],
          [
           "Intel Core i7 (12th Gen)",
           "16 GB "
          ],
          [
           "Intel Core i5 (12th Gen)",
           "8 GB "
          ],
          [
           "Intel Core i3 (12th Gen)",
           "8 GB "
          ],
          [
           "Intel Core i5 (7th Gen)",
           "8 GB "
          ],
          [
           "Intel Core i5 (8th Gen)",
           "8 GB "
          ],
          [
           "Intel Core i3 (12th Gen)",
           "8 GB "
          ],
          [
           "Intel Core i5 (12th Gen)",
           "16 GB "
          ],
          [
           "AMD Quad-Core Ryzen 5",
           "16 GB LP"
          ],
          [
           "Intel Core i5 (12th Gen)",
           "16 GB "
          ],
          [
           "Intel Core i5 (8th Gen)",
           "8 GB "
          ],
          [
           "Intel Core Ultra 5",
           "16 GB LP"
          ],
          [
           "AMD Dual-Core A9 APU",
           "4 GB "
          ],
          [
           "Intel Core i5 (12th Gen)",
           "16 GB "
          ],
          [
           "Intel Core i3 (11th Gen)",
           "8 GB "
          ],
          [
           "Intel Core i7 (12th Gen)",
           "16 GB "
          ],
          [
           "Intel Core i3 (11th Gen)",
           "8 GB "
          ],
          [
           "AMD Quad-Core Ryzen 5",
           "16 GB LP"
          ],
          [
           "AMD Octa-Core Ryzen 7",
           "16 GB "
          ],
          [
           "AMD Octa-Core Ryzen 7",
           "16 GB "
          ],
          [
           "AMD Octa-Core Ryzen 7",
           "16 GB "
          ],
          [
           "AMD Octa-Core Ryzen 7",
           "16 GB "
          ],
          [
           "AMD Hexa-Core Ryzen 5",
           "8 GB "
          ],
          [
           "Intel Core i5 (8th Gen)",
           "8 GB "
          ],
          [
           "Intel Core i7 (11th Gen)",
           "16 GB "
          ],
          [
           "Intel Pentium Quad-Core",
           "8 GB "
          ],
          [
           "AMD Quad-Core Ryzen 3",
           "8 GB LP"
          ],
          [
           "Intel Pentium Quad-Core",
           "8 GB "
          ],
          [
           "Intel Core i3 (11th Gen)",
           "8 GB "
          ],
          [
           "Intel Core i3 (11th Gen)",
           "8 GB "
          ],
          [
           "Intel Core i5 (11th Gen) Processor",
           "8 GB "
          ],
          [
           "MediaTek Octa-core",
           "4 GB "
          ],
          [
           "Intel Core i5 (11th Gen)",
           "16 GB "
          ],
          [
           "Intel Celeron Dual-Core",
           "8 GB "
          ],
          [
           "Intel Core i7 (11th Gen)",
           "16 GB "
          ],
          [
           "AMD Hexa-Core Ryzen 5",
           "16 GB "
          ],
          [
           "Intel Core i3 (10th Gen)",
           "8 GB "
          ],
          [
           "Intel Core i5 (11th Gen)",
           "8 GB "
          ],
          [
           "Intel Core i5 (11th Gen)",
           "8 GB "
          ],
          [
           "Intel Core i5 (11th Gen)",
           "16 GB "
          ],
          [
           "Intel Core i5 (11th Gen)",
           "8 GB "
          ],
          [
           "Intel Core i5 (11th Gen)",
           "8 GB "
          ],
          [
           "Intel Celeron Dual-Core",
           "8 GB "
          ],
          [
           "AMD Dual-Core Ryzen 3",
           "4 GB "
          ],
          [
           "Intel Core i7 (11th Gen)",
           "32 GB "
          ],
          [
           "Intel Core i9 (11th Gen)",
           "32 GB "
          ],
          [
           "Intel Core Ultra 7",
           "32 GB LP"
          ],
          [
           "Intel Core Ultra 7",
           "32 GB LP"
          ],
          [
           "Intel Core Ultra 7",
           "32 GB LP"
          ],
          [
           "Intel Core i3 (6th Gen)",
           "4 GB "
          ],
          [
           "AMD Octa-Core Ryzen 7 Processor",
           "16 GB "
          ],
          [
           "Intel Core i7 (12th Gen)",
           "16 GB "
          ],
          [
           "Intel Core i5 (12th Gen)",
           "16 GB "
          ],
          [
           "Intel Core i7 (12th Gen)",
           "16 GB LP"
          ],
          [
           "Intel Core i7 (12th Gen)",
           "16 GB LP"
          ],
          [
           "Intel Core i7 (12th Gen)",
           "16 GB LP"
          ],
          [
           "Intel Core i7 (13th Gen)",
           "32 GB LP"
          ],
          [
           "Intel Core i5 (12th Gen)",
           "16 GB "
          ],
          [
           "Intel Core i7 (12th Gen)",
           "16 GB "
          ],
          [
           "Intel Core i7 (12th Gen)",
           "16 GB "
          ],
          [
           "Intel Core i5 (11th Gen)",
           "16 GB "
          ],
          [
           "AMD Octa-Core Ryzen 7",
           "16 GB "
          ],
          [
           "AMD Octa-Core Ryzen 7",
           "16 GB "
          ],
          [
           "MediaTek Octa-core",
           "4 GB LP"
          ],
          [
           "AMD Octa-Core Ryzen 7",
           "16 GB "
          ],
          [
           "Intel Core i7 (10th Gen)",
           "8 GB LP"
          ],
          [
           "Intel Core i7 (12th Gen)",
           "16 GB "
          ],
          [
           "Intel Core i5 (12th Gen)",
           "8 GB LP"
          ]
         ],
         "hovertemplate": "Brand=HP<br>Price=%{x}<br>Battery_Life_num=%{y}<br>Processor_Name=%{customdata[0]}<br>RAM=%{customdata[1]}<extra></extra>",
         "legendgroup": "HP",
         "marker": {
          "color": "#EF553B",
          "symbol": "circle"
         },
         "mode": "markers",
         "name": "HP",
         "showlegend": true,
         "type": "scattergl",
         "x": [
          0.030266182698124623,
          0.07642669893123613,
          0.023208308126638436,
          0.05244807420850978,
          0.035307521677757615,
          0.06466223028836458,
          0.03329098608590442,
          0.14519056261343014,
          0.09477717281710023,
          0.036297640653357534,
          0.09679370840895342,
          0.05041338979632991,
          0.04617866505343819,
          0.21679572494454527,
          0.023996773543053036,
          0.038314176245210725,
          0.03228271828997782,
          0.027826174631982253,
          0.030248033877797943,
          0.04335551522484372,
          0.06938898971566848,
          0.05426497277676951,
          0.0927787860455737,
          0.09881024400080661,
          0.0544464609800363,
          0.11695906432748537,
          0.06454325468844525,
          0.03730590844928413,
          0.08067957249445452,
          0.04436378302077032,
          0.050431538616656585,
          0.04648316192780803,
          0.03418632788868724,
          0.05809437386569873,
          0.03429925388183101,
          0.07160516233111515,
          0.09076225045372051,
          0.08166969147005444,
          0.06856221012300867,
          0.06755394232708208,
          0.08267795926598104,
          0.08506957047791894,
          0.02218189151038516,
          0.04186327888687235,
          0.04033071183706392,
          0.06452913893930227,
          0.09781407541843114,
          0.12141560798548094,
          0.03710425489009881,
          0.12905827787860455,
          0.12300867110304498,
          0.23593466424682397,
          0.1023694293204275,
          0.09882839282113329,
          0.07765678564226658,
          0.047388586408550114,
          0.05847953216374269,
          0.2137527727364388,
          0.060496067755595885,
          0.3658197217180883,
          0.10447670901391409,
          0.06858035894333535,
          0.09578544061302682,
          0.060496067755595885,
          0.04234724742891712,
          0.07040129058277879,
          0.08840088727566041,
          0.14519056261343014,
          0.06481548699334544,
          0.1767291792700141,
          0.3266989312361363,
          0.11072595281306714,
          0.1532567049808429,
          0.19157088122605365,
          0.18148820326678766,
          0.16535591853196208,
          0.20147207098205283,
          0.02601330913490623,
          0.12502520669489817,
          0.08834240774349668,
          0.12101028433151845,
          0.043641863278886875,
          0.11597096188747731,
          0.11697721314781206,
          0.1532567049808429,
          0.11675741076830005,
          0.22327283726557773,
          0.13712442024601734,
          0.1232224238757814,
          0.25428513813268805,
          0.04638031861262351,
          0.05748941318814277,
          0.08390602944141964,
          0.05869933454325469,
          0.10891107078039927,
          0.11474087517644686,
          0.20367009477717282,
          0.10891107078039927,
          0.06875176446864287,
          0.13631780600927607,
          0.06654567453115548,
          0.055474894131881426,
          0.08267795926598104,
          0.1532748538011696,
          0.07866303690260133,
          0.08943335349868925,
          0.13914095583787053,
          0.08269610808630773,
          0.06051623311151442,
          0.08661222020568662,
          0.32669691470054446,
          0.05854607783827385,
          0.034281105061504336,
          0.13391812865497077,
          0.10244000806614237,
          0.05240572696108086,
          0.07462996571889494,
          0.18768905021173624,
          0.11695906432748537,
          0.06735430530348861,
          0.11076225045372051,
          0.04638031861262351,
          0.0927787860455737,
          0.22990320629159106,
          0.0947953216374269,
          0.09376890502117362,
          0.1127445049405122,
          0.1088929219600726,
          0.12300867110304498,
          0.13361564831619277,
          0.11090945755192579,
          0.1593063117564025,
          0.17344020971970156,
          0.11822746521476105,
          0.06251260334744908,
          0.1088929219600726,
          0.12381528533978625,
          0.09376890502117362,
          0.13510788465416415,
          0.07461181689856826,
          0.14117765678564226,
          0.08872756604154064,
          0.1431195805605969,
          0.034281105061504336,
          0.13510788465416415,
          0.09477717281710023,
          0.1678967533776971,
          0.10185319620891309,
          0.10364387981447873,
          0.2176043557168784,
          0.3065315587820125,
          0.2368501714055253,
          0.23676144383948378,
          0.15591853196208913,
          0.06654567453115548,
          0.15650332728372657,
          0.0300645291389393,
          0.060496067755595885,
          0.04196208913087316,
          0.07057874571486186,
          0.08166969147005444,
          0.08531760435571688,
          0.030248033877797943,
          0.1294615849969752,
          0.0421455938697318,
          0.13510788465416415,
          0.0858600524299254,
          0.07259528130671507,
          0.08771929824561403,
          0.09348659003831418,
          0.12300867110304498,
          0.08471264367816092,
          0.13694293204275054,
          0.035206694898164956,
          0.05041338979632991,
          0.4837870538415003,
          0.4305484976809841,
          0.3569267997580157,
          0.3184916313772938,
          0.32667876588021777,
          0.04436378302077032,
          0.1996370235934664,
          0.23736640451703972,
          0.17929017947166767,
          0.3261988304093567,
          0.29038112522686027,
          0.2752772736438798,
          0.29441419641056665,
          0.16636418632788869,
          0.20348860657390602,
          0.2982819116757411,
          0.1983545069570478,
          0.19000604960677556,
          0.12905827787860455,
          0.028231498285944748,
          0.18533978624722727,
          0.22506553740673524,
          0.27727364387981446,
          0.13250453720508168
         ],
         "xaxis": "x",
         "y": [
          2.5,
          3,
          3,
          3,
          3,
          3,
          4,
          4,
          4,
          4,
          4,
          4,
          4,
          4,
          4,
          4,
          4,
          4,
          4,
          4,
          4,
          4,
          4,
          4,
          4,
          4,
          4,
          4,
          4.5,
          5,
          5,
          5,
          5,
          5,
          5,
          5,
          6,
          6,
          6,
          6,
          6,
          6,
          6,
          6,
          6,
          6,
          6,
          6,
          6,
          6.15,
          6.15,
          6.3,
          6.3,
          6.3,
          7,
          7,
          7,
          7,
          7,
          7.15,
          7.15,
          7.3,
          7.3,
          7.3,
          7.3,
          7.3,
          7.3,
          7.45,
          7.45,
          7.45,
          7.45,
          7.45,
          7.45,
          8,
          8,
          8,
          8,
          8,
          8,
          8,
          8,
          8,
          8,
          8,
          8,
          8.45,
          8.45,
          8.45,
          9,
          9,
          9,
          9,
          9,
          9,
          9,
          9,
          9,
          9,
          9,
          9,
          9,
          9,
          9,
          9,
          9,
          9.15,
          9.15,
          9.15,
          9.15,
          9.15,
          9.15,
          9.15,
          9.15,
          9.3,
          9.3,
          9.45,
          9.45,
          10,
          10,
          10,
          10,
          10,
          10,
          10,
          10,
          10,
          10,
          10,
          10.15,
          10.15,
          10.15,
          10.3,
          10.3,
          10.3,
          10.45,
          10.5,
          10.5,
          11,
          11,
          11,
          11,
          11,
          11,
          11,
          11,
          11,
          11,
          11,
          11.15,
          11.45,
          11.45,
          11.45,
          11.45,
          11.45,
          11.5,
          12,
          12,
          12,
          12,
          12,
          12,
          12,
          12,
          12,
          12,
          12,
          12,
          12,
          12,
          12,
          12,
          12,
          12,
          12,
          12,
          12,
          12,
          12.3,
          12.3,
          12.3,
          12.5,
          12.5,
          13,
          13,
          13.3,
          13.3,
          13.3,
          13.3,
          13.3,
          13.3,
          13.45,
          14,
          14,
          14.3,
          15.45,
          16.3,
          19,
          19,
          20
         ],
         "yaxis": "y"
        },
        {
         "customdata": [
          [
           "AMD Octa-Core Ryzen 7",
           "16 GB "
          ],
          [
           "Intel Core i5 (12th Gen)",
           "16 GB "
          ],
          [
           "Intel Core i5 (10th Gen)",
           "8 GB "
          ],
          [
           "Intel Core i7 (12th Gen)",
           "16 GB "
          ],
          [
           "Intel Core i5 (13th Gen)",
           "16 GB "
          ],
          [
           "Intel Core i5 (8th Gen)",
           "8 GB "
          ],
          [
           "Intel Core i3 (11th Gen)",
           "8 GB "
          ],
          [
           "Intel Core i3 (10th Gen) Processor",
           "8 GB "
          ],
          [
           "AMD Octa-Core Ryzen 9",
           "16 GB "
          ],
          [
           "Intel Core i5 (12th Gen) Processor",
           "16 GB "
          ],
          [
           "AMD Quad-Core Ryzen 5",
           "16 GB "
          ],
          [
           "Intel Core i7 (12th Gen)",
           "16 GB "
          ],
          [
           "Intel Core i5 (11th Gen)",
           "16 GB "
          ],
          [
           "AMD Octa-Core Ryzen 7",
           "16 GB "
          ],
          [
           "Intel Core i7 (12th Gen)",
           "16 GB "
          ],
          [
           "AMD Hexa-Core Ryzen 5",
           "16 GB "
          ],
          [
           "Intel Core i5 (12th Gen)",
           "8 GB "
          ],
          [
           "AMD Hexa-Core Ryzen 5 Processor",
           "16 GB "
          ],
          [
           "Intel Core i7 (4th Gen)",
           "12 GB "
          ],
          [
           "AMD Hexa-Core Ryzen 5",
           "8 GB "
          ],
          [
           "Intel Core i7 (7th Gen)",
           "8 GB "
          ],
          [
           "Intel Pentium Quad-Core Processor",
           "4 GB "
          ],
          [
           "AMD Quad-Core Ryzen 5",
           "8 GB "
          ],
          [
           "AMD Octa-Core Ryzen 9",
           "16 GB "
          ],
          [
           "Intel Core i7 (10th Gen)",
           "8 GB "
          ],
          [
           "Intel Core i5 (6th Gen)",
           "4 GB "
          ],
          [
           "Intel Celeron Quad-Core",
           "2 GB "
          ],
          [
           "Intel Core i5 (7th Gen)",
           "8 GB "
          ],
          [
           "1.8 Ghz Processor",
           "2 GB "
          ],
          [
           "Intel Core i5 (6th Gen)",
           "4 GB "
          ],
          [
           "Intel Core i5 (7th Gen)",
           "4 GB "
          ],
          [
           "Intel Core i5 (12th Gen)",
           "16 GB "
          ],
          [
           "Intel Core i5 (10th Gen)",
           "8 GB "
          ],
          [
           "Intel Core i3 (11th Gen)",
           "4 GB "
          ],
          [
           "Intel Core i3 (11th Gen)",
           "8 GB RAM"
          ],
          [
           "Intel Core i7 (6th Gen)",
           "16 GB "
          ],
          [
           "AMD Dual-Core A9 APU",
           "4 GB "
          ],
          [
           "AMD Octa-Core Ryzen 9",
           "16 GB "
          ],
          [
           "AMD Hexa-Core Ryzen 5",
           "16 GB "
          ],
          [
           "Intel Core M3 (7th Gen)",
           "4 GB "
          ],
          [
           "Intel Core i5 (11th Gen)",
           "8 GB "
          ],
          [
           "Intel Core i5 (13th Gen)",
           "16 GB "
          ],
          [
           "Intel Core i5 (12th Gen)",
           "16 GB "
          ],
          [
           "Intel Pentium Quad-Core",
           "4 GB "
          ],
          [
           "Intel Core i5 (11th Gen)",
           "8 GB "
          ],
          [
           "Intel Core i5 (10th Gen)",
           "8 GB "
          ],
          [
           "Intel Core i5 (13th Gen)",
           "16 GB "
          ],
          [
           "Intel Core i3 (11th Gen)",
           "8 GB RAM"
          ],
          [
           "Intel Core i5 (13th Gen)",
           "16 GB "
          ],
          [
           "Intel Core i7 (11th Gen)",
           "16 GB "
          ],
          [
           "Intel Core i7 (12th Gen)",
           "16 GB "
          ],
          [
           "Intel Core i5 (11th Gen) Processor",
           "8 GB "
          ],
          [
           "AMD Hexa-Core Ryzen 5",
           "16 GB "
          ],
          [
           "Intel Core i3 (11th Gen)",
           "8 GB "
          ],
          [
           "Intel Core i5 (11th Gen)",
           "8 GB "
          ],
          [
           "Intel Core i5 (13th Gen)",
           "16 GB "
          ],
          [
           "Intel Core i5 (12th Gen)",
           "16 GB "
          ],
          [
           "Intel Pentium Quad-Core",
           "8 GB "
          ],
          [
           "AMD Quad-Core Ryzen 5",
           "16 GB LP"
          ],
          [
           "Intel Core i5 (13th Gen)",
           "16 GB "
          ],
          [
           "AMD Quad-Core Ryzen 5",
           "16 GB "
          ],
          [
           "AMD Hexa-Core Ryzen 5 Processor",
           "8 GB "
          ],
          [
           "Intel Core i3 (11th Gen)",
           "8 GB "
          ],
          [
           "Intel Core i5 (12th Gen)",
           "8 GB "
          ],
          [
           "AMD Octa-Core Ryzen 7",
           "16 GB "
          ],
          [
           "Intel Core i9 (13th Gen)",
           "16 GB "
          ],
          [
           "Intel Core i7 (12th Gen)",
           "16 GB "
          ],
          [
           "Intel Core i5 (12th Gen)",
           "16 GB "
          ],
          [
           "Intel Pentium Gold",
           "8 GB "
          ],
          [
           "Intel Core i3 (12th Gen)",
           "8 GB "
          ],
          [
           "Intel Core i5 (13th Gen)",
           "16 GB "
          ],
          [
           "AMD Octa-Core Ryzen 7",
           "16 GB "
          ],
          [
           "Intel Core i3 (11th Gen)",
           "8 GB LP"
          ],
          [
           "Intel Core i3 (11th Gen)",
           "8 GB "
          ],
          [
           "AMD Quad-Core Ryzen 7",
           "16 GB "
          ],
          [
           "Intel Core i3 (10th Gen)",
           "8 GB "
          ],
          [
           "AMD Quad-Core Ryzen 5",
           "8 GB "
          ],
          [
           "Intel Celeron Dual-Core",
           "4 GB "
          ],
          [
           "Intel Core i5 (11th Gen)",
           "8 GB "
          ],
          [
           "Intel Core i5 (11th Gen)",
           "8 GB "
          ],
          [
           "Intel Core i3 (12th Gen)",
           "8 GB "
          ],
          [
           "Intel Core i5 (10th Gen)",
           "8 GB "
          ],
          [
           "Intel Core i3 (10th Gen)",
           "8 GB "
          ],
          [
           "Intel Core i5 (10th Gen) Processor",
           "8 GB "
          ],
          [
           "Intel Core i3 (10th Gen)",
           "8 GB "
          ],
          [
           "Intel Core i3 (10th Gen)",
           "8 GB "
          ],
          [
           "Intel Core i3 (13th Gen)",
           "8 GB "
          ],
          [
           "Intel Core i3 (11th Gen)",
           "8 GB "
          ],
          [
           "Intel Core i3 (11th Gen)",
           "8 GB "
          ],
          [
           "Intel Core i3 (12th Gen)",
           "8 GB "
          ],
          [
           "AMD Dual-Core Ryzen 3",
           "8 GB "
          ],
          [
           "Intel Core i3 (10th Gen)",
           "8 GB "
          ],
          [
           "Intel Celeron Dual-Core",
           "8 GB "
          ],
          [
           "Intel Celeron Dual-Core",
           "4 GB "
          ],
          [
           "AMD Quad-Core Ryzen 3",
           "8 GB LP"
          ],
          [
           "Intel Core i3 (12th Gen)",
           "8 GB "
          ],
          [
           "Intel Core i3 (11th Gen)",
           "8 GB "
          ],
          [
           "Intel Core i5 (10th Gen)",
           "8 GB "
          ],
          [
           "Intel Core i3 (10th Gen)",
           "4 GB "
          ],
          [
           "Intel Core i3 (11th Gen)",
           "8 GB "
          ],
          [
           "Intel Core i3 (12th Gen)",
           "8 GB "
          ],
          [
           "Intel Core i3 (11th Gen)",
           "8 GB "
          ],
          [
           "Intel Core i3 (10th Gen)",
           "8 GB "
          ],
          [
           "Intel Core i5 (12th Gen)",
           "8 GB "
          ],
          [
           "Intel Core i5 (10th Gen)",
           "16 GB "
          ],
          [
           "Intel Core i3 (11th Gen)",
           "8 GB LP"
          ],
          [
           "Intel Core i3 (13th Gen)",
           "8 GB "
          ],
          [
           "Intel Core i3 (13th Gen)",
           "8 GB "
          ],
          [
           "Intel Core i5 (13th Gen)",
           "16 GB "
          ],
          [
           "Intel Core i3 (13th Gen)",
           "8 GB "
          ],
          [
           "AMD Quad-Core Ryzen 3",
           "8 GB "
          ],
          [
           "AMD Octa-Core Ryzen 7",
           "16 GB "
          ],
          [
           "Intel Core i3 (11th Gen)",
           "8 GB "
          ],
          [
           "Intel Core i3 (11th Gen)",
           "8 GB "
          ],
          [
           "AMD Octa-Core Ryzen 7",
           "16 GB "
          ],
          [
           "Intel Core i5 (11th Gen)",
           "8 GB "
          ],
          [
           "Intel Core i5 (6th Gen)",
           "4 GB "
          ],
          [
           "AMD Octa-Core Ryzen 7",
           "16 GB "
          ],
          [
           "Intel Core i5 (11th Gen)",
           "16 GB "
          ],
          [
           "Intel Core i5 (13th Gen)",
           "16 GB "
          ],
          [
           "Intel Core i5 (10th Gen)",
           "8 GB "
          ],
          [
           "Intel Core i3 (13th Gen)",
           "8 GB "
          ],
          [
           "AMD Quad-Core Ryzen 5",
           "8 GB "
          ],
          [
           "Intel Core i3 (11th Gen)",
           "8 GB "
          ],
          [
           "Intel Pentium Quad-Core",
           "8 GB "
          ],
          [
           "Intel Core i3 (12th Gen)",
           "8 GB "
          ],
          [
           "AMD Octa-Core Ryzen 7",
           "16 GB "
          ],
          [
           "Intel Core i5 (11th Gen)",
           "8 GB "
          ],
          [
           "Intel Core i5 (11th Gen)",
           "8 GB "
          ],
          [
           "Intel Core i5 (11th Gen)",
           "8 GB "
          ],
          [
           "AMD Dual-Core Ryzen 3",
           "8 GB "
          ],
          [
           "Intel Core i5 (11th Gen)",
           "16 GB "
          ],
          [
           "Intel Core i5 (12th Gen)",
           "16 GB "
          ],
          [
           "Intel Core i7 (11th Gen)",
           "16 GB "
          ],
          [
           "Intel Core i5 (10th Gen)",
           "8 GB "
          ],
          [
           "Intel Pentium Quad-Core",
           "8 GB "
          ],
          [
           "AMD Dual-Core Ryzen 3",
           "8 GB "
          ],
          [
           "Intel Core i7 (11th Gen)",
           "16 GB "
          ],
          [
           "AMD Quad-Core Ryzen 7 Processor",
           "16 GB "
          ],
          [
           "Intel Core i3 (12th Gen)",
           "8 GB "
          ],
          [
           "Intel Celeron Dual-Core",
           "2 GB "
          ],
          [
           "Intel Core i7 (10th Gen)",
           "8 GB "
          ],
          [
           "Intel Core i5 (13th Gen)",
           "16 GB "
          ],
          [
           "AMD Octa-Core Ryzen 7",
           "16 GB "
          ],
          [
           "Intel Core Ultra 7",
           "32 GB LP"
          ],
          [
           "Intel Core i5 (11th Gen)",
           "16 GB "
          ],
          [
           "Intel Core i9 (12th Gen)",
           "16 GB LP"
          ],
          [
           "AMD Octa-Core Ryzen 9",
           "32 GB "
          ],
          [
           "Intel Core i5 (12th Gen)",
           "16 GB "
          ],
          [
           "Intel Core i7 (13th Gen)",
           "16 GB LP"
          ],
          [
           "AMD Octa-Core Ryzen 7",
           "16 GB "
          ],
          [
           "Intel Core i7 (13th Gen)",
           "32 GB LP"
          ],
          [
           "Intel Core i5 (11th Gen)",
           "16 GB "
          ],
          [
           "Intel Core i5 (12th Gen)",
           "16 GB LP"
          ],
          [
           "Intel Core i7 (13th Gen)",
           "16 GB LP"
          ],
          [
           "Intel Core i5 (12th Gen)",
           "16 GB "
          ],
          [
           "Intel Core i5 (12th Gen)",
           "8 GB "
          ],
          [
           "AMD Octa-Core Ryzen 7",
           "16 GB "
          ],
          [
           "AMD Quad-Core Ryzen 5",
           "16 GB "
          ],
          [
           "AMD Quad-Core Ryzen 5",
           "16 GB "
          ],
          [
           "AMD Hexa-Core Ryzen 5",
           "16 GB "
          ],
          [
           "Intel Core i5 (13th Gen)",
           "16 GB "
          ],
          [
           "Intel Core i5 (11th Gen)",
           "8 GB "
          ],
          [
           "Intel Core i7 (13th Gen)",
           "16 GB LP"
          ],
          [
           "AMD Octa-Core Ryzen 9",
           "16 GB "
          ],
          [
           "Intel Core i9 (11th Gen)",
           "16 GB "
          ],
          [
           "Intel Core i9 (13th Gen)",
           "16 GB LP"
          ],
          [
           "AMD Octa-Core Ryzen 7",
           "32 GB "
          ],
          [
           "Intel Core i3 (12th Gen)",
           "8 GB "
          ],
          [
           "Intel Core i5 (13th Gen)",
           "16 GB LP"
          ],
          [
           "Intel Core i5 (13th Gen)",
           "16 GB LP"
          ],
          [
           "Intel Core i3 (12th Gen)",
           "8 GB "
          ],
          [
           "Intel Core Ultra 9",
           "32 GB LP"
          ],
          [
           "AMD Quad-Core Ryzen 5",
           "16 GB "
          ],
          [
           "Intel Core i7 (12th Gen)",
           "32 GB LP"
          ],
          [
           "Intel Core i5 (12th Gen)",
           "16 GB "
          ],
          [
           "AMD Hexa-Core Ryzen 5",
           "16 GB "
          ],
          [
           "AMD Dual-Core Ryzen 3",
           "4 GB "
          ],
          [
           "Intel Core i7 (12th Gen)",
           "16 GB "
          ],
          [
           "AMD Octa-Core Ryzen 7",
           "16 GB "
          ],
          [
           "AMD Octa-Core Ryzen 7",
           "16 GB "
          ],
          [
           "Intel Core Ultra 9",
           "32 GB LP"
          ],
          [
           "Intel Core i3 (8th Gen)",
           "4 GB "
          ],
          [
           "Intel Core i7 (8th Gen)",
           "8 GB "
          ],
          [
           "Intel Core i9 (12th Gen)",
           "16 GB LP"
          ],
          [
           "AMD Octa-Core Ryzen 7",
           "8 GB "
          ],
          [
           "AMD Octa-Core Ryzen 7",
           "16 GB "
          ],
          [
           "AMD Octa-Core Ryzen 7",
           "16 GB "
          ],
          [
           "AMD Octa-Core Ryzen 9",
           "16 GB "
          ],
          [
           "AMD Hexa-Core Ryzen 5",
           "8 GB "
          ],
          [
           "Intel Core i5 (13th Gen)",
           "16 GB LP"
          ],
          [
           "Intel Pentium Quad-Core",
           "4 GB "
          ],
          [
           "Intel Core i5 (13th Gen)",
           "16 GB LP"
          ],
          [
           "Intel Core i7 (12th Gen)",
           "16 GB LP"
          ],
          [
           "Intel Core i5 (13th Gen)",
           "16 GB "
          ],
          [
           "Intel Core i5 (12th Gen)",
           "16 GB LP"
          ],
          [
           "Intel Core i3 (12th Gen)",
           "8 GB "
          ],
          [
           "Intel Core i7 (13th Gen)",
           "16 GB LP"
          ],
          [
           "Intel Core i5 (13th Gen)",
           "16 GB LP"
          ],
          [
           "Intel Core i9 (12th Gen)",
           "16 GB LP"
          ],
          [
           "AMD Hexa-Core Ryzen 5",
           "16 GB "
          ],
          [
           "Intel Core i5 (12th Gen)",
           "8 GB "
          ],
          [
           "AMD Octa-Core Ryzen 9",
           "16 GB "
          ],
          [
           "Intel Core i5 (11th Gen)",
           "8 GB "
          ],
          [
           "AMD Octa-Core Ryzen 9",
           "16 GB "
          ],
          [
           "AMD Octa-Core Ryzen 7",
           "32 GB "
          ],
          [
           "Intel Core i3 (12th Gen)",
           "8 GB "
          ],
          [
           "Intel Core i3 (11th Gen)",
           "8 GB "
          ],
          [
           "AMD Octa-Core Ryzen 7",
           "16 GB "
          ],
          [
           "Intel Core i5 (11th Gen)",
           "16 GB "
          ],
          [
           "AMD Octa-Core Ryzen 9",
           "32 GB "
          ],
          [
           "Intel Core i5 (8th Gen)",
           "8 GB "
          ],
          [
           "Intel Core i7 (8th Gen)",
           "16 GB "
          ],
          [
           "Intel Core i5 (8th Gen)",
           "8 GB "
          ],
          [
           "Intel Core i7 (8th Gen)",
           "8 GB "
          ],
          [
           "Intel Core i5 (8th Gen)",
           "8 GB "
          ],
          [
           "Intel Core i5 (8th Gen)",
           "8 GB "
          ],
          [
           "Intel Core i9 (8th Gen)",
           "16 GB "
          ],
          [
           "Intel Core i7 (12th Gen)",
           "16 GB LP"
          ],
          [
           "Intel Celeron Dual-Core",
           "4 GB "
          ],
          [
           "AMD Hexa-Core Ryzen 5",
           "8 GB "
          ],
          [
           "Intel Core i5 (12th Gen)",
           "16 GB "
          ],
          [
           "Intel Core i5 (12th Gen)",
           "16 GB "
          ],
          [
           "Intel Core i5 (12th Gen)",
           "16 GB "
          ],
          [
           "AMD Octa-Core Ryzen 7",
           "16 GB "
          ],
          [
           "Intel Core i5 (12th Gen)",
           "16 GB "
          ],
          [
           "AMD Octa-Core Ryzen 7",
           "16 GB "
          ],
          [
           "AMD Octa-Core Ryzen 7",
           "16 GB "
          ],
          [
           "Intel Core i7 (12th Gen)",
           "16 GB "
          ],
          [
           "AMD Octa-Core Ryzen 9",
           "16 GB LP"
          ],
          [
           "Intel Core i7 (12th Gen)",
           "16 GB "
          ],
          [
           "Intel Core i7 (12th Gen)",
           "16 GB "
          ],
          [
           "Intel Core i7 (12th Gen)",
           "16 GB LP"
          ],
          [
           "Intel Core i9 (12th Gen)",
           "32 GB "
          ],
          [
           "Intel Core i9 (12th Gen)",
           "32 GB "
          ],
          [
           "AMD Hexa-Core Ryzen 5",
           "16 GB "
          ],
          [
           "AMD Octa-Core Ryzen 9",
           "16 GB LP"
          ],
          [
           "Intel Core i9 (12th Gen)",
           "32 GB "
          ],
          [
           "Intel Core i9 (12th Gen)",
           "32 GB "
          ],
          [
           "Intel Core i9 (12th Gen)",
           "32 GB LP"
          ],
          [
           "Intel Core i9 (12th Gen)",
           "32 GB "
          ],
          [
           "Intel Core i7 (12th Gen)",
           "16 GB LP"
          ],
          [
           "Intel Core i7 (12th Gen)",
           "16 GB "
          ],
          [
           "AMD Octa-Core Ryzen 9",
           "16 GB "
          ],
          [
           "Intel Celeron Dual-Core",
           "4 GB LP"
          ],
          [
           "AMD Octa-Core Ryzen 9",
           "16 GB "
          ],
          [
           "AMD Octa-Core Ryzen 7",
           "16 GB "
          ],
          [
           "AMD Octa-Core Ryzen 7",
           "16 GB "
          ],
          [
           "AMD Octa-Core Ryzen 9",
           "16 GB "
          ],
          [
           "Intel Core i7 (7th Gen)",
           "8 GB "
          ],
          [
           "Intel Core i7 (8th Gen)",
           "16 GB LP"
          ],
          [
           "AMD Octa-Core Ryzen 9",
           "16 GB "
          ],
          [
           "Intel Core i5 (8th Gen)",
           "8 GB "
          ],
          [
           "Intel Core i5 (8th Gen)",
           "8 GB "
          ],
          [
           "Intel Core i5 (10th Gen)",
           "8 GB LP"
          ],
          [
           "Intel Core i5 (10th Gen)",
           "8 GB LP"
          ],
          [
           "Intel Core i7 (8th Gen)",
           "8 GB "
          ],
          [
           "Intel Core i5 (10th Gen)",
           "8 GB "
          ],
          [
           "Intel Core Ultra 5",
           "16 GB LP"
          ],
          [
           "Intel Core Ultra 5",
           "16 GB LP"
          ],
          [
           "Intel Core Ultra 5",
           "16 GB LP"
          ],
          [
           "Intel Core Ultra 5",
           "16 GB LP"
          ],
          [
           "Intel Core i7 (11th Gen)",
           "16 GB LP"
          ],
          [
           "Intel Celeron Dual-Core",
           "4 GB "
          ],
          [
           "Intel Core i5 (12th Gen)",
           "16 GB LP"
          ],
          [
           "Intel Celeron Dual-Core",
           "4 GB "
          ],
          [
           "Intel Core i5 (12th Gen)",
           "16 GB LP"
          ]
         ],
         "hovertemplate": "Brand=ASUS<br>Price=%{x}<br>Battery_Life_num=%{y}<br>Processor_Name=%{customdata[0]}<br>RAM=%{customdata[1]}<extra></extra>",
         "legendgroup": "ASUS",
         "marker": {
          "color": "#00cc96",
          "symbol": "circle"
         },
         "mode": "markers",
         "name": "ASUS",
         "showlegend": true,
         "type": "scattergl",
         "x": [
          0.13712442024601734,
          0.10467836257309941,
          0.07160717886670699,
          0.22585198628755798,
          0.15527324057269612,
          0.07662835249042145,
          0.06461181689856826,
          0.04880016132284735,
          0.19128654970760234,
          0.1672897761645493,
          0.07057874571486186,
          0.16436781609195403,
          0.10225851986287558,
          0.11494252873563218,
          0.16335954829602742,
          0.10528130671506353,
          0.08872756604154064,
          0.10082677959265982,
          0.33707602339181286,
          0.10082677959265982,
          0.08872756604154064,
          0.02522484371849163,
          0.07783827384553338,
          0.26497277676951,
          0.11695906432748537,
          0.07057874571486186,
          0.023208308126638436,
          0.06876386368219399,
          0.02542649727767695,
          0.07518451300665457,
          0.05545472877596289,
          0.14480742085097803,
          0.09679370840895342,
          0.04841500302480339,
          0.0524299253881831,
          0.39069167170800567,
          0.04638031861262351,
          0.24400080661423673,
          0.13107481347045774,
          0.1088929219600726,
          0.09054244807420851,
          0.102843315184513,
          0.10190360959870942,
          0.04597701149425287,
          0.06654567453115548,
          0.08705384150030249,
          0.11494252873563218,
          0.07866303690260133,
          0.102843315184513,
          0.1512583182093164,
          0.13915910465819722,
          0.10082677959265982,
          0.10286146400483968,
          0.05847953216374269,
          0.08267795926598104,
          0.11633393829401088,
          0.13309134906231096,
          0.04539221617261545,
          0.08671103044968743,
          0.11090945755192579,
          0.07259528130671507,
          0.0998185117967332,
          0.052046783625730994,
          0.1572897761645493,
          0.1628554143980641,
          0.205686630369026,
          0.09876991328896954,
          0.10665456745311555,
          0.036297640653357534,
          0.06434765073603549,
          0.13672514619883042,
          0.11494252873563218,
          0.08469449485783424,
          0.07461181689856826,
          0.07459165154264973,
          0.052903811252268604,
          0.04527727364387982,
          0.034079451502319016,
          0.10082677959265982,
          0.09711635410364992,
          0.0524299253881831,
          0.06654567453115548,
          0.04839685420447671,
          0.07865497076023392,
          0.047186932849364795,
          0.0524299253881831,
          0.06452913893930227,
          0.060496067755595885,
          0.052046783625730994,
          0.06654567453115548,
          0.0633172010485985,
          0.04335349868925187,
          0.04234724742891712,
          0.02913692276668683,
          0.056462996571889496,
          0.0544464609800363,
          0.06570679572494455,
          0.08106069772131479,
          0.0544464609800363,
          0.057483363581367214,
          0.060496067755595885,
          0.06251260334744908,
          0.04176245210727969,
          0.08852792901794716,
          0.08368622706190765,
          0.07864488808227466,
          0.07057874571486186,
          0.07057874571486186,
          0.11494252873563218,
          0.06592054849768099,
          0.06251260334744908,
          0.102843315184513,
          0.0524299253881831,
          0.05849768098406937,
          0.16333938294010888,
          0.0990300463803186,
          0.08269812462189957,
          0.12401693889897157,
          0.08872756604154064,
          0.1370437588223432,
          0.06150433555152249,
          0.07057874571486186,
          0.06584593668078241,
          0.061322847348255695,
          0.04033071183706392,
          0.07228675136116153,
          0.1623311151441823,
          0.11292599314377899,
          0.1088929219600726,
          0.06858035894333535,
          0.10487799959669288,
          0.07864488808227466,
          0.12504335551522483,
          0.09881024400080661,
          0.07057874571486186,
          0.03732607380520266,
          0.05041338979632991,
          0.14508771929824563,
          0.39251663641863277,
          0.05847953216374269,
          0.016172615446662635,
          0.14317402702157694,
          0.215769308328292,
          0.12502520669489817,
          0.3871748336358137,
          0.11090945755192579,
          0.6331921758419036,
          0.5464811453922161,
          0.09074410163339383,
          0.17543859649122806,
          0.3125630167372454,
          0.2944585601935874,
          0.11453922161726154,
          0.21838677152651745,
          0.2633938294010889,
          0.12905827787860455,
          0.10064529138939303,
          0.3710425489009881,
          0.08451300665456746,
          0.09477717281710023,
          0.11143375680580762,
          0.13510788465416415,
          0.11494252873563218,
          0.24601734220608995,
          0.24803387779794314,
          0.18552127445049404,
          0.18683000604960678,
          0.48800161322847346,
          0.08469449485783424,
          0.1530127041742287,
          0.16916717080056462,
          0.06654567453115548,
          0.4678362573099415,
          0.08870941722121395,
          0.46780600927606375,
          0.09034079451502319,
          0.09195402298850575,
          0.04231699939503932,
          0.31657592256503325,
          0.33071183706392415,
          0.3226456946965114,
          0.4678362573099415,
          0.06313369630973986,
          0.11897559991933858,
          0.3508771929824561,
          0.1572897761645493,
          0.29038112522686027,
          0.11292599314377899,
          0.334533172010486,
          0.11897559991933858,
          0.13914095583787053,
          0.04537003428110506,
          0.21173623714458562,
          0.33071183706392415,
          0.13510788465416415,
          0.12714055253075215,
          0.06251260334744908,
          0.22181891510385157,
          0.1613228473482557,
          0.3710425489009881,
          0.11494252873563218,
          0.11494252873563218,
          0.411373260738052,
          0.1068763863682194,
          0.421455938697318,
          0.4920346844121799,
          0.06755394232708208,
          0.049405122000403305,
          0.2057047791893527,
          0.11292599314377899,
          0.7138535995160314,
          0.15527324057269612,
          0.3083585400282315,
          0.07965315587820125,
          0.17342206089937487,
          0.08590643274853801,
          0.07662835249042145,
          0.23729179270014117,
          0.6493244605767292,
          0.030649324460576728,
          0.1088929219600726,
          0.12502520669489817,
          0.12199838677152652,
          0.12704174228675136,
          0.20583585400282314,
          0.15105868118572294,
          0.14519056261343014,
          0.1693889897156685,
          0.2452087114337568,
          0.2937527727364388,
          0.2762653760838879,
          0.17140552530752168,
          0.2762653760838879,
          0.5182496471062714,
          0.5262653760838879,
          0.1693889897156685,
          0.2129078443234523,
          0.43355515224843716,
          0.6533575317604355,
          0.32667876588021777,
          0.4043153861665658,
          0.2542649727767695,
          0.34684412179874974,
          0.25610002016535593,
          0.02016535591853196,
          0.3165960879209518,
          0.20669489816495262,
          0.15529138939302278,
          0.22746521476104054,
          0.17537810042347246,
          0.1572897761645493,
          0.24198427102238354,
          0.14519056261343014,
          0.12502520669489817,
          0.1593063117564025,
          0.1240371042548901,
          0.16535591853196208,
          0.08671103044968743,
          0.17947166767493447,
          0.1855878201250252,
          0.19157088122605365,
          0.17947166767493447,
          0.1973805202661827,
          0.021191772534785238,
          0.12704174228675136,
          0.03188949384956644,
          0.12484371849163138
         ],
         "xaxis": "x",
         "y": [
          3,
          3,
          3,
          3,
          3,
          3,
          3,
          3,
          3,
          3,
          3,
          3,
          3,
          3,
          3,
          3,
          3,
          3,
          3.5,
          4,
          4,
          4,
          4,
          4,
          4,
          4.5,
          4.5,
          4.5,
          4.5,
          4.5,
          4.5,
          5,
          5,
          5,
          5,
          5,
          5,
          5,
          5,
          5,
          6,
          6,
          6,
          6,
          6,
          6,
          6,
          6,
          6,
          6,
          6,
          6,
          6,
          6,
          6,
          6,
          6,
          6,
          6,
          6,
          6,
          6,
          6,
          6,
          6,
          6,
          6,
          6,
          6,
          6,
          6,
          6,
          6,
          6,
          6,
          6,
          6,
          6,
          6,
          6,
          6,
          6,
          6,
          6,
          6,
          6,
          6,
          6,
          6,
          6,
          6,
          6,
          6,
          6,
          6,
          6,
          6,
          6,
          6,
          6,
          6,
          6,
          6,
          6,
          6,
          6,
          6,
          6,
          6,
          6,
          6,
          6,
          6,
          6,
          6,
          6,
          6,
          6,
          6,
          6,
          6,
          6,
          6,
          6,
          6,
          6,
          6,
          6,
          6,
          6,
          6,
          6,
          6,
          6,
          6,
          6,
          6,
          7,
          7,
          7,
          7,
          7,
          8,
          8,
          8,
          8,
          8,
          8,
          8,
          8,
          8,
          8,
          8,
          8,
          8,
          8,
          8,
          8,
          8,
          8,
          8,
          8,
          8,
          8,
          8,
          8,
          8,
          8,
          8,
          8,
          8,
          8,
          8,
          8,
          8,
          8,
          8,
          8,
          8,
          8,
          8,
          8,
          8,
          8,
          8,
          8,
          8,
          8,
          8,
          8,
          8,
          8,
          8,
          8,
          8,
          8,
          8,
          8,
          8,
          8,
          8,
          8,
          8,
          8,
          8,
          8,
          8,
          8,
          8,
          8,
          8,
          9,
          9,
          9,
          9,
          9,
          9,
          9.5,
          9.5,
          10,
          10,
          10,
          10,
          10,
          10,
          10,
          10,
          10,
          10,
          10,
          10,
          10,
          10,
          10,
          10,
          10,
          10,
          10,
          10,
          10,
          10,
          10,
          10,
          10,
          10,
          12,
          12,
          12,
          12,
          12,
          13,
          13.6,
          14,
          14,
          14,
          14,
          14,
          14.7,
          16,
          16,
          16,
          16,
          17,
          18,
          18,
          18,
          18
         ],
         "yaxis": "y"
        },
        {
         "customdata": [
          [
           "AMD Octa-Core Ryzen 7",
           "16 GB "
          ],
          [
           "Intel Core i7 (12th Gen)",
           "16 GB "
          ],
          [
           "Intel Core i5 (12th Gen)",
           "16 GB "
          ],
          [
           "Intel Core i7 (10th Gen)",
           "8 GB "
          ],
          [
           "Intel Core i5 (11th Gen)",
           "8 GB "
          ],
          [
           "Intel Core i7 (11th Gen)",
           "32 GB "
          ],
          [
           "Intel Core i7 (7th Gen)",
           "16 GB "
          ],
          [
           "Intel Core i7 (11th Gen)",
           "16 GB "
          ],
          [
           "Intel Core i5 (11th Gen)",
           "8 GB "
          ],
          [
           "Intel Core i7 (12th Gen)",
           "32 GB "
          ],
          [
           "Intel Core i7 (7th Gen)",
           "4 GB "
          ],
          [
           "Intel Core i5 (12th Gen)",
           "16 GB "
          ],
          [
           "Intel Core i3 (12th Gen)",
           "8 GB LP"
          ],
          [
           "Intel Core i7 (13th Gen)",
           "16 GB "
          ],
          [
           "Intel Core i3 (10th Gen)",
           "4 GB "
          ],
          [
           "Intel Core i7 (14th Gen)",
           "16 GB "
          ],
          [
           "Intel Core i7 (13th Gen)",
           "16 GB "
          ],
          [
           "AMD Octa-Core Ryzen 7",
           "16 GB "
          ],
          [
           "Intel Core Ultra 5",
           "16 GB "
          ],
          [
           "Intel Core Ultra 7",
           "16 GB "
          ],
          [
           "Intel Core Ultra 7",
           "16 GB "
          ],
          [
           "Intel Core i7 (13th Gen)",
           "32 GB "
          ],
          [
           "Intel Core i3 (11th Gen)",
           "8 GB "
          ],
          [
           "Intel Core i5 (11th Gen)",
           "8 GB "
          ],
          [
           "Intel Core i9 (14th Gen)",
           "64 GB "
          ],
          [
           "Intel Core i5 (11th Gen)",
           "16 GB "
          ],
          [
           "Intel Core i7 (8th Gen)",
           "16 GB "
          ],
          [
           "Intel Core Ultra 7",
           "32 GB LP"
          ],
          [
           "Intel Core Ultra 7",
           "32 GB LP"
          ],
          [
           "Intel Core i5 (8th Gen)",
           "8 GB "
          ],
          [
           "Intel Core i3 (11th Gen)",
           "8 GB "
          ],
          [
           "Intel Core Ultra 9",
           "32 GB LP"
          ],
          [
           "Intel Core i5 (12th Gen)",
           "16 GB LP"
          ],
          [
           "Intel Core i7 (13th Gen)",
           "32 GB "
          ],
          [
           "Intel Core i5 (13th Gen)",
           "16 GB "
          ]
         ],
         "hovertemplate": "Brand=MSI<br>Price=%{x}<br>Battery_Life_num=%{y}<br>Processor_Name=%{customdata[0]}<br>RAM=%{customdata[1]}<extra></extra>",
         "legendgroup": "MSI",
         "marker": {
          "color": "#ab63fa",
          "symbol": "circle"
         },
         "mode": "markers",
         "name": "MSI",
         "showlegend": true,
         "type": "scattergl",
         "x": [
          0.17543859649122806,
          0.22244404113732608,
          0.10082677959265982,
          0.11697721314781206,
          0.13512603347449081,
          0.58884654164146,
          0.15527324057269612,
          0.1685823754789272,
          0.13914095583787053,
          0.5686630369026013,
          0.09276063722524702,
          0.13107481347045774,
          0.049606775559588624,
          0.21980237951199838,
          0.05221818915103851,
          0.25610002016535593,
          0.16333938294010888,
          0.19560395240976003,
          0.17947166767493447,
          0.215769308328292,
          0.20165355918531963,
          0.4275055454728776,
          0.0524299253881831,
          0.0822746521476104,
          0.8711433756805808,
          0.09983867715265174,
          0.17543859649122806,
          0.32667876588021777,
          0.3065134099616858,
          0.09881024400080661,
          0.04398064125831821,
          0.3670094777172817,
          0.14519056261343014,
          0.205686630369026,
          0.1613228473482557
         ],
         "xaxis": "x",
         "y": [
          3,
          3,
          3,
          4,
          4,
          4,
          4,
          4,
          4,
          4,
          5,
          6,
          6,
          6,
          6,
          6,
          6,
          6,
          6,
          6,
          6,
          6,
          6,
          6,
          7,
          7,
          10,
          10,
          10,
          10,
          10,
          10,
          10,
          14,
          14
         ],
         "yaxis": "y"
        },
        {
         "customdata": [
          [
           "AMD Dual-Core Athlon",
           "4 GB "
          ],
          [
           "AMD Quad-Core A10 APU",
           "8 GB "
          ],
          [
           "Intel Core i5 (6th Gen)",
           "4 GB "
          ],
          [
           "AMD Hexa-Core Ryzen 5",
           "8 GB "
          ],
          [
           "AMD Hexa-Core Ryzen 5 Processor",
           "8 GB "
          ],
          [
           "AMD Dual-Core A4 APU",
           "4 GB "
          ],
          [
           "Intel Core i7 (12th Gen)",
           "32 GB "
          ],
          [
           "AMD Dual-Core A4 APU",
           "4 GB "
          ],
          [
           "Intel Pentium Quad-Core",
           "4 GB "
          ],
          [
           "Intel Core i5 (7th Gen)",
           "4 GB "
          ],
          [
           "AMD Dual-Core A9 APU",
           "4 GB "
          ],
          [
           "Intel Core i5 (7th Gen)",
           "4 GB "
          ],
          [
           "Intel Core i5 (7th Gen)",
           "8 GB "
          ],
          [
           "AMD Dual-Core A9 APU",
           "4 GB "
          ],
          [
           "Intel Core i3 (6th Gen)",
           "4 GB "
          ],
          [
           "AMD Dual-Core A6 APU",
           "4 GB "
          ],
          [
           "AMD Quad-Core E2 APU",
           "4 GB "
          ],
          [
           "Intel Core i5 (7th Gen)",
           "8 GB "
          ],
          [
           "AMD Quad-Core A8 APU",
           "8 GB "
          ],
          [
           "AMD Dual-Core APU",
           "4 GB "
          ],
          [
           "AMD Octa-Core Ryzen 7",
           "16 GB "
          ],
          [
           "AMD Dual-Core Ryzen 3",
           "4 GB "
          ],
          [
           "AMD Quad-Core Ryzen 3",
           "8 GB "
          ],
          [
           "AMD Dual-Core A6 APU",
           "4 GB "
          ],
          [
           "Intel Core i5 (12th Gen)",
           "16 GB "
          ],
          [
           "AMD Quad-Core Ryzen 5",
           "16 GB "
          ],
          [
           "Intel Core i5 (11th Gen)",
           "8 GB "
          ],
          [
           "AMD Octa-Core Ryzen 7",
           "8 GB "
          ],
          [
           "AMD Dual-Core A6 APU",
           "4 GB "
          ],
          [
           "AMD Dual-Core A6 APU",
           "4 GB "
          ],
          [
           "Intel Core i5 (12th Gen)",
           "16 GB "
          ],
          [
           "AMD Quad-Core Ryzen 5",
           "8 GB "
          ],
          [
           "Intel Core i5 (11th Gen)",
           "8 GB "
          ],
          [
           "AMD Octa-Core Ryzen 7",
           "16 GB "
          ],
          [
           "Intel Pentium Quad-Core",
           "4 GB "
          ],
          [
           "AMD Hexa-Core Ryzen 5",
           "8 GB "
          ],
          [
           "AMD Quad-Core Ryzen 5",
           "4 GB "
          ],
          [
           "Intel Core i7 (11th Gen) Processor",
           "16 GB "
          ],
          [
           "AMD Dual-Core A6 APU",
           "4 GB "
          ],
          [
           "Intel Core Ultra 7",
           "16 GB LP"
          ],
          [
           "Intel Core i7 (7th Gen)",
           "8 GB "
          ],
          [
           "Intel Core i5 (7th Gen)",
           "8 GB "
          ],
          [
           "AMD Octa-Core Ryzen 7",
           "16 GB "
          ],
          [
           "Intel Core i3 (11th Gen)",
           "8 GB "
          ],
          [
           "AMD Octa-Core Ryzen 7 Processor",
           "16 GB "
          ],
          [
           "AMD Hexa-Core Ryzen 5",
           "8 GB "
          ],
          [
           "AMD Dual-Core APU",
           "4 GB "
          ],
          [
           "Intel Core i3 (7th Gen)",
           "4 GB "
          ],
          [
           "AMD Octa-Core Ryzen 7",
           "16 GB "
          ],
          [
           "Intel Core i5 (6th Gen)",
           "8 GB "
          ],
          [
           "AMD Octa-Core Ryzen 7",
           "16 GB "
          ],
          [
           "AMD Octa-Core Ryzen 7",
           "16 GB LP"
          ],
          [
           "Intel Celeron Dual-Core Processor",
           "4 GB "
          ],
          [
           "AMD Octa-Core Ryzen 7",
           "16 GB "
          ],
          [
           "Intel Core i3 (7th Gen)",
           "4 GB "
          ],
          [
           "AMD Hexa-Core Ryzen 5",
           "8 GB "
          ],
          [
           "AMD Quad-Core Ryzen 5",
           "8 GB "
          ],
          [
           "Intel Core Ultra 5",
           "16 GB LP"
          ],
          [
           "Intel Core Ultra 9",
           "32 GB LP"
          ],
          [
           "Intel Core Ultra 9",
           "32 GB LP"
          ],
          [
           "AMD Octa-Core Ryzen 7",
           "16 GB "
          ],
          [
           "Intel Core i3 (6th Gen)",
           "8 GB "
          ],
          [
           "Intel Core i3 (6th Gen)",
           "4 GB "
          ],
          [
           "Intel Core i3 (6th Gen)",
           "4 GB "
          ],
          [
           "Intel Core i5 (12th Gen)",
           "8 GB "
          ],
          [
           "AMD Dual-Core Ryzen 3",
           "4 GB "
          ],
          [
           "AMD Octa-Core Ryzen 7",
           "16 GB "
          ],
          [
           "Intel Core i3 (7th Gen)",
           "4 GB "
          ],
          [
           "AMD Dual-Core A6 APU",
           "4 GB "
          ],
          [
           "Intel Core i3 (6th Gen)",
           "4 GB "
          ],
          [
           "Intel Core i3 (10th Gen)",
           "4 GB "
          ],
          [
           "AMD Dual-Core A9 APU",
           "4 GB "
          ],
          [
           "Intel Celeron Dual-Core",
           "4 GB "
          ],
          [
           "Intel Core i5 (12th Gen)",
           "16 GB "
          ],
          [
           "Intel Core i3 (7th Gen)",
           "4 GB "
          ],
          [
           "Intel Core i5 (7th Gen)",
           "8 GB "
          ],
          [
           "Intel Core Ultra 5",
           "16 GB LP"
          ],
          [
           "Intel Core i3 (6th Gen)",
           "4 GB "
          ],
          [
           "AMD Hexa-Core Ryzen 5",
           "8 GB "
          ],
          [
           "Intel Core i5 (6th Gen)",
           "8 GB "
          ],
          [
           "Intel Core i7 (12th Gen)",
           "16 GB "
          ],
          [
           "Intel Core i3 (12th Gen)",
           "8 GB "
          ],
          [
           "Intel Core i7 (13th Gen)",
           "16 GB "
          ],
          [
           "Intel Core i5 (12th Gen)",
           "16 GB "
          ],
          [
           "Intel Core i5 (12th Gen)",
           "16 GB "
          ],
          [
           "Intel Core i7 (13th Gen)",
           "16 GB "
          ],
          [
           "Intel Core i3 (11th Gen)",
           "8 GB "
          ],
          [
           "Intel Core i3 (7th Gen)",
           "4 GB "
          ],
          [
           "Intel Core i5 (11th Gen)",
           "8 GB "
          ],
          [
           "Intel Core i3 (11th Gen)",
           "8 GB "
          ],
          [
           "Intel Core i3 (11th Gen)",
           "8 GB "
          ],
          [
           "Intel Core i5 (11th Gen)",
           "8 GB "
          ],
          [
           "Intel Core i3 (10th Gen)",
           "4 GB "
          ],
          [
           "Intel Core i3 (10th Gen)",
           "8 GB "
          ],
          [
           "Intel Core i5 (11th Gen)",
           "16 GB "
          ],
          [
           "Intel Core i5 (11th Gen)",
           "8 GB "
          ],
          [
           "Intel Core i3 (6th Gen)",
           "4 GB "
          ],
          [
           "Intel Core i5 (12th Gen)",
           "8 GB "
          ],
          [
           "Intel Core i5 (12th Gen)",
           "8 GB "
          ],
          [
           "Intel Core i5 (10th Gen)",
           "8 GB "
          ],
          [
           "Intel Core i7 (12th Gen)",
           "16 GB "
          ],
          [
           "Intel Core i3 (11th Gen)",
           "8 GB "
          ],
          [
           "Intel Core i7 (13th Gen)",
           "16 GB "
          ],
          [
           "Intel Core i5 (7th Gen)",
           "8 GB "
          ],
          [
           "Intel Core i7 (12th Gen)",
           "16 GB "
          ],
          [
           "Intel Core i5 (12th Gen)",
           "12 GB "
          ],
          [
           "Intel Core i5 (13th Gen)",
           "16 GB "
          ],
          [
           "Intel Core i3 (10th Gen)",
           "8 GB "
          ],
          [
           "Intel Core i5 (12th Gen)",
           "8 GB "
          ],
          [
           "Intel Core i3 (11th Gen)",
           "8 GB "
          ],
          [
           "Intel Core i5 (13th Gen)",
           "16 GB "
          ],
          [
           "Intel Core i3 (11th Gen)",
           "8 GB "
          ],
          [
           "Intel Core i5 (10th Gen)",
           "8 GB "
          ],
          [
           "Intel Core i5 (10th Gen)",
           "8 GB "
          ],
          [
           "Intel Core i5 (8th Gen)",
           "8 GB "
          ],
          [
           "Intel Core i5 (12th Gen)",
           "12 GB "
          ],
          [
           "Intel Core i5 (8th Gen)",
           "8 GB "
          ],
          [
           "Intel Core i7 (10th Gen)",
           "16 GB "
          ],
          [
           "AMD Dual-Core A9 APU",
           "4 GB "
          ],
          [
           "Intel Core i5 (10th Gen)",
           "8 GB "
          ],
          [
           "Intel Core i7 (11th Gen) Processor",
           "16 GB "
          ],
          [
           "AMD Hexa-Core Ryzen 5",
           "8 GB "
          ],
          [
           "Intel Core i5 (12th Gen) Processor",
           "8 GB "
          ],
          [
           "Intel Core i3 (12th Gen) Processor",
           "8 GB "
          ],
          [
           "Intel Core i7 (12th Gen)",
           "16 GB "
          ],
          [
           "Intel Core i5 (11th Gen)",
           "8 GB "
          ],
          [
           "AMD Hexa-Core Ryzen 5",
           "8 GB "
          ],
          [
           "Intel Core i5 (12th Gen)",
           "8 GB "
          ],
          [
           "Intel Core i5 (12th Gen)",
           "16 GB "
          ],
          [
           "Intel Core i9 (14th Gen)",
           "32 GB "
          ],
          [
           "Intel Core i7 (13th Gen)",
           "16 GB "
          ],
          [
           "Intel Core i5 (11th Gen)",
           "8 GB "
          ],
          [
           "Intel Core i5 (12th Gen)",
           "16 GB "
          ],
          [
           "Intel Core i7 (13th Gen)",
           "16 GB LP"
          ],
          [
           "Intel Core i7 (12th Gen)",
           "16 GB "
          ],
          [
           "Intel Core i7 (14th Gen)",
           "16 GB "
          ],
          [
           "Intel Core i5 (12th Gen)",
           "16 GB LP"
          ],
          [
           "Intel Core i3 (12th Gen)",
           "8 GB "
          ],
          [
           "Intel Core i3 (12th Gen)",
           "8 GB "
          ],
          [
           "Intel Core i7 (12th Gen)",
           "16 GB "
          ],
          [
           "Intel Core i3 (7th Gen)",
           "4 GB "
          ],
          [
           "Intel Core i5 (10th Gen)",
           "8 GB "
          ],
          [
           "Intel Core i3 (10th Gen)",
           "4 GB "
          ],
          [
           "Intel Core i3 (7th Gen)",
           "4 GB "
          ],
          [
           "Intel Celeron Dual-Core Processor",
           "4 GB "
          ],
          [
           "AMD Octa-Core Ryzen 7",
           "16 GB "
          ],
          [
           "Intel Core i5 (11th Gen)",
           "8 GB "
          ],
          [
           "Intel Core i5 (12th Gen)",
           "16 GB "
          ],
          [
           "AMD Hexa-Core Ryzen 5",
           "8 GB "
          ],
          [
           "Intel Core i5 (12th Gen)",
           "24 GB "
          ],
          [
           "AMD Octa-Core Ryzen 7",
           "16 GB LP"
          ],
          [
           "Intel Core Ultra 7",
           "32 GB LP"
          ],
          [
           "Intel Core i3 (12th Gen)",
           "8 GB "
          ],
          [
           "Intel Celeron Dual-Core",
           "8 GB "
          ],
          [
           "Intel Core i5 (8th Gen)",
           "8 GB "
          ],
          [
           "Intel Core i5 (11th Gen)",
           "16 GB "
          ],
          [
           "Intel Core i5 (11th Gen)",
           "8 GB "
          ],
          [
           "Intel Core i5 (12th Gen)",
           "8 GB "
          ],
          [
           "Intel Core i5 (8th Gen)",
           "8 GB "
          ],
          [
           "Intel Core i3 (11th Gen)",
           "8 GB "
          ],
          [
           "Intel Core i5 (5th Gen)",
           "4 GB "
          ],
          [
           "AMD Hexa-Core Ryzen 5 Processor",
           "8 GB "
          ],
          [
           "Intel Core i7 (11th Gen)",
           "16 GB "
          ],
          [
           "Intel Celeron Dual-Core Processor",
           "4 GB "
          ],
          [
           "Intel Core i5 (12th Gen)",
           "16 GB "
          ],
          [
           "Intel Core i5 (12th Gen)",
           "8 GB "
          ],
          [
           "AMD Dual-Core Athlon",
           "4 GB "
          ],
          [
           "Intel Core i3 (7th Gen)",
           "4 GB "
          ],
          [
           "Intel Core i3 (11th Gen)",
           "8 GB "
          ],
          [
           "Intel Core i5 (12th Gen)",
           "16 GB "
          ],
          [
           "Intel Core i5 (11th Gen)",
           "16 GB "
          ],
          [
           "Intel Core i9 (13th Gen)",
           "32 GB "
          ],
          [
           "AMD Octa-Core Ryzen 7",
           "8 GB "
          ],
          [
           "Intel Core i5 (11th Gen)",
           "8 GB "
          ],
          [
           "AMD Hexa-Core Ryzen 5",
           "16 GB "
          ],
          [
           "Intel Core i7 (13th Gen)",
           "32 GB "
          ],
          [
           "Intel Core i7 (13th Gen)",
           "16 GB "
          ],
          [
           "AMD Quad-Core Ryzen 5",
           "8 GB "
          ],
          [
           "AMD Hexa-Core Ryzen 5",
           "16 GB "
          ],
          [
           "AMD Hexa-Core Ryzen 5",
           "16 GB "
          ],
          [
           "Intel Core i3 (7th Gen)",
           "4 GB "
          ],
          [
           "AMD Hexa-Core Ryzen 5",
           "8 GB "
          ],
          [
           "AMD Hexa-Core Ryzen 5",
           "8 GB "
          ],
          [
           "Intel Core i3 (11th Gen)",
           "8 GB "
          ],
          [
           "Intel Core i3 (11th Gen)",
           "8 GB "
          ],
          [
           "Intel Core Ultra 7",
           "32 GB LP"
          ],
          [
           "Intel Core i5 (12th Gen)",
           "16 GB "
          ],
          [
           "Intel Core i7 (12th Gen)",
           "16 GB LP"
          ],
          [
           "Intel Core i3 (13th Gen)",
           "8 GB LP"
          ],
          [
           "Intel Core i3 (11th Gen)",
           "8 GB "
          ],
          [
           "Intel Core i5 (11th Gen)",
           "16 GB "
          ],
          [
           "Intel Core i7 (11th Gen)",
           "32 GB "
          ],
          [
           "AMD Octa-Core Ryzen 7",
           "16 GB "
          ],
          [
           "Intel Core i5 (11th Gen)",
           "8 GB "
          ],
          [
           "Intel Core i3 (8th Gen)",
           "4 GB "
          ],
          [
           "Intel Core Ultra 9",
           "32 GB LP"
          ],
          [
           "Intel Core i7 (13th Gen)",
           "16 GB LP"
          ],
          [
           "Intel Core i5 (11th Gen)",
           "8 GB "
          ],
          [
           "Intel Core i5 (11th Gen)",
           "8 GB "
          ],
          [
           "Intel Core i3 (12th Gen)",
           "8 GB "
          ],
          [
           "Intel Core i3 (11th Gen)",
           "8 GB "
          ],
          [
           "Intel Core i7 (12th Gen)",
           "16 GB "
          ],
          [
           "Intel Core i5 (11th Gen)",
           "16 GB "
          ],
          [
           "Intel Core i9 (12th Gen)",
           "32 GB "
          ],
          [
           "Intel Core i5 (11th Gen)",
           "16 GB "
          ],
          [
           "Intel Celeron Dual-Core",
           "8 GB "
          ],
          [
           "AMD Octa-Core Ryzen 7",
           "16 GB "
          ],
          [
           "AMD Dual-Core Athlon",
           "8 GB LP"
          ],
          [
           "Intel Celeron Dual-Core",
           "4 GB "
          ],
          [
           "Intel Core i5 (12th Gen)",
           "16 GB LP"
          ],
          [
           "AMD Quad-Core Ryzen 3",
           "8 GB LP"
          ],
          [
           "AMD Hexa-Core Ryzen 5",
           "8 GB "
          ],
          [
           "Intel Core i5 (10th Gen)",
           "4 GB "
          ],
          [
           "Intel Core i5 (10th Gen)",
           "8 GB "
          ],
          [
           "Intel Core i5 (10th Gen)",
           "8 GB "
          ],
          [
           "Intel Core i3 (10th Gen)",
           "4 GB "
          ],
          [
           "AMD Hexa-Core Ryzen 5",
           "8 GB "
          ],
          [
           "Intel Core i3 (10th Gen)",
           "8 GB "
          ],
          [
           "AMD Hexa-Core Ryzen 5",
           "8 GB "
          ],
          [
           "AMD Quad-Core Ryzen 3",
           "8 GB "
          ],
          [
           "AMD Hexa-Core Ryzen 5",
           "16 GB "
          ],
          [
           "Intel Core i5 (10th Gen)",
           "8 GB "
          ],
          [
           "AMD Hexa-Core Ryzen 5",
           "16 GB "
          ],
          [
           "Intel Core i5 (11th Gen)",
           "8 GB "
          ],
          [
           "Intel Core i3 (11th Gen)",
           "8 GB "
          ],
          [
           "AMD Hexa-Core Ryzen 5",
           "8 GB "
          ],
          [
           "Intel Core i3 (11th Gen)",
           "8 GB "
          ],
          [
           "AMD Quad-Core Ryzen 3",
           "8 GB "
          ],
          [
           "AMD Quad-Core Ryzen 5",
           "8 GB "
          ],
          [
           "Intel Core i5 (11th Gen)",
           "8 GB "
          ],
          [
           "Intel Core i3 (10th Gen)",
           "8 GB "
          ],
          [
           "Intel Core i5 (11th Gen)",
           "8 GB "
          ],
          [
           "AMD Quad-Core Ryzen 3",
           "8 GB "
          ],
          [
           "AMD Hexa-Core Ryzen 5",
           "16 GB "
          ],
          [
           "AMD Octa-Core Ryzen 7",
           "16 GB "
          ],
          [
           "Intel Core i7 (12th Gen)",
           "16 GB "
          ],
          [
           "Intel Core i5 (11th Gen)",
           "8 GB "
          ],
          [
           "Intel Core i3 (11th Gen)",
           "8 GB "
          ],
          [
           "Intel Core i5 (13th Gen)",
           "16 GB LP"
          ],
          [
           "Intel Core i5 (11th Gen)",
           "8 GB "
          ],
          [
           "Intel Core i3 (8th Gen)",
           "8 GB "
          ],
          [
           "Intel Core i5 (11th Gen)",
           "16 GB "
          ],
          [
           "AMD Octa-Core Ryzen 7",
           "16 GB "
          ],
          [
           "Intel Core i3 (11th Gen)",
           "8 GB "
          ],
          [
           "Intel Core i3 (11th Gen)",
           "8 GB "
          ],
          [
           "Intel Core i5 (11th Gen)",
           "8 GB "
          ],
          [
           "Intel Core i3 (11th Gen)",
           "8 GB "
          ],
          [
           "Intel Core i7 (13th Gen)",
           "16 GB LP"
          ],
          [
           "Intel Core i5 (13th Gen)",
           "16 GB LP"
          ],
          [
           "Intel Celeron Dual-Core",
           "8 GB "
          ],
          [
           "Intel Core i7 (13th Gen)",
           "16 GB LP"
          ],
          [
           "Intel Core i5 (11th Gen)",
           "8 GB "
          ],
          [
           "Intel Core i3 (6th Gen)",
           "4 GB "
          ],
          [
           "Intel Core i5 (12th Gen)",
           "8 GB "
          ],
          [
           "AMD Dual-Core Athlon",
           "8 GB "
          ],
          [
           "Intel Core i5 (11th Gen)",
           "16 GB "
          ],
          [
           "Intel Core i7 (8th Gen)",
           "8 GB "
          ],
          [
           "Intel Core i7 (12th Gen)",
           "16 GB "
          ],
          [
           "Intel Core i5 (11th Gen)",
           "8 GB "
          ],
          [
           "Intel Core i7 (10th Gen)",
           "8 GB "
          ],
          [
           "Intel Core i5 (11th Gen) Processor",
           "16 GB "
          ],
          [
           "Intel Core i5 (11th Gen)",
           "8 GB "
          ],
          [
           "Intel Core i7 (11th Gen)",
           "16 GB "
          ],
          [
           "Intel Core i3 (11th Gen)",
           "8 GB "
          ],
          [
           "Intel Core i5 (11th Gen)",
           "8 GB "
          ],
          [
           "AMD Octa-Core Ryzen 7",
           "16 GB "
          ],
          [
           "Intel Core i7 (13th Gen)",
           "16 GB LP"
          ],
          [
           "Intel Core i5 (8th Gen)",
           "8 GB "
          ],
          [
           "AMD Octa-Core Ryzen 7",
           "16 GB "
          ],
          [
           "Intel Core i5 (12th Gen)",
           "16 GB "
          ],
          [
           "Intel Core i5 (11th Gen)",
           "16 GB "
          ],
          [
           "Intel Core Ultra 5",
           "16 GB LP"
          ],
          [
           "Intel Core i5 (8th Gen)",
           "8 GB "
          ],
          [
           "Intel Core i3 (10th Gen) Processor",
           "8 GB "
          ],
          [
           "Intel Core i5 (8th Gen)",
           "8 GB "
          ],
          [
           "AMD Octa-Core Ryzen 7",
           "16 GB "
          ],
          [
           "Intel Core i3 (13th Gen)",
           "8 GB LP"
          ],
          [
           "AMD Octa-Core Ryzen 7",
           "16 GB LP"
          ],
          [
           "Intel Core i7 (10th Gen)",
           "8 GB "
          ],
          [
           "Intel Core i5 (12th Gen)",
           "16 GB LP"
          ],
          [
           "Intel Core i5 (11th Gen)",
           "16 GB "
          ],
          [
           "Intel Core i7 (10th Gen)",
           "8 GB "
          ],
          [
           "Intel Celeron Dual-Core",
           "4 GB "
          ],
          [
           "Intel Celeron Dual-Core",
           "8 GB "
          ],
          [
           "Intel Core i5 (12th Gen)",
           "16 GB LP"
          ],
          [
           "Intel Core i5 (11th Gen)",
           "8 GB "
          ],
          [
           "Intel Core i5 (11th Gen)",
           "16 GB "
          ],
          [
           "Intel Core 5 (Series 1)",
           "16 GB "
          ],
          [
           "Intel Core i3 (11th Gen)",
           "8 GB "
          ],
          [
           "AMD Quad-Core Ryzen 5",
           "8 GB LP"
          ],
          [
           "AMD Hexa-Core Ryzen 5",
           "16 GB "
          ],
          [
           "AMD Octa-Core Ryzen 7",
           "16 GB "
          ],
          [
           "AMD Quad-Core Ryzen 3",
           "8 GB "
          ],
          [
           "AMD Octa-Core Ryzen 7",
           "8 GB "
          ],
          [
           "AMD Octa-Core Ryzen 7",
           "8 GB "
          ],
          [
           "AMD Quad-Core Ryzen 3",
           "8 GB "
          ],
          [
           "AMD Octa-Core Ryzen 7",
           "16 GB "
          ],
          [
           "AMD Octa-Core Ryzen 7",
           "16 GB "
          ],
          [
           "Intel Core i7 (11th Gen)",
           "16 GB "
          ],
          [
           "AMD Octa-Core Ryzen 7",
           "16 GB LP"
          ],
          [
           "Intel Core i7 (13th Gen)",
           "16 GB LP"
          ],
          [
           "Intel Core i3 (12th Gen)",
           "8 GB "
          ],
          [
           "Intel Core i3 (12th Gen)",
           "8 GB LP"
          ],
          [
           "AMD Hexa-Core Ryzen 5",
           "16 GB LP"
          ],
          [
           "Intel Core i5 (9th Gen)",
           "8 GB "
          ],
          [
           "AMD Hexa-Core Ryzen 5",
           "16 GB "
          ],
          [
           "Intel Core i5 (9th Gen)",
           "8 GB "
          ],
          [
           "AMD Hexa-Core Ryzen 5",
           "16 GB "
          ],
          [
           "AMD Octa-Core Ryzen 7",
           "16 GB LP"
          ],
          [
           "Intel Core i5 (12th Gen)",
           "8 GB LP"
          ],
          [
           "AMD Hexa-Core Ryzen 5",
           "16 GB "
          ],
          [
           "Intel Core i7 (11th Gen)",
           "16 GB "
          ],
          [
           "Intel Core i3 (12th Gen)",
           "8 GB LP"
          ],
          [
           "Intel Core i3 (10th Gen)",
           "4 GB "
          ],
          [
           "Intel Core i3 (10th Gen)",
           "8 GB "
          ],
          [
           "AMD Octa-Core Ryzen 7",
           "32 GB "
          ],
          [
           "Intel Celeron Dual-Core",
           "8 GB "
          ],
          [
           "AMD Octa-Core Ryzen 7",
           "16 GB "
          ],
          [
           "Intel Core i3 (10th Gen)",
           "8 GB "
          ],
          [
           "AMD Dual-Core Ryzen 3",
           "8 GB "
          ],
          [
           "AMD Octa-Core Ryzen 7",
           "32 GB "
          ],
          [
           "Intel Core i3 (10th Gen)",
           "4 GB "
          ],
          [
           "AMD Hexa-Core Ryzen 5",
           "16 GB LP"
          ],
          [
           "Intel Core i3 (10th Gen)",
           "8 GB "
          ],
          [
           "Intel Core i3 (13th Gen)",
           "8 GB "
          ],
          [
           "Intel Core i5 (13th Gen)",
           "16 GB "
          ],
          [
           "Intel Core i5 (13th Gen)",
           "16 GB "
          ],
          [
           "AMD Octa-Core Ryzen 7",
           "16 GB "
          ],
          [
           "AMD Octa-Core Ryzen 7",
           "16 GB "
          ],
          [
           "AMD Hexa-Core Ryzen 5",
           "16 GB "
          ],
          [
           "AMD Octa-Core Ryzen 7",
           "16 GB "
          ],
          [
           "Intel Core i7 (11th Gen)",
           "16 GB "
          ],
          [
           "Intel Core i5 (12th Gen)",
           "16 GB "
          ],
          [
           "Intel Core i7 (12th Gen)",
           "16 GB "
          ],
          [
           "Intel Core i5 (12th Gen)",
           "8 GB "
          ],
          [
           "Intel Core i5 (12th Gen)",
           "16 GB "
          ],
          [
           "Intel Core i5 (12th Gen)",
           "8 GB "
          ],
          [
           "Intel Core i7 (12th Gen)",
           "16 GB "
          ],
          [
           "Intel Core i5 (12th Gen)",
           "8 GB "
          ],
          [
           "AMD Dual-Core Ryzen 3",
           "8 GB "
          ],
          [
           "AMD Octa-Core Ryzen 7",
           "16 GB "
          ],
          [
           "AMD Octa-Core Ryzen 7",
           "16 GB "
          ],
          [
           "Intel Core i5 (8th Gen)",
           "8 GB "
          ],
          [
           "AMD Octa-Core Ryzen 7",
           "16 GB "
          ],
          [
           "Intel Core i5 (10th Gen) Processor",
           "8 GB "
          ],
          [
           "AMD Quad-Core Ryzen 3",
           "8 GB LP"
          ],
          [
           "Intel Core i7 (11th Gen)",
           "16 GB "
          ],
          [
           "Intel Core i7 (13th Gen)",
           "16 GB LP"
          ],
          [
           "Intel Core i5 (7th Gen)",
           "8 GB "
          ],
          [
           "Intel Core i7 (13th Gen)",
           "16 GB LP"
          ],
          [
           "Intel Core i3 (12th Gen)",
           "8 GB "
          ],
          [
           "Intel Core i3 (11th Gen)",
           "8 GB "
          ],
          [
           "Intel Core i7 (12th Gen)",
           "16 GB LP"
          ],
          [
           "Intel Core i7 (13th Gen)",
           "16 GB LP"
          ],
          [
           "Intel Core i5 (7th Gen)",
           "8 GB "
          ],
          [
           "Intel Celeron Dual-Core",
           "4 GB "
          ],
          [
           "Intel Core i7 (11th Gen)",
           "16 GB LP"
          ],
          [
           "Intel Core i3 (11th Gen) Processor",
           "8 GB "
          ],
          [
           "Intel Core i5 (13th Gen)",
           "16 GB LP"
          ],
          [
           "Intel Core i3 (10th Gen)",
           "8 GB "
          ],
          [
           "Intel Celeron Dual-Core",
           "8 GB "
          ],
          [
           "Intel Core i7 (11th Gen)",
           "16 GB "
          ],
          [
           "Intel Core i7 (11th Gen)",
           "32 GB "
          ],
          [
           "Intel Core i7 (13th Gen) Processor",
           "16 GB LP"
          ],
          [
           "Intel Core i3 (12th Gen)",
           "8 GB "
          ],
          [
           "Intel Core i3 (12th Gen)",
           "8 GB "
          ],
          [
           "Intel Celeron Dual-Core",
           "4 GB LP"
          ],
          [
           "AMD Quad-Core Ryzen 3",
           "8 GB LP"
          ],
          [
           "AMD Quad-Core Ryzen 5",
           "8 GB "
          ],
          [
           "Intel Core i7 (11th Gen)",
           "16 GB "
          ],
          [
           "AMD Hexa-Core Ryzen 5",
           "16 GB LP"
          ],
          [
           "Intel Core i3 (11th Gen)",
           "8 GB "
          ],
          [
           "Intel Core i3 (10th Gen)",
           "4 GB "
          ],
          [
           "Intel Core i7 (13th Gen)",
           "16 GB LP"
          ],
          [
           "AMD Hexa-Core Ryzen 5",
           "16 GB LP"
          ],
          [
           "Intel Core i5 (11th Gen)",
           "8 GB LP"
          ],
          [
           "Intel Core i7 (11th Gen)",
           "16 GB "
          ],
          [
           "Intel Core i7 (11th Gen)",
           "16 GB "
          ],
          [
           "Intel Core i3 (11th Gen)",
           "8 GB "
          ],
          [
           "Intel Core i5 (11th Gen)",
           "8 GB "
          ],
          [
           "Intel Core i3 (11th Gen)",
           "8 GB "
          ],
          [
           "Intel Core i5 (11th Gen)",
           "8 GB "
          ],
          [
           "Intel Core i3 (11th Gen)",
           "8 GB "
          ],
          [
           "Intel Core i5 (11th Gen) Processor",
           "8 GB "
          ],
          [
           "Intel Core i7 (12th Gen)",
           "16 GB LP"
          ],
          [
           "Intel Core i5 (12th Gen)",
           "16 GB "
          ],
          [
           "Intel Core i5 (13th Gen)",
           "16 GB LP"
          ],
          [
           "Intel Core i5 (12th Gen)",
           "16 GB LP"
          ],
          [
           "AMD Octa-Core Ryzen 7",
           "16 GB LP"
          ],
          [
           "Intel Core i5 (11th Gen)",
           "16 GB "
          ],
          [
           "AMD Dual-Core Athlon",
           "4 GB "
          ],
          [
           "Intel Core i5 (11th Gen)",
           "8 GB "
          ],
          [
           "Intel Core i3 (13th Gen)",
           "8 GB "
          ],
          [
           "Intel Core i5 (13th Gen)",
           "16 GB LP"
          ],
          [
           "Intel Core i5 (13th Gen)",
           "16 GB "
          ],
          [
           "AMD Dual-Core Athlon",
           "4 GB "
          ],
          [
           "Intel Core i5 (11th Gen) Processor",
           "16 GB "
          ],
          [
           "AMD Dual-Core Athlon",
           "4 GB "
          ],
          [
           "Intel Core i3 (10th Gen)",
           "8 GB "
          ],
          [
           "Intel Core i3 (10th Gen)",
           "8 GB "
          ],
          [
           "Intel Core i5 (13th Gen)",
           "16 GB LP"
          ],
          [
           "AMD Hexa-Core Ryzen 5",
           "8 GB "
          ],
          [
           "AMD Quad-Core Ryzen 5",
           "16 GB LP"
          ],
          [
           "Intel Core i5 (13th Gen)",
           "16 GB "
          ],
          [
           "Intel Core i5 (10th Gen)",
           "8 GB "
          ],
          [
           "Intel Core i5 (10th Gen)",
           "8 GB "
          ],
          [
           "Intel Core i5 (10th Gen)",
           "8 GB "
          ],
          [
           "Intel Core i3 (10th Gen)",
           "8 GB "
          ],
          [
           "Intel Core i3 (10th Gen)",
           "8 GB "
          ],
          [
           "Intel Core i3 (11th Gen)",
           "8 GB "
          ],
          [
           "Intel Core i3 (11th Gen)",
           "4 GB "
          ],
          [
           "Intel Core i5 (11th Gen)",
           "8 GB "
          ],
          [
           "Intel Core i5 (12th Gen)",
           "16 GB LP"
          ],
          [
           "Intel Core i3 (13th Gen)",
           "8 GB LP"
          ],
          [
           "Intel Core i3 (11th Gen)",
           "8 GB "
          ],
          [
           "AMD Quad-Core Ryzen 5",
           "8 GB LP"
          ],
          [
           "AMD Hexa-Core Ryzen 5",
           "16 GB LP"
          ],
          [
           "Intel Core i5 (13th Gen)",
           "16 GB LP"
          ],
          [
           "Intel Core i3 (11th Gen)",
           "8 GB "
          ],
          [
           "AMD Hexa-Core Ryzen 5",
           "8 GB "
          ],
          [
           "Intel Core i5 (7th Gen)",
           "4 GB "
          ],
          [
           "Intel Core i3 (12th Gen)",
           "8 GB "
          ],
          [
           "AMD Hexa-Core Ryzen 5",
           "8 GB "
          ],
          [
           "Intel Core i3 (11th Gen)",
           "8 GB "
          ],
          [
           "AMD Hexa-Core Ryzen 5",
           "16 GB "
          ],
          [
           "AMD Hexa-Core Ryzen 5",
           "16 GB "
          ],
          [
           "Intel Core i5 (11th Gen) Processor",
           "8 GB "
          ],
          [
           "Intel Core i5 (12th Gen)",
           "16 GB LP"
          ],
          [
           "AMD Hexa-Core Ryzen 5",
           "8 GB "
          ],
          [
           "AMD Quad-Core Ryzen 3",
           "8 GB LP"
          ],
          [
           "Intel Core i3 (11th Gen)",
           "8 GB "
          ],
          [
           "Intel Core i5 (11th Gen)",
           "16 GB "
          ],
          [
           "AMD Hexa-Core Ryzen 5",
           "8 GB "
          ],
          [
           "AMD Octa-Core Ryzen 7",
           "16 GB LP"
          ],
          [
           "Intel Core i3 (10th Gen)",
           "8 GB "
          ],
          [
           "AMD Octa-Core Ryzen 7",
           "8 GB "
          ],
          [
           "AMD Octa-Core Ryzen 7",
           "16 GB LP"
          ],
          [
           "Intel Core i5 (11th Gen)",
           "16 GB LP"
          ],
          [
           "Intel Core i7 (11th Gen)",
           "16 GB LP"
          ],
          [
           "Intel Celeron Dual-Core",
           "4 GB LP"
          ],
          [
           "Intel Celeron Dual-Core",
           "4 GB LP"
          ],
          [
           "AMD Hexa-Core Ryzen 5",
           "8 GB "
          ],
          [
           "Intel Core i5 (11th Gen)",
           "16 GB "
          ],
          [
           "AMD Octa-Core Ryzen 7",
           "16 GB "
          ],
          [
           "Intel Celeron Dual-Core",
           "4 GB "
          ],
          [
           "AMD Octa-Core Ryzen 7",
           "16 GB "
          ],
          [
           "Intel Celeron Dual-Core",
           "8 GB "
          ],
          [
           "Intel Celeron Dual-Core",
           "4 GB "
          ],
          [
           "Intel Core i7 (12th Gen)",
           "16 GB LP"
          ],
          [
           "Intel Core i5 (13th Gen)",
           "16 GB LP"
          ],
          [
           "Intel Core i5 (10th Gen)",
           "16 GB "
          ]
         ],
         "hovertemplate": "Brand=Lenovo<br>Price=%{x}<br>Battery_Life_num=%{y}<br>Processor_Name=%{customdata[0]}<br>RAM=%{customdata[1]}<extra></extra>",
         "legendgroup": "Lenovo",
         "marker": {
          "color": "#FFA15A",
          "symbol": "circle"
         },
         "mode": "markers",
         "name": "Lenovo",
         "showlegend": true,
         "type": "scattergl",
         "x": [
          0.02734422262552934,
          0.08247630570679572,
          0.07783827384553338,
          0.12401693889897157,
          0.08370639241782618,
          0.02278886872353297,
          0.2762653760838879,
          0.03125630167372454,
          0.02855414398064126,
          0.0885259124823553,
          0.038646904617866504,
          0.07572091147408752,
          0.1091470054446461,
          0.025335753176043557,
          0.0300645291389393,
          0.034281105061504336,
          0.027888687235329702,
          0.14790078644888083,
          0.04073401895543456,
          0.02661826981246219,
          0.27223230490018147,
          0.04033071183706392,
          0.04841701956039524,
          0.03226456946965114,
          0.11606573906029441,
          0.08671103044968743,
          0.11395240976003226,
          0.11223028836458963,
          0.02016535591853196,
          0.02016535591853196,
          0.11897559991933858,
          0.06452913893930227,
          0.11395442629562412,
          0.12502520669489817,
          0.02621496269409155,
          0.11292599314377899,
          0.04436378302077032,
          0.15932446057672917,
          0.02016535591853196,
          0.23593466424682397,
          0.1153901996370236,
          0.05028634805404315,
          0.14720709820528333,
          0.05847953216374269,
          0.13107481347045774,
          0.08267795926598104,
          0.021980237951199837,
          0.06051623311151442,
          0.14922363379713652,
          0.08368622706190765,
          0.14519056261343014,
          0.24400080661423673,
          0.03750756200846945,
          0.14922363379713652,
          0.057229280096793705,
          0.11294615849969752,
          0.03303286953014721,
          0.1436842105263158,
          0.20367009477717282,
          0.20165355918531963,
          0.13107481347045774,
          0.060496067755595885,
          0.04638031861262351,
          0.05950393224440411,
          0.07461181689856826,
          0.038314176245210725,
          0.14922363379713652,
          0.04033071183706392,
          0.028251663641863278,
          0.038314176245210725,
          0.0524299253881831,
          0.030046380318612623,
          0.04216374269005848,
          0.11292599314377899,
          0.034281105061504336,
          0.0796592054849768,
          0.14720709820528333,
          0.04839685420447671,
          0.12502520669489817,
          0.0456483161927808,
          0.08469449485783424,
          0.05231094978826376,
          0.18148820326678766,
          0.13510788465416415,
          0.12280701754385964,
          0.17745513208308128,
          0.0524299253881831,
          0.043758822343214356,
          0.07864488808227466,
          0.05948779995966929,
          0.0544464609800363,
          0.07562008469449485,
          0.04638031861262351,
          0.05041338979632991,
          0.07461181689856826,
          0.07824158096390402,
          0.031177656785642268,
          0.07158701351078847,
          0.09578544061302682,
          0.11899576527525711,
          0.16940713853599515,
          0.0544464609800363,
          0.23774954627949182,
          0.0924299253881831,
          0.1572897761645493,
          0.1068763863682194,
          0.1542649727767695,
          0.05747126436781609,
          0.08066142367412785,
          0.060496067755595885,
          0.14317402702157694,
          0.05648114539221617,
          0.10990118975599919,
          0.09040129058277879,
          0.06856221012300867,
          0.102843315184513,
          0.06452913893930227,
          0.15870135107884653,
          0.03226456946965114,
          0.09479733817301875,
          0.1068763863682194,
          0.05605968945351886,
          0.11294414196410567,
          0.04638031861262351,
          0.1673724541238153,
          0.1151441822948175,
          0.0524299253881831,
          0.1048598507763662,
          0.12502520669489817,
          0.6362169792296835,
          0.16535591853196208,
          0.07562008469449485,
          0.14418229481750353,
          0.11292599314377899,
          0.1512401693889897,
          0.23190159306311756,
          0.09477717281710023,
          0.05747126436781609,
          0.05928614640048397,
          0.10082677959265982,
          0.05847953216374269,
          0.05214156079854809,
          0.030250050413389795,
          0.04636015325670498,
          0.03611615245009074,
          0.19157088122605365,
          0.1436963097398669,
          0.1611211937890704,
          0.05605968945351886,
          0.11581367211131277,
          0.13914095583787053,
          0.3448275862068966,
          0.0544464609800363,
          0.030046380318612623,
          0.05028634805404315,
          0.10887275660415406,
          0.09477717281710023,
          0.09477717281710023,
          0.10082677959265982,
          0.05466827989514015,
          0.0695906432748538,
          0.08535793506755394,
          0.14115749142972372,
          0.03226456946965114,
          0.10082677959265982,
          0.07864488808227466,
          0.03238556160516233,
          0.03618673119580561,
          0.04841500302480339,
          0.15527324057269612,
          0.1068763863682194,
          0.8913087315991127,
          0.11494252873563218,
          0.08451300665456746,
          0.12000403307118371,
          0.33272837265577737,
          0.32665456745311555,
          0.10082677959265982,
          0.11494252873563218,
          0.11494252873563218,
          0.031276467029643075,
          0.10669489816495262,
          0.10990118975599919,
          0.05466827989514015,
          0.04839685420447671,
          0.46581972171808833,
          0.21234119782214156,
          0.1684008872756604,
          0.07662835249042145,
          0.05910264166162533,
          0.06654567453115548,
          0.24601734220608995,
          0.15208913087315992,
          0.09074410163339383,
          0.06452913893930227,
          0.3448275862068966,
          0.15366001209921354,
          0.15395240976003227,
          0.06654567453115548,
          0.05545472877596289,
          0.05224843718491631,
          0.1048598507763662,
          0.08671103044968743,
          1,
          0.08267795926598104,
          0.034281105061504336,
          0.18148820326678766,
          0.04234724742891712,
          0.02621496269409155,
          0.09881024400080661,
          0.05335753176043557,
          0.12461988304093567,
          0.05028634805404315,
          0.07057874571486186,
          0.10891308731599113,
          0.047388586408550114,
          0.052331115144182296,
          0.06636216979229684,
          0.07057874571486186,
          0.06856221012300867,
          0.10082677959265982,
          0.08671103044968743,
          0.12663843516838072,
          0.08405122000403308,
          0.056462996571889496,
          0.07703165960879209,
          0.06452913893930227,
          0.04496874369832628,
          0.061423674127848354,
          0.08671103044968743,
          0.06353901996370236,
          0.07967332123411978,
          0.04335551522484372,
          0.09679370840895342,
          0.1512401693889897,
          0.1613228473482557,
          0.08671103044968743,
          0.055474894131881426,
          0.11897559991933858,
          0.1240371042548901,
          0.14962694091550716,
          0.09046985279290179,
          0.06654567453115548,
          0.07662835249042145,
          0.04942528735632184,
          0.08151038515829805,
          0.06343617664851785,
          0.1451703972575116,
          0.12300867110304498,
          0.03528937285743093,
          0.20407340189554346,
          0.10183504738858641,
          0.0423653962492438,
          0.08025811655575721,
          0.034684412179874974,
          0.10467836257309941,
          0.13015325670498085,
          0.14922363379713652,
          0.09076426698931236,
          0.1048598507763662,
          0.14519056261343014,
          0.09076426698931236,
          0.22585198628755798,
          0.06654567453115548,
          0.11897559991933858,
          0.08671103044968743,
          0.15769308328291995,
          0.10133897963299052,
          0.13409961685823754,
          0.09679370840895342,
          0.12300867110304498,
          0.18753781004234724,
          0.10032466223028837,
          0.052437991530550516,
          0.09477717281710023,
          0.08267795926598104,
          0.0729985884250857,
          0.16333938294010888,
          0.13309134906231096,
          0.12504335551522483,
          0.11395442629562412,
          0.2581347045775358,
          0.03191974188344424,
          0.040129058277878604,
          0.1088929219600726,
          0.12665860052429925,
          0.12504335551522483,
          0.11494252873563218,
          0.05827787860455737,
          0.0544464609800363,
          0.07057874571486186,
          0.07461181689856826,
          0.056462996571889496,
          0.08348457350272233,
          0.07057874571486186,
          0.046098003629764066,
          0.08164952611413591,
          0.08166969147005444,
          0.15224843718491632,
          0.13512805001008268,
          0.19560395240976003,
          0.06374269005847953,
          0.11254285138132689,
          0.15509175236942932,
          0.18350473885864085,
          0.06251260334744908,
          0.07824964710627143,
          0.09759830611010284,
          0.11494252873563218,
          0.1088929219600726,
          0.060496067755595885,
          0.19683403912079048,
          0.1014519056261343,
          0.04035087719298246,
          0.04379310344827586,
          0.3831417624521073,
          0.036297640653357534,
          0.205686630369026,
          0.05847953216374269,
          0.047713248638838475,
          0.308529945553539,
          0.06253075216777576,
          0.12099213551119177,
          0.056462996571889496,
          0.06654567453115548,
          0.0998185117967332,
          0.102843315184513,
          0.21175438596491228,
          0.18518854607783827,
          0.07057874571486186,
          0.22405726961080863,
          0.205686630369026,
          0.13309134906231096,
          0.18350473885864085,
          0.12101028433151845,
          0.13069167170800564,
          0.12099213551119177,
          0.17342206089937487,
          0.11697721314781206,
          0.047912885662431945,
          0.17140552530752168,
          0.14115749142972372,
          0.09074410163339383,
          0.21980237951199838,
          0.11092760637225248,
          0.0524299253881831,
          0.18854607783827385,
          0.2323049001814882,
          0.132472272635612,
          0.4379915305505142,
          0.08267795926598104,
          0.06654567453115548,
          0.22585198628755798,
          0.33817301875378103,
          0.1274148013712442,
          0.03631578947368421,
          0.24401895543456342,
          0.09477717281710023,
          0.14922363379713652,
          0.0544464609800363,
          0.03631578947368421,
          0.2863480540431539,
          0.32667876588021777,
          0.21415607985480944,
          0.07866303690260133,
          0.05748941318814277,
          0.022200040330711837,
          0.05041338979632991,
          0.06390199637023593,
          0.1607360354910264,
          0.1048598507763662,
          0.08470457753579351,
          0.0524299253881831,
          0.17180883242589232,
          0.12341197822141561,
          0.1835249042145594,
          0.3226658600524299,
          0.16134099616858238,
          0.0968118572292801,
          0.1250453720508167,
          0.07864488808227466,
          0.12907642669893124,
          0.06856221012300867,
          0.1534502923976608,
          0.23593466424682397,
          0.12625529340592861,
          0.14519056261343014,
          0.1088929219600726,
          0.12502520669489817,
          0.11092760637225248,
          0.030248033877797943,
          0.09478523895946764,
          0.102843315184513,
          0.12300867110304498,
          0.12805001008267797,
          0.03429925388183101,
          0.10244000806614237,
          0.028822343214357733,
          0.05384150030248034,
          0.05988909054244807,
          0.12401693889897157,
          0.0570659407138536,
          0.07158701351078847,
          0.13914095583787053,
          0.102843315184513,
          0.09477717281710023,
          0.08673119580560597,
          0.061222020568663035,
          0.05065739060294414,
          0.09679370840895342,
          0.06957047791893527,
          0.15730994152046784,
          0.09074410163339383,
          0.06192780802581165,
          0.06550715870135108,
          0.06170598911070781,
          0.1334946561806816,
          0.09953619681387377,
          0.06434765073603549,
          0.15730792498487597,
          0.08541439806412583,
          0.051744303286953015,
          0.09881024400080661,
          0.05224843718491631,
          0.08913087315991128,
          0.09190562613430127,
          0.07057874571486186,
          0.09054244807420851,
          0.10871143375680581,
          0.05021173623714459,
          0.05224843718491631,
          0.24502923976608187,
          0.08047993547086106,
          0.16033474490824762,
          0.08672917927001411,
          0.15730792498487597,
          0.14115749142972372,
          0.11496067755595886,
          0.22585198628755798,
          0.02823956442831216,
          0.03722524702561,
          0.06250655374067353,
          0.1129340592861464,
          0.08894938495664448,
          0.036297640653357534,
          0.09074410163339383,
          0.03712240371042549,
          0.03932244404113733,
          0.2527505545472878,
          0.11695704779189353,
          0.29727969348659006
         ],
         "xaxis": "x",
         "y": [
          3,
          4,
          4,
          4,
          4,
          4,
          4,
          4,
          4,
          4,
          4,
          4,
          4,
          4,
          4,
          4,
          4,
          4,
          4,
          4,
          4,
          4,
          4,
          4.5,
          4.5,
          4.5,
          4.5,
          4.5,
          4.5,
          4.5,
          4.5,
          4.5,
          4.5,
          4.5,
          4.5,
          4.5,
          5,
          5,
          5,
          5,
          5,
          5,
          5,
          5,
          5,
          5,
          5,
          5,
          5,
          5,
          5,
          5,
          5,
          5,
          5,
          5,
          5,
          5,
          5,
          5,
          5,
          5,
          5,
          5,
          5,
          5,
          5,
          5,
          5,
          5,
          5,
          5,
          5,
          5,
          5,
          5,
          5,
          5,
          5,
          5,
          5.3,
          5.3,
          5.32,
          5.32,
          5.32,
          5.32,
          5.5,
          5.5,
          5.5,
          5.5,
          5.5,
          5.5,
          5.5,
          5.5,
          5.5,
          5.5,
          5.5,
          5.8,
          5.8,
          5.9,
          6,
          6,
          6,
          6,
          6,
          6,
          6,
          6,
          6,
          6,
          6,
          6,
          6,
          6,
          6,
          6,
          6,
          6,
          6,
          6,
          6,
          6,
          6,
          6,
          6,
          6,
          6,
          6,
          6,
          6,
          6,
          6,
          6,
          6,
          6,
          6,
          6,
          6,
          6,
          6,
          6,
          6,
          6,
          6,
          6,
          6,
          6,
          6,
          6,
          6,
          6,
          6,
          6,
          6,
          6,
          6,
          6,
          6,
          6,
          6,
          6,
          6,
          6,
          6,
          6,
          6,
          6,
          6,
          6,
          6,
          6,
          6.5,
          6.5,
          6.5,
          6.5,
          6.5,
          6.5,
          6.5,
          6.5,
          6.5,
          6.5,
          6.7,
          6.7,
          7,
          7,
          7,
          7,
          7,
          7,
          7,
          7,
          7,
          7,
          7,
          7,
          7,
          7,
          7,
          7,
          7,
          7,
          7,
          7,
          7,
          7,
          7,
          7,
          7,
          7,
          7,
          7,
          7.1,
          7.3,
          7.3,
          7.3,
          7.3,
          7.5,
          7.5,
          7.5,
          7.5,
          7.5,
          7.5,
          7.5,
          7.5,
          7.5,
          7.5,
          7.5,
          7.5,
          7.5,
          7.5,
          7.5,
          7.5,
          7.5,
          7.8,
          7.8,
          8,
          8,
          8,
          8,
          8,
          8,
          8,
          8,
          8,
          8,
          8,
          8,
          8,
          8,
          8,
          8,
          8,
          8,
          8,
          8,
          8,
          8,
          8,
          8,
          8,
          8,
          8,
          8,
          8,
          8,
          8,
          8,
          8,
          8,
          8,
          8,
          8,
          8,
          8,
          8,
          8,
          8,
          8,
          8,
          8,
          8,
          8,
          8,
          8,
          8,
          8,
          8,
          8,
          8.5,
          8.7,
          8.8,
          8.8,
          8.8,
          8.8,
          8.8,
          8.8,
          8.8,
          8.8,
          8.9,
          9,
          9,
          9,
          9,
          9,
          9,
          9,
          9,
          9,
          9,
          9,
          9,
          9,
          9,
          9,
          9,
          9,
          9,
          9,
          9,
          9,
          9,
          9,
          9,
          9,
          9.15,
          9.15,
          9.15,
          9.2,
          9.2,
          9.22,
          9.29,
          9.3,
          9.4,
          9.4,
          9.4,
          9.4,
          9.4,
          9.4,
          9.4,
          9.5,
          9.5,
          9.5,
          9.5,
          9.7,
          9.7,
          9.86,
          10,
          10,
          10,
          10,
          10,
          10,
          10,
          10,
          10,
          10,
          10,
          10,
          10,
          10,
          10,
          10,
          10,
          10,
          10,
          10,
          10,
          10,
          10,
          10,
          10,
          10,
          10,
          10,
          10,
          10.4,
          10.7,
          10.7,
          10.8,
          10.8,
          10.8,
          10.8,
          10.8,
          10.8,
          10.9,
          11,
          11,
          11,
          11,
          11,
          11,
          11,
          11,
          11,
          11,
          11,
          11,
          11,
          11,
          11,
          11,
          11,
          11,
          11,
          11.1,
          11.1,
          11.5,
          11.5,
          11.5,
          11.9,
          11.9,
          11.9,
          12,
          12,
          12,
          12,
          12,
          12,
          12,
          12,
          12,
          12,
          12,
          12,
          12,
          12,
          12,
          12,
          12,
          12,
          12,
          12.1,
          12.38,
          12.5,
          12.8,
          12.8,
          13,
          13,
          13,
          13,
          13,
          14,
          14,
          14,
          14,
          14,
          14,
          14,
          14,
          15.5,
          16
         ],
         "yaxis": "y"
        },
        {
         "customdata": [
          [
           "Intel Core i3 (11th Gen) Processor",
           "8 GB LP"
          ],
          [
           "Intel Core i3 (12th Gen) Processor",
           "8 GB "
          ],
          [
           "Intel Pentium Quad-Core",
           "4 GB "
          ],
          [
           "Intel Core i3 (11th Gen) Processor",
           "4 GB "
          ],
          [
           "AMD Quad-Core Ryzen 5",
           "4 GB "
          ],
          [
           "Intel Core i5 (8th Gen)",
           "16 GB "
          ],
          [
           "Intel Core i5 (13th Gen)",
           "8 GB "
          ],
          [
           "AMD Quad-Core Ryzen 5",
           "8 GB "
          ],
          [
           "Intel Core i7 (8th Gen)",
           "8 GB "
          ],
          [
           "Intel Core i7 (8th Gen)",
           "16 GB "
          ],
          [
           "AMD Dual-Core A4 APU",
           "4 GB "
          ],
          [
           "AMD Dual-Core APU",
           "4 GB "
          ],
          [
           "AMD Dual-Core A4 APU",
           "4 GB "
          ],
          [
           "Intel Celeron Dual-Core",
           "2 GB "
          ],
          [
           "Intel Core i7 (14th Gen)",
           "16 GB "
          ],
          [
           "Intel Core i7 (11th Gen)",
           "16 GB "
          ],
          [
           "Intel Core i7 (7th Gen)",
           "8 GB "
          ],
          [
           "Intel Core i5 (13th Gen)",
           "16 GB "
          ],
          [
           "Intel Core i9 (14th Gen)",
           "16 GB "
          ],
          [
           "Intel Core i3 (7th Gen)",
           "4 GB "
          ],
          [
           "Intel Core i7 (7th Gen)",
           "16 GB "
          ],
          [
           "Intel Core i5 (9th Gen)",
           "16 GB "
          ],
          [
           "Intel Celeron Dual-Core",
           "2 GB "
          ],
          [
           "Intel Core i7 (9th Gen)",
           "16 GB "
          ],
          [
           "Intel Pentium Quad-Core",
           "4 GB "
          ],
          [
           "Intel Core i3 (12th Gen)",
           "8 GB "
          ],
          [
           "Intel Core i7 (11th Gen) Processor",
           "16 GB "
          ],
          [
           "Intel Core i7 (13th Gen)",
           "16 GB "
          ],
          [
           "Intel Core i9 (11th Gen)",
           "16 GB "
          ],
          [
           "Intel Core i5 (7th Gen)",
           "16 GB "
          ],
          [
           "Intel Pentium Quad-Core",
           "4 GB "
          ],
          [
           "Intel Core i3 (7th Gen)",
           "4 GB "
          ],
          [
           "Intel Core i5 (7th Gen)",
           "8 GB "
          ],
          [
           "Intel Core i3 (6th Gen)",
           "4 GB "
          ],
          [
           "Intel Pentium Quad-Core",
           "4 GB "
          ],
          [
           "Intel Pentium Quad-Core",
           "4 GB "
          ],
          [
           "Intel Pentium Quad-Core",
           "4 GB "
          ],
          [
           "Intel Pentium Quad-Core",
           "4 GB "
          ],
          [
           "Intel Core i3 (7th Gen)",
           "4 GB "
          ],
          [
           "Intel Core i5 (7th Gen)",
           "8 GB "
          ],
          [
           "Intel Core i5 (7th Gen)",
           "8 GB "
          ],
          [
           "Intel Core i3 (8th Gen)",
           "4 GB "
          ],
          [
           "Intel Pentium Dual-Core",
           "4 GB "
          ],
          [
           "Intel Core i5 (7th Gen)",
           "8 GB "
          ],
          [
           "Intel Core i5 (8th Gen)",
           "8 GB "
          ],
          [
           "Intel Core i5 (8th Gen)",
           "8 GB "
          ],
          [
           "Intel Core i5 (7th Gen)",
           "8 GB "
          ],
          [
           "Intel Core i5 (8th Gen)",
           "8 GB "
          ],
          [
           "Intel Core i7 (10th Gen) Processor",
           "16 GB "
          ],
          [
           "Intel Core i5 (8th Gen)",
           "8 GB "
          ],
          [
           "Intel Pentium Dual-Core",
           "4 GB "
          ],
          [
           "AMD Octa-Core Ryzen 7 Processor",
           "16 GB "
          ],
          [
           "Intel Core i3 (12th Gen)",
           "8 GB "
          ],
          [
           "Intel Core i5 (8th Gen)",
           "8 GB "
          ],
          [
           "AMD Octa-Core Ryzen 7 Processor",
           "16 GB "
          ],
          [
           "AMD Octa-Core Ryzen 7",
           "16 GB "
          ],
          [
           "Intel Core i5 (8th Gen)",
           "16 GB "
          ],
          [
           "Intel Core i5 (7th Gen)",
           "8 GB "
          ],
          [
           "Intel Core i5 (8th Gen)",
           "8 GB "
          ],
          [
           "Intel Core i5 (8th Gen)",
           "8 GB "
          ],
          [
           "Intel Core i5 (11th Gen)",
           "8 GB "
          ],
          [
           "Intel Core i5 (8th Gen)",
           "8 GB LP"
          ],
          [
           "AMD Dual-Core Athlon",
           "8 GB "
          ],
          [
           "Intel Core i7 (7th Gen)",
           "8 GB LP"
          ],
          [
           "Intel Core i3 (6th Gen)",
           "4 GB "
          ],
          [
           "Intel Core i5 (8th Gen)",
           "8 GB "
          ],
          [
           "Intel Core i5 (6th Gen)",
           "4 GB "
          ],
          [
           "Intel Core i3 (8th Gen)",
           "4 GB "
          ],
          [
           "Intel Core i5 (8th Gen)",
           "8 GB "
          ],
          [
           "Intel Core i7 (8th Gen)",
           "8 GB "
          ],
          [
           "Intel Core i3 (11th Gen)",
           "8 GB "
          ],
          [
           "Intel Pentium Quad-Core",
           "4 GB "
          ],
          [
           "AMD Quad-Core Ryzen 5",
           "8 GB "
          ],
          [
           "AMD Quad-Core Ryzen 5",
           "8 GB "
          ],
          [
           "Intel Core i5 (11th Gen) Processor",
           "8 GB "
          ],
          [
           "Intel Core i5 (7th Gen)",
           "8 GB "
          ],
          [
           "Intel Core i5 (7th Gen)",
           "8 GB "
          ],
          [
           "Intel Core i7 (9th Gen)",
           "8 GB "
          ],
          [
           "Intel Core i3 (12th Gen)",
           "8 GB LP"
          ],
          [
           "Intel Core i5 (11th Gen)",
           "4 GB "
          ],
          [
           "Intel Core i3 (12th Gen)",
           "8 GB LP"
          ],
          [
           "Intel Core i5 (11th Gen)",
           "8 GB "
          ],
          [
           "Intel Core i5 (12th Gen)",
           "16 GB "
          ],
          [
           "Intel Core i5 (10th Gen)",
           "8 GB "
          ],
          [
           "Intel Core i3 (11th Gen) Processor",
           "4 GB "
          ],
          [
           "Intel Core i5 (7th Gen)",
           "8 GB "
          ],
          [
           "Intel Core i5 (11th Gen)",
           "8 GB "
          ],
          [
           "Intel Core i3 (11th Gen)",
           "4 GB "
          ],
          [
           "Intel Core i3 (11th Gen)",
           "8 GB "
          ],
          [
           "Intel Core i5 (8th Gen)",
           "8 GB "
          ],
          [
           "AMD Dual-Core Athlon",
           "4 GB "
          ],
          [
           "Intel Core i5 (11th Gen) Processor",
           "8 GB "
          ],
          [
           "Intel Core i3 (6th Gen)",
           "4 GB "
          ],
          [
           "Intel Core i3 (6th Gen)",
           "4 GB "
          ],
          [
           "Intel Core i5 (8th Gen)",
           "8 GB "
          ],
          [
           "Intel Core i5 (11th Gen) Processor",
           "8 GB "
          ],
          [
           "AMD Dual-Core Athlon",
           "4 GB "
          ],
          [
           "Intel Core i5 (11th Gen)",
           "8 GB "
          ],
          [
           "Intel Core i5 (11th Gen)",
           "8 GB "
          ],
          [
           "Intel Core i5 (11th Gen) Processor",
           "8 GB "
          ],
          [
           "AMD Dual-Core Athlon",
           "4 GB "
          ],
          [
           "AMD Hexa-Core Ryzen 5",
           "8 GB "
          ],
          [
           "Intel Core i5 (8th Gen)",
           "4 GB "
          ],
          [
           "AMD Hexa-Core Ryzen 5",
           "16 GB "
          ],
          [
           "AMD Dual-Core Athlon",
           "4 GB "
          ],
          [
           "AMD Quad-Core Ryzen 5",
           "8 GB "
          ],
          [
           "Intel Core i5 (11th Gen)",
           "16 GB "
          ],
          [
           "AMD Octa-Core Ryzen 7 Processor",
           "16 GB "
          ],
          [
           "Intel Core i5 (8th Gen)",
           "4 GB "
          ],
          [
           "AMD Hexa-Core Ryzen 5 Processor",
           "16 GB "
          ],
          [
           "Intel Core i5 (12th Gen)",
           "16 GB LP"
          ],
          [
           "Intel Core i5 (8th Gen)",
           "8 GB "
          ],
          [
           "Intel Core i5 (8th Gen)",
           "8 GB "
          ],
          [
           "AMD Octa-Core Ryzen 7 Processor",
           "8 GB "
          ],
          [
           "AMD Hexa-Core Ryzen 5",
           "8 GB "
          ],
          [
           "Intel Core i5 (8th Gen)",
           "8 GB "
          ],
          [
           "AMD Octa-Core Ryzen 7",
           "16 GB "
          ],
          [
           "Intel Core i3 (10th Gen)",
           "4 GB "
          ],
          [
           "Intel Core i7 (9th Gen)",
           "8 GB "
          ],
          [
           "Intel Core i3 (10th Gen)",
           "4 GB "
          ],
          [
           "Intel Core i5 (11th Gen)",
           "16 GB LP"
          ],
          [
           "Intel Core i5 (12th Gen)",
           "8 GB "
          ],
          [
           "Intel Core i5 (9th Gen)",
           "8 GB "
          ],
          [
           "Intel Core i5 (9th Gen)",
           "8 GB "
          ],
          [
           "AMD Quad-Core Ryzen 5",
           "8 GB "
          ],
          [
           "AMD Dual-Core Ryzen 3",
           "8 GB "
          ],
          [
           "AMD Quad-Core Ryzen 5",
           "8 GB "
          ],
          [
           "Intel Core i3 (11th Gen) Processor",
           "8 GB "
          ],
          [
           "AMD Hexa-Core Ryzen 5 Processor",
           "16 GB "
          ],
          [
           "Intel Core i5 (11th Gen)",
           "8 GB "
          ],
          [
           "Intel Core i3 (11th Gen) Processor",
           "4 GB "
          ],
          [
           "Intel Core i3 (6th Gen)",
           "4 GB "
          ],
          [
           "Intel Core i7 (11th Gen)",
           "16 GB "
          ],
          [
           "AMD Octa-Core Ryzen 7",
           "16 GB LP"
          ],
          [
           "Intel Core i5 (11th Gen)",
           "8 GB LP"
          ]
         ],
         "hovertemplate": "Brand=Acer<br>Price=%{x}<br>Battery_Life_num=%{y}<br>Processor_Name=%{customdata[0]}<br>RAM=%{customdata[1]}<extra></extra>",
         "legendgroup": "Acer",
         "marker": {
          "color": "#19d3f3",
          "symbol": "circle"
         },
         "mode": "markers",
         "name": "Acer",
         "showlegend": true,
         "type": "scattergl",
         "x": [
          0.0524299253881831,
          0.05041338979632991,
          0.021113127646702964,
          0.05245009074410163,
          0.05554345634200444,
          0.23795119983867716,
          0.1464367816091954,
          0.09276063722524702,
          0.14519056261343014,
          0.21677757612421858,
          0.023795119983867716,
          0.023190159306311756,
          0.022847348255696714,
          0.018148820326678767,
          0.2520850978019762,
          0.16586610203670094,
          0.16134099616858238,
          0.09881024400080661,
          0.34686227061907643,
          0.05244807420850978,
          0.22788667069973784,
          0.14519056261343014,
          0.01613228473482557,
          0.13840895341802784,
          0.02621496269409155,
          0.05041338979632991,
          0.18089332526719096,
          0.2863480540431539,
          0.24601734220608995,
          0.205686630369026,
          0.030266182698124623,
          0.04234724742891712,
          0.11294414196410567,
          0.03833232506553741,
          0.036297640653357534,
          0.033857632587215164,
          0.029441419641056666,
          0.03228271828997782,
          0.036297640653357534,
          0.1452087114337568,
          0.09815688646904618,
          0.045109901189755996,
          0.030804597701149426,
          0.10570074611816899,
          0.1569066344020972,
          0.06654567453115548,
          0.06654567453115548,
          0.054464609800362974,
          0.14500907441016334,
          0.07664650131074814,
          0.03351482153660012,
          0.06856221012300867,
          0.04841500302480339,
          0.10084492841298649,
          0.07461181689856826,
          0.07462996571889494,
          0.1613228473482557,
          0.04972978423069167,
          0.08527727364387981,
          0.08497882637628554,
          0.08267795926598104,
          0.08794716676749345,
          0.039725751159507966,
          0.15974389997983465,
          0.08671103044968743,
          0.08469449485783424,
          0.06856221012300867,
          0.0544464609800363,
          0.06452913893930227,
          0.17196007259528132,
          0.04781004234724743,
          0.0423653962492438,
          0.07259528130671507,
          0.06178866706997378,
          0.13452107279693487,
          0.06838072191974189,
          0.07039725751159508,
          0.08961685823754789,
          0.07644686428715466,
          0.08973583383746724,
          0.06856221012300867,
          0.07303085299455535,
          0.09580560596894536,
          0.08370639241782618,
          0.062016535591853196,
          0.10465819721718088,
          0.07098406936882436,
          0.049019963702359344,
          0.04585400282314983,
          0.058449284129864894,
          0.038314176245210725,
          0.10082677959265982,
          0.05847953216374269,
          0.0544464609800363,
          0.1048598507763662,
          0.09477717281710023,
          0.03111514418229482,
          0.08168784029038112,
          0.08249445452712241,
          0.06067553942327082,
          0.0300645291389393,
          0.12502520669489817,
          0.05632990522282718,
          0.08066142367412785,
          0.06454728775962895,
          0.10082677959265982,
          0.10875176446864288,
          0.24601734220608995,
          0.07160717886670699,
          0.16839887074006857,
          0.09147207098205283,
          0.11494252873563218,
          0.11897559991933858,
          0.17543859649122806,
          0.08368622706190765,
          0.09054446460980037,
          0.17140552530752168,
          0.039897156684815485,
          0.12502520669489817,
          0.039897156684815485,
          0.12282516636418633,
          0.07057874571486186,
          0.09578544061302682,
          0.1048598507763662,
          0.09477717281710023,
          0.04839685420447671,
          0.06051421657592256,
          0.060294414196410566,
          0.09881024400080661,
          0.08390602944141964,
          0.047388586408550114,
          0.05849768098406937,
          0.07057874571486186,
          0.18552127445049404,
          0.1336963097398669
         ],
         "xaxis": "x",
         "y": [
          3,
          4,
          4,
          4,
          4.5,
          5,
          5,
          5,
          5,
          5,
          5.5,
          5.5,
          5.5,
          5.5,
          6,
          6,
          6,
          6,
          6,
          6,
          6,
          6,
          6,
          6,
          6,
          6,
          6,
          6,
          6,
          6,
          6.5,
          6.5,
          6.5,
          6.5,
          6.5,
          6.5,
          6.5,
          6.5,
          6.5,
          7,
          7,
          7,
          7,
          7,
          7,
          7,
          7,
          7,
          7,
          7,
          7,
          7,
          7,
          7,
          7,
          7,
          7,
          7,
          7,
          8,
          8,
          8,
          8,
          8,
          8,
          8,
          8,
          8,
          8,
          8,
          8,
          8,
          8,
          8,
          8,
          8,
          8,
          8.5,
          8.5,
          8.5,
          8.5,
          9,
          9,
          9,
          9,
          9,
          9,
          9,
          9,
          9,
          9,
          9,
          9,
          9,
          9,
          9.5,
          9.5,
          9.5,
          9.5,
          9.5,
          9.5,
          10,
          10,
          10,
          10,
          10,
          10,
          10,
          10,
          10,
          10,
          10,
          10,
          10,
          10,
          10,
          10,
          11,
          11,
          11,
          11,
          11,
          11,
          11,
          11,
          11,
          11,
          11.5,
          11.5,
          11.5,
          11.5,
          12,
          12,
          14,
          17
         ],
         "yaxis": "y"
        },
        {
         "customdata": [
          [
           "Intel Core i7 (13th Gen)",
           "16 GB "
          ],
          [
           "Intel Core i5 (12th Gen)",
           "16 GB "
          ],
          [
           "Intel Core i7 (12th Gen)",
           "16 GB "
          ]
         ],
         "hovertemplate": "Brand=Colorful<br>Price=%{x}<br>Battery_Life_num=%{y}<br>Processor_Name=%{customdata[0]}<br>RAM=%{customdata[1]}<extra></extra>",
         "legendgroup": "Colorful",
         "marker": {
          "color": "#FF6692",
          "symbol": "circle"
         },
         "mode": "markers",
         "name": "Colorful",
         "showlegend": true,
         "type": "scattergl",
         "x": [
          0.17745513208308128,
          0.12300867110304498,
          0.15527324057269612
         ],
         "xaxis": "x",
         "y": [
          3,
          3,
          3
         ],
         "yaxis": "y"
        },
        {
         "customdata": [
          [
           "AMD Dual-Core A9 APU",
           "4 GB "
          ],
          [
           "Intel Core i3 (6th Gen)",
           "4 GB "
          ],
          [
           "Intel Core i5 (11th Gen)",
           "8 GB "
          ],
          [
           "Intel Core i7 (11th Gen) Processor",
           "16 GB "
          ],
          [
           "Intel Core i3 (11th Gen)",
           "8 GB "
          ],
          [
           "Intel Core i5 (5th Gen)",
           "4 GB "
          ],
          [
           "Intel Core i3 (12th Gen)",
           "8 GB "
          ],
          [
           "Intel Core i7 (11th Gen)",
           "16 GB "
          ],
          [
           "AMD Dual-Core A6 APU",
           "4 GB "
          ],
          [
           "Intel Core i7 (13th Gen)",
           "16 GB "
          ],
          [
           "Intel Core i3 (11th Gen)",
           "8 GB "
          ],
          [
           "Intel Core i5 (11th Gen)",
           "8 GB "
          ],
          [
           "Intel Core i3 (6th Gen)",
           "4 GB "
          ],
          [
           "Intel Core i3 (11th Gen)",
           "16 GB "
          ],
          [
           "Intel Core i7 (13th Gen)",
           "16 GB "
          ],
          [
           "Intel Core i3 (11th Gen)",
           "4 GB "
          ],
          [
           "Intel Core i5 (11th Gen)",
           "8 GB "
          ],
          [
           "Intel Core i5 (13th Gen)",
           "8 GB LP"
          ],
          [
           "Intel Core i3 (10th Gen)",
           "8 GB "
          ],
          [
           "Intel Pentium Gold",
           "4 GB "
          ],
          [
           "Intel Core i7 (13th Gen)",
           "16 GB "
          ],
          [
           "Intel Core i7 (13th Gen)",
           "16 GB "
          ],
          [
           "Intel Core i3 (13th Gen)",
           "8 GB LP"
          ],
          [
           "Intel Core i5 (8th Gen)",
           "8 GB "
          ],
          [
           "Intel Core i3 (11th Gen)",
           "8 GB "
          ],
          [
           "Intel Core i7 (13th Gen)",
           "16 GB LP"
          ],
          [
           "Intel Core i5 (11th Gen)",
           "16 GB "
          ],
          [
           "Intel Core i3 (11th Gen)",
           "8 GB "
          ],
          [
           "Intel Core i5 (12th Gen)",
           "16 GB "
          ],
          [
           "Intel Core i5 (13th Gen)",
           "16 GB "
          ],
          [
           "Intel Core i5 (11th Gen)",
           "8 GB "
          ],
          [
           "Intel Core i3 (11th Gen)",
           "8 GB "
          ],
          [
           "Intel Core i5 (11th Gen)",
           "8 GB "
          ],
          [
           "Intel Core i5 (8th Gen)",
           "8 GB "
          ],
          [
           "Intel Core i3 (10th Gen)",
           "4 GB "
          ],
          [
           "Intel Core i5 (11th Gen)",
           "16 GB "
          ],
          [
           "Intel Core i3 (10th Gen)",
           "4 GB "
          ],
          [
           "Intel Core i5 (10th Gen)",
           "8 GB "
          ],
          [
           "Intel Core i3 (11th Gen)",
           "8 GB "
          ],
          [
           "Intel Core i5 (8th Gen)",
           "8 GB "
          ],
          [
           "Intel Core i3 (10th Gen)",
           "4 GB "
          ],
          [
           "Intel Core i5 (13th Gen)",
           "16 GB "
          ],
          [
           "Intel Core i5 (11th Gen)",
           "8 GB "
          ],
          [
           "Intel Core i3 (11th Gen)",
           "8 GB "
          ],
          [
           "Intel Core i5 (11th Gen)",
           "8 GB "
          ],
          [
           "Intel Core i5 (11th Gen)",
           "16 GB "
          ],
          [
           "Intel Core i3 (11th Gen)",
           "4 GB "
          ],
          [
           "Intel Core i5 (11th Gen)",
           "16 GB "
          ],
          [
           "Intel Core i5 (13th Gen)",
           "16 GB LP"
          ],
          [
           "Intel Core i5 (8th Gen)",
           "8 GB "
          ],
          [
           "Intel Core i5 (11th Gen)",
           "16 GB "
          ],
          [
           "Intel Core i5 (11th Gen)",
           "8 GB "
          ],
          [
           "Intel Core i5 (10th Gen)",
           "16 GB "
          ],
          [
           "Intel Core i5 (11th Gen)",
           "8 GB "
          ],
          [
           "Intel Core i5 (11th Gen)",
           "8 GB "
          ],
          [
           "Intel Core i5 (11th Gen)",
           "16 GB "
          ],
          [
           "Intel Core i5 (13th Gen)",
           "8 GB LP"
          ],
          [
           "Intel Core i5 (11th Gen)",
           "8 GB "
          ],
          [
           "Intel Core i5 (12th Gen) Processor",
           "16 GB "
          ],
          [
           "Intel Core i5 (11th Gen)",
           "8 GB LP"
          ],
          [
           "Intel Core i5 (10th Gen)",
           "8 GB "
          ],
          [
           "Intel Core i5 (13th Gen)",
           "16 GB LP"
          ],
          [
           "Intel Core i5 (11th Gen)",
           "16 GB "
          ],
          [
           "Intel Core i5 (11th Gen)",
           "8 GB "
          ],
          [
           "Intel Core i5 (11th Gen)",
           "8 GB "
          ],
          [
           "Intel Core i5 (11th Gen)",
           "8 GB "
          ],
          [
           "Intel Core i5 (10th Gen)",
           "8 GB "
          ],
          [
           "Intel Core i7 (12th Gen)",
           "16 GB LP"
          ],
          [
           "Intel Core i3 (10th Gen)",
           "4 GB "
          ],
          [
           "Intel Core i3 (10th Gen)",
           "4 GB "
          ],
          [
           "Intel Core i5 (11th Gen)",
           "8 GB "
          ],
          [
           "AMD Dual-Core Ryzen 3",
           "4 GB "
          ],
          [
           "Intel Core i3 (11th Gen) Processor",
           "8 GB "
          ],
          [
           "Intel Pentium Quad-Core",
           "8 GB "
          ],
          [
           "Intel Core i5 (11th Gen)",
           "8 GB "
          ],
          [
           "Intel Pentium Quad-Core",
           "8 GB "
          ],
          [
           "AMD Hexa-Core Ryzen 5",
           "8 GB "
          ],
          [
           "Intel Core i3 (13th Gen)",
           "8 GB LP"
          ],
          [
           "AMD Dual-Core Ryzen 3",
           "8 GB "
          ],
          [
           "AMD Hexa-Core Ryzen 5",
           "8 GB "
          ],
          [
           "AMD Dual-Core Ryzen 3",
           "8 GB "
          ],
          [
           "Intel Core i3 (11th Gen)",
           "8 GB "
          ],
          [
           "AMD Quad-Core Ryzen 3",
           "8 GB "
          ],
          [
           "Intel Core i3 (10th Gen)",
           "8 GB "
          ],
          [
           "Intel Core i5 (11th Gen)",
           "8 GB "
          ],
          [
           "Intel Core i3 (12th Gen)",
           "8 GB "
          ],
          [
           "Intel Core i3 (11th Gen)",
           "4 GB "
          ],
          [
           "Intel Core i5 (11th Gen)",
           "8 GB "
          ],
          [
           "AMD Quad-Core Ryzen 3",
           "8 GB "
          ],
          [
           "Intel Core i7 (12th Gen)",
           "16 GB "
          ],
          [
           "Intel Core i3 (11th Gen)",
           "8 GB "
          ],
          [
           "Intel Core i3 (11th Gen)",
           "8 GB "
          ],
          [
           "Intel Core i3 (11th Gen)",
           "8 GB "
          ],
          [
           "AMD Quad-Core Ryzen 5",
           "8 GB "
          ],
          [
           "AMD Dual-Core Athlon",
           "8 GB "
          ],
          [
           "Intel Core i7 (12th Gen)",
           "16 GB "
          ],
          [
           "AMD Hexa-Core Ryzen 5",
           "8 GB "
          ],
          [
           "Intel Core i7 (12th Gen)",
           "16 GB LP"
          ],
          [
           "AMD Hexa-Core Ryzen 5",
           "16 GB "
          ],
          [
           "Intel Core i3 (11th Gen)",
           "8 GB "
          ],
          [
           "Intel Core i5 (11th Gen)",
           "8 GB "
          ],
          [
           "AMD Dual-Core Ryzen 3",
           "8 GB "
          ],
          [
           "Intel Core i5 (12th Gen)",
           "16 GB "
          ],
          [
           "Intel Core i3 (10th Gen)",
           "8 GB "
          ],
          [
           "Intel Core i5 (11th Gen)",
           "8 GB "
          ],
          [
           "Intel Core i5 (11th Gen)",
           "16 GB "
          ],
          [
           "Intel Core i3 (10th Gen)",
           "8 GB "
          ],
          [
           "Intel Core i5 (12th Gen)",
           "8 GB "
          ],
          [
           "AMD Hexa-Core Ryzen 5",
           "8 GB "
          ],
          [
           "Intel Core i5 (13th Gen)",
           "8 GB "
          ],
          [
           "Intel Core i5 (13th Gen)",
           "16 GB "
          ],
          [
           "Intel Core i5 (11th Gen)",
           "8 GB "
          ],
          [
           "Intel Core i3 (11th Gen)",
           "8 GB "
          ],
          [
           "AMD Dual-Core Ryzen 3",
           "8 GB "
          ],
          [
           "Intel Core i7 (13th Gen)",
           "16 GB "
          ],
          [
           "Intel Core i3 (11th Gen)",
           "8 GB "
          ],
          [
           "Intel Core i3 (11th Gen)",
           "8 GB "
          ],
          [
           "Intel Core i3 (13th Gen)",
           "8 GB LP"
          ],
          [
           "Intel Core i7 (12th Gen)",
           "16 GB "
          ],
          [
           "Intel Core i5 (12th Gen)",
           "16 GB "
          ],
          [
           "Intel Core Ultra 5",
           "16 GB LP"
          ],
          [
           "Intel Core i3 (11th Gen)",
           "8 GB "
          ],
          [
           "Intel Core i7 (12th Gen)",
           "16 GB LP"
          ],
          [
           "AMD Dual-Core Ryzen 3",
           "8 GB "
          ],
          [
           "Intel Core i5 (12th Gen)",
           "16 GB "
          ],
          [
           "AMD Octa-Core Ryzen 7",
           "16 GB "
          ],
          [
           "AMD Octa-Core Ryzen 7",
           "16 GB "
          ],
          [
           "Intel Core i3 (12th Gen)",
           "8 GB "
          ],
          [
           "AMD Dual-Core Athlon Processor",
           "4 GB "
          ],
          [
           "Intel Core i5 (11th Gen)",
           "8 GB "
          ],
          [
           "Intel Core i5 (12th Gen)",
           "8 GB "
          ],
          [
           "Intel Core i3 (11th Gen)",
           "8 GB "
          ],
          [
           "AMD Dual-Core Athlon",
           "8 GB "
          ],
          [
           "Intel Core i5 (12th Gen)",
           "8 GB "
          ],
          [
           "AMD Quad-Core Ryzen 5",
           "8 GB LP"
          ],
          [
           "Intel Core i5 (12th Gen)",
           "16 GB "
          ],
          [
           "AMD Dual-Core Ryzen 3",
           "8 GB "
          ],
          [
           "Intel Core i3 (11th Gen) Processor",
           "8 GB "
          ],
          [
           "AMD Octa-Core Ryzen 7",
           "16 GB "
          ],
          [
           "Intel Core i7 (9th Gen)",
           "16 GB "
          ],
          [
           "Intel Core i5 (12th Gen)",
           "16 GB "
          ],
          [
           "Intel Core i7 (11th Gen)",
           "16 GB "
          ],
          [
           "AMD Quad-Core Ryzen 3",
           "8 GB "
          ],
          [
           "Intel Core i7 (11th Gen)",
           "16 GB "
          ],
          [
           "Intel Core i5 (11th Gen) Processor",
           "16 GB "
          ],
          [
           "Intel Core i3 (6th Gen)",
           "4 GB "
          ],
          [
           "Intel Pentium Quad-Core",
           "4 GB "
          ],
          [
           "AMD Hexa-Core Ryzen 5",
           "16 GB "
          ],
          [
           "Intel Core i3 (10th Gen)",
           "8 GB "
          ],
          [
           "Intel Core i5 (13th Gen)",
           "8 GB LP"
          ],
          [
           "Intel Core i5 (11th Gen)",
           "4 GB "
          ],
          [
           "Intel Core i5 (11th Gen)",
           "8 GB "
          ],
          [
           "Intel Core i5 (11th Gen)",
           "8 GB "
          ],
          [
           "Intel Core i3 (10th Gen)",
           "4 GB "
          ],
          [
           "Intel Core i5 (13th Gen)",
           "16 GB "
          ],
          [
           "Intel Core i7 (13th Gen)",
           "16 GB LP"
          ],
          [
           "Intel Core i7 (13th Gen)",
           "16 GB LP"
          ],
          [
           "Intel Core i5 (11th Gen)",
           "8 GB "
          ],
          [
           "Intel Core i3 (10th Gen)",
           "4 GB "
          ],
          [
           "AMD Hexa-Core Ryzen 5",
           "8 GB "
          ],
          [
           "Intel Core i5 (8th Gen)",
           "4 GB "
          ],
          [
           "AMD Hexa-Core Ryzen 5",
           "8 GB "
          ],
          [
           "Intel Core i5 (11th Gen)",
           "16 GB "
          ],
          [
           "Intel Core i5 (11th Gen)",
           "8 GB "
          ],
          [
           "Intel Core i5 (11th Gen)",
           "16 GB "
          ],
          [
           "Intel Core i3 (11th Gen)",
           "8 GB "
          ],
          [
           "Intel Core i3 (10th Gen)",
           "8 GB "
          ],
          [
           "AMD Dual-Core Athlon",
           "4 GB "
          ],
          [
           "Intel Core i5 (11th Gen) Processor",
           "8 GB "
          ],
          [
           "Intel Core i5 (10th Gen)",
           "32 GB "
          ],
          [
           "Intel Core i7 (11th Gen)",
           "16 GB "
          ],
          [
           "Intel Core i5 (11th Gen)",
           "16 GB "
          ],
          [
           "AMD Hexa-Core Ryzen 5",
           "8 GB "
          ],
          [
           "AMD Hexa-Core Ryzen 5",
           "16 GB "
          ],
          [
           "Intel Core i5 (10th Gen)",
           "8 GB "
          ],
          [
           "Intel Core i3 (10th Gen)",
           "8 GB "
          ],
          [
           "Intel Core i5 (12th Gen)",
           "16 GB "
          ],
          [
           "Intel Core i3 (11th Gen)",
           "8 GB RAM"
          ],
          [
           "Intel Core i7 (12th Gen)",
           "16 GB "
          ],
          [
           "Intel Core i7 (12th Gen)",
           "16 GB "
          ],
          [
           "Intel Core i3 (10th Gen)",
           "4 GB "
          ],
          [
           "Intel Core i3 (10th Gen)",
           "8 GB "
          ],
          [
           "Intel Core i7 (12th Gen)",
           "16 GB "
          ],
          [
           "Intel Core i3 (11th Gen)",
           "8 GB "
          ],
          [
           "Intel Core i3 (11th Gen)",
           "8 GB "
          ],
          [
           "Intel Core i5 (11th Gen)",
           "8 GB "
          ],
          [
           "Intel Core i5 (10th Gen)",
           "8 GB "
          ],
          [
           "Intel Core i5 (12th Gen)",
           "16 GB "
          ],
          [
           "Intel Core i3 (11th Gen) Processor",
           "4 GB "
          ],
          [
           "AMD Dual-Core Ryzen 3",
           "8 GB "
          ],
          [
           "Intel Core i3 (10th Gen)",
           "4 GB "
          ],
          [
           "Intel Core i5 (11th Gen)",
           "8 GB "
          ],
          [
           "AMD Octa-Core Ryzen 7",
           "16 GB "
          ],
          [
           "Intel Core i3 (10th Gen)",
           "8 GB "
          ],
          [
           "Intel Core i5 (10th Gen)",
           "8 GB "
          ],
          [
           "AMD Octa-Core Ryzen 7",
           "16 GB "
          ],
          [
           "Intel Core i9 (10th Gen)",
           "32 GB "
          ],
          [
           "Intel Core i5 (10th Gen)",
           "8 GB "
          ]
         ],
         "hovertemplate": "Brand=Dell<br>Price=%{x}<br>Battery_Life_num=%{y}<br>Processor_Name=%{customdata[0]}<br>RAM=%{customdata[1]}<extra></extra>",
         "legendgroup": "Dell",
         "marker": {
          "color": "#B6E880",
          "symbol": "circle"
         },
         "mode": "markers",
         "name": "Dell",
         "showlegend": true,
         "type": "scattergl",
         "x": [
          0.038846541641459974,
          0.04033071183706392,
          0.06452913893930227,
          0.1572897761645493,
          0.056462996571889496,
          0.0745109901189756,
          0.09679370840895342,
          0.21578745714861866,
          0.02932446057672918,
          0.30348860657390603,
          0.06626335954829603,
          0.11597096188747731,
          0.03507360354910264,
          0.05143980641258318,
          0.22565033272837265,
          0.07259528130671507,
          0.13895946763460376,
          0.1459971768501714,
          0.06043758822343214,
          0.04366404517039726,
          0.1913692276668683,
          0.12502520669489817,
          0.11496067755595886,
          0.07725952813067151,
          0.056462996571889496,
          0.18047993547086105,
          0.13512603347449081,
          0.11294414196410567,
          0.10082677959265982,
          0.14216575922565033,
          0.09076225045372051,
          0.07059689453518854,
          0.13008469449485782,
          0.07461181689856826,
          0.04063924178261746,
          0.09793103448275862,
          0.04286549707602339,
          0.11272433958459367,
          0.059005847953216374,
          0.08587416817906836,
          0.07241177656785643,
          0.1088929219600726,
          0.13512603347449081,
          0.11193587416817907,
          0.1330933655979028,
          0.14379713651945958,
          0.07965315587820125,
          0.13914095583787053,
          0.11494252873563218,
          0.08671103044968743,
          0.13512603347449081,
          0.07057874571486186,
          0.12201855212744504,
          0.10881226053639846,
          0.06251260334744908,
          0.08874571486186732,
          0.09882839282113329,
          0.07388989715668481,
          0.11798548094373866,
          0.11363984674329503,
          0.12187537810042347,
          0.12502520669489817,
          0.11292599314377899,
          0.08872756604154064,
          0.09881024400080661,
          0.13915910465819722,
          0.10467836257309941,
          0.32667876588021777,
          0.06588021778584392,
          0.12099213551119177,
          0.11092760637225248,
          0.043557168784029036,
          0.06938697318007662,
          0.05847953216374269,
          0.07904214559386973,
          0.03191974188344424,
          0.05747126436781609,
          0.08067957249445452,
          0.06113530953821335,
          0.11741278483565235,
          0.04234724742891712,
          0.07503528937285743,
          0.06245412381528534,
          0.05878806210929623,
          0.09074410163339383,
          0.07443032869530147,
          0.06414398064125831,
          0.10286146400483968,
          0.0655575720911474,
          0.16333938294010888,
          0.07080056462996571,
          0.04839685420447671,
          0.06352087114337568,
          0.05158499697519661,
          0.0514216575922565,
          0.19358741681790684,
          0.08368622706190765,
          0.17342206089937487,
          0.16436781609195403,
          0.05827787860455737,
          0.09276063722524702,
          0.03859850776366203,
          0.09036095987094173,
          0.06916717080056463,
          0.08471264367816092,
          0.1298447267594273,
          0.06958862673926194,
          0.07662835249042145,
          0.08267795926598104,
          0.08469449485783424,
          0.0998185117967332,
          0.08671103044968743,
          0.05345634200443638,
          0.05847953216374269,
          0.2863480540431539,
          0.06303690260133091,
          0.06150433555152249,
          0.0705989110707804,
          0.14035087719298245,
          0.10770114942528736,
          0.1598709417221214,
          0.05847953216374269,
          0.16535591853196208,
          0.056462996571889496,
          0.1478322242387578,
          0.13714458560193588,
          0.14519056261343014,
          0.05847953216374269,
          0.04436378302077032,
          0.08368622706190765,
          0.09036095987094173,
          0.06452913893930227,
          0.04839685420447671,
          0.09378705384150031,
          0.07420850978019762,
          0.13430127041742287,
          0.06493244605767291,
          0.060496067755595885,
          0.14039927404718694,
          0.2661826981246219,
          0.11798548094373866,
          0.16537406735228877,
          0.05545472877596289,
          0.16335753176043558,
          0.11294414196410567,
          0.060496067755595885,
          0.03327283726557774,
          0.10185319620891309,
          0.06737245412381529,
          0.10869126840088728,
          0.0958035894333535,
          0.11211937890703771,
          0.08538011695906433,
          0.061522484371849165,
          0.1347045775357935,
          0.14519056261343014,
          0.1480137124420246,
          0.08469449485783424,
          0.06854204476709014,
          0.10445654365799556,
          0.10165154264972777,
          0.09800362976406533,
          0.1480137124420246,
          0.10364992942125428,
          0.13309134906231096,
          0.04676144383948377,
          0.0544464609800363,
          0.037485380116959066,
          0.07259528130671507,
          0.48800161322847346,
          0.19157088122605365,
          0.12401693889897157,
          0.13288969550312563,
          0.12401693889897157,
          0.12885662431941924,
          0.05648316192780803,
          0.12444041137326074,
          0.06308731599112724,
          0.21637426900584794,
          0.18350473885864085,
          0.028951401492236337,
          0.07564025005041339,
          0.24601734220608995,
          0.06938495664448477,
          0.04676144383948377,
          0.057521677757612424,
          0.0992679975801573,
          0.14218592458156887,
          0.06616454930429522,
          0.05158499697519661,
          0.06916717080056463,
          0.09882839282113329,
          0.15529138939302278,
          0.07332123411978221,
          0.11292599314377899,
          0.15648316192780803,
          0.7021092962290785,
          0.17142367412784837
         ],
         "xaxis": "x",
         "y": [
          4,
          4,
          4,
          4,
          4,
          4,
          4,
          4,
          5,
          5,
          5,
          5,
          5,
          5,
          5,
          6,
          6,
          6,
          6,
          6,
          6,
          6,
          6,
          6,
          6,
          6,
          6,
          6,
          6,
          6,
          6,
          6,
          6,
          6,
          6,
          6,
          6,
          6,
          6,
          6,
          6,
          6,
          6,
          6,
          6,
          6,
          6,
          6,
          6,
          6,
          6,
          6,
          6,
          6,
          6,
          6,
          6,
          6,
          6,
          6,
          6,
          6,
          6,
          6,
          6,
          6,
          6,
          6,
          6,
          6,
          6,
          6,
          6,
          7,
          7,
          7,
          7,
          7,
          7,
          7,
          7,
          7,
          7,
          7,
          7,
          7,
          7,
          7,
          7,
          7,
          7,
          7,
          7,
          7,
          7,
          7,
          7,
          7,
          7,
          7,
          7,
          7,
          7,
          7,
          7,
          7,
          7,
          7,
          7,
          7,
          7,
          7,
          7,
          7,
          7,
          7,
          7,
          7,
          7,
          7,
          7,
          7,
          7,
          7,
          7,
          7,
          7,
          7,
          7,
          7,
          7,
          7,
          7,
          7,
          7,
          7,
          7,
          7,
          8,
          8,
          8,
          8,
          8,
          8,
          8,
          8,
          8,
          8,
          8,
          8,
          8,
          8,
          8,
          8,
          8.5,
          9,
          9,
          10,
          10,
          10,
          10,
          10,
          10,
          10,
          10,
          10,
          10,
          10,
          10,
          10,
          10,
          10,
          10,
          10,
          10,
          10,
          10,
          10,
          10,
          10,
          10,
          10,
          10,
          10,
          10,
          10,
          10,
          10,
          10,
          10,
          10,
          10,
          10,
          10,
          10,
          12,
          12,
          14
         ],
         "yaxis": "y"
        },
        {
         "customdata": [
          [
           "Intel Core i3 (11th Gen)",
           "8 GB LP"
          ],
          [
           "Intel Core i5 (11th Gen)",
           "8 GB LP"
          ],
          [
           "Intel Core i5 (11th Gen)",
           "16 GB "
          ]
         ],
         "hovertemplate": "Brand=Realme<br>Price=%{x}<br>Battery_Life_num=%{y}<br>Processor_Name=%{customdata[0]}<br>RAM=%{customdata[1]}<extra></extra>",
         "legendgroup": "Realme",
         "marker": {
          "color": "#FF97FF",
          "symbol": "circle"
         },
         "mode": "markers",
         "name": "Realme",
         "showlegend": true,
         "type": "scattergl",
         "x": [
          0.07059689453518854,
          0.07259528130671507,
          0.08872756604154064
         ],
         "xaxis": "x",
         "y": [
          4,
          11,
          12
         ],
         "yaxis": "y"
        },
        {
         "customdata": [
          [
           "Intel Celeron Dual-Core",
           "4 GB "
          ],
          [
           "Intel Atom Quad-Core",
           "2 GB "
          ],
          [
           "Intel Atom Quad-Core",
           "2 GB "
          ],
          [
           "Intel Atom Quad-Core",
           "2 GB "
          ]
         ],
         "hovertemplate": "Brand=iball<br>Price=%{x}<br>Battery_Life_num=%{y}<br>Processor_Name=%{customdata[0]}<br>RAM=%{customdata[1]}<extra></extra>",
         "legendgroup": "iball",
         "marker": {
          "color": "#FECB52",
          "symbol": "circle"
         },
         "mode": "markers",
         "name": "iball",
         "showlegend": true,
         "type": "scattergl",
         "x": [
          0.008066142367412784,
          0.0070780399274047185,
          0.009092558983666062,
          0.01191772534785239
         ],
         "xaxis": "x",
         "y": [
          5.5,
          8.5,
          8.5,
          12
         ],
         "yaxis": "y"
        },
        {
         "customdata": [
          [
           "Intel Core i9 (12th Gen)",
           "32 GB "
          ],
          [
           "Intel Core i7 (13th Gen)",
           "16 GB "
          ]
         ],
         "hovertemplate": "Brand=Gigabyte<br>Price=%{x}<br>Battery_Life_num=%{y}<br>Processor_Name=%{customdata[0]}<br>RAM=%{customdata[1]}<extra></extra>",
         "legendgroup": "Gigabyte",
         "marker": {
          "color": "#636efa",
          "symbol": "circle"
         },
         "mode": "markers",
         "name": "Gigabyte",
         "showlegend": true,
         "type": "scattergl",
         "x": [
          0.5036499294212543,
          0.19944948578342409
         ],
         "xaxis": "x",
         "y": [
          6,
          8
         ],
         "yaxis": "y"
        },
        {
         "customdata": [
          [
           "Intel Core i5 (10th Gen)",
           "8 GB "
          ],
          [
           "Intel Core i7 (10th Gen)",
           "8 GB "
          ]
         ],
         "hovertemplate": "Brand=Coconics<br>Price=%{x}<br>Battery_Life_num=%{y}<br>Processor_Name=%{customdata[0]}<br>RAM=%{customdata[1]}<extra></extra>",
         "legendgroup": "Coconics",
         "marker": {
          "color": "#EF553B",
          "symbol": "circle"
         },
         "mode": "markers",
         "name": "Coconics",
         "showlegend": true,
         "type": "scattergl",
         "x": [
          0.10964508973583384,
          0.15521274450494052
         ],
         "xaxis": "x",
         "y": [
          7,
          12
         ],
         "yaxis": "y"
        },
        {
         "customdata": [
          [
           "Intel Core Ultra 7",
           "32 GB LP"
          ],
          [
           "Intel Core Ultra 7",
           "16 GB LP"
          ],
          [
           "Intel Core Ultra 7",
           "16 GB LP"
          ],
          [
           "Intel Core Ultra 5",
           "16 GB LP"
          ],
          [
           "Intel Core Ultra 7",
           "16 GB LP"
          ],
          [
           "Intel Core 7 (Series 1)",
           "16 GB LP"
          ],
          [
           "Intel Core 5 (Series 1)",
           "16 GB LP"
          ],
          [
           "Intel Core 7 (Series 1)",
           "16 GB LP"
          ],
          [
           "Intel Core 5 (Series 1)",
           "16 GB LP"
          ],
          [
           "Intel Celeron Dual-Core",
           "4 GB LP"
          ],
          [
           "Intel Celeron Dual-Core",
           "2 GB "
          ],
          [
           "Intel Celeron Dual-Core",
           "4 GB LP"
          ],
          [
           "Intel Core i7 (13th Gen)",
           "16 GB RAM"
          ],
          [
           "Intel Core i7 (13th Gen)",
           "16 GB RAM"
          ],
          [
           "Intel Core i7 (12th Gen)",
           "16 GB LP"
          ],
          [
           "Intel Core i9 (13th Gen) Processor",
           "32 GB RAM"
          ],
          [
           "Intel Core i7 (13th Gen)",
           "16 GB RAM"
          ],
          [
           "Intel Core i7 (12th Gen)",
           "16 GB LP"
          ],
          [
           "Intel Core i5 (12th Gen)",
           "16 GB LP"
          ],
          [
           "Intel Core i5 (12th Gen)",
           "16 GB LP"
          ],
          [
           "Intel Core i7 (12th Gen)",
           "16 GB LP"
          ],
          [
           "Intel Core i7 (12th Gen)",
           "16 GB "
          ]
         ],
         "hovertemplate": "Brand=Samsung<br>Price=%{x}<br>Battery_Life_num=%{y}<br>Processor_Name=%{customdata[0]}<br>RAM=%{customdata[1]}<extra></extra>",
         "legendgroup": "Samsung",
         "marker": {
          "color": "#00cc96",
          "symbol": "circle"
         },
         "mode": "markers",
         "name": "Samsung",
         "showlegend": true,
         "type": "scattergl",
         "x": [
          0.33071183706392415,
          0.25005041338979633,
          0.2762653760838879,
          0.205686630369026,
          0.3145795523290986,
          0.23190159306311756,
          0.215769308328292,
          0.2641661625327687,
          0.20367009477717282,
          0.06026214962694092,
          0.051367211131276465,
          0.1276870336761444,
          0.18553942327082074,
          0.29844726759427304,
          0.16535591853196208,
          0.5525307521677758,
          0.3145795523290986,
          0.24601734220608995,
          0.13107481347045774,
          0.15547489413188142,
          0.215769308328292,
          0.18148820326678766
         ],
         "xaxis": "x",
         "y": [
          7.5,
          7.5,
          7.5,
          7.5,
          7.5,
          8.7,
          8.7,
          8.7,
          8.7,
          11,
          11,
          11,
          16,
          16,
          17,
          17.5,
          19,
          20,
          21,
          21,
          21,
          22
         ],
         "yaxis": "y"
        },
        {
         "customdata": [
          [
           "Intel Core i3 (10th Gen)",
           "8 GB RAM"
          ],
          [
           "Intel Core i5 (11th Gen)",
           "8 GB "
          ],
          [
           "Intel Core i5 (13th Gen)",
           "8 GB LP"
          ],
          [
           "Intel Core i5 (13th Gen)",
           "8 GB LP"
          ],
          [
           "Intel Core i5 (13th Gen)",
           "16 GB LP"
          ],
          [
           "Intel Core i5 (12th Gen)",
           "16 GB LP"
          ],
          [
           "Intel Core i5 (12th Gen)",
           "8 GB LP"
          ],
          [
           "Intel Core i5 (13th Gen)",
           "16 GB LP"
          ],
          [
           "Intel Core i3 (10th Gen)",
           "8 GB RAM"
          ],
          [
           "AMD Hexa-Core Ryzen 5",
           "8 GB "
          ],
          [
           "AMD Hexa-Core Ryzen 5",
           "16 GB "
          ],
          [
           "AMD Hexa-Core Ryzen 5",
           "8 GB "
          ]
         ],
         "hovertemplate": "Brand=Honor<br>Price=%{x}<br>Battery_Life_num=%{y}<br>Processor_Name=%{customdata[0]}<br>RAM=%{customdata[1]}<extra></extra>",
         "legendgroup": "Honor",
         "marker": {
          "color": "#ab63fa",
          "symbol": "circle"
         },
         "mode": "markers",
         "name": "Honor",
         "showlegend": true,
         "type": "scattergl",
         "x": [
          0.05621092962290784,
          0.06856221012300867,
          0.09376890502117362,
          0.09780197620488001,
          0.102843315184513,
          0.08872756604154064,
          0.08267795926598104,
          0.09780197620488001,
          0.06452913893930227,
          0.06856221012300867,
          0.07239362774752975,
          0.06452913893930227
         ],
         "xaxis": "x",
         "y": [
          7.8,
          9.9,
          11.5,
          11.5,
          11.5,
          12,
          12,
          12,
          13.2,
          14,
          14,
          15
         ],
         "yaxis": "y"
        },
        {
         "customdata": [
          [
           "Intel Core i5 (11th Gen)",
           "16 GB "
          ],
          [
           "Intel Core i5 (11th Gen)",
           "16 GB "
          ],
          [
           "Intel Core i5 (12th Gen)",
           "16 GB LP"
          ],
          [
           "Intel Core i7 (13th Gen)",
           "16 GB LP"
          ],
          [
           "Intel Core i5 (11th Gen)",
           "16 GB "
          ],
          [
           "Intel Core i5 (11th Gen)",
           "16 GB LP"
          ],
          [
           "Intel Core i7 (11th Gen)",
           "16 GB LP"
          ]
         ],
         "hovertemplate": "Brand=Fujitsu<br>Price=%{x}<br>Battery_Life_num=%{y}<br>Processor_Name=%{customdata[0]}<br>RAM=%{customdata[1]}<extra></extra>",
         "legendgroup": "Fujitsu",
         "marker": {
          "color": "#FFA15A",
          "symbol": "circle"
         },
         "mode": "markers",
         "name": "Fujitsu",
         "showlegend": true,
         "type": "scattergl",
         "x": [
          0.13309134906231096,
          0.12502520669489817,
          0.16535591853196208,
          0.12300867110304498,
          0.15245009074410162,
          0.13430127041742287,
          0.15245009074410162
         ],
         "xaxis": "x",
         "y": [
          8,
          8,
          10,
          10,
          11,
          11,
          11
         ],
         "yaxis": "y"
        },
        {
         "customdata": [
          [
           "Intel Celeron Dual-Core",
           "4 GB LP"
          ],
          [
           "Intel Celeron Dual-Core",
           "4 GB LP"
          ],
          [
           "AMD Quad-Core Ryzen 5",
           "8 GB "
          ],
          [
           "AMD Dual-Core Ryzen 3",
           "8 GB "
          ],
          [
           "Intel Core i5 (8th Gen)",
           "8 GB "
          ],
          [
           "Intel Core i5 (7th Gen)",
           "8 GB "
          ],
          [
           "Intel Core i3 (8th Gen)",
           "8 GB "
          ],
          [
           "Intel Core i5 (8th Gen)",
           "8 GB "
          ],
          [
           "Intel Core i7 (10th Gen)",
           "16 GB "
          ],
          [
           "Intel Core i5 (7th Gen)",
           "8 GB "
          ],
          [
           "Intel Core i7 (8th Gen)",
           "8 GB "
          ],
          [
           "Intel Core i5 (10th Gen)",
           "8 GB "
          ],
          [
           "Intel Core i5 (10th Gen)",
           "8 GB "
          ],
          [
           "Intel Core i5 (8th Gen)",
           "8 GB "
          ],
          [
           "Intel Core i5 (7th Gen)",
           "8 GB "
          ],
          [
           "Intel Core i3 (8th Gen)",
           "4 GB "
          ],
          [
           "Intel Core i7 (10th Gen)",
           "16 GB "
          ]
         ],
         "hovertemplate": "Brand=AVITA<br>Price=%{x}<br>Battery_Life_num=%{y}<br>Processor_Name=%{customdata[0]}<br>RAM=%{customdata[1]}<extra></extra>",
         "legendgroup": "AVITA",
         "marker": {
          "color": "#19d3f3",
          "symbol": "circle"
         },
         "mode": "markers",
         "name": "AVITA",
         "showlegend": true,
         "type": "scattergl",
         "x": [
          0.02621496269409155,
          0.01613228473482557,
          0.08771929824561403,
          0.03803186126235128,
          0.0544464609800363,
          0.07017543859649122,
          0.06251260334744908,
          0.06251260334744908,
          0.06251260334744908,
          0.07057874571486186,
          0.08260133091349062,
          0.0544464609800363,
          0.047388586408550114,
          0.06858035894333535,
          0.060572696108086306,
          0.041054648114539224,
          0.2512603347449082
         ],
         "xaxis": "x",
         "y": [
          8,
          8,
          8,
          8,
          10,
          10,
          10,
          10,
          10,
          10,
          10,
          10,
          10,
          10,
          10,
          10,
          10
         ],
         "yaxis": "y"
        },
        {
         "customdata": [
          [
           "Intel Core i5 (7th Gen)",
           "4 GB "
          ],
          [
           "Intel Core M3 (7th Gen)",
           "4 GB LP"
          ]
         ],
         "hovertemplate": "Brand=Smartron<br>Price=%{x}<br>Battery_Life_num=%{y}<br>Processor_Name=%{customdata[0]}<br>RAM=%{customdata[1]}<extra></extra>",
         "legendgroup": "Smartron",
         "marker": {
          "color": "#FF6692",
          "symbol": "circle"
         },
         "mode": "markers",
         "name": "Smartron",
         "showlegend": true,
         "type": "scattergl",
         "x": [
          0.06735228876789676,
          0.06957047791893527
         ],
         "xaxis": "x",
         "y": [
          8,
          10
         ],
         "yaxis": "y"
        },
        {
         "customdata": [
          [
           "Intel Core i3 (11th Gen)",
           "8 GB LP"
          ],
          [
           "Intel Core i5 (13th Gen)",
           "16 GB LP"
          ],
          [
           "Intel Core i5 (11th Gen)",
           "16 GB LP"
          ],
          [
           "Intel Core i5 (13th Gen)",
           "16 GB LP"
          ],
          [
           "Intel Core i9 (12th Gen)",
           "32 GB LP"
          ],
          [
           "Intel Core i7 (11th Gen)",
           "16 GB LP"
          ],
          [
           "Intel Core i9 (13th Gen)",
           "32 GB LP"
          ],
          [
           "Intel Core i7 (11th Gen)",
           "16 GB LP"
          ],
          [
           "Intel Core i7 (13th Gen)",
           "32 GB LP"
          ],
          [
           "Intel Core i3 (11th Gen)",
           "8 GB LP"
          ],
          [
           "Intel Core i3 (10th Gen)",
           "8 GB LP"
          ],
          [
           "Intel Core i9 (12th Gen)",
           "16 GB LP"
          ],
          [
           "Intel Core i5 (11th Gen)",
           "16 GB LP"
          ],
          [
           "Intel Core i3 (10th Gen)",
           "8 GB LP"
          ],
          [
           "Intel Core i5 (11th Gen)",
           "8 GB LP"
          ],
          [
           "Intel Core i7 (12th Gen)",
           "16 GB LP"
          ],
          [
           "Intel Core i7 (10th Gen)",
           "16 GB LP"
          ],
          [
           "Intel Core i3 (11th Gen)",
           "8 GB LP"
          ],
          [
           "Intel Core i3 (10th Gen)",
           "8 GB LP"
          ],
          [
           "Intel Core i5 (10th Gen)",
           "8 GB LP"
          ],
          [
           "Intel Core i5 (11th Gen)",
           "16 GB LP"
          ],
          [
           "Intel Core i5 (11th Gen)",
           "16 GB LP"
          ],
          [
           "Intel Core i3 (10th Gen)",
           "8 GB LP"
          ],
          [
           "Intel Core i3 (12th Gen)",
           "8 GB LP"
          ],
          [
           "Intel Core i3 (10th Gen)",
           "8 GB "
          ],
          [
           "Intel Celeron Quad-Core",
           "4 GB LP"
          ],
          [
           "Intel Celeron Quad-Core",
           "4 GB LP"
          ],
          [
           "Intel Core i5 (12th Gen)",
           "16 GB LP"
          ],
          [
           "Intel Core i3 (10th Gen)",
           "8 GB LP"
          ],
          [
           "Intel Core i3 (10th Gen)",
           "8 GB LP"
          ],
          [
           "Intel Core Ultra 9",
           "32 GB LP"
          ],
          [
           "Intel Core i7 (13th Gen)",
           "16 GB LP"
          ]
         ],
         "hovertemplate": "Brand=Infinix<br>Price=%{x}<br>Battery_Life_num=%{y}<br>Processor_Name=%{customdata[0]}<br>RAM=%{customdata[1]}<extra></extra>",
         "legendgroup": "Infinix",
         "marker": {
          "color": "#B6E880",
          "symbol": "circle"
         },
         "mode": "markers",
         "name": "Infinix",
         "showlegend": true,
         "type": "scattergl",
         "x": [
          0.028231498285944748,
          0.07259528130671507,
          0.04033071183706392,
          0.06452913893930227,
          0.14919943537003427,
          0.07057874571486186,
          0.13490623109497882,
          0.10082677959265982,
          0.11897559991933858,
          0.04234724742891712,
          0.05041338979632991,
          0.13712442024601734,
          0.09074410163339383,
          0.04033071183706392,
          0.04234724742891712,
          0.07259528130671507,
          0.07662835249042145,
          0.04436378302077032,
          0.04033071183706392,
          0.051220004033071184,
          0.05847953216374269,
          0.04638031861262351,
          0.03932244404113733,
          0.04638031861262351,
          0.039927404718693285,
          0.024803387779794312,
          0.034281105061504336,
          0.05847953216374269,
          0.04436378302077032,
          0.0544464609800363,
          0.15527324057269612,
          0.08469449485783424
         ],
         "xaxis": "x",
         "y": [
          8,
          8,
          8,
          10,
          10,
          10,
          10,
          10,
          10,
          10,
          10,
          10,
          10,
          10,
          10,
          10,
          11,
          11,
          11,
          11,
          11,
          11,
          11,
          11,
          11,
          11,
          11,
          11,
          13,
          13,
          13,
          13
         ],
         "yaxis": "y"
        },
        {
         "customdata": [
          [
           "Intel Core i5 (10th Gen)",
           "8 GB "
          ]
         ],
         "hovertemplate": "Brand=Nokia<br>Price=%{x}<br>Battery_Life_num=%{y}<br>Processor_Name=%{customdata[0]}<br>RAM=%{customdata[1]}<extra></extra>",
         "legendgroup": "Nokia",
         "marker": {
          "color": "#FF97FF",
          "symbol": "circle"
         },
         "mode": "markers",
         "name": "Nokia",
         "showlegend": true,
         "type": "scattergl",
         "x": [
          0.07043153861665659
         ],
         "xaxis": "x",
         "y": [
          8
         ],
         "yaxis": "y"
        },
        {
         "customdata": [
          [
           "Intel Atom Quad-Core",
           "2 GB "
          ]
         ],
         "hovertemplate": "Brand=Lava<br>Price=%{x}<br>Battery_Life_num=%{y}<br>Processor_Name=%{customdata[0]}<br>RAM=%{customdata[1]}<extra></extra>",
         "legendgroup": "Lava",
         "marker": {
          "color": "#FECB52",
          "symbol": "circle"
         },
         "mode": "markers",
         "name": "Lava",
         "showlegend": true,
         "type": "scattergl",
         "x": [
          0.014133897963299053
         ],
         "xaxis": "x",
         "y": [
          9
         ],
         "yaxis": "y"
        },
        {
         "customdata": [
          [
           "Intel Core i5 (8th Gen)",
           "8 GB LP"
          ],
          [
           "Intel Core i5 (8th Gen)",
           "8 GB LP"
          ],
          [
           "Intel Core i5 (8th Gen)",
           "8 GB LP"
          ],
          [
           "Intel Core i7 (6th Gen)",
           "16 GB LP"
          ],
          [
           "Intel Core i5 (8th Gen)",
           "8 GB LP"
          ],
          [
           "Intel Core M3 (7th Gen)",
           "8 GB LP"
          ],
          [
           "Intel Core i5 (5th Gen)",
           "8 GB "
          ],
          [
           "Intel Core i9 (9th Gen)",
           "16 GB "
          ],
          [
           "Intel Core i5 (10th Gen)",
           "8 GB LP"
          ],
          [
           "Intel Core i5 (10th Gen)",
           "8 GB LP"
          ],
          [
           "Intel Core i3 (10th Gen) Processor",
           "8 GB LP"
          ],
          [
           "Intel Core i5 (8th Gen)",
           "8 GB LP"
          ],
          [
           "Intel Core i5 (5th Gen)",
           "8 GB LP"
          ],
          [
           "Intel Core i5 (8th Gen)",
           "8 GB LP"
          ],
          [
           "Intel Core i5 (8th Gen)",
           "8 GB LP"
          ],
          [
           "Intel Core i5 (8th Gen)",
           "8 GB LP"
          ],
          [
           "Intel Core i5 (8th Gen)",
           "8 GB LP"
          ],
          [
           "Intel Core i5 (8th Gen)",
           "8 GB LP"
          ],
          [
           "Intel Core i5 (8th Gen)",
           "8 GB LP"
          ],
          [
           "Intel Core i5 (8th Gen)",
           "8 GB LP"
          ],
          [
           "1.6 Ghz Processor",
           "8 GB LP"
          ],
          [
           "Intel Core i5 (8th Gen)",
           "8 GB LP"
          ],
          [
           "Intel Core i5 (8th Gen)",
           "8 GB LP"
          ],
          [
           "Intel Core i5 (8th Gen)",
           "8 GB LP"
          ],
          [
           "Apple M1",
           "8 GB "
          ],
          [
           "Apple M1 Processor",
           "16 GB "
          ],
          [
           "2.3 Ghz Processor",
           "16 GB RAM "
          ],
          [
           "Apple M3 Pro",
           "18 GB RAM"
          ],
          [
           "Apple M2 Processor",
           "8 GB RAM"
          ],
          [
           "Apple M2 Processor",
           "8 GB RAM"
          ],
          [
           "Apple M2 Processor",
           "8 GB RAM"
          ],
          [
           "Apple M2 Processor",
           "8 GB RAM"
          ],
          [
           "Apple M2 Processor",
           "8 GB RAM"
          ],
          [
           "Apple M2 Processor",
           "8 GB RAM"
          ],
          [
           "Apple M2 Processor",
           "8 GB RAM"
          ],
          [
           "Apple M2 Processor",
           "8 GB RAM"
          ],
          [
           "Apple M2 Pro",
           "16 GB RAM"
          ],
          [
           "Apple M2 Processor",
           "8 GB LP"
          ],
          [
           "Apple M2 Processor",
           "8 GB LP"
          ],
          [
           "Apple M1 Pro",
           "16 GB RAM"
          ],
          [
           "Apple M2 Max Processor",
           "32 GB RAM"
          ],
          [
           "Apple M2 Pro",
           "16 GB RAM "
          ],
          [
           "Apple M3 Pro",
           "36 GB RAM"
          ]
         ],
         "hovertemplate": "Brand=Apple<br>Price=%{x}<br>Battery_Life_num=%{y}<br>Processor_Name=%{customdata[0]}<br>RAM=%{customdata[1]}<extra></extra>",
         "legendgroup": "Apple",
         "marker": {
          "color": "#636efa",
          "symbol": "circle"
         },
         "mode": "markers",
         "name": "Apple",
         "showlegend": true,
         "type": "scattergl",
         "x": [
          0.1795724944545271,
          0.2863480540431539,
          0.20982052833232506,
          0.3990925589836661,
          0.3125630167372454,
          0.16535591853196208,
          0.14702561000201653,
          0.4194394031054648,
          0.205686630369026,
          0.18552127445049404,
          0.1532567049808429,
          0.20165355918531963,
          0.12099213551119177,
          0.1270619076426699,
          0.17543859649122806,
          0.16535591853196208,
          0.20810647307924984,
          0.19560395240976003,
          0.24198427102238354,
          0.19560395240976003,
          0.1996370235934664,
          0.20367009477717282,
          0.24198427102238354,
          0.1996370235934664,
          0.1671909659205485,
          0.2044767090139141,
          0.4275055454728776,
          0.46765476910667475,
          0.17140552530752168,
          0.20367009477717282,
          0.2861665658398871,
          0.2962492437991531,
          0.28614640048396855,
          0.2525993143778988,
          0.25591853196208914,
          0.2491046581972172,
          0.3869933454325469,
          0.2861665658398871,
          0.24583585400282315,
          0.328695301472071,
          0.6894736842105263,
          0.5281508368622706,
          0.5684815486993345
         ],
         "xaxis": "x",
         "y": [
          10,
          10,
          10,
          10,
          10,
          10,
          10,
          11,
          11,
          11,
          11,
          12,
          12,
          12,
          12,
          12,
          12,
          12,
          13,
          13,
          13,
          13,
          13,
          13,
          15,
          15,
          17,
          18,
          18,
          18,
          18,
          18,
          18,
          18,
          18,
          18,
          18,
          20,
          20,
          21,
          22,
          22,
          22
         ],
         "yaxis": "y"
        },
        {
         "customdata": [
          [
           "Intel Core i3 (11th Gen)",
           "8 GB "
          ],
          [
           "Intel Core i5 (10th Gen)",
           "8 GB "
          ],
          [
           "Intel Core i5 (10th Gen)",
           "8 GB "
          ],
          [
           "Intel Core i5 (11th Gen)",
           "8 GB "
          ],
          [
           "Intel Core i3 (11th Gen)",
           "8 GB "
          ],
          [
           "Intel Core i5 (11th Gen)",
           "8 GB "
          ]
         ],
         "hovertemplate": "Brand=Xiaomi<br>Price=%{x}<br>Battery_Life_num=%{y}<br>Processor_Name=%{customdata[0]}<br>RAM=%{customdata[1]}<extra></extra>",
         "legendgroup": "Xiaomi",
         "marker": {
          "color": "#EF553B",
          "symbol": "circle"
         },
         "mode": "markers",
         "name": "Xiaomi",
         "showlegend": true,
         "type": "scattergl",
         "x": [
          0.04712038717483363,
          0.05968945351885461,
          0.07462996571889494,
          0.06452913893930227,
          0.047388586408550114,
          0.10487799959669288
         ],
         "xaxis": "x",
         "y": [
          10,
          10,
          10,
          10,
          10,
          12
         ],
         "yaxis": "y"
        },
        {
         "customdata": [
          [
           "Intel Atom Quad-Core",
           "2 GB "
          ],
          [
           "Intel Atom Quad-Core",
           "2 GB "
          ],
          [
           "Intel Atom Quad-Core",
           "2 GB "
          ]
         ],
         "hovertemplate": "Brand=Micromax<br>Price=%{x}<br>Battery_Life_num=%{y}<br>Processor_Name=%{customdata[0]}<br>RAM=%{customdata[1]}<extra></extra>",
         "legendgroup": "Micromax",
         "marker": {
          "color": "#00cc96",
          "symbol": "circle"
         },
         "mode": "markers",
         "name": "Micromax",
         "showlegend": true,
         "type": "scattergl",
         "x": [
          0.020183504738858642,
          0.0030429522081064733,
          0.00504133897963299
         ],
         "xaxis": "x",
         "y": [
          10,
          10,
          11
         ],
         "yaxis": "y"
        },
        {
         "customdata": [
          [
           "Intel Core i7 (12th Gen)",
           "16 GB "
          ],
          [
           "Intel Core i7 (12th Gen)",
           "16 GB "
          ],
          [
           "Intel Core i3 (11th Gen)",
           "8 GB LP"
          ],
          [
           "Intel Core i5 (12th Gen)",
           "16 GB "
          ],
          [
           "Intel Core i5 (12th Gen)",
           "8 GB "
          ],
          [
           "Intel Core i5 (11th Gen)",
           "8 GB LP"
          ],
          [
           "Intel Core i5 (11th Gen)",
           "16 GB LP"
          ]
         ],
         "hovertemplate": "Brand=Zebronics<br>Price=%{x}<br>Battery_Life_num=%{y}<br>Processor_Name=%{customdata[0]}<br>RAM=%{customdata[1]}<extra></extra>",
         "legendgroup": "Zebronics",
         "marker": {
          "color": "#ab63fa",
          "symbol": "circle"
         },
         "mode": "markers",
         "name": "Zebronics",
         "showlegend": true,
         "type": "scattergl",
         "x": [
          0.08671103044968743,
          0.09074410163339383,
          0.030248033877797943,
          0.06452913893930227,
          0.060496067755595885,
          0.04234724742891712,
          0.04436378302077032
         ],
         "xaxis": "x",
         "y": [
          10,
          10,
          10,
          10,
          10,
          10,
          10
         ],
         "yaxis": "y"
        },
        {
         "customdata": [
          [
           "Intel Core i7 (11th Gen)",
           "16 GB "
          ],
          [
           "Intel Core i3 (11th Gen)",
           "8 GB "
          ],
          [
           "Intel Core i3 (11th Gen)",
           "8 GB "
          ],
          [
           "Intel Core i5 (11th Gen)",
           "8 GB "
          ]
         ],
         "hovertemplate": "Brand=Wings<br>Price=%{x}<br>Battery_Life_num=%{y}<br>Processor_Name=%{customdata[0]}<br>RAM=%{customdata[1]}<extra></extra>",
         "legendgroup": "Wings",
         "marker": {
          "color": "#FFA15A",
          "symbol": "circle"
         },
         "mode": "markers",
         "name": "Wings",
         "showlegend": true,
         "type": "scattergl",
         "x": [
          0.08469449485783424,
          0.034281105061504336,
          0.036297640653357534,
          0.04234724742891712
         ],
         "xaxis": "x",
         "y": [
          10,
          10,
          10,
          10
         ],
         "yaxis": "y"
        },
        {
         "customdata": [
          [
           "Intel Atom Quad-Core",
           "2 GB "
          ]
         ],
         "hovertemplate": "Brand=RDP<br>Price=%{x}<br>Battery_Life_num=%{y}<br>Processor_Name=%{customdata[0]}<br>RAM=%{customdata[1]}<extra></extra>",
         "legendgroup": "RDP",
         "marker": {
          "color": "#19d3f3",
          "symbol": "circle"
         },
         "mode": "markers",
         "name": "RDP",
         "showlegend": true,
         "type": "scattergl",
         "x": [
          0.005059487799959669
         ],
         "xaxis": "x",
         "y": [
          10.5
         ],
         "yaxis": "y"
        },
        {
         "customdata": [
          [
           "Intel Core i7 (10th Gen)",
           "8 GB "
          ],
          [
           "Intel Core i5 (10th Gen)",
           "8 GB "
          ],
          [
           "Intel Core i5 (10th Gen)",
           "8 GB "
          ],
          [
           "Intel Core i5 (8th Gen)",
           "8 GB "
          ],
          [
           "Intel Core i5 (8th Gen)",
           "8 GB "
          ]
         ],
         "hovertemplate": "Brand=LG<br>Price=%{x}<br>Battery_Life_num=%{y}<br>Processor_Name=%{customdata[0]}<br>RAM=%{customdata[1]}<extra></extra>",
         "legendgroup": "LG",
         "marker": {
          "color": "#FF6692",
          "symbol": "circle"
         },
         "mode": "markers",
         "name": "LG",
         "showlegend": true,
         "type": "scattergl",
         "x": [
          0.13914095583787053,
          0.06452913893930227,
          0.11494252873563218,
          0.12502520669489817,
          0.09074410163339383
         ],
         "xaxis": "x",
         "y": [
          17,
          18.5,
          18.5,
          21.5,
          23.5
         ],
         "yaxis": "y"
        },
        {
         "customdata": [
          [
           "Intel Core i3 (11th Gen)",
           "8 GB RAM"
          ],
          [
           "Intel Core i5 (11th Gen)",
           "16 GB "
          ]
         ],
         "hovertemplate": "Brand=Tecno<br>Price=%{x}<br>Battery_Life_num=%{y}<br>Processor_Name=%{customdata[0]}<br>RAM=%{customdata[1]}<extra></extra>",
         "legendgroup": "Tecno",
         "marker": {
          "color": "#B6E880",
          "symbol": "circle"
         },
         "mode": "markers",
         "name": "Tecno",
         "showlegend": true,
         "type": "scattergl",
         "x": [
          0.06051421657592256,
          0.08067957249445452
         ],
         "xaxis": "x",
         "y": [
          17.5,
          17.5
         ],
         "yaxis": "y"
        }
       ],
       "layout": {
        "legend": {
         "title": {
          "text": "Brand"
         },
         "tracegroupgap": 0
        },
        "margin": {
         "t": 60
        },
        "template": {
         "data": {
          "bar": [
           {
            "error_x": {
             "color": "#2a3f5f"
            },
            "error_y": {
             "color": "#2a3f5f"
            },
            "marker": {
             "line": {
              "color": "#E5ECF6",
              "width": 0.5
             },
             "pattern": {
              "fillmode": "overlay",
              "size": 10,
              "solidity": 0.2
             }
            },
            "type": "bar"
           }
          ],
          "barpolar": [
           {
            "marker": {
             "line": {
              "color": "#E5ECF6",
              "width": 0.5
             },
             "pattern": {
              "fillmode": "overlay",
              "size": 10,
              "solidity": 0.2
             }
            },
            "type": "barpolar"
           }
          ],
          "carpet": [
           {
            "aaxis": {
             "endlinecolor": "#2a3f5f",
             "gridcolor": "white",
             "linecolor": "white",
             "minorgridcolor": "white",
             "startlinecolor": "#2a3f5f"
            },
            "baxis": {
             "endlinecolor": "#2a3f5f",
             "gridcolor": "white",
             "linecolor": "white",
             "minorgridcolor": "white",
             "startlinecolor": "#2a3f5f"
            },
            "type": "carpet"
           }
          ],
          "choropleth": [
           {
            "colorbar": {
             "outlinewidth": 0,
             "ticks": ""
            },
            "type": "choropleth"
           }
          ],
          "contour": [
           {
            "colorbar": {
             "outlinewidth": 0,
             "ticks": ""
            },
            "colorscale": [
             [
              0,
              "#0d0887"
             ],
             [
              0.1111111111111111,
              "#46039f"
             ],
             [
              0.2222222222222222,
              "#7201a8"
             ],
             [
              0.3333333333333333,
              "#9c179e"
             ],
             [
              0.4444444444444444,
              "#bd3786"
             ],
             [
              0.5555555555555556,
              "#d8576b"
             ],
             [
              0.6666666666666666,
              "#ed7953"
             ],
             [
              0.7777777777777778,
              "#fb9f3a"
             ],
             [
              0.8888888888888888,
              "#fdca26"
             ],
             [
              1,
              "#f0f921"
             ]
            ],
            "type": "contour"
           }
          ],
          "contourcarpet": [
           {
            "colorbar": {
             "outlinewidth": 0,
             "ticks": ""
            },
            "type": "contourcarpet"
           }
          ],
          "heatmap": [
           {
            "colorbar": {
             "outlinewidth": 0,
             "ticks": ""
            },
            "colorscale": [
             [
              0,
              "#0d0887"
             ],
             [
              0.1111111111111111,
              "#46039f"
             ],
             [
              0.2222222222222222,
              "#7201a8"
             ],
             [
              0.3333333333333333,
              "#9c179e"
             ],
             [
              0.4444444444444444,
              "#bd3786"
             ],
             [
              0.5555555555555556,
              "#d8576b"
             ],
             [
              0.6666666666666666,
              "#ed7953"
             ],
             [
              0.7777777777777778,
              "#fb9f3a"
             ],
             [
              0.8888888888888888,
              "#fdca26"
             ],
             [
              1,
              "#f0f921"
             ]
            ],
            "type": "heatmap"
           }
          ],
          "heatmapgl": [
           {
            "colorbar": {
             "outlinewidth": 0,
             "ticks": ""
            },
            "colorscale": [
             [
              0,
              "#0d0887"
             ],
             [
              0.1111111111111111,
              "#46039f"
             ],
             [
              0.2222222222222222,
              "#7201a8"
             ],
             [
              0.3333333333333333,
              "#9c179e"
             ],
             [
              0.4444444444444444,
              "#bd3786"
             ],
             [
              0.5555555555555556,
              "#d8576b"
             ],
             [
              0.6666666666666666,
              "#ed7953"
             ],
             [
              0.7777777777777778,
              "#fb9f3a"
             ],
             [
              0.8888888888888888,
              "#fdca26"
             ],
             [
              1,
              "#f0f921"
             ]
            ],
            "type": "heatmapgl"
           }
          ],
          "histogram": [
           {
            "marker": {
             "pattern": {
              "fillmode": "overlay",
              "size": 10,
              "solidity": 0.2
             }
            },
            "type": "histogram"
           }
          ],
          "histogram2d": [
           {
            "colorbar": {
             "outlinewidth": 0,
             "ticks": ""
            },
            "colorscale": [
             [
              0,
              "#0d0887"
             ],
             [
              0.1111111111111111,
              "#46039f"
             ],
             [
              0.2222222222222222,
              "#7201a8"
             ],
             [
              0.3333333333333333,
              "#9c179e"
             ],
             [
              0.4444444444444444,
              "#bd3786"
             ],
             [
              0.5555555555555556,
              "#d8576b"
             ],
             [
              0.6666666666666666,
              "#ed7953"
             ],
             [
              0.7777777777777778,
              "#fb9f3a"
             ],
             [
              0.8888888888888888,
              "#fdca26"
             ],
             [
              1,
              "#f0f921"
             ]
            ],
            "type": "histogram2d"
           }
          ],
          "histogram2dcontour": [
           {
            "colorbar": {
             "outlinewidth": 0,
             "ticks": ""
            },
            "colorscale": [
             [
              0,
              "#0d0887"
             ],
             [
              0.1111111111111111,
              "#46039f"
             ],
             [
              0.2222222222222222,
              "#7201a8"
             ],
             [
              0.3333333333333333,
              "#9c179e"
             ],
             [
              0.4444444444444444,
              "#bd3786"
             ],
             [
              0.5555555555555556,
              "#d8576b"
             ],
             [
              0.6666666666666666,
              "#ed7953"
             ],
             [
              0.7777777777777778,
              "#fb9f3a"
             ],
             [
              0.8888888888888888,
              "#fdca26"
             ],
             [
              1,
              "#f0f921"
             ]
            ],
            "type": "histogram2dcontour"
           }
          ],
          "mesh3d": [
           {
            "colorbar": {
             "outlinewidth": 0,
             "ticks": ""
            },
            "type": "mesh3d"
           }
          ],
          "parcoords": [
           {
            "line": {
             "colorbar": {
              "outlinewidth": 0,
              "ticks": ""
             }
            },
            "type": "parcoords"
           }
          ],
          "pie": [
           {
            "automargin": true,
            "type": "pie"
           }
          ],
          "scatter": [
           {
            "fillpattern": {
             "fillmode": "overlay",
             "size": 10,
             "solidity": 0.2
            },
            "type": "scatter"
           }
          ],
          "scatter3d": [
           {
            "line": {
             "colorbar": {
              "outlinewidth": 0,
              "ticks": ""
             }
            },
            "marker": {
             "colorbar": {
              "outlinewidth": 0,
              "ticks": ""
             }
            },
            "type": "scatter3d"
           }
          ],
          "scattercarpet": [
           {
            "marker": {
             "colorbar": {
              "outlinewidth": 0,
              "ticks": ""
             }
            },
            "type": "scattercarpet"
           }
          ],
          "scattergeo": [
           {
            "marker": {
             "colorbar": {
              "outlinewidth": 0,
              "ticks": ""
             }
            },
            "type": "scattergeo"
           }
          ],
          "scattergl": [
           {
            "marker": {
             "colorbar": {
              "outlinewidth": 0,
              "ticks": ""
             }
            },
            "type": "scattergl"
           }
          ],
          "scattermapbox": [
           {
            "marker": {
             "colorbar": {
              "outlinewidth": 0,
              "ticks": ""
             }
            },
            "type": "scattermapbox"
           }
          ],
          "scatterpolar": [
           {
            "marker": {
             "colorbar": {
              "outlinewidth": 0,
              "ticks": ""
             }
            },
            "type": "scatterpolar"
           }
          ],
          "scatterpolargl": [
           {
            "marker": {
             "colorbar": {
              "outlinewidth": 0,
              "ticks": ""
             }
            },
            "type": "scatterpolargl"
           }
          ],
          "scatterternary": [
           {
            "marker": {
             "colorbar": {
              "outlinewidth": 0,
              "ticks": ""
             }
            },
            "type": "scatterternary"
           }
          ],
          "surface": [
           {
            "colorbar": {
             "outlinewidth": 0,
             "ticks": ""
            },
            "colorscale": [
             [
              0,
              "#0d0887"
             ],
             [
              0.1111111111111111,
              "#46039f"
             ],
             [
              0.2222222222222222,
              "#7201a8"
             ],
             [
              0.3333333333333333,
              "#9c179e"
             ],
             [
              0.4444444444444444,
              "#bd3786"
             ],
             [
              0.5555555555555556,
              "#d8576b"
             ],
             [
              0.6666666666666666,
              "#ed7953"
             ],
             [
              0.7777777777777778,
              "#fb9f3a"
             ],
             [
              0.8888888888888888,
              "#fdca26"
             ],
             [
              1,
              "#f0f921"
             ]
            ],
            "type": "surface"
           }
          ],
          "table": [
           {
            "cells": {
             "fill": {
              "color": "#EBF0F8"
             },
             "line": {
              "color": "white"
             }
            },
            "header": {
             "fill": {
              "color": "#C8D4E3"
             },
             "line": {
              "color": "white"
             }
            },
            "type": "table"
           }
          ]
         },
         "layout": {
          "annotationdefaults": {
           "arrowcolor": "#2a3f5f",
           "arrowhead": 0,
           "arrowwidth": 1
          },
          "autotypenumbers": "strict",
          "coloraxis": {
           "colorbar": {
            "outlinewidth": 0,
            "ticks": ""
           }
          },
          "colorscale": {
           "diverging": [
            [
             0,
             "#8e0152"
            ],
            [
             0.1,
             "#c51b7d"
            ],
            [
             0.2,
             "#de77ae"
            ],
            [
             0.3,
             "#f1b6da"
            ],
            [
             0.4,
             "#fde0ef"
            ],
            [
             0.5,
             "#f7f7f7"
            ],
            [
             0.6,
             "#e6f5d0"
            ],
            [
             0.7,
             "#b8e186"
            ],
            [
             0.8,
             "#7fbc41"
            ],
            [
             0.9,
             "#4d9221"
            ],
            [
             1,
             "#276419"
            ]
           ],
           "sequential": [
            [
             0,
             "#0d0887"
            ],
            [
             0.1111111111111111,
             "#46039f"
            ],
            [
             0.2222222222222222,
             "#7201a8"
            ],
            [
             0.3333333333333333,
             "#9c179e"
            ],
            [
             0.4444444444444444,
             "#bd3786"
            ],
            [
             0.5555555555555556,
             "#d8576b"
            ],
            [
             0.6666666666666666,
             "#ed7953"
            ],
            [
             0.7777777777777778,
             "#fb9f3a"
            ],
            [
             0.8888888888888888,
             "#fdca26"
            ],
            [
             1,
             "#f0f921"
            ]
           ],
           "sequentialminus": [
            [
             0,
             "#0d0887"
            ],
            [
             0.1111111111111111,
             "#46039f"
            ],
            [
             0.2222222222222222,
             "#7201a8"
            ],
            [
             0.3333333333333333,
             "#9c179e"
            ],
            [
             0.4444444444444444,
             "#bd3786"
            ],
            [
             0.5555555555555556,
             "#d8576b"
            ],
            [
             0.6666666666666666,
             "#ed7953"
            ],
            [
             0.7777777777777778,
             "#fb9f3a"
            ],
            [
             0.8888888888888888,
             "#fdca26"
            ],
            [
             1,
             "#f0f921"
            ]
           ]
          },
          "colorway": [
           "#636efa",
           "#EF553B",
           "#00cc96",
           "#ab63fa",
           "#FFA15A",
           "#19d3f3",
           "#FF6692",
           "#B6E880",
           "#FF97FF",
           "#FECB52"
          ],
          "font": {
           "color": "#2a3f5f"
          },
          "geo": {
           "bgcolor": "white",
           "lakecolor": "white",
           "landcolor": "#E5ECF6",
           "showlakes": true,
           "showland": true,
           "subunitcolor": "white"
          },
          "hoverlabel": {
           "align": "left"
          },
          "hovermode": "closest",
          "mapbox": {
           "style": "light"
          },
          "paper_bgcolor": "white",
          "plot_bgcolor": "#E5ECF6",
          "polar": {
           "angularaxis": {
            "gridcolor": "white",
            "linecolor": "white",
            "ticks": ""
           },
           "bgcolor": "#E5ECF6",
           "radialaxis": {
            "gridcolor": "white",
            "linecolor": "white",
            "ticks": ""
           }
          },
          "scene": {
           "xaxis": {
            "backgroundcolor": "#E5ECF6",
            "gridcolor": "white",
            "gridwidth": 2,
            "linecolor": "white",
            "showbackground": true,
            "ticks": "",
            "zerolinecolor": "white"
           },
           "yaxis": {
            "backgroundcolor": "#E5ECF6",
            "gridcolor": "white",
            "gridwidth": 2,
            "linecolor": "white",
            "showbackground": true,
            "ticks": "",
            "zerolinecolor": "white"
           },
           "zaxis": {
            "backgroundcolor": "#E5ECF6",
            "gridcolor": "white",
            "gridwidth": 2,
            "linecolor": "white",
            "showbackground": true,
            "ticks": "",
            "zerolinecolor": "white"
           }
          },
          "shapedefaults": {
           "line": {
            "color": "#2a3f5f"
           }
          },
          "ternary": {
           "aaxis": {
            "gridcolor": "white",
            "linecolor": "white",
            "ticks": ""
           },
           "baxis": {
            "gridcolor": "white",
            "linecolor": "white",
            "ticks": ""
           },
           "bgcolor": "#E5ECF6",
           "caxis": {
            "gridcolor": "white",
            "linecolor": "white",
            "ticks": ""
           }
          },
          "title": {
           "x": 0.05
          },
          "xaxis": {
           "automargin": true,
           "gridcolor": "white",
           "linecolor": "white",
           "ticks": "",
           "title": {
            "standoff": 15
           },
           "zerolinecolor": "white",
           "zerolinewidth": 2
          },
          "yaxis": {
           "automargin": true,
           "gridcolor": "white",
           "linecolor": "white",
           "ticks": "",
           "title": {
            "standoff": 15
           },
           "zerolinecolor": "white",
           "zerolinewidth": 2
          }
         }
        },
        "title": {
         "text": "Price vs Battery_Life"
        },
        "xaxis": {
         "anchor": "y",
         "domain": [
          0,
          1
         ],
         "title": {
          "text": "Price"
         }
        },
        "yaxis": {
         "anchor": "x",
         "domain": [
          0,
          1
         ],
         "title": {
          "text": "Battery_Life_num"
         }
        }
       }
      },
      "text/html": [
       "<div>                            <div id=\"0d3bd330-46ac-46d9-a98e-8d2d5d6244da\" class=\"plotly-graph-div\" style=\"height:525px; width:100%;\"></div>            <script type=\"text/javascript\">                require([\"plotly\"], function(Plotly) {                    window.PLOTLYENV=window.PLOTLYENV || {};                                    if (document.getElementById(\"0d3bd330-46ac-46d9-a98e-8d2d5d6244da\")) {                    Plotly.newPlot(                        \"0d3bd330-46ac-46d9-a98e-8d2d5d6244da\",                        [{\"customdata\":[[\"Intel Core i5 (11th Gen)\",\"16 GB LP\"],[\"Intel Pentium Dual-Core\",\"8 GB LP\"],[\"Intel Core i5 (11th Gen) Processor\",\"8 GB \"],[\"Intel Core i5 (6th Gen)\",\"8 GB \"],[\"Intel Core M3 (6th Gen)\",\"4 GB \"],[\"Intel Core i7 (6th Gen)\",\"8 GB \"],[\"Intel Core i5 (6th Gen)\",\"4 GB \"],[\"Intel Core i5 (10th Gen)\",\"8 GB LP\"],[\"Intel Core M3 (7th Gen)\",\"4 GB \"],[\"Microsoft SQ1 Processor\",\"8 GB LP\"],[\"Intel Core i5 (11th Gen)\",\"8 GB LP\"],[\"Intel Core i7 (7th Gen)\",\"16 GB \"],[\"Intel Core i5 (11th Gen)\",\"8 GB LP\"],[\"Intel Core i5 (7th Gen)\",\"4 GB \"],[\"Intel Core i5 (8th Gen)\",\"8 GB \"],[\"Intel Core i5 (7th Gen)\",\"8 GB \"],[\"Intel Core i5 (12th Gen) Processor\",\"8 GB LP\"],[\"Intel Core i5 (12th Gen)\",\"8 GB LP\"],[\"Intel Core i7 (8th Gen)\",\"16 GB LP\"],[\"Intel Core i5 (12th Gen)\",\"8 GB LP\"],[\"Intel Core i7 (12th Gen)\",\"32 GB LP\"],[\"Intel Core i5 (12th Gen)\",\"8 GB LP\"],[\"Intel Core i5 (12th Gen)\",\"8 GB LP\"],[\"Intel Core i5 (12th Gen)\",\"8 GB LP\"],[\"Intel Core i7 (12th Gen)\",\"16 GB LP\"],[\"Intel Core i7 (11th Gen)\",\"16 GB \"],[\"Intel Core i7 (12th Gen)\",\"16 GB LP\"],[\"Intel Core i7 (8th Gen)\",\"16 GB \"],[\"Intel Core i7 (12th Gen)\",\"8 GB LP\"],[\"Intel Core i5 (12th Gen)\",\"8 GB LP\"],[\"Intel Core i7 (12th Gen)\",\"16 GB LP\"],[\"AMD Hexa-Core Ryzen 5\",\"8 GB LP\"]],\"hovertemplate\":\"Brand=Microsoft<br>Price=%{x}<br>Battery_Life_num=%{y}<br>Processor_Name=%{customdata[0]}<br>RAM=%{customdata[1]}<extra></extra>\",\"legendgroup\":\"Microsoft\",\"marker\":{\"color\":\"#636efa\",\"symbol\":\"circle\"},\"mode\":\"markers\",\"name\":\"Microsoft\",\"showlegend\":true,\"x\":[0.2903992740471869,0.09679370840895342,0.18148820326678766,0.18552127445049404,0.1399657188949385,0.21982052833232507,0.14519056261343014,0.17039725751159507,0.08469449485783424,0.11496269409155072,0.14722524702561,0.2811252268602541,0.13310949788263762,0.1452087114337568,0.21980237951199838,0.21578745714861866,0.14519056261343014,0.14519056261343014,0.488021778584392,0.16329703569267998,0.5122000403307119,0.18552127445049404,0.19157088122605365,0.18552127445049404,0.3730590844928413,0.24198427102238354,0.35289372857430934,0.43357330106876385,0.25610002016535593,0.17555152248437184,0.33272837265577737,0.189574510990119],\"xaxis\":\"x\",\"y\":[2.25,4.0,6.0,9.0,9.0,9.0,9.0,10.5,13.0,13.0,13.5,13.5,13.5,13.5,14.0,14.0,15.0,15.0,15.0,15.5,15.5,15.5,15.5,15.5,15.5,16.0,17.0,17.0,17.0,18.0,18.0,19.0],\"yaxis\":\"y\",\"type\":\"scattergl\"},{\"customdata\":[[\"Intel Celeron Dual-Core\",\"8 GB \"],[\"1.7 Ghz Processor\",\"4 GB \"],[\"AMD Dual-Core E1 APU\",\"4 GB \"],[\"AMD Hexa-Core Ryzen 5\",\"8 GB \"],[\"AMD Dual-Core Ryzen 3\",\"8 GB \"],[\"1.9 Ghz Processor\",\"4 GB \"],[\"AMD Quad-Core APU\",\"4 GB \"],[\"AMD Octa-Core Ryzen 7\",\"16 GB \"],[\"AMD Hexa-Core Ryzen 5\",\"8 GB \"],[\"AMD Dual-Core Ryzen 3\",\"8 GB \"],[\"Intel Core i5 (12th Gen)\",\"8 GB \"],[\"Intel Core i3 (12th Gen)\",\"8 GB \"],[\"AMD Quad-Core Ryzen 5\",\"8 GB \"],[\"Intel Core i7 (11th Gen) Processor\",\"8 GB \"],[\"AMD Dual-Core Athlon\",\"4 GB \"],[\"AMD Dual-Core Ryzen 3\",\"8 GB \"],[\"AMD Dual-Core Ryzen 3\",\"8 GB \"],[\"AMD Dual-Core A9 APU\",\"4 GB \"],[\"AMD Dual-Core Athlon\",\"4 GB \"],[\"Intel Core i3 (6th Gen)\",\"4 GB \"],[\"Intel Core i5 (6th Gen)\",\"4 GB \"],[\"Intel Core i3 (6th Gen)\",\"4 GB \"],[\"AMD Hexa-Core Ryzen 5\",\"8 GB \"],[\"AMD Hexa-Core Ryzen 5\",\"8 GB \"],[\"AMD Hexa-Core Ryzen 5\",\"8 GB \"],[\"Intel Core i7 (12th Gen) Processor\",\"16 GB \"],[\"Intel Core i5 (8th Gen)\",\"8 GB \"],[\"AMD Dual-Core Ryzen 3\",\"8 GB \"],[\"Intel Core i5 (12th Gen)\",\"8 GB \"],[\"Intel Core i3 (11th Gen)\",\"4 GB \"],[\"AMD Dual-Core Athlon\",\"4 GB \"],[\"Intel Core i3 (6th Gen)\",\"4 GB \"],[\"Intel Pentium Quad-Core\",\"4 GB \"],[\"AMD Hexa-Core Ryzen 5\",\"8 GB \"],[\"AMD Dual-Core Ryzen 3 Processor\",\"4 GB \"],[\"Intel Core i3 (10th Gen)\",\"4 GB \"],[\"Intel Core i5 (12th Gen)\",\"8 GB \"],[\"AMD Octa-Core Ryzen 7\",\"8 GB \"],[\"AMD Hexa-Core Ryzen 5 Processor\",\"16 GB \"],[\"Intel Core i5 (11th Gen)\",\"8 GB \"],[\"AMD Octa-Core Ryzen 7\",\"16 GB \"],[\"Intel Core i5 (6th Gen)\",\"8 GB \"],[\"AMD Quad-Core APU\",\"4 GB \"],[\"Intel Core i3 (7th Gen)\",\"4 GB \"],[\"AMD Dual-Core Athlon\",\"4 GB \"],[\"Intel Core i3 (11th Gen)\",\"8 GB \"],[\"Intel Core i5 (10th Gen)\",\"8 GB \"],[\"Intel Core i5 (11th Gen)\",\"8 GB \"],[\"AMD Dual-Core Ryzen 3\",\"8 GB \"],[\"Intel Core Ultra 5\",\"16 GB \"],[\"Intel Core Ultra 5\",\"8 GB \"],[\"Intel Core i7 (13th Gen)\",\"16 GB \"],[\"Intel Core i5 (12th Gen)\",\"16 GB \"],[\"Intel Core i5 (11th Gen)\",\"8 GB \"],[\"Intel Core i3 (11th Gen)\",\"8 GB \"],[\"AMD Dual-Core Ryzen 3\",\"8 GB \"],[\"AMD Dual-Core Ryzen 3\",\"8 GB \"],[\"AMD Octa-Core Ryzen 7\",\"16 GB \"],[\"AMD Dual-Core Ryzen 3\",\"8 GB \"],[\"Intel Core i9 (11th Gen)\",\"32 GB \"],[\"Intel Core i5 (11th Gen)\",\"8 GB \"],[\"Intel Core i3 (12th Gen)\",\"8 GB \"],[\"Intel Core i5 (12th Gen)\",\"8 GB \"],[\"Intel Core i3 (12th Gen)\",\"8 GB \"],[\"Intel Celeron Dual-Core\",\"8 GB \"],[\"Intel Core i3 (12th Gen)\",\"8 GB \"],[\"Intel Core i5 (12th Gen)\",\"16 GB \"],[\"Intel Core i7 (12th Gen)\",\"16 GB \"],[\"Intel Core i3 (13th Gen)\",\"8 GB \"],[\"AMD Octa-Core Ryzen 7\",\"16 GB \"],[\"Intel Core i9 (12th Gen)\",\"32 GB \"],[\"Intel Core i5 (12th Gen)\",\"8 GB \"],[\"Intel Core i7 (12th Gen)\",\"16 GB \"],[\"AMD Octa-Core Ryzen 7\",\"16 GB \"],[\"Intel Core i7 (13th Gen)\",\"16 GB \"],[\"Intel Core i7 (13th Gen)\",\"16 GB \"],[\"Intel Core i7 (11th Gen)\",\"16 GB \"],[\"AMD Dual-Core Athlon\",\"4 GB \"],[\"Intel Core i5 (11th Gen)\",\"8 GB \"],[\"Intel Core i5 (12th Gen) Processor\",\"16 GB \"],[\"AMD Octa-Core Ryzen 7\",\"16 GB \"],[\"Intel Pentium Dual-Core\",\"4 GB \"],[\"Intel Core i5 (11th Gen)\",\"16 GB \"],[\"Intel Core i5 (11th Gen)\",\"16 GB \"],[\"AMD Octa-Core Ryzen 7\",\"16 GB LP\"],[\"Intel Core i5 (11th Gen)\",\"16 GB \"],[\"Intel Core i7 (11th Gen)\",\"16 GB \"],[\"Intel Core i5 (12th Gen)\",\"8 GB \"],[\"Intel Core i5 (10th Gen)\",\"8 GB \"],[\"Intel Core i7 (11th Gen)\",\"16 GB \"],[\"AMD Quad-Core Ryzen 3\",\"8 GB \"],[\"AMD Hexa-Core Ryzen 5\",\"8 GB \"],[\"AMD Hexa-Core Ryzen 5\",\"8 GB \"],[\"Intel Core i3 (11th Gen)\",\"8 GB \"],[\"Intel Core i5 (13th Gen)\",\"16 GB \"],[\"AMD Octa-Core Ryzen 7\",\"16 GB \"],[\"AMD Octa-Core Ryzen 7\",\"16 GB \"],[\"AMD Hexa-Core Ryzen 5\",\"8 GB \"],[\"AMD Hexa-Core Ryzen 5\",\"16 GB \"],[\"Intel Core i5 (12th Gen)\",\"16 GB \"],[\"Intel Core i3 (13th Gen)\",\"8 GB \"],[\"Intel Core i3 (11th Gen)\",\"8 GB \"],[\"AMD Octa-Core Ryzen 7\",\"16 GB \"],[\"AMD Octa-Core Ryzen 7\",\"16 GB \"],[\"Intel Core i5 (8th Gen)\",\"8 GB \"],[\"Intel Core i5 (11th Gen)\",\"8 GB \"],[\"AMD Hexa-Core Ryzen 5\",\"8 GB \"],[\"Intel Core i5 (11th Gen)\",\"16 GB \"],[\"Intel Core i3 (11th Gen)\",\"8 GB \"],[\"AMD Hexa-Core Ryzen 5\",\"8 GB \"],[\"Intel Core i7 (12th Gen)\",\"16 GB \"],[\"Intel Core i3 (11th Gen)\",\"8 GB \"],[\"AMD Dual-Core Athlon\",\"8 GB \"],[\"Intel Core i5 (12th Gen)\",\"16 GB \"],[\"AMD Hexa-Core Ryzen 5\",\"16 GB \"],[\"AMD Quad-Core Ryzen 3\",\"8 GB \"],[\"Intel Core i3 (11th Gen)\",\"8 GB \"],[\"Intel Core i5 (10th Gen)\",\"8 GB \"],[\"AMD Hexa-Core Ryzen 5\",\"16 GB \"],[\"Intel Core i3 (8th Gen)\",\"4 GB \"],[\"Intel Core i5 (12th Gen)\",\"16 GB \"],[\"AMD Dual-Core Ryzen 3\",\"8 GB \"],[\"Intel Core i5 (12th Gen)\",\"8 GB \"],[\"Intel Core i5 (9th Gen)\",\"8 GB \"],[\"Intel Core i5 (12th Gen)\",\"8 GB \"],[\"AMD Hexa-Core Ryzen 5\",\"8 GB \"],[\"Intel Core i5 (11th Gen)\",\"8 GB \"],[\"Intel Core i5 (12th Gen)\",\"8 GB \"],[\"Intel Core i5 (13th Gen)\",\"16 GB \"],[\"Intel Core i5 (12th Gen)\",\"8 GB \"],[\"AMD Octa-Core Ryzen 7\",\"16 GB \"],[\"Intel Core i7 (12th Gen)\",\"8 GB \"],[\"Intel Core i7 (12th Gen)\",\"16 GB \"],[\"Intel Core i5 (12th Gen)\",\"8 GB \"],[\"Intel Core i3 (12th Gen)\",\"8 GB \"],[\"Intel Core i5 (7th Gen)\",\"8 GB \"],[\"Intel Core i5 (8th Gen)\",\"8 GB \"],[\"Intel Core i3 (12th Gen)\",\"8 GB \"],[\"Intel Core i5 (12th Gen)\",\"16 GB \"],[\"AMD Quad-Core Ryzen 5\",\"16 GB LP\"],[\"Intel Core i5 (12th Gen)\",\"16 GB \"],[\"Intel Core i5 (8th Gen)\",\"8 GB \"],[\"Intel Core Ultra 5\",\"16 GB LP\"],[\"AMD Dual-Core A9 APU\",\"4 GB \"],[\"Intel Core i5 (12th Gen)\",\"16 GB \"],[\"Intel Core i3 (11th Gen)\",\"8 GB \"],[\"Intel Core i7 (12th Gen)\",\"16 GB \"],[\"Intel Core i3 (11th Gen)\",\"8 GB \"],[\"AMD Quad-Core Ryzen 5\",\"16 GB LP\"],[\"AMD Octa-Core Ryzen 7\",\"16 GB \"],[\"AMD Octa-Core Ryzen 7\",\"16 GB \"],[\"AMD Octa-Core Ryzen 7\",\"16 GB \"],[\"AMD Octa-Core Ryzen 7\",\"16 GB \"],[\"AMD Hexa-Core Ryzen 5\",\"8 GB \"],[\"Intel Core i5 (8th Gen)\",\"8 GB \"],[\"Intel Core i7 (11th Gen)\",\"16 GB \"],[\"Intel Pentium Quad-Core\",\"8 GB \"],[\"AMD Quad-Core Ryzen 3\",\"8 GB LP\"],[\"Intel Pentium Quad-Core\",\"8 GB \"],[\"Intel Core i3 (11th Gen)\",\"8 GB \"],[\"Intel Core i3 (11th Gen)\",\"8 GB \"],[\"Intel Core i5 (11th Gen) Processor\",\"8 GB \"],[\"MediaTek Octa-core\",\"4 GB \"],[\"Intel Core i5 (11th Gen)\",\"16 GB \"],[\"Intel Celeron Dual-Core\",\"8 GB \"],[\"Intel Core i7 (11th Gen)\",\"16 GB \"],[\"AMD Hexa-Core Ryzen 5\",\"16 GB \"],[\"Intel Core i3 (10th Gen)\",\"8 GB \"],[\"Intel Core i5 (11th Gen)\",\"8 GB \"],[\"Intel Core i5 (11th Gen)\",\"8 GB \"],[\"Intel Core i5 (11th Gen)\",\"16 GB \"],[\"Intel Core i5 (11th Gen)\",\"8 GB \"],[\"Intel Core i5 (11th Gen)\",\"8 GB \"],[\"Intel Celeron Dual-Core\",\"8 GB \"],[\"AMD Dual-Core Ryzen 3\",\"4 GB \"],[\"Intel Core i7 (11th Gen)\",\"32 GB \"],[\"Intel Core i9 (11th Gen)\",\"32 GB \"],[\"Intel Core Ultra 7\",\"32 GB LP\"],[\"Intel Core Ultra 7\",\"32 GB LP\"],[\"Intel Core Ultra 7\",\"32 GB LP\"],[\"Intel Core i3 (6th Gen)\",\"4 GB \"],[\"AMD Octa-Core Ryzen 7 Processor\",\"16 GB \"],[\"Intel Core i7 (12th Gen)\",\"16 GB \"],[\"Intel Core i5 (12th Gen)\",\"16 GB \"],[\"Intel Core i7 (12th Gen)\",\"16 GB LP\"],[\"Intel Core i7 (12th Gen)\",\"16 GB LP\"],[\"Intel Core i7 (12th Gen)\",\"16 GB LP\"],[\"Intel Core i7 (13th Gen)\",\"32 GB LP\"],[\"Intel Core i5 (12th Gen)\",\"16 GB \"],[\"Intel Core i7 (12th Gen)\",\"16 GB \"],[\"Intel Core i7 (12th Gen)\",\"16 GB \"],[\"Intel Core i5 (11th Gen)\",\"16 GB \"],[\"AMD Octa-Core Ryzen 7\",\"16 GB \"],[\"AMD Octa-Core Ryzen 7\",\"16 GB \"],[\"MediaTek Octa-core\",\"4 GB LP\"],[\"AMD Octa-Core Ryzen 7\",\"16 GB \"],[\"Intel Core i7 (10th Gen)\",\"8 GB LP\"],[\"Intel Core i7 (12th Gen)\",\"16 GB \"],[\"Intel Core i5 (12th Gen)\",\"8 GB LP\"]],\"hovertemplate\":\"Brand=HP<br>Price=%{x}<br>Battery_Life_num=%{y}<br>Processor_Name=%{customdata[0]}<br>RAM=%{customdata[1]}<extra></extra>\",\"legendgroup\":\"HP\",\"marker\":{\"color\":\"#EF553B\",\"symbol\":\"circle\"},\"mode\":\"markers\",\"name\":\"HP\",\"showlegend\":true,\"x\":[0.030266182698124623,0.07642669893123613,0.023208308126638436,0.05244807420850978,0.035307521677757615,0.06466223028836458,0.03329098608590442,0.14519056261343014,0.09477717281710023,0.036297640653357534,0.09679370840895342,0.05041338979632991,0.04617866505343819,0.21679572494454527,0.023996773543053036,0.038314176245210725,0.03228271828997782,0.027826174631982253,0.030248033877797943,0.04335551522484372,0.06938898971566848,0.05426497277676951,0.0927787860455737,0.09881024400080661,0.0544464609800363,0.11695906432748537,0.06454325468844525,0.03730590844928413,0.08067957249445452,0.04436378302077032,0.050431538616656585,0.04648316192780803,0.03418632788868724,0.05809437386569873,0.03429925388183101,0.07160516233111515,0.09076225045372051,0.08166969147005444,0.06856221012300867,0.06755394232708208,0.08267795926598104,0.08506957047791894,0.02218189151038516,0.04186327888687235,0.04033071183706392,0.06452913893930227,0.09781407541843114,0.12141560798548094,0.03710425489009881,0.12905827787860455,0.12300867110304498,0.23593466424682397,0.1023694293204275,0.09882839282113329,0.07765678564226658,0.047388586408550114,0.05847953216374269,0.2137527727364388,0.060496067755595885,0.3658197217180883,0.10447670901391409,0.06858035894333535,0.09578544061302682,0.060496067755595885,0.04234724742891712,0.07040129058277879,0.08840088727566041,0.14519056261343014,0.06481548699334544,0.1767291792700141,0.3266989312361363,0.11072595281306714,0.1532567049808429,0.19157088122605365,0.18148820326678766,0.16535591853196208,0.20147207098205283,0.02601330913490623,0.12502520669489817,0.08834240774349668,0.12101028433151845,0.043641863278886875,0.11597096188747731,0.11697721314781206,0.1532567049808429,0.11675741076830005,0.22327283726557773,0.13712442024601734,0.1232224238757814,0.25428513813268805,0.04638031861262351,0.05748941318814277,0.08390602944141964,0.05869933454325469,0.10891107078039927,0.11474087517644686,0.20367009477717282,0.10891107078039927,0.06875176446864287,0.13631780600927607,0.06654567453115548,0.055474894131881426,0.08267795926598104,0.1532748538011696,0.07866303690260133,0.08943335349868925,0.13914095583787053,0.08269610808630773,0.06051623311151442,0.08661222020568662,0.32669691470054446,0.05854607783827385,0.034281105061504336,0.13391812865497077,0.10244000806614237,0.05240572696108086,0.07462996571889494,0.18768905021173624,0.11695906432748537,0.06735430530348861,0.11076225045372051,0.04638031861262351,0.0927787860455737,0.22990320629159106,0.0947953216374269,0.09376890502117362,0.1127445049405122,0.1088929219600726,0.12300867110304498,0.13361564831619277,0.11090945755192579,0.1593063117564025,0.17344020971970156,0.11822746521476105,0.06251260334744908,0.1088929219600726,0.12381528533978625,0.09376890502117362,0.13510788465416415,0.07461181689856826,0.14117765678564226,0.08872756604154064,0.1431195805605969,0.034281105061504336,0.13510788465416415,0.09477717281710023,0.1678967533776971,0.10185319620891309,0.10364387981447873,0.2176043557168784,0.3065315587820125,0.2368501714055253,0.23676144383948378,0.15591853196208913,0.06654567453115548,0.15650332728372657,0.0300645291389393,0.060496067755595885,0.04196208913087316,0.07057874571486186,0.08166969147005444,0.08531760435571688,0.030248033877797943,0.1294615849969752,0.0421455938697318,0.13510788465416415,0.0858600524299254,0.07259528130671507,0.08771929824561403,0.09348659003831418,0.12300867110304498,0.08471264367816092,0.13694293204275054,0.035206694898164956,0.05041338979632991,0.4837870538415003,0.4305484976809841,0.3569267997580157,0.3184916313772938,0.32667876588021777,0.04436378302077032,0.1996370235934664,0.23736640451703972,0.17929017947166767,0.3261988304093567,0.29038112522686027,0.2752772736438798,0.29441419641056665,0.16636418632788869,0.20348860657390602,0.2982819116757411,0.1983545069570478,0.19000604960677556,0.12905827787860455,0.028231498285944748,0.18533978624722727,0.22506553740673524,0.27727364387981446,0.13250453720508168],\"xaxis\":\"x\",\"y\":[2.5,3.0,3.0,3.0,3.0,3.0,4.0,4.0,4.0,4.0,4.0,4.0,4.0,4.0,4.0,4.0,4.0,4.0,4.0,4.0,4.0,4.0,4.0,4.0,4.0,4.0,4.0,4.0,4.5,5.0,5.0,5.0,5.0,5.0,5.0,5.0,6.0,6.0,6.0,6.0,6.0,6.0,6.0,6.0,6.0,6.0,6.0,6.0,6.0,6.15,6.15,6.3,6.3,6.3,7.0,7.0,7.0,7.0,7.0,7.15,7.15,7.3,7.3,7.3,7.3,7.3,7.3,7.45,7.45,7.45,7.45,7.45,7.45,8.0,8.0,8.0,8.0,8.0,8.0,8.0,8.0,8.0,8.0,8.0,8.0,8.45,8.45,8.45,9.0,9.0,9.0,9.0,9.0,9.0,9.0,9.0,9.0,9.0,9.0,9.0,9.0,9.0,9.0,9.0,9.0,9.15,9.15,9.15,9.15,9.15,9.15,9.15,9.15,9.3,9.3,9.45,9.45,10.0,10.0,10.0,10.0,10.0,10.0,10.0,10.0,10.0,10.0,10.0,10.15,10.15,10.15,10.3,10.3,10.3,10.45,10.5,10.5,11.0,11.0,11.0,11.0,11.0,11.0,11.0,11.0,11.0,11.0,11.0,11.15,11.45,11.45,11.45,11.45,11.45,11.5,12.0,12.0,12.0,12.0,12.0,12.0,12.0,12.0,12.0,12.0,12.0,12.0,12.0,12.0,12.0,12.0,12.0,12.0,12.0,12.0,12.0,12.0,12.3,12.3,12.3,12.5,12.5,13.0,13.0,13.3,13.3,13.3,13.3,13.3,13.3,13.45,14.0,14.0,14.3,15.45,16.3,19.0,19.0,20.0],\"yaxis\":\"y\",\"type\":\"scattergl\"},{\"customdata\":[[\"AMD Octa-Core Ryzen 7\",\"16 GB \"],[\"Intel Core i5 (12th Gen)\",\"16 GB \"],[\"Intel Core i5 (10th Gen)\",\"8 GB \"],[\"Intel Core i7 (12th Gen)\",\"16 GB \"],[\"Intel Core i5 (13th Gen)\",\"16 GB \"],[\"Intel Core i5 (8th Gen)\",\"8 GB \"],[\"Intel Core i3 (11th Gen)\",\"8 GB \"],[\"Intel Core i3 (10th Gen) Processor\",\"8 GB \"],[\"AMD Octa-Core Ryzen 9\",\"16 GB \"],[\"Intel Core i5 (12th Gen) Processor\",\"16 GB \"],[\"AMD Quad-Core Ryzen 5\",\"16 GB \"],[\"Intel Core i7 (12th Gen)\",\"16 GB \"],[\"Intel Core i5 (11th Gen)\",\"16 GB \"],[\"AMD Octa-Core Ryzen 7\",\"16 GB \"],[\"Intel Core i7 (12th Gen)\",\"16 GB \"],[\"AMD Hexa-Core Ryzen 5\",\"16 GB \"],[\"Intel Core i5 (12th Gen)\",\"8 GB \"],[\"AMD Hexa-Core Ryzen 5 Processor\",\"16 GB \"],[\"Intel Core i7 (4th Gen)\",\"12 GB \"],[\"AMD Hexa-Core Ryzen 5\",\"8 GB \"],[\"Intel Core i7 (7th Gen)\",\"8 GB \"],[\"Intel Pentium Quad-Core Processor\",\"4 GB \"],[\"AMD Quad-Core Ryzen 5\",\"8 GB \"],[\"AMD Octa-Core Ryzen 9\",\"16 GB \"],[\"Intel Core i7 (10th Gen)\",\"8 GB \"],[\"Intel Core i5 (6th Gen)\",\"4 GB \"],[\"Intel Celeron Quad-Core\",\"2 GB \"],[\"Intel Core i5 (7th Gen)\",\"8 GB \"],[\"1.8 Ghz Processor\",\"2 GB \"],[\"Intel Core i5 (6th Gen)\",\"4 GB \"],[\"Intel Core i5 (7th Gen)\",\"4 GB \"],[\"Intel Core i5 (12th Gen)\",\"16 GB \"],[\"Intel Core i5 (10th Gen)\",\"8 GB \"],[\"Intel Core i3 (11th Gen)\",\"4 GB \"],[\"Intel Core i3 (11th Gen)\",\"8 GB RAM\"],[\"Intel Core i7 (6th Gen)\",\"16 GB \"],[\"AMD Dual-Core A9 APU\",\"4 GB \"],[\"AMD Octa-Core Ryzen 9\",\"16 GB \"],[\"AMD Hexa-Core Ryzen 5\",\"16 GB \"],[\"Intel Core M3 (7th Gen)\",\"4 GB \"],[\"Intel Core i5 (11th Gen)\",\"8 GB \"],[\"Intel Core i5 (13th Gen)\",\"16 GB \"],[\"Intel Core i5 (12th Gen)\",\"16 GB \"],[\"Intel Pentium Quad-Core\",\"4 GB \"],[\"Intel Core i5 (11th Gen)\",\"8 GB \"],[\"Intel Core i5 (10th Gen)\",\"8 GB \"],[\"Intel Core i5 (13th Gen)\",\"16 GB \"],[\"Intel Core i3 (11th Gen)\",\"8 GB RAM\"],[\"Intel Core i5 (13th Gen)\",\"16 GB \"],[\"Intel Core i7 (11th Gen)\",\"16 GB \"],[\"Intel Core i7 (12th Gen)\",\"16 GB \"],[\"Intel Core i5 (11th Gen) Processor\",\"8 GB \"],[\"AMD Hexa-Core Ryzen 5\",\"16 GB \"],[\"Intel Core i3 (11th Gen)\",\"8 GB \"],[\"Intel Core i5 (11th Gen)\",\"8 GB \"],[\"Intel Core i5 (13th Gen)\",\"16 GB \"],[\"Intel Core i5 (12th Gen)\",\"16 GB \"],[\"Intel Pentium Quad-Core\",\"8 GB \"],[\"AMD Quad-Core Ryzen 5\",\"16 GB LP\"],[\"Intel Core i5 (13th Gen)\",\"16 GB \"],[\"AMD Quad-Core Ryzen 5\",\"16 GB \"],[\"AMD Hexa-Core Ryzen 5 Processor\",\"8 GB \"],[\"Intel Core i3 (11th Gen)\",\"8 GB \"],[\"Intel Core i5 (12th Gen)\",\"8 GB \"],[\"AMD Octa-Core Ryzen 7\",\"16 GB \"],[\"Intel Core i9 (13th Gen)\",\"16 GB \"],[\"Intel Core i7 (12th Gen)\",\"16 GB \"],[\"Intel Core i5 (12th Gen)\",\"16 GB \"],[\"Intel Pentium Gold\",\"8 GB \"],[\"Intel Core i3 (12th Gen)\",\"8 GB \"],[\"Intel Core i5 (13th Gen)\",\"16 GB \"],[\"AMD Octa-Core Ryzen 7\",\"16 GB \"],[\"Intel Core i3 (11th Gen)\",\"8 GB LP\"],[\"Intel Core i3 (11th Gen)\",\"8 GB \"],[\"AMD Quad-Core Ryzen 7\",\"16 GB \"],[\"Intel Core i3 (10th Gen)\",\"8 GB \"],[\"AMD Quad-Core Ryzen 5\",\"8 GB \"],[\"Intel Celeron Dual-Core\",\"4 GB \"],[\"Intel Core i5 (11th Gen)\",\"8 GB \"],[\"Intel Core i5 (11th Gen)\",\"8 GB \"],[\"Intel Core i3 (12th Gen)\",\"8 GB \"],[\"Intel Core i5 (10th Gen)\",\"8 GB \"],[\"Intel Core i3 (10th Gen)\",\"8 GB \"],[\"Intel Core i5 (10th Gen) Processor\",\"8 GB \"],[\"Intel Core i3 (10th Gen)\",\"8 GB \"],[\"Intel Core i3 (10th Gen)\",\"8 GB \"],[\"Intel Core i3 (13th Gen)\",\"8 GB \"],[\"Intel Core i3 (11th Gen)\",\"8 GB \"],[\"Intel Core i3 (11th Gen)\",\"8 GB \"],[\"Intel Core i3 (12th Gen)\",\"8 GB \"],[\"AMD Dual-Core Ryzen 3\",\"8 GB \"],[\"Intel Core i3 (10th Gen)\",\"8 GB \"],[\"Intel Celeron Dual-Core\",\"8 GB \"],[\"Intel Celeron Dual-Core\",\"4 GB \"],[\"AMD Quad-Core Ryzen 3\",\"8 GB LP\"],[\"Intel Core i3 (12th Gen)\",\"8 GB \"],[\"Intel Core i3 (11th Gen)\",\"8 GB \"],[\"Intel Core i5 (10th Gen)\",\"8 GB \"],[\"Intel Core i3 (10th Gen)\",\"4 GB \"],[\"Intel Core i3 (11th Gen)\",\"8 GB \"],[\"Intel Core i3 (12th Gen)\",\"8 GB \"],[\"Intel Core i3 (11th Gen)\",\"8 GB \"],[\"Intel Core i3 (10th Gen)\",\"8 GB \"],[\"Intel Core i5 (12th Gen)\",\"8 GB \"],[\"Intel Core i5 (10th Gen)\",\"16 GB \"],[\"Intel Core i3 (11th Gen)\",\"8 GB LP\"],[\"Intel Core i3 (13th Gen)\",\"8 GB \"],[\"Intel Core i3 (13th Gen)\",\"8 GB \"],[\"Intel Core i5 (13th Gen)\",\"16 GB \"],[\"Intel Core i3 (13th Gen)\",\"8 GB \"],[\"AMD Quad-Core Ryzen 3\",\"8 GB \"],[\"AMD Octa-Core Ryzen 7\",\"16 GB \"],[\"Intel Core i3 (11th Gen)\",\"8 GB \"],[\"Intel Core i3 (11th Gen)\",\"8 GB \"],[\"AMD Octa-Core Ryzen 7\",\"16 GB \"],[\"Intel Core i5 (11th Gen)\",\"8 GB \"],[\"Intel Core i5 (6th Gen)\",\"4 GB \"],[\"AMD Octa-Core Ryzen 7\",\"16 GB \"],[\"Intel Core i5 (11th Gen)\",\"16 GB \"],[\"Intel Core i5 (13th Gen)\",\"16 GB \"],[\"Intel Core i5 (10th Gen)\",\"8 GB \"],[\"Intel Core i3 (13th Gen)\",\"8 GB \"],[\"AMD Quad-Core Ryzen 5\",\"8 GB \"],[\"Intel Core i3 (11th Gen)\",\"8 GB \"],[\"Intel Pentium Quad-Core\",\"8 GB \"],[\"Intel Core i3 (12th Gen)\",\"8 GB \"],[\"AMD Octa-Core Ryzen 7\",\"16 GB \"],[\"Intel Core i5 (11th Gen)\",\"8 GB \"],[\"Intel Core i5 (11th Gen)\",\"8 GB \"],[\"Intel Core i5 (11th Gen)\",\"8 GB \"],[\"AMD Dual-Core Ryzen 3\",\"8 GB \"],[\"Intel Core i5 (11th Gen)\",\"16 GB \"],[\"Intel Core i5 (12th Gen)\",\"16 GB \"],[\"Intel Core i7 (11th Gen)\",\"16 GB \"],[\"Intel Core i5 (10th Gen)\",\"8 GB \"],[\"Intel Pentium Quad-Core\",\"8 GB \"],[\"AMD Dual-Core Ryzen 3\",\"8 GB \"],[\"Intel Core i7 (11th Gen)\",\"16 GB \"],[\"AMD Quad-Core Ryzen 7 Processor\",\"16 GB \"],[\"Intel Core i3 (12th Gen)\",\"8 GB \"],[\"Intel Celeron Dual-Core\",\"2 GB \"],[\"Intel Core i7 (10th Gen)\",\"8 GB \"],[\"Intel Core i5 (13th Gen)\",\"16 GB \"],[\"AMD Octa-Core Ryzen 7\",\"16 GB \"],[\"Intel Core Ultra 7\",\"32 GB LP\"],[\"Intel Core i5 (11th Gen)\",\"16 GB \"],[\"Intel Core i9 (12th Gen)\",\"16 GB LP\"],[\"AMD Octa-Core Ryzen 9\",\"32 GB \"],[\"Intel Core i5 (12th Gen)\",\"16 GB \"],[\"Intel Core i7 (13th Gen)\",\"16 GB LP\"],[\"AMD Octa-Core Ryzen 7\",\"16 GB \"],[\"Intel Core i7 (13th Gen)\",\"32 GB LP\"],[\"Intel Core i5 (11th Gen)\",\"16 GB \"],[\"Intel Core i5 (12th Gen)\",\"16 GB LP\"],[\"Intel Core i7 (13th Gen)\",\"16 GB LP\"],[\"Intel Core i5 (12th Gen)\",\"16 GB \"],[\"Intel Core i5 (12th Gen)\",\"8 GB \"],[\"AMD Octa-Core Ryzen 7\",\"16 GB \"],[\"AMD Quad-Core Ryzen 5\",\"16 GB \"],[\"AMD Quad-Core Ryzen 5\",\"16 GB \"],[\"AMD Hexa-Core Ryzen 5\",\"16 GB \"],[\"Intel Core i5 (13th Gen)\",\"16 GB \"],[\"Intel Core i5 (11th Gen)\",\"8 GB \"],[\"Intel Core i7 (13th Gen)\",\"16 GB LP\"],[\"AMD Octa-Core Ryzen 9\",\"16 GB \"],[\"Intel Core i9 (11th Gen)\",\"16 GB \"],[\"Intel Core i9 (13th Gen)\",\"16 GB LP\"],[\"AMD Octa-Core Ryzen 7\",\"32 GB \"],[\"Intel Core i3 (12th Gen)\",\"8 GB \"],[\"Intel Core i5 (13th Gen)\",\"16 GB LP\"],[\"Intel Core i5 (13th Gen)\",\"16 GB LP\"],[\"Intel Core i3 (12th Gen)\",\"8 GB \"],[\"Intel Core Ultra 9\",\"32 GB LP\"],[\"AMD Quad-Core Ryzen 5\",\"16 GB \"],[\"Intel Core i7 (12th Gen)\",\"32 GB LP\"],[\"Intel Core i5 (12th Gen)\",\"16 GB \"],[\"AMD Hexa-Core Ryzen 5\",\"16 GB \"],[\"AMD Dual-Core Ryzen 3\",\"4 GB \"],[\"Intel Core i7 (12th Gen)\",\"16 GB \"],[\"AMD Octa-Core Ryzen 7\",\"16 GB \"],[\"AMD Octa-Core Ryzen 7\",\"16 GB \"],[\"Intel Core Ultra 9\",\"32 GB LP\"],[\"Intel Core i3 (8th Gen)\",\"4 GB \"],[\"Intel Core i7 (8th Gen)\",\"8 GB \"],[\"Intel Core i9 (12th Gen)\",\"16 GB LP\"],[\"AMD Octa-Core Ryzen 7\",\"8 GB \"],[\"AMD Octa-Core Ryzen 7\",\"16 GB \"],[\"AMD Octa-Core Ryzen 7\",\"16 GB \"],[\"AMD Octa-Core Ryzen 9\",\"16 GB \"],[\"AMD Hexa-Core Ryzen 5\",\"8 GB \"],[\"Intel Core i5 (13th Gen)\",\"16 GB LP\"],[\"Intel Pentium Quad-Core\",\"4 GB \"],[\"Intel Core i5 (13th Gen)\",\"16 GB LP\"],[\"Intel Core i7 (12th Gen)\",\"16 GB LP\"],[\"Intel Core i5 (13th Gen)\",\"16 GB \"],[\"Intel Core i5 (12th Gen)\",\"16 GB LP\"],[\"Intel Core i3 (12th Gen)\",\"8 GB \"],[\"Intel Core i7 (13th Gen)\",\"16 GB LP\"],[\"Intel Core i5 (13th Gen)\",\"16 GB LP\"],[\"Intel Core i9 (12th Gen)\",\"16 GB LP\"],[\"AMD Hexa-Core Ryzen 5\",\"16 GB \"],[\"Intel Core i5 (12th Gen)\",\"8 GB \"],[\"AMD Octa-Core Ryzen 9\",\"16 GB \"],[\"Intel Core i5 (11th Gen)\",\"8 GB \"],[\"AMD Octa-Core Ryzen 9\",\"16 GB \"],[\"AMD Octa-Core Ryzen 7\",\"32 GB \"],[\"Intel Core i3 (12th Gen)\",\"8 GB \"],[\"Intel Core i3 (11th Gen)\",\"8 GB \"],[\"AMD Octa-Core Ryzen 7\",\"16 GB \"],[\"Intel Core i5 (11th Gen)\",\"16 GB \"],[\"AMD Octa-Core Ryzen 9\",\"32 GB \"],[\"Intel Core i5 (8th Gen)\",\"8 GB \"],[\"Intel Core i7 (8th Gen)\",\"16 GB \"],[\"Intel Core i5 (8th Gen)\",\"8 GB \"],[\"Intel Core i7 (8th Gen)\",\"8 GB \"],[\"Intel Core i5 (8th Gen)\",\"8 GB \"],[\"Intel Core i5 (8th Gen)\",\"8 GB \"],[\"Intel Core i9 (8th Gen)\",\"16 GB \"],[\"Intel Core i7 (12th Gen)\",\"16 GB LP\"],[\"Intel Celeron Dual-Core\",\"4 GB \"],[\"AMD Hexa-Core Ryzen 5\",\"8 GB \"],[\"Intel Core i5 (12th Gen)\",\"16 GB \"],[\"Intel Core i5 (12th Gen)\",\"16 GB \"],[\"Intel Core i5 (12th Gen)\",\"16 GB \"],[\"AMD Octa-Core Ryzen 7\",\"16 GB \"],[\"Intel Core i5 (12th Gen)\",\"16 GB \"],[\"AMD Octa-Core Ryzen 7\",\"16 GB \"],[\"AMD Octa-Core Ryzen 7\",\"16 GB \"],[\"Intel Core i7 (12th Gen)\",\"16 GB \"],[\"AMD Octa-Core Ryzen 9\",\"16 GB LP\"],[\"Intel Core i7 (12th Gen)\",\"16 GB \"],[\"Intel Core i7 (12th Gen)\",\"16 GB \"],[\"Intel Core i7 (12th Gen)\",\"16 GB LP\"],[\"Intel Core i9 (12th Gen)\",\"32 GB \"],[\"Intel Core i9 (12th Gen)\",\"32 GB \"],[\"AMD Hexa-Core Ryzen 5\",\"16 GB \"],[\"AMD Octa-Core Ryzen 9\",\"16 GB LP\"],[\"Intel Core i9 (12th Gen)\",\"32 GB \"],[\"Intel Core i9 (12th Gen)\",\"32 GB \"],[\"Intel Core i9 (12th Gen)\",\"32 GB LP\"],[\"Intel Core i9 (12th Gen)\",\"32 GB \"],[\"Intel Core i7 (12th Gen)\",\"16 GB LP\"],[\"Intel Core i7 (12th Gen)\",\"16 GB \"],[\"AMD Octa-Core Ryzen 9\",\"16 GB \"],[\"Intel Celeron Dual-Core\",\"4 GB LP\"],[\"AMD Octa-Core Ryzen 9\",\"16 GB \"],[\"AMD Octa-Core Ryzen 7\",\"16 GB \"],[\"AMD Octa-Core Ryzen 7\",\"16 GB \"],[\"AMD Octa-Core Ryzen 9\",\"16 GB \"],[\"Intel Core i7 (7th Gen)\",\"8 GB \"],[\"Intel Core i7 (8th Gen)\",\"16 GB LP\"],[\"AMD Octa-Core Ryzen 9\",\"16 GB \"],[\"Intel Core i5 (8th Gen)\",\"8 GB \"],[\"Intel Core i5 (8th Gen)\",\"8 GB \"],[\"Intel Core i5 (10th Gen)\",\"8 GB LP\"],[\"Intel Core i5 (10th Gen)\",\"8 GB LP\"],[\"Intel Core i7 (8th Gen)\",\"8 GB \"],[\"Intel Core i5 (10th Gen)\",\"8 GB \"],[\"Intel Core Ultra 5\",\"16 GB LP\"],[\"Intel Core Ultra 5\",\"16 GB LP\"],[\"Intel Core Ultra 5\",\"16 GB LP\"],[\"Intel Core Ultra 5\",\"16 GB LP\"],[\"Intel Core i7 (11th Gen)\",\"16 GB LP\"],[\"Intel Celeron Dual-Core\",\"4 GB \"],[\"Intel Core i5 (12th Gen)\",\"16 GB LP\"],[\"Intel Celeron Dual-Core\",\"4 GB \"],[\"Intel Core i5 (12th Gen)\",\"16 GB LP\"]],\"hovertemplate\":\"Brand=ASUS<br>Price=%{x}<br>Battery_Life_num=%{y}<br>Processor_Name=%{customdata[0]}<br>RAM=%{customdata[1]}<extra></extra>\",\"legendgroup\":\"ASUS\",\"marker\":{\"color\":\"#00cc96\",\"symbol\":\"circle\"},\"mode\":\"markers\",\"name\":\"ASUS\",\"showlegend\":true,\"x\":[0.13712442024601734,0.10467836257309941,0.07160717886670699,0.22585198628755798,0.15527324057269612,0.07662835249042145,0.06461181689856826,0.04880016132284735,0.19128654970760234,0.1672897761645493,0.07057874571486186,0.16436781609195403,0.10225851986287558,0.11494252873563218,0.16335954829602742,0.10528130671506353,0.08872756604154064,0.10082677959265982,0.33707602339181286,0.10082677959265982,0.08872756604154064,0.02522484371849163,0.07783827384553338,0.26497277676951,0.11695906432748537,0.07057874571486186,0.023208308126638436,0.06876386368219399,0.02542649727767695,0.07518451300665457,0.05545472877596289,0.14480742085097803,0.09679370840895342,0.04841500302480339,0.0524299253881831,0.39069167170800567,0.04638031861262351,0.24400080661423673,0.13107481347045774,0.1088929219600726,0.09054244807420851,0.102843315184513,0.10190360959870942,0.04597701149425287,0.06654567453115548,0.08705384150030249,0.11494252873563218,0.07866303690260133,0.102843315184513,0.1512583182093164,0.13915910465819722,0.10082677959265982,0.10286146400483968,0.05847953216374269,0.08267795926598104,0.11633393829401088,0.13309134906231096,0.04539221617261545,0.08671103044968743,0.11090945755192579,0.07259528130671507,0.0998185117967332,0.052046783625730994,0.1572897761645493,0.1628554143980641,0.205686630369026,0.09876991328896954,0.10665456745311555,0.036297640653357534,0.06434765073603549,0.13672514619883042,0.11494252873563218,0.08469449485783424,0.07461181689856826,0.07459165154264973,0.052903811252268604,0.04527727364387982,0.034079451502319016,0.10082677959265982,0.09711635410364992,0.0524299253881831,0.06654567453115548,0.04839685420447671,0.07865497076023392,0.047186932849364795,0.0524299253881831,0.06452913893930227,0.060496067755595885,0.052046783625730994,0.06654567453115548,0.0633172010485985,0.04335349868925187,0.04234724742891712,0.02913692276668683,0.056462996571889496,0.0544464609800363,0.06570679572494455,0.08106069772131479,0.0544464609800363,0.057483363581367214,0.060496067755595885,0.06251260334744908,0.04176245210727969,0.08852792901794716,0.08368622706190765,0.07864488808227466,0.07057874571486186,0.07057874571486186,0.11494252873563218,0.06592054849768099,0.06251260334744908,0.102843315184513,0.0524299253881831,0.05849768098406937,0.16333938294010888,0.0990300463803186,0.08269812462189957,0.12401693889897157,0.08872756604154064,0.1370437588223432,0.06150433555152249,0.07057874571486186,0.06584593668078241,0.061322847348255695,0.04033071183706392,0.07228675136116153,0.1623311151441823,0.11292599314377899,0.1088929219600726,0.06858035894333535,0.10487799959669288,0.07864488808227466,0.12504335551522483,0.09881024400080661,0.07057874571486186,0.03732607380520266,0.05041338979632991,0.14508771929824563,0.39251663641863277,0.05847953216374269,0.016172615446662635,0.14317402702157694,0.215769308328292,0.12502520669489817,0.3871748336358137,0.11090945755192579,0.6331921758419036,0.5464811453922161,0.09074410163339383,0.17543859649122806,0.3125630167372454,0.2944585601935874,0.11453922161726154,0.21838677152651745,0.2633938294010889,0.12905827787860455,0.10064529138939303,0.3710425489009881,0.08451300665456746,0.09477717281710023,0.11143375680580762,0.13510788465416415,0.11494252873563218,0.24601734220608995,0.24803387779794314,0.18552127445049404,0.18683000604960678,0.48800161322847346,0.08469449485783424,0.1530127041742287,0.16916717080056462,0.06654567453115548,0.4678362573099415,0.08870941722121395,0.46780600927606375,0.09034079451502319,0.09195402298850575,0.04231699939503932,0.31657592256503325,0.33071183706392415,0.3226456946965114,0.4678362573099415,0.06313369630973986,0.11897559991933858,0.3508771929824561,0.1572897761645493,0.29038112522686027,0.11292599314377899,0.334533172010486,0.11897559991933858,0.13914095583787053,0.04537003428110506,0.21173623714458562,0.33071183706392415,0.13510788465416415,0.12714055253075215,0.06251260334744908,0.22181891510385157,0.1613228473482557,0.3710425489009881,0.11494252873563218,0.11494252873563218,0.411373260738052,0.1068763863682194,0.421455938697318,0.4920346844121799,0.06755394232708208,0.049405122000403305,0.2057047791893527,0.11292599314377899,0.7138535995160314,0.15527324057269612,0.3083585400282315,0.07965315587820125,0.17342206089937487,0.08590643274853801,0.07662835249042145,0.23729179270014117,0.6493244605767292,0.030649324460576728,0.1088929219600726,0.12502520669489817,0.12199838677152652,0.12704174228675136,0.20583585400282314,0.15105868118572294,0.14519056261343014,0.1693889897156685,0.2452087114337568,0.2937527727364388,0.2762653760838879,0.17140552530752168,0.2762653760838879,0.5182496471062714,0.5262653760838879,0.1693889897156685,0.2129078443234523,0.43355515224843716,0.6533575317604355,0.32667876588021777,0.4043153861665658,0.2542649727767695,0.34684412179874974,0.25610002016535593,0.02016535591853196,0.3165960879209518,0.20669489816495262,0.15529138939302278,0.22746521476104054,0.17537810042347246,0.1572897761645493,0.24198427102238354,0.14519056261343014,0.12502520669489817,0.1593063117564025,0.1240371042548901,0.16535591853196208,0.08671103044968743,0.17947166767493447,0.1855878201250252,0.19157088122605365,0.17947166767493447,0.1973805202661827,0.021191772534785238,0.12704174228675136,0.03188949384956644,0.12484371849163138],\"xaxis\":\"x\",\"y\":[3.0,3.0,3.0,3.0,3.0,3.0,3.0,3.0,3.0,3.0,3.0,3.0,3.0,3.0,3.0,3.0,3.0,3.0,3.5,4.0,4.0,4.0,4.0,4.0,4.0,4.5,4.5,4.5,4.5,4.5,4.5,5.0,5.0,5.0,5.0,5.0,5.0,5.0,5.0,5.0,6.0,6.0,6.0,6.0,6.0,6.0,6.0,6.0,6.0,6.0,6.0,6.0,6.0,6.0,6.0,6.0,6.0,6.0,6.0,6.0,6.0,6.0,6.0,6.0,6.0,6.0,6.0,6.0,6.0,6.0,6.0,6.0,6.0,6.0,6.0,6.0,6.0,6.0,6.0,6.0,6.0,6.0,6.0,6.0,6.0,6.0,6.0,6.0,6.0,6.0,6.0,6.0,6.0,6.0,6.0,6.0,6.0,6.0,6.0,6.0,6.0,6.0,6.0,6.0,6.0,6.0,6.0,6.0,6.0,6.0,6.0,6.0,6.0,6.0,6.0,6.0,6.0,6.0,6.0,6.0,6.0,6.0,6.0,6.0,6.0,6.0,6.0,6.0,6.0,6.0,6.0,6.0,6.0,6.0,6.0,6.0,6.0,7.0,7.0,7.0,7.0,7.0,8.0,8.0,8.0,8.0,8.0,8.0,8.0,8.0,8.0,8.0,8.0,8.0,8.0,8.0,8.0,8.0,8.0,8.0,8.0,8.0,8.0,8.0,8.0,8.0,8.0,8.0,8.0,8.0,8.0,8.0,8.0,8.0,8.0,8.0,8.0,8.0,8.0,8.0,8.0,8.0,8.0,8.0,8.0,8.0,8.0,8.0,8.0,8.0,8.0,8.0,8.0,8.0,8.0,8.0,8.0,8.0,8.0,8.0,8.0,8.0,8.0,8.0,8.0,8.0,8.0,8.0,8.0,8.0,8.0,9.0,9.0,9.0,9.0,9.0,9.0,9.5,9.5,10.0,10.0,10.0,10.0,10.0,10.0,10.0,10.0,10.0,10.0,10.0,10.0,10.0,10.0,10.0,10.0,10.0,10.0,10.0,10.0,10.0,10.0,10.0,10.0,10.0,10.0,12.0,12.0,12.0,12.0,12.0,13.0,13.6,14.0,14.0,14.0,14.0,14.0,14.7,16.0,16.0,16.0,16.0,17.0,18.0,18.0,18.0,18.0],\"yaxis\":\"y\",\"type\":\"scattergl\"},{\"customdata\":[[\"AMD Octa-Core Ryzen 7\",\"16 GB \"],[\"Intel Core i7 (12th Gen)\",\"16 GB \"],[\"Intel Core i5 (12th Gen)\",\"16 GB \"],[\"Intel Core i7 (10th Gen)\",\"8 GB \"],[\"Intel Core i5 (11th Gen)\",\"8 GB \"],[\"Intel Core i7 (11th Gen)\",\"32 GB \"],[\"Intel Core i7 (7th Gen)\",\"16 GB \"],[\"Intel Core i7 (11th Gen)\",\"16 GB \"],[\"Intel Core i5 (11th Gen)\",\"8 GB \"],[\"Intel Core i7 (12th Gen)\",\"32 GB \"],[\"Intel Core i7 (7th Gen)\",\"4 GB \"],[\"Intel Core i5 (12th Gen)\",\"16 GB \"],[\"Intel Core i3 (12th Gen)\",\"8 GB LP\"],[\"Intel Core i7 (13th Gen)\",\"16 GB \"],[\"Intel Core i3 (10th Gen)\",\"4 GB \"],[\"Intel Core i7 (14th Gen)\",\"16 GB \"],[\"Intel Core i7 (13th Gen)\",\"16 GB \"],[\"AMD Octa-Core Ryzen 7\",\"16 GB \"],[\"Intel Core Ultra 5\",\"16 GB \"],[\"Intel Core Ultra 7\",\"16 GB \"],[\"Intel Core Ultra 7\",\"16 GB \"],[\"Intel Core i7 (13th Gen)\",\"32 GB \"],[\"Intel Core i3 (11th Gen)\",\"8 GB \"],[\"Intel Core i5 (11th Gen)\",\"8 GB \"],[\"Intel Core i9 (14th Gen)\",\"64 GB \"],[\"Intel Core i5 (11th Gen)\",\"16 GB \"],[\"Intel Core i7 (8th Gen)\",\"16 GB \"],[\"Intel Core Ultra 7\",\"32 GB LP\"],[\"Intel Core Ultra 7\",\"32 GB LP\"],[\"Intel Core i5 (8th Gen)\",\"8 GB \"],[\"Intel Core i3 (11th Gen)\",\"8 GB \"],[\"Intel Core Ultra 9\",\"32 GB LP\"],[\"Intel Core i5 (12th Gen)\",\"16 GB LP\"],[\"Intel Core i7 (13th Gen)\",\"32 GB \"],[\"Intel Core i5 (13th Gen)\",\"16 GB \"]],\"hovertemplate\":\"Brand=MSI<br>Price=%{x}<br>Battery_Life_num=%{y}<br>Processor_Name=%{customdata[0]}<br>RAM=%{customdata[1]}<extra></extra>\",\"legendgroup\":\"MSI\",\"marker\":{\"color\":\"#ab63fa\",\"symbol\":\"circle\"},\"mode\":\"markers\",\"name\":\"MSI\",\"showlegend\":true,\"x\":[0.17543859649122806,0.22244404113732608,0.10082677959265982,0.11697721314781206,0.13512603347449081,0.58884654164146,0.15527324057269612,0.1685823754789272,0.13914095583787053,0.5686630369026013,0.09276063722524702,0.13107481347045774,0.049606775559588624,0.21980237951199838,0.05221818915103851,0.25610002016535593,0.16333938294010888,0.19560395240976003,0.17947166767493447,0.215769308328292,0.20165355918531963,0.4275055454728776,0.0524299253881831,0.0822746521476104,0.8711433756805808,0.09983867715265174,0.17543859649122806,0.32667876588021777,0.3065134099616858,0.09881024400080661,0.04398064125831821,0.3670094777172817,0.14519056261343014,0.205686630369026,0.1613228473482557],\"xaxis\":\"x\",\"y\":[3.0,3.0,3.0,4.0,4.0,4.0,4.0,4.0,4.0,4.0,5.0,6.0,6.0,6.0,6.0,6.0,6.0,6.0,6.0,6.0,6.0,6.0,6.0,6.0,7.0,7.0,10.0,10.0,10.0,10.0,10.0,10.0,10.0,14.0,14.0],\"yaxis\":\"y\",\"type\":\"scattergl\"},{\"customdata\":[[\"AMD Dual-Core Athlon\",\"4 GB \"],[\"AMD Quad-Core A10 APU\",\"8 GB \"],[\"Intel Core i5 (6th Gen)\",\"4 GB \"],[\"AMD Hexa-Core Ryzen 5\",\"8 GB \"],[\"AMD Hexa-Core Ryzen 5 Processor\",\"8 GB \"],[\"AMD Dual-Core A4 APU\",\"4 GB \"],[\"Intel Core i7 (12th Gen)\",\"32 GB \"],[\"AMD Dual-Core A4 APU\",\"4 GB \"],[\"Intel Pentium Quad-Core\",\"4 GB \"],[\"Intel Core i5 (7th Gen)\",\"4 GB \"],[\"AMD Dual-Core A9 APU\",\"4 GB \"],[\"Intel Core i5 (7th Gen)\",\"4 GB \"],[\"Intel Core i5 (7th Gen)\",\"8 GB \"],[\"AMD Dual-Core A9 APU\",\"4 GB \"],[\"Intel Core i3 (6th Gen)\",\"4 GB \"],[\"AMD Dual-Core A6 APU\",\"4 GB \"],[\"AMD Quad-Core E2 APU\",\"4 GB \"],[\"Intel Core i5 (7th Gen)\",\"8 GB \"],[\"AMD Quad-Core A8 APU\",\"8 GB \"],[\"AMD Dual-Core APU\",\"4 GB \"],[\"AMD Octa-Core Ryzen 7\",\"16 GB \"],[\"AMD Dual-Core Ryzen 3\",\"4 GB \"],[\"AMD Quad-Core Ryzen 3\",\"8 GB \"],[\"AMD Dual-Core A6 APU\",\"4 GB \"],[\"Intel Core i5 (12th Gen)\",\"16 GB \"],[\"AMD Quad-Core Ryzen 5\",\"16 GB \"],[\"Intel Core i5 (11th Gen)\",\"8 GB \"],[\"AMD Octa-Core Ryzen 7\",\"8 GB \"],[\"AMD Dual-Core A6 APU\",\"4 GB \"],[\"AMD Dual-Core A6 APU\",\"4 GB \"],[\"Intel Core i5 (12th Gen)\",\"16 GB \"],[\"AMD Quad-Core Ryzen 5\",\"8 GB \"],[\"Intel Core i5 (11th Gen)\",\"8 GB \"],[\"AMD Octa-Core Ryzen 7\",\"16 GB \"],[\"Intel Pentium Quad-Core\",\"4 GB \"],[\"AMD Hexa-Core Ryzen 5\",\"8 GB \"],[\"AMD Quad-Core Ryzen 5\",\"4 GB \"],[\"Intel Core i7 (11th Gen) Processor\",\"16 GB \"],[\"AMD Dual-Core A6 APU\",\"4 GB \"],[\"Intel Core Ultra 7\",\"16 GB LP\"],[\"Intel Core i7 (7th Gen)\",\"8 GB \"],[\"Intel Core i5 (7th Gen)\",\"8 GB \"],[\"AMD Octa-Core Ryzen 7\",\"16 GB \"],[\"Intel Core i3 (11th Gen)\",\"8 GB \"],[\"AMD Octa-Core Ryzen 7 Processor\",\"16 GB \"],[\"AMD Hexa-Core Ryzen 5\",\"8 GB \"],[\"AMD Dual-Core APU\",\"4 GB \"],[\"Intel Core i3 (7th Gen)\",\"4 GB \"],[\"AMD Octa-Core Ryzen 7\",\"16 GB \"],[\"Intel Core i5 (6th Gen)\",\"8 GB \"],[\"AMD Octa-Core Ryzen 7\",\"16 GB \"],[\"AMD Octa-Core Ryzen 7\",\"16 GB LP\"],[\"Intel Celeron Dual-Core Processor\",\"4 GB \"],[\"AMD Octa-Core Ryzen 7\",\"16 GB \"],[\"Intel Core i3 (7th Gen)\",\"4 GB \"],[\"AMD Hexa-Core Ryzen 5\",\"8 GB \"],[\"AMD Quad-Core Ryzen 5\",\"8 GB \"],[\"Intel Core Ultra 5\",\"16 GB LP\"],[\"Intel Core Ultra 9\",\"32 GB LP\"],[\"Intel Core Ultra 9\",\"32 GB LP\"],[\"AMD Octa-Core Ryzen 7\",\"16 GB \"],[\"Intel Core i3 (6th Gen)\",\"8 GB \"],[\"Intel Core i3 (6th Gen)\",\"4 GB \"],[\"Intel Core i3 (6th Gen)\",\"4 GB \"],[\"Intel Core i5 (12th Gen)\",\"8 GB \"],[\"AMD Dual-Core Ryzen 3\",\"4 GB \"],[\"AMD Octa-Core Ryzen 7\",\"16 GB \"],[\"Intel Core i3 (7th Gen)\",\"4 GB \"],[\"AMD Dual-Core A6 APU\",\"4 GB \"],[\"Intel Core i3 (6th Gen)\",\"4 GB \"],[\"Intel Core i3 (10th Gen)\",\"4 GB \"],[\"AMD Dual-Core A9 APU\",\"4 GB \"],[\"Intel Celeron Dual-Core\",\"4 GB \"],[\"Intel Core i5 (12th Gen)\",\"16 GB \"],[\"Intel Core i3 (7th Gen)\",\"4 GB \"],[\"Intel Core i5 (7th Gen)\",\"8 GB \"],[\"Intel Core Ultra 5\",\"16 GB LP\"],[\"Intel Core i3 (6th Gen)\",\"4 GB \"],[\"AMD Hexa-Core Ryzen 5\",\"8 GB \"],[\"Intel Core i5 (6th Gen)\",\"8 GB \"],[\"Intel Core i7 (12th Gen)\",\"16 GB \"],[\"Intel Core i3 (12th Gen)\",\"8 GB \"],[\"Intel Core i7 (13th Gen)\",\"16 GB \"],[\"Intel Core i5 (12th Gen)\",\"16 GB \"],[\"Intel Core i5 (12th Gen)\",\"16 GB \"],[\"Intel Core i7 (13th Gen)\",\"16 GB \"],[\"Intel Core i3 (11th Gen)\",\"8 GB \"],[\"Intel Core i3 (7th Gen)\",\"4 GB \"],[\"Intel Core i5 (11th Gen)\",\"8 GB \"],[\"Intel Core i3 (11th Gen)\",\"8 GB \"],[\"Intel Core i3 (11th Gen)\",\"8 GB \"],[\"Intel Core i5 (11th Gen)\",\"8 GB \"],[\"Intel Core i3 (10th Gen)\",\"4 GB \"],[\"Intel Core i3 (10th Gen)\",\"8 GB \"],[\"Intel Core i5 (11th Gen)\",\"16 GB \"],[\"Intel Core i5 (11th Gen)\",\"8 GB \"],[\"Intel Core i3 (6th Gen)\",\"4 GB \"],[\"Intel Core i5 (12th Gen)\",\"8 GB \"],[\"Intel Core i5 (12th Gen)\",\"8 GB \"],[\"Intel Core i5 (10th Gen)\",\"8 GB \"],[\"Intel Core i7 (12th Gen)\",\"16 GB \"],[\"Intel Core i3 (11th Gen)\",\"8 GB \"],[\"Intel Core i7 (13th Gen)\",\"16 GB \"],[\"Intel Core i5 (7th Gen)\",\"8 GB \"],[\"Intel Core i7 (12th Gen)\",\"16 GB \"],[\"Intel Core i5 (12th Gen)\",\"12 GB \"],[\"Intel Core i5 (13th Gen)\",\"16 GB \"],[\"Intel Core i3 (10th Gen)\",\"8 GB \"],[\"Intel Core i5 (12th Gen)\",\"8 GB \"],[\"Intel Core i3 (11th Gen)\",\"8 GB \"],[\"Intel Core i5 (13th Gen)\",\"16 GB \"],[\"Intel Core i3 (11th Gen)\",\"8 GB \"],[\"Intel Core i5 (10th Gen)\",\"8 GB \"],[\"Intel Core i5 (10th Gen)\",\"8 GB \"],[\"Intel Core i5 (8th Gen)\",\"8 GB \"],[\"Intel Core i5 (12th Gen)\",\"12 GB \"],[\"Intel Core i5 (8th Gen)\",\"8 GB \"],[\"Intel Core i7 (10th Gen)\",\"16 GB \"],[\"AMD Dual-Core A9 APU\",\"4 GB \"],[\"Intel Core i5 (10th Gen)\",\"8 GB \"],[\"Intel Core i7 (11th Gen) Processor\",\"16 GB \"],[\"AMD Hexa-Core Ryzen 5\",\"8 GB \"],[\"Intel Core i5 (12th Gen) Processor\",\"8 GB \"],[\"Intel Core i3 (12th Gen) Processor\",\"8 GB \"],[\"Intel Core i7 (12th Gen)\",\"16 GB \"],[\"Intel Core i5 (11th Gen)\",\"8 GB \"],[\"AMD Hexa-Core Ryzen 5\",\"8 GB \"],[\"Intel Core i5 (12th Gen)\",\"8 GB \"],[\"Intel Core i5 (12th Gen)\",\"16 GB \"],[\"Intel Core i9 (14th Gen)\",\"32 GB \"],[\"Intel Core i7 (13th Gen)\",\"16 GB \"],[\"Intel Core i5 (11th Gen)\",\"8 GB \"],[\"Intel Core i5 (12th Gen)\",\"16 GB \"],[\"Intel Core i7 (13th Gen)\",\"16 GB LP\"],[\"Intel Core i7 (12th Gen)\",\"16 GB \"],[\"Intel Core i7 (14th Gen)\",\"16 GB \"],[\"Intel Core i5 (12th Gen)\",\"16 GB LP\"],[\"Intel Core i3 (12th Gen)\",\"8 GB \"],[\"Intel Core i3 (12th Gen)\",\"8 GB \"],[\"Intel Core i7 (12th Gen)\",\"16 GB \"],[\"Intel Core i3 (7th Gen)\",\"4 GB \"],[\"Intel Core i5 (10th Gen)\",\"8 GB \"],[\"Intel Core i3 (10th Gen)\",\"4 GB \"],[\"Intel Core i3 (7th Gen)\",\"4 GB \"],[\"Intel Celeron Dual-Core Processor\",\"4 GB \"],[\"AMD Octa-Core Ryzen 7\",\"16 GB \"],[\"Intel Core i5 (11th Gen)\",\"8 GB \"],[\"Intel Core i5 (12th Gen)\",\"16 GB \"],[\"AMD Hexa-Core Ryzen 5\",\"8 GB \"],[\"Intel Core i5 (12th Gen)\",\"24 GB \"],[\"AMD Octa-Core Ryzen 7\",\"16 GB LP\"],[\"Intel Core Ultra 7\",\"32 GB LP\"],[\"Intel Core i3 (12th Gen)\",\"8 GB \"],[\"Intel Celeron Dual-Core\",\"8 GB \"],[\"Intel Core i5 (8th Gen)\",\"8 GB \"],[\"Intel Core i5 (11th Gen)\",\"16 GB \"],[\"Intel Core i5 (11th Gen)\",\"8 GB \"],[\"Intel Core i5 (12th Gen)\",\"8 GB \"],[\"Intel Core i5 (8th Gen)\",\"8 GB \"],[\"Intel Core i3 (11th Gen)\",\"8 GB \"],[\"Intel Core i5 (5th Gen)\",\"4 GB \"],[\"AMD Hexa-Core Ryzen 5 Processor\",\"8 GB \"],[\"Intel Core i7 (11th Gen)\",\"16 GB \"],[\"Intel Celeron Dual-Core Processor\",\"4 GB \"],[\"Intel Core i5 (12th Gen)\",\"16 GB \"],[\"Intel Core i5 (12th Gen)\",\"8 GB \"],[\"AMD Dual-Core Athlon\",\"4 GB \"],[\"Intel Core i3 (7th Gen)\",\"4 GB \"],[\"Intel Core i3 (11th Gen)\",\"8 GB \"],[\"Intel Core i5 (12th Gen)\",\"16 GB \"],[\"Intel Core i5 (11th Gen)\",\"16 GB \"],[\"Intel Core i9 (13th Gen)\",\"32 GB \"],[\"AMD Octa-Core Ryzen 7\",\"8 GB \"],[\"Intel Core i5 (11th Gen)\",\"8 GB \"],[\"AMD Hexa-Core Ryzen 5\",\"16 GB \"],[\"Intel Core i7 (13th Gen)\",\"32 GB \"],[\"Intel Core i7 (13th Gen)\",\"16 GB \"],[\"AMD Quad-Core Ryzen 5\",\"8 GB \"],[\"AMD Hexa-Core Ryzen 5\",\"16 GB \"],[\"AMD Hexa-Core Ryzen 5\",\"16 GB \"],[\"Intel Core i3 (7th Gen)\",\"4 GB \"],[\"AMD Hexa-Core Ryzen 5\",\"8 GB \"],[\"AMD Hexa-Core Ryzen 5\",\"8 GB \"],[\"Intel Core i3 (11th Gen)\",\"8 GB \"],[\"Intel Core i3 (11th Gen)\",\"8 GB \"],[\"Intel Core Ultra 7\",\"32 GB LP\"],[\"Intel Core i5 (12th Gen)\",\"16 GB \"],[\"Intel Core i7 (12th Gen)\",\"16 GB LP\"],[\"Intel Core i3 (13th Gen)\",\"8 GB LP\"],[\"Intel Core i3 (11th Gen)\",\"8 GB \"],[\"Intel Core i5 (11th Gen)\",\"16 GB \"],[\"Intel Core i7 (11th Gen)\",\"32 GB \"],[\"AMD Octa-Core Ryzen 7\",\"16 GB \"],[\"Intel Core i5 (11th Gen)\",\"8 GB \"],[\"Intel Core i3 (8th Gen)\",\"4 GB \"],[\"Intel Core Ultra 9\",\"32 GB LP\"],[\"Intel Core i7 (13th Gen)\",\"16 GB LP\"],[\"Intel Core i5 (11th Gen)\",\"8 GB \"],[\"Intel Core i5 (11th Gen)\",\"8 GB \"],[\"Intel Core i3 (12th Gen)\",\"8 GB \"],[\"Intel Core i3 (11th Gen)\",\"8 GB \"],[\"Intel Core i7 (12th Gen)\",\"16 GB \"],[\"Intel Core i5 (11th Gen)\",\"16 GB \"],[\"Intel Core i9 (12th Gen)\",\"32 GB \"],[\"Intel Core i5 (11th Gen)\",\"16 GB \"],[\"Intel Celeron Dual-Core\",\"8 GB \"],[\"AMD Octa-Core Ryzen 7\",\"16 GB \"],[\"AMD Dual-Core Athlon\",\"8 GB LP\"],[\"Intel Celeron Dual-Core\",\"4 GB \"],[\"Intel Core i5 (12th Gen)\",\"16 GB LP\"],[\"AMD Quad-Core Ryzen 3\",\"8 GB LP\"],[\"AMD Hexa-Core Ryzen 5\",\"8 GB \"],[\"Intel Core i5 (10th Gen)\",\"4 GB \"],[\"Intel Core i5 (10th Gen)\",\"8 GB \"],[\"Intel Core i5 (10th Gen)\",\"8 GB \"],[\"Intel Core i3 (10th Gen)\",\"4 GB \"],[\"AMD Hexa-Core Ryzen 5\",\"8 GB \"],[\"Intel Core i3 (10th Gen)\",\"8 GB \"],[\"AMD Hexa-Core Ryzen 5\",\"8 GB \"],[\"AMD Quad-Core Ryzen 3\",\"8 GB \"],[\"AMD Hexa-Core Ryzen 5\",\"16 GB \"],[\"Intel Core i5 (10th Gen)\",\"8 GB \"],[\"AMD Hexa-Core Ryzen 5\",\"16 GB \"],[\"Intel Core i5 (11th Gen)\",\"8 GB \"],[\"Intel Core i3 (11th Gen)\",\"8 GB \"],[\"AMD Hexa-Core Ryzen 5\",\"8 GB \"],[\"Intel Core i3 (11th Gen)\",\"8 GB \"],[\"AMD Quad-Core Ryzen 3\",\"8 GB \"],[\"AMD Quad-Core Ryzen 5\",\"8 GB \"],[\"Intel Core i5 (11th Gen)\",\"8 GB \"],[\"Intel Core i3 (10th Gen)\",\"8 GB \"],[\"Intel Core i5 (11th Gen)\",\"8 GB \"],[\"AMD Quad-Core Ryzen 3\",\"8 GB \"],[\"AMD Hexa-Core Ryzen 5\",\"16 GB \"],[\"AMD Octa-Core Ryzen 7\",\"16 GB \"],[\"Intel Core i7 (12th Gen)\",\"16 GB \"],[\"Intel Core i5 (11th Gen)\",\"8 GB \"],[\"Intel Core i3 (11th Gen)\",\"8 GB \"],[\"Intel Core i5 (13th Gen)\",\"16 GB LP\"],[\"Intel Core i5 (11th Gen)\",\"8 GB \"],[\"Intel Core i3 (8th Gen)\",\"8 GB \"],[\"Intel Core i5 (11th Gen)\",\"16 GB \"],[\"AMD Octa-Core Ryzen 7\",\"16 GB \"],[\"Intel Core i3 (11th Gen)\",\"8 GB \"],[\"Intel Core i3 (11th Gen)\",\"8 GB \"],[\"Intel Core i5 (11th Gen)\",\"8 GB \"],[\"Intel Core i3 (11th Gen)\",\"8 GB \"],[\"Intel Core i7 (13th Gen)\",\"16 GB LP\"],[\"Intel Core i5 (13th Gen)\",\"16 GB LP\"],[\"Intel Celeron Dual-Core\",\"8 GB \"],[\"Intel Core i7 (13th Gen)\",\"16 GB LP\"],[\"Intel Core i5 (11th Gen)\",\"8 GB \"],[\"Intel Core i3 (6th Gen)\",\"4 GB \"],[\"Intel Core i5 (12th Gen)\",\"8 GB \"],[\"AMD Dual-Core Athlon\",\"8 GB \"],[\"Intel Core i5 (11th Gen)\",\"16 GB \"],[\"Intel Core i7 (8th Gen)\",\"8 GB \"],[\"Intel Core i7 (12th Gen)\",\"16 GB \"],[\"Intel Core i5 (11th Gen)\",\"8 GB \"],[\"Intel Core i7 (10th Gen)\",\"8 GB \"],[\"Intel Core i5 (11th Gen) Processor\",\"16 GB \"],[\"Intel Core i5 (11th Gen)\",\"8 GB \"],[\"Intel Core i7 (11th Gen)\",\"16 GB \"],[\"Intel Core i3 (11th Gen)\",\"8 GB \"],[\"Intel Core i5 (11th Gen)\",\"8 GB \"],[\"AMD Octa-Core Ryzen 7\",\"16 GB \"],[\"Intel Core i7 (13th Gen)\",\"16 GB LP\"],[\"Intel Core i5 (8th Gen)\",\"8 GB \"],[\"AMD Octa-Core Ryzen 7\",\"16 GB \"],[\"Intel Core i5 (12th Gen)\",\"16 GB \"],[\"Intel Core i5 (11th Gen)\",\"16 GB \"],[\"Intel Core Ultra 5\",\"16 GB LP\"],[\"Intel Core i5 (8th Gen)\",\"8 GB \"],[\"Intel Core i3 (10th Gen) Processor\",\"8 GB \"],[\"Intel Core i5 (8th Gen)\",\"8 GB \"],[\"AMD Octa-Core Ryzen 7\",\"16 GB \"],[\"Intel Core i3 (13th Gen)\",\"8 GB LP\"],[\"AMD Octa-Core Ryzen 7\",\"16 GB LP\"],[\"Intel Core i7 (10th Gen)\",\"8 GB \"],[\"Intel Core i5 (12th Gen)\",\"16 GB LP\"],[\"Intel Core i5 (11th Gen)\",\"16 GB \"],[\"Intel Core i7 (10th Gen)\",\"8 GB \"],[\"Intel Celeron Dual-Core\",\"4 GB \"],[\"Intel Celeron Dual-Core\",\"8 GB \"],[\"Intel Core i5 (12th Gen)\",\"16 GB LP\"],[\"Intel Core i5 (11th Gen)\",\"8 GB \"],[\"Intel Core i5 (11th Gen)\",\"16 GB \"],[\"Intel Core 5 (Series 1)\",\"16 GB \"],[\"Intel Core i3 (11th Gen)\",\"8 GB \"],[\"AMD Quad-Core Ryzen 5\",\"8 GB LP\"],[\"AMD Hexa-Core Ryzen 5\",\"16 GB \"],[\"AMD Octa-Core Ryzen 7\",\"16 GB \"],[\"AMD Quad-Core Ryzen 3\",\"8 GB \"],[\"AMD Octa-Core Ryzen 7\",\"8 GB \"],[\"AMD Octa-Core Ryzen 7\",\"8 GB \"],[\"AMD Quad-Core Ryzen 3\",\"8 GB \"],[\"AMD Octa-Core Ryzen 7\",\"16 GB \"],[\"AMD Octa-Core Ryzen 7\",\"16 GB \"],[\"Intel Core i7 (11th Gen)\",\"16 GB \"],[\"AMD Octa-Core Ryzen 7\",\"16 GB LP\"],[\"Intel Core i7 (13th Gen)\",\"16 GB LP\"],[\"Intel Core i3 (12th Gen)\",\"8 GB \"],[\"Intel Core i3 (12th Gen)\",\"8 GB LP\"],[\"AMD Hexa-Core Ryzen 5\",\"16 GB LP\"],[\"Intel Core i5 (9th Gen)\",\"8 GB \"],[\"AMD Hexa-Core Ryzen 5\",\"16 GB \"],[\"Intel Core i5 (9th Gen)\",\"8 GB \"],[\"AMD Hexa-Core Ryzen 5\",\"16 GB \"],[\"AMD Octa-Core Ryzen 7\",\"16 GB LP\"],[\"Intel Core i5 (12th Gen)\",\"8 GB LP\"],[\"AMD Hexa-Core Ryzen 5\",\"16 GB \"],[\"Intel Core i7 (11th Gen)\",\"16 GB \"],[\"Intel Core i3 (12th Gen)\",\"8 GB LP\"],[\"Intel Core i3 (10th Gen)\",\"4 GB \"],[\"Intel Core i3 (10th Gen)\",\"8 GB \"],[\"AMD Octa-Core Ryzen 7\",\"32 GB \"],[\"Intel Celeron Dual-Core\",\"8 GB \"],[\"AMD Octa-Core Ryzen 7\",\"16 GB \"],[\"Intel Core i3 (10th Gen)\",\"8 GB \"],[\"AMD Dual-Core Ryzen 3\",\"8 GB \"],[\"AMD Octa-Core Ryzen 7\",\"32 GB \"],[\"Intel Core i3 (10th Gen)\",\"4 GB \"],[\"AMD Hexa-Core Ryzen 5\",\"16 GB LP\"],[\"Intel Core i3 (10th Gen)\",\"8 GB \"],[\"Intel Core i3 (13th Gen)\",\"8 GB \"],[\"Intel Core i5 (13th Gen)\",\"16 GB \"],[\"Intel Core i5 (13th Gen)\",\"16 GB \"],[\"AMD Octa-Core Ryzen 7\",\"16 GB \"],[\"AMD Octa-Core Ryzen 7\",\"16 GB \"],[\"AMD Hexa-Core Ryzen 5\",\"16 GB \"],[\"AMD Octa-Core Ryzen 7\",\"16 GB \"],[\"Intel Core i7 (11th Gen)\",\"16 GB \"],[\"Intel Core i5 (12th Gen)\",\"16 GB \"],[\"Intel Core i7 (12th Gen)\",\"16 GB \"],[\"Intel Core i5 (12th Gen)\",\"8 GB \"],[\"Intel Core i5 (12th Gen)\",\"16 GB \"],[\"Intel Core i5 (12th Gen)\",\"8 GB \"],[\"Intel Core i7 (12th Gen)\",\"16 GB \"],[\"Intel Core i5 (12th Gen)\",\"8 GB \"],[\"AMD Dual-Core Ryzen 3\",\"8 GB \"],[\"AMD Octa-Core Ryzen 7\",\"16 GB \"],[\"AMD Octa-Core Ryzen 7\",\"16 GB \"],[\"Intel Core i5 (8th Gen)\",\"8 GB \"],[\"AMD Octa-Core Ryzen 7\",\"16 GB \"],[\"Intel Core i5 (10th Gen) Processor\",\"8 GB \"],[\"AMD Quad-Core Ryzen 3\",\"8 GB LP\"],[\"Intel Core i7 (11th Gen)\",\"16 GB \"],[\"Intel Core i7 (13th Gen)\",\"16 GB LP\"],[\"Intel Core i5 (7th Gen)\",\"8 GB \"],[\"Intel Core i7 (13th Gen)\",\"16 GB LP\"],[\"Intel Core i3 (12th Gen)\",\"8 GB \"],[\"Intel Core i3 (11th Gen)\",\"8 GB \"],[\"Intel Core i7 (12th Gen)\",\"16 GB LP\"],[\"Intel Core i7 (13th Gen)\",\"16 GB LP\"],[\"Intel Core i5 (7th Gen)\",\"8 GB \"],[\"Intel Celeron Dual-Core\",\"4 GB \"],[\"Intel Core i7 (11th Gen)\",\"16 GB LP\"],[\"Intel Core i3 (11th Gen) Processor\",\"8 GB \"],[\"Intel Core i5 (13th Gen)\",\"16 GB LP\"],[\"Intel Core i3 (10th Gen)\",\"8 GB \"],[\"Intel Celeron Dual-Core\",\"8 GB \"],[\"Intel Core i7 (11th Gen)\",\"16 GB \"],[\"Intel Core i7 (11th Gen)\",\"32 GB \"],[\"Intel Core i7 (13th Gen) Processor\",\"16 GB LP\"],[\"Intel Core i3 (12th Gen)\",\"8 GB \"],[\"Intel Core i3 (12th Gen)\",\"8 GB \"],[\"Intel Celeron Dual-Core\",\"4 GB LP\"],[\"AMD Quad-Core Ryzen 3\",\"8 GB LP\"],[\"AMD Quad-Core Ryzen 5\",\"8 GB \"],[\"Intel Core i7 (11th Gen)\",\"16 GB \"],[\"AMD Hexa-Core Ryzen 5\",\"16 GB LP\"],[\"Intel Core i3 (11th Gen)\",\"8 GB \"],[\"Intel Core i3 (10th Gen)\",\"4 GB \"],[\"Intel Core i7 (13th Gen)\",\"16 GB LP\"],[\"AMD Hexa-Core Ryzen 5\",\"16 GB LP\"],[\"Intel Core i5 (11th Gen)\",\"8 GB LP\"],[\"Intel Core i7 (11th Gen)\",\"16 GB \"],[\"Intel Core i7 (11th Gen)\",\"16 GB \"],[\"Intel Core i3 (11th Gen)\",\"8 GB \"],[\"Intel Core i5 (11th Gen)\",\"8 GB \"],[\"Intel Core i3 (11th Gen)\",\"8 GB \"],[\"Intel Core i5 (11th Gen)\",\"8 GB \"],[\"Intel Core i3 (11th Gen)\",\"8 GB \"],[\"Intel Core i5 (11th Gen) Processor\",\"8 GB \"],[\"Intel Core i7 (12th Gen)\",\"16 GB LP\"],[\"Intel Core i5 (12th Gen)\",\"16 GB \"],[\"Intel Core i5 (13th Gen)\",\"16 GB LP\"],[\"Intel Core i5 (12th Gen)\",\"16 GB LP\"],[\"AMD Octa-Core Ryzen 7\",\"16 GB LP\"],[\"Intel Core i5 (11th Gen)\",\"16 GB \"],[\"AMD Dual-Core Athlon\",\"4 GB \"],[\"Intel Core i5 (11th Gen)\",\"8 GB \"],[\"Intel Core i3 (13th Gen)\",\"8 GB \"],[\"Intel Core i5 (13th Gen)\",\"16 GB LP\"],[\"Intel Core i5 (13th Gen)\",\"16 GB \"],[\"AMD Dual-Core Athlon\",\"4 GB \"],[\"Intel Core i5 (11th Gen) Processor\",\"16 GB \"],[\"AMD Dual-Core Athlon\",\"4 GB \"],[\"Intel Core i3 (10th Gen)\",\"8 GB \"],[\"Intel Core i3 (10th Gen)\",\"8 GB \"],[\"Intel Core i5 (13th Gen)\",\"16 GB LP\"],[\"AMD Hexa-Core Ryzen 5\",\"8 GB \"],[\"AMD Quad-Core Ryzen 5\",\"16 GB LP\"],[\"Intel Core i5 (13th Gen)\",\"16 GB \"],[\"Intel Core i5 (10th Gen)\",\"8 GB \"],[\"Intel Core i5 (10th Gen)\",\"8 GB \"],[\"Intel Core i5 (10th Gen)\",\"8 GB \"],[\"Intel Core i3 (10th Gen)\",\"8 GB \"],[\"Intel Core i3 (10th Gen)\",\"8 GB \"],[\"Intel Core i3 (11th Gen)\",\"8 GB \"],[\"Intel Core i3 (11th Gen)\",\"4 GB \"],[\"Intel Core i5 (11th Gen)\",\"8 GB \"],[\"Intel Core i5 (12th Gen)\",\"16 GB LP\"],[\"Intel Core i3 (13th Gen)\",\"8 GB LP\"],[\"Intel Core i3 (11th Gen)\",\"8 GB \"],[\"AMD Quad-Core Ryzen 5\",\"8 GB LP\"],[\"AMD Hexa-Core Ryzen 5\",\"16 GB LP\"],[\"Intel Core i5 (13th Gen)\",\"16 GB LP\"],[\"Intel Core i3 (11th Gen)\",\"8 GB \"],[\"AMD Hexa-Core Ryzen 5\",\"8 GB \"],[\"Intel Core i5 (7th Gen)\",\"4 GB \"],[\"Intel Core i3 (12th Gen)\",\"8 GB \"],[\"AMD Hexa-Core Ryzen 5\",\"8 GB \"],[\"Intel Core i3 (11th Gen)\",\"8 GB \"],[\"AMD Hexa-Core Ryzen 5\",\"16 GB \"],[\"AMD Hexa-Core Ryzen 5\",\"16 GB \"],[\"Intel Core i5 (11th Gen) Processor\",\"8 GB \"],[\"Intel Core i5 (12th Gen)\",\"16 GB LP\"],[\"AMD Hexa-Core Ryzen 5\",\"8 GB \"],[\"AMD Quad-Core Ryzen 3\",\"8 GB LP\"],[\"Intel Core i3 (11th Gen)\",\"8 GB \"],[\"Intel Core i5 (11th Gen)\",\"16 GB \"],[\"AMD Hexa-Core Ryzen 5\",\"8 GB \"],[\"AMD Octa-Core Ryzen 7\",\"16 GB LP\"],[\"Intel Core i3 (10th Gen)\",\"8 GB \"],[\"AMD Octa-Core Ryzen 7\",\"8 GB \"],[\"AMD Octa-Core Ryzen 7\",\"16 GB LP\"],[\"Intel Core i5 (11th Gen)\",\"16 GB LP\"],[\"Intel Core i7 (11th Gen)\",\"16 GB LP\"],[\"Intel Celeron Dual-Core\",\"4 GB LP\"],[\"Intel Celeron Dual-Core\",\"4 GB LP\"],[\"AMD Hexa-Core Ryzen 5\",\"8 GB \"],[\"Intel Core i5 (11th Gen)\",\"16 GB \"],[\"AMD Octa-Core Ryzen 7\",\"16 GB \"],[\"Intel Celeron Dual-Core\",\"4 GB \"],[\"AMD Octa-Core Ryzen 7\",\"16 GB \"],[\"Intel Celeron Dual-Core\",\"8 GB \"],[\"Intel Celeron Dual-Core\",\"4 GB \"],[\"Intel Core i7 (12th Gen)\",\"16 GB LP\"],[\"Intel Core i5 (13th Gen)\",\"16 GB LP\"],[\"Intel Core i5 (10th Gen)\",\"16 GB \"]],\"hovertemplate\":\"Brand=Lenovo<br>Price=%{x}<br>Battery_Life_num=%{y}<br>Processor_Name=%{customdata[0]}<br>RAM=%{customdata[1]}<extra></extra>\",\"legendgroup\":\"Lenovo\",\"marker\":{\"color\":\"#FFA15A\",\"symbol\":\"circle\"},\"mode\":\"markers\",\"name\":\"Lenovo\",\"showlegend\":true,\"x\":[0.02734422262552934,0.08247630570679572,0.07783827384553338,0.12401693889897157,0.08370639241782618,0.02278886872353297,0.2762653760838879,0.03125630167372454,0.02855414398064126,0.0885259124823553,0.038646904617866504,0.07572091147408752,0.1091470054446461,0.025335753176043557,0.0300645291389393,0.034281105061504336,0.027888687235329702,0.14790078644888083,0.04073401895543456,0.02661826981246219,0.27223230490018147,0.04033071183706392,0.04841701956039524,0.03226456946965114,0.11606573906029441,0.08671103044968743,0.11395240976003226,0.11223028836458963,0.02016535591853196,0.02016535591853196,0.11897559991933858,0.06452913893930227,0.11395442629562412,0.12502520669489817,0.02621496269409155,0.11292599314377899,0.04436378302077032,0.15932446057672917,0.02016535591853196,0.23593466424682397,0.1153901996370236,0.05028634805404315,0.14720709820528333,0.05847953216374269,0.13107481347045774,0.08267795926598104,0.021980237951199837,0.06051623311151442,0.14922363379713652,0.08368622706190765,0.14519056261343014,0.24400080661423673,0.03750756200846945,0.14922363379713652,0.057229280096793705,0.11294615849969752,0.03303286953014721,0.1436842105263158,0.20367009477717282,0.20165355918531963,0.13107481347045774,0.060496067755595885,0.04638031861262351,0.05950393224440411,0.07461181689856826,0.038314176245210725,0.14922363379713652,0.04033071183706392,0.028251663641863278,0.038314176245210725,0.0524299253881831,0.030046380318612623,0.04216374269005848,0.11292599314377899,0.034281105061504336,0.0796592054849768,0.14720709820528333,0.04839685420447671,0.12502520669489817,0.0456483161927808,0.08469449485783424,0.05231094978826376,0.18148820326678766,0.13510788465416415,0.12280701754385964,0.17745513208308128,0.0524299253881831,0.043758822343214356,0.07864488808227466,0.05948779995966929,0.0544464609800363,0.07562008469449485,0.04638031861262351,0.05041338979632991,0.07461181689856826,0.07824158096390402,0.031177656785642268,0.07158701351078847,0.09578544061302682,0.11899576527525711,0.16940713853599515,0.0544464609800363,0.23774954627949182,0.0924299253881831,0.1572897761645493,0.1068763863682194,0.1542649727767695,0.05747126436781609,0.08066142367412785,0.060496067755595885,0.14317402702157694,0.05648114539221617,0.10990118975599919,0.09040129058277879,0.06856221012300867,0.102843315184513,0.06452913893930227,0.15870135107884653,0.03226456946965114,0.09479733817301875,0.1068763863682194,0.05605968945351886,0.11294414196410567,0.04638031861262351,0.1673724541238153,0.1151441822948175,0.0524299253881831,0.1048598507763662,0.12502520669489817,0.6362169792296835,0.16535591853196208,0.07562008469449485,0.14418229481750353,0.11292599314377899,0.1512401693889897,0.23190159306311756,0.09477717281710023,0.05747126436781609,0.05928614640048397,0.10082677959265982,0.05847953216374269,0.05214156079854809,0.030250050413389795,0.04636015325670498,0.03611615245009074,0.19157088122605365,0.1436963097398669,0.1611211937890704,0.05605968945351886,0.11581367211131277,0.13914095583787053,0.3448275862068966,0.0544464609800363,0.030046380318612623,0.05028634805404315,0.10887275660415406,0.09477717281710023,0.09477717281710023,0.10082677959265982,0.05466827989514015,0.0695906432748538,0.08535793506755394,0.14115749142972372,0.03226456946965114,0.10082677959265982,0.07864488808227466,0.03238556160516233,0.03618673119580561,0.04841500302480339,0.15527324057269612,0.1068763863682194,0.8913087315991127,0.11494252873563218,0.08451300665456746,0.12000403307118371,0.33272837265577737,0.32665456745311555,0.10082677959265982,0.11494252873563218,0.11494252873563218,0.031276467029643075,0.10669489816495262,0.10990118975599919,0.05466827989514015,0.04839685420447671,0.46581972171808833,0.21234119782214156,0.1684008872756604,0.07662835249042145,0.05910264166162533,0.06654567453115548,0.24601734220608995,0.15208913087315992,0.09074410163339383,0.06452913893930227,0.3448275862068966,0.15366001209921354,0.15395240976003227,0.06654567453115548,0.05545472877596289,0.05224843718491631,0.1048598507763662,0.08671103044968743,1.0,0.08267795926598104,0.034281105061504336,0.18148820326678766,0.04234724742891712,0.02621496269409155,0.09881024400080661,0.05335753176043557,0.12461988304093567,0.05028634805404315,0.07057874571486186,0.10891308731599113,0.047388586408550114,0.052331115144182296,0.06636216979229684,0.07057874571486186,0.06856221012300867,0.10082677959265982,0.08671103044968743,0.12663843516838072,0.08405122000403308,0.056462996571889496,0.07703165960879209,0.06452913893930227,0.04496874369832628,0.061423674127848354,0.08671103044968743,0.06353901996370236,0.07967332123411978,0.04335551522484372,0.09679370840895342,0.1512401693889897,0.1613228473482557,0.08671103044968743,0.055474894131881426,0.11897559991933858,0.1240371042548901,0.14962694091550716,0.09046985279290179,0.06654567453115548,0.07662835249042145,0.04942528735632184,0.08151038515829805,0.06343617664851785,0.1451703972575116,0.12300867110304498,0.03528937285743093,0.20407340189554346,0.10183504738858641,0.0423653962492438,0.08025811655575721,0.034684412179874974,0.10467836257309941,0.13015325670498085,0.14922363379713652,0.09076426698931236,0.1048598507763662,0.14519056261343014,0.09076426698931236,0.22585198628755798,0.06654567453115548,0.11897559991933858,0.08671103044968743,0.15769308328291995,0.10133897963299052,0.13409961685823754,0.09679370840895342,0.12300867110304498,0.18753781004234724,0.10032466223028837,0.052437991530550516,0.09477717281710023,0.08267795926598104,0.0729985884250857,0.16333938294010888,0.13309134906231096,0.12504335551522483,0.11395442629562412,0.2581347045775358,0.03191974188344424,0.040129058277878604,0.1088929219600726,0.12665860052429925,0.12504335551522483,0.11494252873563218,0.05827787860455737,0.0544464609800363,0.07057874571486186,0.07461181689856826,0.056462996571889496,0.08348457350272233,0.07057874571486186,0.046098003629764066,0.08164952611413591,0.08166969147005444,0.15224843718491632,0.13512805001008268,0.19560395240976003,0.06374269005847953,0.11254285138132689,0.15509175236942932,0.18350473885864085,0.06251260334744908,0.07824964710627143,0.09759830611010284,0.11494252873563218,0.1088929219600726,0.060496067755595885,0.19683403912079048,0.1014519056261343,0.04035087719298246,0.04379310344827586,0.3831417624521073,0.036297640653357534,0.205686630369026,0.05847953216374269,0.047713248638838475,0.308529945553539,0.06253075216777576,0.12099213551119177,0.056462996571889496,0.06654567453115548,0.0998185117967332,0.102843315184513,0.21175438596491228,0.18518854607783827,0.07057874571486186,0.22405726961080863,0.205686630369026,0.13309134906231096,0.18350473885864085,0.12101028433151845,0.13069167170800564,0.12099213551119177,0.17342206089937487,0.11697721314781206,0.047912885662431945,0.17140552530752168,0.14115749142972372,0.09074410163339383,0.21980237951199838,0.11092760637225248,0.0524299253881831,0.18854607783827385,0.2323049001814882,0.132472272635612,0.4379915305505142,0.08267795926598104,0.06654567453115548,0.22585198628755798,0.33817301875378103,0.1274148013712442,0.03631578947368421,0.24401895543456342,0.09477717281710023,0.14922363379713652,0.0544464609800363,0.03631578947368421,0.2863480540431539,0.32667876588021777,0.21415607985480944,0.07866303690260133,0.05748941318814277,0.022200040330711837,0.05041338979632991,0.06390199637023593,0.1607360354910264,0.1048598507763662,0.08470457753579351,0.0524299253881831,0.17180883242589232,0.12341197822141561,0.1835249042145594,0.3226658600524299,0.16134099616858238,0.0968118572292801,0.1250453720508167,0.07864488808227466,0.12907642669893124,0.06856221012300867,0.1534502923976608,0.23593466424682397,0.12625529340592861,0.14519056261343014,0.1088929219600726,0.12502520669489817,0.11092760637225248,0.030248033877797943,0.09478523895946764,0.102843315184513,0.12300867110304498,0.12805001008267797,0.03429925388183101,0.10244000806614237,0.028822343214357733,0.05384150030248034,0.05988909054244807,0.12401693889897157,0.0570659407138536,0.07158701351078847,0.13914095583787053,0.102843315184513,0.09477717281710023,0.08673119580560597,0.061222020568663035,0.05065739060294414,0.09679370840895342,0.06957047791893527,0.15730994152046784,0.09074410163339383,0.06192780802581165,0.06550715870135108,0.06170598911070781,0.1334946561806816,0.09953619681387377,0.06434765073603549,0.15730792498487597,0.08541439806412583,0.051744303286953015,0.09881024400080661,0.05224843718491631,0.08913087315991128,0.09190562613430127,0.07057874571486186,0.09054244807420851,0.10871143375680581,0.05021173623714459,0.05224843718491631,0.24502923976608187,0.08047993547086106,0.16033474490824762,0.08672917927001411,0.15730792498487597,0.14115749142972372,0.11496067755595886,0.22585198628755798,0.02823956442831216,0.03722524702561,0.06250655374067353,0.1129340592861464,0.08894938495664448,0.036297640653357534,0.09074410163339383,0.03712240371042549,0.03932244404113733,0.2527505545472878,0.11695704779189353,0.29727969348659006],\"xaxis\":\"x\",\"y\":[3.0,4.0,4.0,4.0,4.0,4.0,4.0,4.0,4.0,4.0,4.0,4.0,4.0,4.0,4.0,4.0,4.0,4.0,4.0,4.0,4.0,4.0,4.0,4.5,4.5,4.5,4.5,4.5,4.5,4.5,4.5,4.5,4.5,4.5,4.5,4.5,5.0,5.0,5.0,5.0,5.0,5.0,5.0,5.0,5.0,5.0,5.0,5.0,5.0,5.0,5.0,5.0,5.0,5.0,5.0,5.0,5.0,5.0,5.0,5.0,5.0,5.0,5.0,5.0,5.0,5.0,5.0,5.0,5.0,5.0,5.0,5.0,5.0,5.0,5.0,5.0,5.0,5.0,5.0,5.0,5.3,5.3,5.32,5.32,5.32,5.32,5.5,5.5,5.5,5.5,5.5,5.5,5.5,5.5,5.5,5.5,5.5,5.8,5.8,5.9,6.0,6.0,6.0,6.0,6.0,6.0,6.0,6.0,6.0,6.0,6.0,6.0,6.0,6.0,6.0,6.0,6.0,6.0,6.0,6.0,6.0,6.0,6.0,6.0,6.0,6.0,6.0,6.0,6.0,6.0,6.0,6.0,6.0,6.0,6.0,6.0,6.0,6.0,6.0,6.0,6.0,6.0,6.0,6.0,6.0,6.0,6.0,6.0,6.0,6.0,6.0,6.0,6.0,6.0,6.0,6.0,6.0,6.0,6.0,6.0,6.0,6.0,6.0,6.0,6.0,6.0,6.0,6.0,6.0,6.0,6.0,6.5,6.5,6.5,6.5,6.5,6.5,6.5,6.5,6.5,6.5,6.7,6.7,7.0,7.0,7.0,7.0,7.0,7.0,7.0,7.0,7.0,7.0,7.0,7.0,7.0,7.0,7.0,7.0,7.0,7.0,7.0,7.0,7.0,7.0,7.0,7.0,7.0,7.0,7.0,7.0,7.1,7.3,7.3,7.3,7.3,7.5,7.5,7.5,7.5,7.5,7.5,7.5,7.5,7.5,7.5,7.5,7.5,7.5,7.5,7.5,7.5,7.5,7.8,7.8,8.0,8.0,8.0,8.0,8.0,8.0,8.0,8.0,8.0,8.0,8.0,8.0,8.0,8.0,8.0,8.0,8.0,8.0,8.0,8.0,8.0,8.0,8.0,8.0,8.0,8.0,8.0,8.0,8.0,8.0,8.0,8.0,8.0,8.0,8.0,8.0,8.0,8.0,8.0,8.0,8.0,8.0,8.0,8.0,8.0,8.0,8.0,8.0,8.0,8.0,8.0,8.0,8.0,8.5,8.7,8.8,8.8,8.8,8.8,8.8,8.8,8.8,8.8,8.9,9.0,9.0,9.0,9.0,9.0,9.0,9.0,9.0,9.0,9.0,9.0,9.0,9.0,9.0,9.0,9.0,9.0,9.0,9.0,9.0,9.0,9.0,9.0,9.0,9.0,9.15,9.15,9.15,9.2,9.2,9.22,9.29,9.3,9.4,9.4,9.4,9.4,9.4,9.4,9.4,9.5,9.5,9.5,9.5,9.7,9.7,9.86,10.0,10.0,10.0,10.0,10.0,10.0,10.0,10.0,10.0,10.0,10.0,10.0,10.0,10.0,10.0,10.0,10.0,10.0,10.0,10.0,10.0,10.0,10.0,10.0,10.0,10.0,10.0,10.0,10.0,10.4,10.7,10.7,10.8,10.8,10.8,10.8,10.8,10.8,10.9,11.0,11.0,11.0,11.0,11.0,11.0,11.0,11.0,11.0,11.0,11.0,11.0,11.0,11.0,11.0,11.0,11.0,11.0,11.0,11.1,11.1,11.5,11.5,11.5,11.9,11.9,11.9,12.0,12.0,12.0,12.0,12.0,12.0,12.0,12.0,12.0,12.0,12.0,12.0,12.0,12.0,12.0,12.0,12.0,12.0,12.0,12.1,12.38,12.5,12.8,12.8,13.0,13.0,13.0,13.0,13.0,14.0,14.0,14.0,14.0,14.0,14.0,14.0,14.0,15.5,16.0],\"yaxis\":\"y\",\"type\":\"scattergl\"},{\"customdata\":[[\"Intel Core i3 (11th Gen) Processor\",\"8 GB LP\"],[\"Intel Core i3 (12th Gen) Processor\",\"8 GB \"],[\"Intel Pentium Quad-Core\",\"4 GB \"],[\"Intel Core i3 (11th Gen) Processor\",\"4 GB \"],[\"AMD Quad-Core Ryzen 5\",\"4 GB \"],[\"Intel Core i5 (8th Gen)\",\"16 GB \"],[\"Intel Core i5 (13th Gen)\",\"8 GB \"],[\"AMD Quad-Core Ryzen 5\",\"8 GB \"],[\"Intel Core i7 (8th Gen)\",\"8 GB \"],[\"Intel Core i7 (8th Gen)\",\"16 GB \"],[\"AMD Dual-Core A4 APU\",\"4 GB \"],[\"AMD Dual-Core APU\",\"4 GB \"],[\"AMD Dual-Core A4 APU\",\"4 GB \"],[\"Intel Celeron Dual-Core\",\"2 GB \"],[\"Intel Core i7 (14th Gen)\",\"16 GB \"],[\"Intel Core i7 (11th Gen)\",\"16 GB \"],[\"Intel Core i7 (7th Gen)\",\"8 GB \"],[\"Intel Core i5 (13th Gen)\",\"16 GB \"],[\"Intel Core i9 (14th Gen)\",\"16 GB \"],[\"Intel Core i3 (7th Gen)\",\"4 GB \"],[\"Intel Core i7 (7th Gen)\",\"16 GB \"],[\"Intel Core i5 (9th Gen)\",\"16 GB \"],[\"Intel Celeron Dual-Core\",\"2 GB \"],[\"Intel Core i7 (9th Gen)\",\"16 GB \"],[\"Intel Pentium Quad-Core\",\"4 GB \"],[\"Intel Core i3 (12th Gen)\",\"8 GB \"],[\"Intel Core i7 (11th Gen) Processor\",\"16 GB \"],[\"Intel Core i7 (13th Gen)\",\"16 GB \"],[\"Intel Core i9 (11th Gen)\",\"16 GB \"],[\"Intel Core i5 (7th Gen)\",\"16 GB \"],[\"Intel Pentium Quad-Core\",\"4 GB \"],[\"Intel Core i3 (7th Gen)\",\"4 GB \"],[\"Intel Core i5 (7th Gen)\",\"8 GB \"],[\"Intel Core i3 (6th Gen)\",\"4 GB \"],[\"Intel Pentium Quad-Core\",\"4 GB \"],[\"Intel Pentium Quad-Core\",\"4 GB \"],[\"Intel Pentium Quad-Core\",\"4 GB \"],[\"Intel Pentium Quad-Core\",\"4 GB \"],[\"Intel Core i3 (7th Gen)\",\"4 GB \"],[\"Intel Core i5 (7th Gen)\",\"8 GB \"],[\"Intel Core i5 (7th Gen)\",\"8 GB \"],[\"Intel Core i3 (8th Gen)\",\"4 GB \"],[\"Intel Pentium Dual-Core\",\"4 GB \"],[\"Intel Core i5 (7th Gen)\",\"8 GB \"],[\"Intel Core i5 (8th Gen)\",\"8 GB \"],[\"Intel Core i5 (8th Gen)\",\"8 GB \"],[\"Intel Core i5 (7th Gen)\",\"8 GB \"],[\"Intel Core i5 (8th Gen)\",\"8 GB \"],[\"Intel Core i7 (10th Gen) Processor\",\"16 GB \"],[\"Intel Core i5 (8th Gen)\",\"8 GB \"],[\"Intel Pentium Dual-Core\",\"4 GB \"],[\"AMD Octa-Core Ryzen 7 Processor\",\"16 GB \"],[\"Intel Core i3 (12th Gen)\",\"8 GB \"],[\"Intel Core i5 (8th Gen)\",\"8 GB \"],[\"AMD Octa-Core Ryzen 7 Processor\",\"16 GB \"],[\"AMD Octa-Core Ryzen 7\",\"16 GB \"],[\"Intel Core i5 (8th Gen)\",\"16 GB \"],[\"Intel Core i5 (7th Gen)\",\"8 GB \"],[\"Intel Core i5 (8th Gen)\",\"8 GB \"],[\"Intel Core i5 (8th Gen)\",\"8 GB \"],[\"Intel Core i5 (11th Gen)\",\"8 GB \"],[\"Intel Core i5 (8th Gen)\",\"8 GB LP\"],[\"AMD Dual-Core Athlon\",\"8 GB \"],[\"Intel Core i7 (7th Gen)\",\"8 GB LP\"],[\"Intel Core i3 (6th Gen)\",\"4 GB \"],[\"Intel Core i5 (8th Gen)\",\"8 GB \"],[\"Intel Core i5 (6th Gen)\",\"4 GB \"],[\"Intel Core i3 (8th Gen)\",\"4 GB \"],[\"Intel Core i5 (8th Gen)\",\"8 GB \"],[\"Intel Core i7 (8th Gen)\",\"8 GB \"],[\"Intel Core i3 (11th Gen)\",\"8 GB \"],[\"Intel Pentium Quad-Core\",\"4 GB \"],[\"AMD Quad-Core Ryzen 5\",\"8 GB \"],[\"AMD Quad-Core Ryzen 5\",\"8 GB \"],[\"Intel Core i5 (11th Gen) Processor\",\"8 GB \"],[\"Intel Core i5 (7th Gen)\",\"8 GB \"],[\"Intel Core i5 (7th Gen)\",\"8 GB \"],[\"Intel Core i7 (9th Gen)\",\"8 GB \"],[\"Intel Core i3 (12th Gen)\",\"8 GB LP\"],[\"Intel Core i5 (11th Gen)\",\"4 GB \"],[\"Intel Core i3 (12th Gen)\",\"8 GB LP\"],[\"Intel Core i5 (11th Gen)\",\"8 GB \"],[\"Intel Core i5 (12th Gen)\",\"16 GB \"],[\"Intel Core i5 (10th Gen)\",\"8 GB \"],[\"Intel Core i3 (11th Gen) Processor\",\"4 GB \"],[\"Intel Core i5 (7th Gen)\",\"8 GB \"],[\"Intel Core i5 (11th Gen)\",\"8 GB \"],[\"Intel Core i3 (11th Gen)\",\"4 GB \"],[\"Intel Core i3 (11th Gen)\",\"8 GB \"],[\"Intel Core i5 (8th Gen)\",\"8 GB \"],[\"AMD Dual-Core Athlon\",\"4 GB \"],[\"Intel Core i5 (11th Gen) Processor\",\"8 GB \"],[\"Intel Core i3 (6th Gen)\",\"4 GB \"],[\"Intel Core i3 (6th Gen)\",\"4 GB \"],[\"Intel Core i5 (8th Gen)\",\"8 GB \"],[\"Intel Core i5 (11th Gen) Processor\",\"8 GB \"],[\"AMD Dual-Core Athlon\",\"4 GB \"],[\"Intel Core i5 (11th Gen)\",\"8 GB \"],[\"Intel Core i5 (11th Gen)\",\"8 GB \"],[\"Intel Core i5 (11th Gen) Processor\",\"8 GB \"],[\"AMD Dual-Core Athlon\",\"4 GB \"],[\"AMD Hexa-Core Ryzen 5\",\"8 GB \"],[\"Intel Core i5 (8th Gen)\",\"4 GB \"],[\"AMD Hexa-Core Ryzen 5\",\"16 GB \"],[\"AMD Dual-Core Athlon\",\"4 GB \"],[\"AMD Quad-Core Ryzen 5\",\"8 GB \"],[\"Intel Core i5 (11th Gen)\",\"16 GB \"],[\"AMD Octa-Core Ryzen 7 Processor\",\"16 GB \"],[\"Intel Core i5 (8th Gen)\",\"4 GB \"],[\"AMD Hexa-Core Ryzen 5 Processor\",\"16 GB \"],[\"Intel Core i5 (12th Gen)\",\"16 GB LP\"],[\"Intel Core i5 (8th Gen)\",\"8 GB \"],[\"Intel Core i5 (8th Gen)\",\"8 GB \"],[\"AMD Octa-Core Ryzen 7 Processor\",\"8 GB \"],[\"AMD Hexa-Core Ryzen 5\",\"8 GB \"],[\"Intel Core i5 (8th Gen)\",\"8 GB \"],[\"AMD Octa-Core Ryzen 7\",\"16 GB \"],[\"Intel Core i3 (10th Gen)\",\"4 GB \"],[\"Intel Core i7 (9th Gen)\",\"8 GB \"],[\"Intel Core i3 (10th Gen)\",\"4 GB \"],[\"Intel Core i5 (11th Gen)\",\"16 GB LP\"],[\"Intel Core i5 (12th Gen)\",\"8 GB \"],[\"Intel Core i5 (9th Gen)\",\"8 GB \"],[\"Intel Core i5 (9th Gen)\",\"8 GB \"],[\"AMD Quad-Core Ryzen 5\",\"8 GB \"],[\"AMD Dual-Core Ryzen 3\",\"8 GB \"],[\"AMD Quad-Core Ryzen 5\",\"8 GB \"],[\"Intel Core i3 (11th Gen) Processor\",\"8 GB \"],[\"AMD Hexa-Core Ryzen 5 Processor\",\"16 GB \"],[\"Intel Core i5 (11th Gen)\",\"8 GB \"],[\"Intel Core i3 (11th Gen) Processor\",\"4 GB \"],[\"Intel Core i3 (6th Gen)\",\"4 GB \"],[\"Intel Core i7 (11th Gen)\",\"16 GB \"],[\"AMD Octa-Core Ryzen 7\",\"16 GB LP\"],[\"Intel Core i5 (11th Gen)\",\"8 GB LP\"]],\"hovertemplate\":\"Brand=Acer<br>Price=%{x}<br>Battery_Life_num=%{y}<br>Processor_Name=%{customdata[0]}<br>RAM=%{customdata[1]}<extra></extra>\",\"legendgroup\":\"Acer\",\"marker\":{\"color\":\"#19d3f3\",\"symbol\":\"circle\"},\"mode\":\"markers\",\"name\":\"Acer\",\"showlegend\":true,\"x\":[0.0524299253881831,0.05041338979632991,0.021113127646702964,0.05245009074410163,0.05554345634200444,0.23795119983867716,0.1464367816091954,0.09276063722524702,0.14519056261343014,0.21677757612421858,0.023795119983867716,0.023190159306311756,0.022847348255696714,0.018148820326678767,0.2520850978019762,0.16586610203670094,0.16134099616858238,0.09881024400080661,0.34686227061907643,0.05244807420850978,0.22788667069973784,0.14519056261343014,0.01613228473482557,0.13840895341802784,0.02621496269409155,0.05041338979632991,0.18089332526719096,0.2863480540431539,0.24601734220608995,0.205686630369026,0.030266182698124623,0.04234724742891712,0.11294414196410567,0.03833232506553741,0.036297640653357534,0.033857632587215164,0.029441419641056666,0.03228271828997782,0.036297640653357534,0.1452087114337568,0.09815688646904618,0.045109901189755996,0.030804597701149426,0.10570074611816899,0.1569066344020972,0.06654567453115548,0.06654567453115548,0.054464609800362974,0.14500907441016334,0.07664650131074814,0.03351482153660012,0.06856221012300867,0.04841500302480339,0.10084492841298649,0.07461181689856826,0.07462996571889494,0.1613228473482557,0.04972978423069167,0.08527727364387981,0.08497882637628554,0.08267795926598104,0.08794716676749345,0.039725751159507966,0.15974389997983465,0.08671103044968743,0.08469449485783424,0.06856221012300867,0.0544464609800363,0.06452913893930227,0.17196007259528132,0.04781004234724743,0.0423653962492438,0.07259528130671507,0.06178866706997378,0.13452107279693487,0.06838072191974189,0.07039725751159508,0.08961685823754789,0.07644686428715466,0.08973583383746724,0.06856221012300867,0.07303085299455535,0.09580560596894536,0.08370639241782618,0.062016535591853196,0.10465819721718088,0.07098406936882436,0.049019963702359344,0.04585400282314983,0.058449284129864894,0.038314176245210725,0.10082677959265982,0.05847953216374269,0.0544464609800363,0.1048598507763662,0.09477717281710023,0.03111514418229482,0.08168784029038112,0.08249445452712241,0.06067553942327082,0.0300645291389393,0.12502520669489817,0.05632990522282718,0.08066142367412785,0.06454728775962895,0.10082677959265982,0.10875176446864288,0.24601734220608995,0.07160717886670699,0.16839887074006857,0.09147207098205283,0.11494252873563218,0.11897559991933858,0.17543859649122806,0.08368622706190765,0.09054446460980037,0.17140552530752168,0.039897156684815485,0.12502520669489817,0.039897156684815485,0.12282516636418633,0.07057874571486186,0.09578544061302682,0.1048598507763662,0.09477717281710023,0.04839685420447671,0.06051421657592256,0.060294414196410566,0.09881024400080661,0.08390602944141964,0.047388586408550114,0.05849768098406937,0.07057874571486186,0.18552127445049404,0.1336963097398669],\"xaxis\":\"x\",\"y\":[3.0,4.0,4.0,4.0,4.5,5.0,5.0,5.0,5.0,5.0,5.5,5.5,5.5,5.5,6.0,6.0,6.0,6.0,6.0,6.0,6.0,6.0,6.0,6.0,6.0,6.0,6.0,6.0,6.0,6.0,6.5,6.5,6.5,6.5,6.5,6.5,6.5,6.5,6.5,7.0,7.0,7.0,7.0,7.0,7.0,7.0,7.0,7.0,7.0,7.0,7.0,7.0,7.0,7.0,7.0,7.0,7.0,7.0,7.0,8.0,8.0,8.0,8.0,8.0,8.0,8.0,8.0,8.0,8.0,8.0,8.0,8.0,8.0,8.0,8.0,8.0,8.0,8.5,8.5,8.5,8.5,9.0,9.0,9.0,9.0,9.0,9.0,9.0,9.0,9.0,9.0,9.0,9.0,9.0,9.0,9.5,9.5,9.5,9.5,9.5,9.5,10.0,10.0,10.0,10.0,10.0,10.0,10.0,10.0,10.0,10.0,10.0,10.0,10.0,10.0,10.0,10.0,11.0,11.0,11.0,11.0,11.0,11.0,11.0,11.0,11.0,11.0,11.5,11.5,11.5,11.5,12.0,12.0,14.0,17.0],\"yaxis\":\"y\",\"type\":\"scattergl\"},{\"customdata\":[[\"Intel Core i7 (13th Gen)\",\"16 GB \"],[\"Intel Core i5 (12th Gen)\",\"16 GB \"],[\"Intel Core i7 (12th Gen)\",\"16 GB \"]],\"hovertemplate\":\"Brand=Colorful<br>Price=%{x}<br>Battery_Life_num=%{y}<br>Processor_Name=%{customdata[0]}<br>RAM=%{customdata[1]}<extra></extra>\",\"legendgroup\":\"Colorful\",\"marker\":{\"color\":\"#FF6692\",\"symbol\":\"circle\"},\"mode\":\"markers\",\"name\":\"Colorful\",\"showlegend\":true,\"x\":[0.17745513208308128,0.12300867110304498,0.15527324057269612],\"xaxis\":\"x\",\"y\":[3.0,3.0,3.0],\"yaxis\":\"y\",\"type\":\"scattergl\"},{\"customdata\":[[\"AMD Dual-Core A9 APU\",\"4 GB \"],[\"Intel Core i3 (6th Gen)\",\"4 GB \"],[\"Intel Core i5 (11th Gen)\",\"8 GB \"],[\"Intel Core i7 (11th Gen) Processor\",\"16 GB \"],[\"Intel Core i3 (11th Gen)\",\"8 GB \"],[\"Intel Core i5 (5th Gen)\",\"4 GB \"],[\"Intel Core i3 (12th Gen)\",\"8 GB \"],[\"Intel Core i7 (11th Gen)\",\"16 GB \"],[\"AMD Dual-Core A6 APU\",\"4 GB \"],[\"Intel Core i7 (13th Gen)\",\"16 GB \"],[\"Intel Core i3 (11th Gen)\",\"8 GB \"],[\"Intel Core i5 (11th Gen)\",\"8 GB \"],[\"Intel Core i3 (6th Gen)\",\"4 GB \"],[\"Intel Core i3 (11th Gen)\",\"16 GB \"],[\"Intel Core i7 (13th Gen)\",\"16 GB \"],[\"Intel Core i3 (11th Gen)\",\"4 GB \"],[\"Intel Core i5 (11th Gen)\",\"8 GB \"],[\"Intel Core i5 (13th Gen)\",\"8 GB LP\"],[\"Intel Core i3 (10th Gen)\",\"8 GB \"],[\"Intel Pentium Gold\",\"4 GB \"],[\"Intel Core i7 (13th Gen)\",\"16 GB \"],[\"Intel Core i7 (13th Gen)\",\"16 GB \"],[\"Intel Core i3 (13th Gen)\",\"8 GB LP\"],[\"Intel Core i5 (8th Gen)\",\"8 GB \"],[\"Intel Core i3 (11th Gen)\",\"8 GB \"],[\"Intel Core i7 (13th Gen)\",\"16 GB LP\"],[\"Intel Core i5 (11th Gen)\",\"16 GB \"],[\"Intel Core i3 (11th Gen)\",\"8 GB \"],[\"Intel Core i5 (12th Gen)\",\"16 GB \"],[\"Intel Core i5 (13th Gen)\",\"16 GB \"],[\"Intel Core i5 (11th Gen)\",\"8 GB \"],[\"Intel Core i3 (11th Gen)\",\"8 GB \"],[\"Intel Core i5 (11th Gen)\",\"8 GB \"],[\"Intel Core i5 (8th Gen)\",\"8 GB \"],[\"Intel Core i3 (10th Gen)\",\"4 GB \"],[\"Intel Core i5 (11th Gen)\",\"16 GB \"],[\"Intel Core i3 (10th Gen)\",\"4 GB \"],[\"Intel Core i5 (10th Gen)\",\"8 GB \"],[\"Intel Core i3 (11th Gen)\",\"8 GB \"],[\"Intel Core i5 (8th Gen)\",\"8 GB \"],[\"Intel Core i3 (10th Gen)\",\"4 GB \"],[\"Intel Core i5 (13th Gen)\",\"16 GB \"],[\"Intel Core i5 (11th Gen)\",\"8 GB \"],[\"Intel Core i3 (11th Gen)\",\"8 GB \"],[\"Intel Core i5 (11th Gen)\",\"8 GB \"],[\"Intel Core i5 (11th Gen)\",\"16 GB \"],[\"Intel Core i3 (11th Gen)\",\"4 GB \"],[\"Intel Core i5 (11th Gen)\",\"16 GB \"],[\"Intel Core i5 (13th Gen)\",\"16 GB LP\"],[\"Intel Core i5 (8th Gen)\",\"8 GB \"],[\"Intel Core i5 (11th Gen)\",\"16 GB \"],[\"Intel Core i5 (11th Gen)\",\"8 GB \"],[\"Intel Core i5 (10th Gen)\",\"16 GB \"],[\"Intel Core i5 (11th Gen)\",\"8 GB \"],[\"Intel Core i5 (11th Gen)\",\"8 GB \"],[\"Intel Core i5 (11th Gen)\",\"16 GB \"],[\"Intel Core i5 (13th Gen)\",\"8 GB LP\"],[\"Intel Core i5 (11th Gen)\",\"8 GB \"],[\"Intel Core i5 (12th Gen) Processor\",\"16 GB \"],[\"Intel Core i5 (11th Gen)\",\"8 GB LP\"],[\"Intel Core i5 (10th Gen)\",\"8 GB \"],[\"Intel Core i5 (13th Gen)\",\"16 GB LP\"],[\"Intel Core i5 (11th Gen)\",\"16 GB \"],[\"Intel Core i5 (11th Gen)\",\"8 GB \"],[\"Intel Core i5 (11th Gen)\",\"8 GB \"],[\"Intel Core i5 (11th Gen)\",\"8 GB \"],[\"Intel Core i5 (10th Gen)\",\"8 GB \"],[\"Intel Core i7 (12th Gen)\",\"16 GB LP\"],[\"Intel Core i3 (10th Gen)\",\"4 GB \"],[\"Intel Core i3 (10th Gen)\",\"4 GB \"],[\"Intel Core i5 (11th Gen)\",\"8 GB \"],[\"AMD Dual-Core Ryzen 3\",\"4 GB \"],[\"Intel Core i3 (11th Gen) Processor\",\"8 GB \"],[\"Intel Pentium Quad-Core\",\"8 GB \"],[\"Intel Core i5 (11th Gen)\",\"8 GB \"],[\"Intel Pentium Quad-Core\",\"8 GB \"],[\"AMD Hexa-Core Ryzen 5\",\"8 GB \"],[\"Intel Core i3 (13th Gen)\",\"8 GB LP\"],[\"AMD Dual-Core Ryzen 3\",\"8 GB \"],[\"AMD Hexa-Core Ryzen 5\",\"8 GB \"],[\"AMD Dual-Core Ryzen 3\",\"8 GB \"],[\"Intel Core i3 (11th Gen)\",\"8 GB \"],[\"AMD Quad-Core Ryzen 3\",\"8 GB \"],[\"Intel Core i3 (10th Gen)\",\"8 GB \"],[\"Intel Core i5 (11th Gen)\",\"8 GB \"],[\"Intel Core i3 (12th Gen)\",\"8 GB \"],[\"Intel Core i3 (11th Gen)\",\"4 GB \"],[\"Intel Core i5 (11th Gen)\",\"8 GB \"],[\"AMD Quad-Core Ryzen 3\",\"8 GB \"],[\"Intel Core i7 (12th Gen)\",\"16 GB \"],[\"Intel Core i3 (11th Gen)\",\"8 GB \"],[\"Intel Core i3 (11th Gen)\",\"8 GB \"],[\"Intel Core i3 (11th Gen)\",\"8 GB \"],[\"AMD Quad-Core Ryzen 5\",\"8 GB \"],[\"AMD Dual-Core Athlon\",\"8 GB \"],[\"Intel Core i7 (12th Gen)\",\"16 GB \"],[\"AMD Hexa-Core Ryzen 5\",\"8 GB \"],[\"Intel Core i7 (12th Gen)\",\"16 GB LP\"],[\"AMD Hexa-Core Ryzen 5\",\"16 GB \"],[\"Intel Core i3 (11th Gen)\",\"8 GB \"],[\"Intel Core i5 (11th Gen)\",\"8 GB \"],[\"AMD Dual-Core Ryzen 3\",\"8 GB \"],[\"Intel Core i5 (12th Gen)\",\"16 GB \"],[\"Intel Core i3 (10th Gen)\",\"8 GB \"],[\"Intel Core i5 (11th Gen)\",\"8 GB \"],[\"Intel Core i5 (11th Gen)\",\"16 GB \"],[\"Intel Core i3 (10th Gen)\",\"8 GB \"],[\"Intel Core i5 (12th Gen)\",\"8 GB \"],[\"AMD Hexa-Core Ryzen 5\",\"8 GB \"],[\"Intel Core i5 (13th Gen)\",\"8 GB \"],[\"Intel Core i5 (13th Gen)\",\"16 GB \"],[\"Intel Core i5 (11th Gen)\",\"8 GB \"],[\"Intel Core i3 (11th Gen)\",\"8 GB \"],[\"AMD Dual-Core Ryzen 3\",\"8 GB \"],[\"Intel Core i7 (13th Gen)\",\"16 GB \"],[\"Intel Core i3 (11th Gen)\",\"8 GB \"],[\"Intel Core i3 (11th Gen)\",\"8 GB \"],[\"Intel Core i3 (13th Gen)\",\"8 GB LP\"],[\"Intel Core i7 (12th Gen)\",\"16 GB \"],[\"Intel Core i5 (12th Gen)\",\"16 GB \"],[\"Intel Core Ultra 5\",\"16 GB LP\"],[\"Intel Core i3 (11th Gen)\",\"8 GB \"],[\"Intel Core i7 (12th Gen)\",\"16 GB LP\"],[\"AMD Dual-Core Ryzen 3\",\"8 GB \"],[\"Intel Core i5 (12th Gen)\",\"16 GB \"],[\"AMD Octa-Core Ryzen 7\",\"16 GB \"],[\"AMD Octa-Core Ryzen 7\",\"16 GB \"],[\"Intel Core i3 (12th Gen)\",\"8 GB \"],[\"AMD Dual-Core Athlon Processor\",\"4 GB \"],[\"Intel Core i5 (11th Gen)\",\"8 GB \"],[\"Intel Core i5 (12th Gen)\",\"8 GB \"],[\"Intel Core i3 (11th Gen)\",\"8 GB \"],[\"AMD Dual-Core Athlon\",\"8 GB \"],[\"Intel Core i5 (12th Gen)\",\"8 GB \"],[\"AMD Quad-Core Ryzen 5\",\"8 GB LP\"],[\"Intel Core i5 (12th Gen)\",\"16 GB \"],[\"AMD Dual-Core Ryzen 3\",\"8 GB \"],[\"Intel Core i3 (11th Gen) Processor\",\"8 GB \"],[\"AMD Octa-Core Ryzen 7\",\"16 GB \"],[\"Intel Core i7 (9th Gen)\",\"16 GB \"],[\"Intel Core i5 (12th Gen)\",\"16 GB \"],[\"Intel Core i7 (11th Gen)\",\"16 GB \"],[\"AMD Quad-Core Ryzen 3\",\"8 GB \"],[\"Intel Core i7 (11th Gen)\",\"16 GB \"],[\"Intel Core i5 (11th Gen) Processor\",\"16 GB \"],[\"Intel Core i3 (6th Gen)\",\"4 GB \"],[\"Intel Pentium Quad-Core\",\"4 GB \"],[\"AMD Hexa-Core Ryzen 5\",\"16 GB \"],[\"Intel Core i3 (10th Gen)\",\"8 GB \"],[\"Intel Core i5 (13th Gen)\",\"8 GB LP\"],[\"Intel Core i5 (11th Gen)\",\"4 GB \"],[\"Intel Core i5 (11th Gen)\",\"8 GB \"],[\"Intel Core i5 (11th Gen)\",\"8 GB \"],[\"Intel Core i3 (10th Gen)\",\"4 GB \"],[\"Intel Core i5 (13th Gen)\",\"16 GB \"],[\"Intel Core i7 (13th Gen)\",\"16 GB LP\"],[\"Intel Core i7 (13th Gen)\",\"16 GB LP\"],[\"Intel Core i5 (11th Gen)\",\"8 GB \"],[\"Intel Core i3 (10th Gen)\",\"4 GB \"],[\"AMD Hexa-Core Ryzen 5\",\"8 GB \"],[\"Intel Core i5 (8th Gen)\",\"4 GB \"],[\"AMD Hexa-Core Ryzen 5\",\"8 GB \"],[\"Intel Core i5 (11th Gen)\",\"16 GB \"],[\"Intel Core i5 (11th Gen)\",\"8 GB \"],[\"Intel Core i5 (11th Gen)\",\"16 GB \"],[\"Intel Core i3 (11th Gen)\",\"8 GB \"],[\"Intel Core i3 (10th Gen)\",\"8 GB \"],[\"AMD Dual-Core Athlon\",\"4 GB \"],[\"Intel Core i5 (11th Gen) Processor\",\"8 GB \"],[\"Intel Core i5 (10th Gen)\",\"32 GB \"],[\"Intel Core i7 (11th Gen)\",\"16 GB \"],[\"Intel Core i5 (11th Gen)\",\"16 GB \"],[\"AMD Hexa-Core Ryzen 5\",\"8 GB \"],[\"AMD Hexa-Core Ryzen 5\",\"16 GB \"],[\"Intel Core i5 (10th Gen)\",\"8 GB \"],[\"Intel Core i3 (10th Gen)\",\"8 GB \"],[\"Intel Core i5 (12th Gen)\",\"16 GB \"],[\"Intel Core i3 (11th Gen)\",\"8 GB RAM\"],[\"Intel Core i7 (12th Gen)\",\"16 GB \"],[\"Intel Core i7 (12th Gen)\",\"16 GB \"],[\"Intel Core i3 (10th Gen)\",\"4 GB \"],[\"Intel Core i3 (10th Gen)\",\"8 GB \"],[\"Intel Core i7 (12th Gen)\",\"16 GB \"],[\"Intel Core i3 (11th Gen)\",\"8 GB \"],[\"Intel Core i3 (11th Gen)\",\"8 GB \"],[\"Intel Core i5 (11th Gen)\",\"8 GB \"],[\"Intel Core i5 (10th Gen)\",\"8 GB \"],[\"Intel Core i5 (12th Gen)\",\"16 GB \"],[\"Intel Core i3 (11th Gen) Processor\",\"4 GB \"],[\"AMD Dual-Core Ryzen 3\",\"8 GB \"],[\"Intel Core i3 (10th Gen)\",\"4 GB \"],[\"Intel Core i5 (11th Gen)\",\"8 GB \"],[\"AMD Octa-Core Ryzen 7\",\"16 GB \"],[\"Intel Core i3 (10th Gen)\",\"8 GB \"],[\"Intel Core i5 (10th Gen)\",\"8 GB \"],[\"AMD Octa-Core Ryzen 7\",\"16 GB \"],[\"Intel Core i9 (10th Gen)\",\"32 GB \"],[\"Intel Core i5 (10th Gen)\",\"8 GB \"]],\"hovertemplate\":\"Brand=Dell<br>Price=%{x}<br>Battery_Life_num=%{y}<br>Processor_Name=%{customdata[0]}<br>RAM=%{customdata[1]}<extra></extra>\",\"legendgroup\":\"Dell\",\"marker\":{\"color\":\"#B6E880\",\"symbol\":\"circle\"},\"mode\":\"markers\",\"name\":\"Dell\",\"showlegend\":true,\"x\":[0.038846541641459974,0.04033071183706392,0.06452913893930227,0.1572897761645493,0.056462996571889496,0.0745109901189756,0.09679370840895342,0.21578745714861866,0.02932446057672918,0.30348860657390603,0.06626335954829603,0.11597096188747731,0.03507360354910264,0.05143980641258318,0.22565033272837265,0.07259528130671507,0.13895946763460376,0.1459971768501714,0.06043758822343214,0.04366404517039726,0.1913692276668683,0.12502520669489817,0.11496067755595886,0.07725952813067151,0.056462996571889496,0.18047993547086105,0.13512603347449081,0.11294414196410567,0.10082677959265982,0.14216575922565033,0.09076225045372051,0.07059689453518854,0.13008469449485782,0.07461181689856826,0.04063924178261746,0.09793103448275862,0.04286549707602339,0.11272433958459367,0.059005847953216374,0.08587416817906836,0.07241177656785643,0.1088929219600726,0.13512603347449081,0.11193587416817907,0.1330933655979028,0.14379713651945958,0.07965315587820125,0.13914095583787053,0.11494252873563218,0.08671103044968743,0.13512603347449081,0.07057874571486186,0.12201855212744504,0.10881226053639846,0.06251260334744908,0.08874571486186732,0.09882839282113329,0.07388989715668481,0.11798548094373866,0.11363984674329503,0.12187537810042347,0.12502520669489817,0.11292599314377899,0.08872756604154064,0.09881024400080661,0.13915910465819722,0.10467836257309941,0.32667876588021777,0.06588021778584392,0.12099213551119177,0.11092760637225248,0.043557168784029036,0.06938697318007662,0.05847953216374269,0.07904214559386973,0.03191974188344424,0.05747126436781609,0.08067957249445452,0.06113530953821335,0.11741278483565235,0.04234724742891712,0.07503528937285743,0.06245412381528534,0.05878806210929623,0.09074410163339383,0.07443032869530147,0.06414398064125831,0.10286146400483968,0.0655575720911474,0.16333938294010888,0.07080056462996571,0.04839685420447671,0.06352087114337568,0.05158499697519661,0.0514216575922565,0.19358741681790684,0.08368622706190765,0.17342206089937487,0.16436781609195403,0.05827787860455737,0.09276063722524702,0.03859850776366203,0.09036095987094173,0.06916717080056463,0.08471264367816092,0.1298447267594273,0.06958862673926194,0.07662835249042145,0.08267795926598104,0.08469449485783424,0.0998185117967332,0.08671103044968743,0.05345634200443638,0.05847953216374269,0.2863480540431539,0.06303690260133091,0.06150433555152249,0.0705989110707804,0.14035087719298245,0.10770114942528736,0.1598709417221214,0.05847953216374269,0.16535591853196208,0.056462996571889496,0.1478322242387578,0.13714458560193588,0.14519056261343014,0.05847953216374269,0.04436378302077032,0.08368622706190765,0.09036095987094173,0.06452913893930227,0.04839685420447671,0.09378705384150031,0.07420850978019762,0.13430127041742287,0.06493244605767291,0.060496067755595885,0.14039927404718694,0.2661826981246219,0.11798548094373866,0.16537406735228877,0.05545472877596289,0.16335753176043558,0.11294414196410567,0.060496067755595885,0.03327283726557774,0.10185319620891309,0.06737245412381529,0.10869126840088728,0.0958035894333535,0.11211937890703771,0.08538011695906433,0.061522484371849165,0.1347045775357935,0.14519056261343014,0.1480137124420246,0.08469449485783424,0.06854204476709014,0.10445654365799556,0.10165154264972777,0.09800362976406533,0.1480137124420246,0.10364992942125428,0.13309134906231096,0.04676144383948377,0.0544464609800363,0.037485380116959066,0.07259528130671507,0.48800161322847346,0.19157088122605365,0.12401693889897157,0.13288969550312563,0.12401693889897157,0.12885662431941924,0.05648316192780803,0.12444041137326074,0.06308731599112724,0.21637426900584794,0.18350473885864085,0.028951401492236337,0.07564025005041339,0.24601734220608995,0.06938495664448477,0.04676144383948377,0.057521677757612424,0.0992679975801573,0.14218592458156887,0.06616454930429522,0.05158499697519661,0.06916717080056463,0.09882839282113329,0.15529138939302278,0.07332123411978221,0.11292599314377899,0.15648316192780803,0.7021092962290785,0.17142367412784837],\"xaxis\":\"x\",\"y\":[4.0,4.0,4.0,4.0,4.0,4.0,4.0,4.0,5.0,5.0,5.0,5.0,5.0,5.0,5.0,6.0,6.0,6.0,6.0,6.0,6.0,6.0,6.0,6.0,6.0,6.0,6.0,6.0,6.0,6.0,6.0,6.0,6.0,6.0,6.0,6.0,6.0,6.0,6.0,6.0,6.0,6.0,6.0,6.0,6.0,6.0,6.0,6.0,6.0,6.0,6.0,6.0,6.0,6.0,6.0,6.0,6.0,6.0,6.0,6.0,6.0,6.0,6.0,6.0,6.0,6.0,6.0,6.0,6.0,6.0,6.0,6.0,6.0,7.0,7.0,7.0,7.0,7.0,7.0,7.0,7.0,7.0,7.0,7.0,7.0,7.0,7.0,7.0,7.0,7.0,7.0,7.0,7.0,7.0,7.0,7.0,7.0,7.0,7.0,7.0,7.0,7.0,7.0,7.0,7.0,7.0,7.0,7.0,7.0,7.0,7.0,7.0,7.0,7.0,7.0,7.0,7.0,7.0,7.0,7.0,7.0,7.0,7.0,7.0,7.0,7.0,7.0,7.0,7.0,7.0,7.0,7.0,7.0,7.0,7.0,7.0,7.0,7.0,8.0,8.0,8.0,8.0,8.0,8.0,8.0,8.0,8.0,8.0,8.0,8.0,8.0,8.0,8.0,8.0,8.5,9.0,9.0,10.0,10.0,10.0,10.0,10.0,10.0,10.0,10.0,10.0,10.0,10.0,10.0,10.0,10.0,10.0,10.0,10.0,10.0,10.0,10.0,10.0,10.0,10.0,10.0,10.0,10.0,10.0,10.0,10.0,10.0,10.0,10.0,10.0,10.0,10.0,10.0,10.0,10.0,12.0,12.0,14.0],\"yaxis\":\"y\",\"type\":\"scattergl\"},{\"customdata\":[[\"Intel Core i3 (11th Gen)\",\"8 GB LP\"],[\"Intel Core i5 (11th Gen)\",\"8 GB LP\"],[\"Intel Core i5 (11th Gen)\",\"16 GB \"]],\"hovertemplate\":\"Brand=Realme<br>Price=%{x}<br>Battery_Life_num=%{y}<br>Processor_Name=%{customdata[0]}<br>RAM=%{customdata[1]}<extra></extra>\",\"legendgroup\":\"Realme\",\"marker\":{\"color\":\"#FF97FF\",\"symbol\":\"circle\"},\"mode\":\"markers\",\"name\":\"Realme\",\"showlegend\":true,\"x\":[0.07059689453518854,0.07259528130671507,0.08872756604154064],\"xaxis\":\"x\",\"y\":[4.0,11.0,12.0],\"yaxis\":\"y\",\"type\":\"scattergl\"},{\"customdata\":[[\"Intel Celeron Dual-Core\",\"4 GB \"],[\"Intel Atom Quad-Core\",\"2 GB \"],[\"Intel Atom Quad-Core\",\"2 GB \"],[\"Intel Atom Quad-Core\",\"2 GB \"]],\"hovertemplate\":\"Brand=iball<br>Price=%{x}<br>Battery_Life_num=%{y}<br>Processor_Name=%{customdata[0]}<br>RAM=%{customdata[1]}<extra></extra>\",\"legendgroup\":\"iball\",\"marker\":{\"color\":\"#FECB52\",\"symbol\":\"circle\"},\"mode\":\"markers\",\"name\":\"iball\",\"showlegend\":true,\"x\":[0.008066142367412784,0.0070780399274047185,0.009092558983666062,0.01191772534785239],\"xaxis\":\"x\",\"y\":[5.5,8.5,8.5,12.0],\"yaxis\":\"y\",\"type\":\"scattergl\"},{\"customdata\":[[\"Intel Core i9 (12th Gen)\",\"32 GB \"],[\"Intel Core i7 (13th Gen)\",\"16 GB \"]],\"hovertemplate\":\"Brand=Gigabyte<br>Price=%{x}<br>Battery_Life_num=%{y}<br>Processor_Name=%{customdata[0]}<br>RAM=%{customdata[1]}<extra></extra>\",\"legendgroup\":\"Gigabyte\",\"marker\":{\"color\":\"#636efa\",\"symbol\":\"circle\"},\"mode\":\"markers\",\"name\":\"Gigabyte\",\"showlegend\":true,\"x\":[0.5036499294212543,0.19944948578342409],\"xaxis\":\"x\",\"y\":[6.0,8.0],\"yaxis\":\"y\",\"type\":\"scattergl\"},{\"customdata\":[[\"Intel Core i5 (10th Gen)\",\"8 GB \"],[\"Intel Core i7 (10th Gen)\",\"8 GB \"]],\"hovertemplate\":\"Brand=Coconics<br>Price=%{x}<br>Battery_Life_num=%{y}<br>Processor_Name=%{customdata[0]}<br>RAM=%{customdata[1]}<extra></extra>\",\"legendgroup\":\"Coconics\",\"marker\":{\"color\":\"#EF553B\",\"symbol\":\"circle\"},\"mode\":\"markers\",\"name\":\"Coconics\",\"showlegend\":true,\"x\":[0.10964508973583384,0.15521274450494052],\"xaxis\":\"x\",\"y\":[7.0,12.0],\"yaxis\":\"y\",\"type\":\"scattergl\"},{\"customdata\":[[\"Intel Core Ultra 7\",\"32 GB LP\"],[\"Intel Core Ultra 7\",\"16 GB LP\"],[\"Intel Core Ultra 7\",\"16 GB LP\"],[\"Intel Core Ultra 5\",\"16 GB LP\"],[\"Intel Core Ultra 7\",\"16 GB LP\"],[\"Intel Core 7 (Series 1)\",\"16 GB LP\"],[\"Intel Core 5 (Series 1)\",\"16 GB LP\"],[\"Intel Core 7 (Series 1)\",\"16 GB LP\"],[\"Intel Core 5 (Series 1)\",\"16 GB LP\"],[\"Intel Celeron Dual-Core\",\"4 GB LP\"],[\"Intel Celeron Dual-Core\",\"2 GB \"],[\"Intel Celeron Dual-Core\",\"4 GB LP\"],[\"Intel Core i7 (13th Gen)\",\"16 GB RAM\"],[\"Intel Core i7 (13th Gen)\",\"16 GB RAM\"],[\"Intel Core i7 (12th Gen)\",\"16 GB LP\"],[\"Intel Core i9 (13th Gen) Processor\",\"32 GB RAM\"],[\"Intel Core i7 (13th Gen)\",\"16 GB RAM\"],[\"Intel Core i7 (12th Gen)\",\"16 GB LP\"],[\"Intel Core i5 (12th Gen)\",\"16 GB LP\"],[\"Intel Core i5 (12th Gen)\",\"16 GB LP\"],[\"Intel Core i7 (12th Gen)\",\"16 GB LP\"],[\"Intel Core i7 (12th Gen)\",\"16 GB \"]],\"hovertemplate\":\"Brand=Samsung<br>Price=%{x}<br>Battery_Life_num=%{y}<br>Processor_Name=%{customdata[0]}<br>RAM=%{customdata[1]}<extra></extra>\",\"legendgroup\":\"Samsung\",\"marker\":{\"color\":\"#00cc96\",\"symbol\":\"circle\"},\"mode\":\"markers\",\"name\":\"Samsung\",\"showlegend\":true,\"x\":[0.33071183706392415,0.25005041338979633,0.2762653760838879,0.205686630369026,0.3145795523290986,0.23190159306311756,0.215769308328292,0.2641661625327687,0.20367009477717282,0.06026214962694092,0.051367211131276465,0.1276870336761444,0.18553942327082074,0.29844726759427304,0.16535591853196208,0.5525307521677758,0.3145795523290986,0.24601734220608995,0.13107481347045774,0.15547489413188142,0.215769308328292,0.18148820326678766],\"xaxis\":\"x\",\"y\":[7.5,7.5,7.5,7.5,7.5,8.7,8.7,8.7,8.7,11.0,11.0,11.0,16.0,16.0,17.0,17.5,19.0,20.0,21.0,21.0,21.0,22.0],\"yaxis\":\"y\",\"type\":\"scattergl\"},{\"customdata\":[[\"Intel Core i3 (10th Gen)\",\"8 GB RAM\"],[\"Intel Core i5 (11th Gen)\",\"8 GB \"],[\"Intel Core i5 (13th Gen)\",\"8 GB LP\"],[\"Intel Core i5 (13th Gen)\",\"8 GB LP\"],[\"Intel Core i5 (13th Gen)\",\"16 GB LP\"],[\"Intel Core i5 (12th Gen)\",\"16 GB LP\"],[\"Intel Core i5 (12th Gen)\",\"8 GB LP\"],[\"Intel Core i5 (13th Gen)\",\"16 GB LP\"],[\"Intel Core i3 (10th Gen)\",\"8 GB RAM\"],[\"AMD Hexa-Core Ryzen 5\",\"8 GB \"],[\"AMD Hexa-Core Ryzen 5\",\"16 GB \"],[\"AMD Hexa-Core Ryzen 5\",\"8 GB \"]],\"hovertemplate\":\"Brand=Honor<br>Price=%{x}<br>Battery_Life_num=%{y}<br>Processor_Name=%{customdata[0]}<br>RAM=%{customdata[1]}<extra></extra>\",\"legendgroup\":\"Honor\",\"marker\":{\"color\":\"#ab63fa\",\"symbol\":\"circle\"},\"mode\":\"markers\",\"name\":\"Honor\",\"showlegend\":true,\"x\":[0.05621092962290784,0.06856221012300867,0.09376890502117362,0.09780197620488001,0.102843315184513,0.08872756604154064,0.08267795926598104,0.09780197620488001,0.06452913893930227,0.06856221012300867,0.07239362774752975,0.06452913893930227],\"xaxis\":\"x\",\"y\":[7.8,9.9,11.5,11.5,11.5,12.0,12.0,12.0,13.2,14.0,14.0,15.0],\"yaxis\":\"y\",\"type\":\"scattergl\"},{\"customdata\":[[\"Intel Core i5 (11th Gen)\",\"16 GB \"],[\"Intel Core i5 (11th Gen)\",\"16 GB \"],[\"Intel Core i5 (12th Gen)\",\"16 GB LP\"],[\"Intel Core i7 (13th Gen)\",\"16 GB LP\"],[\"Intel Core i5 (11th Gen)\",\"16 GB \"],[\"Intel Core i5 (11th Gen)\",\"16 GB LP\"],[\"Intel Core i7 (11th Gen)\",\"16 GB LP\"]],\"hovertemplate\":\"Brand=Fujitsu<br>Price=%{x}<br>Battery_Life_num=%{y}<br>Processor_Name=%{customdata[0]}<br>RAM=%{customdata[1]}<extra></extra>\",\"legendgroup\":\"Fujitsu\",\"marker\":{\"color\":\"#FFA15A\",\"symbol\":\"circle\"},\"mode\":\"markers\",\"name\":\"Fujitsu\",\"showlegend\":true,\"x\":[0.13309134906231096,0.12502520669489817,0.16535591853196208,0.12300867110304498,0.15245009074410162,0.13430127041742287,0.15245009074410162],\"xaxis\":\"x\",\"y\":[8.0,8.0,10.0,10.0,11.0,11.0,11.0],\"yaxis\":\"y\",\"type\":\"scattergl\"},{\"customdata\":[[\"Intel Celeron Dual-Core\",\"4 GB LP\"],[\"Intel Celeron Dual-Core\",\"4 GB LP\"],[\"AMD Quad-Core Ryzen 5\",\"8 GB \"],[\"AMD Dual-Core Ryzen 3\",\"8 GB \"],[\"Intel Core i5 (8th Gen)\",\"8 GB \"],[\"Intel Core i5 (7th Gen)\",\"8 GB \"],[\"Intel Core i3 (8th Gen)\",\"8 GB \"],[\"Intel Core i5 (8th Gen)\",\"8 GB \"],[\"Intel Core i7 (10th Gen)\",\"16 GB \"],[\"Intel Core i5 (7th Gen)\",\"8 GB \"],[\"Intel Core i7 (8th Gen)\",\"8 GB \"],[\"Intel Core i5 (10th Gen)\",\"8 GB \"],[\"Intel Core i5 (10th Gen)\",\"8 GB \"],[\"Intel Core i5 (8th Gen)\",\"8 GB \"],[\"Intel Core i5 (7th Gen)\",\"8 GB \"],[\"Intel Core i3 (8th Gen)\",\"4 GB \"],[\"Intel Core i7 (10th Gen)\",\"16 GB \"]],\"hovertemplate\":\"Brand=AVITA<br>Price=%{x}<br>Battery_Life_num=%{y}<br>Processor_Name=%{customdata[0]}<br>RAM=%{customdata[1]}<extra></extra>\",\"legendgroup\":\"AVITA\",\"marker\":{\"color\":\"#19d3f3\",\"symbol\":\"circle\"},\"mode\":\"markers\",\"name\":\"AVITA\",\"showlegend\":true,\"x\":[0.02621496269409155,0.01613228473482557,0.08771929824561403,0.03803186126235128,0.0544464609800363,0.07017543859649122,0.06251260334744908,0.06251260334744908,0.06251260334744908,0.07057874571486186,0.08260133091349062,0.0544464609800363,0.047388586408550114,0.06858035894333535,0.060572696108086306,0.041054648114539224,0.2512603347449082],\"xaxis\":\"x\",\"y\":[8.0,8.0,8.0,8.0,10.0,10.0,10.0,10.0,10.0,10.0,10.0,10.0,10.0,10.0,10.0,10.0,10.0],\"yaxis\":\"y\",\"type\":\"scattergl\"},{\"customdata\":[[\"Intel Core i5 (7th Gen)\",\"4 GB \"],[\"Intel Core M3 (7th Gen)\",\"4 GB LP\"]],\"hovertemplate\":\"Brand=Smartron<br>Price=%{x}<br>Battery_Life_num=%{y}<br>Processor_Name=%{customdata[0]}<br>RAM=%{customdata[1]}<extra></extra>\",\"legendgroup\":\"Smartron\",\"marker\":{\"color\":\"#FF6692\",\"symbol\":\"circle\"},\"mode\":\"markers\",\"name\":\"Smartron\",\"showlegend\":true,\"x\":[0.06735228876789676,0.06957047791893527],\"xaxis\":\"x\",\"y\":[8.0,10.0],\"yaxis\":\"y\",\"type\":\"scattergl\"},{\"customdata\":[[\"Intel Core i3 (11th Gen)\",\"8 GB LP\"],[\"Intel Core i5 (13th Gen)\",\"16 GB LP\"],[\"Intel Core i5 (11th Gen)\",\"16 GB LP\"],[\"Intel Core i5 (13th Gen)\",\"16 GB LP\"],[\"Intel Core i9 (12th Gen)\",\"32 GB LP\"],[\"Intel Core i7 (11th Gen)\",\"16 GB LP\"],[\"Intel Core i9 (13th Gen)\",\"32 GB LP\"],[\"Intel Core i7 (11th Gen)\",\"16 GB LP\"],[\"Intel Core i7 (13th Gen)\",\"32 GB LP\"],[\"Intel Core i3 (11th Gen)\",\"8 GB LP\"],[\"Intel Core i3 (10th Gen)\",\"8 GB LP\"],[\"Intel Core i9 (12th Gen)\",\"16 GB LP\"],[\"Intel Core i5 (11th Gen)\",\"16 GB LP\"],[\"Intel Core i3 (10th Gen)\",\"8 GB LP\"],[\"Intel Core i5 (11th Gen)\",\"8 GB LP\"],[\"Intel Core i7 (12th Gen)\",\"16 GB LP\"],[\"Intel Core i7 (10th Gen)\",\"16 GB LP\"],[\"Intel Core i3 (11th Gen)\",\"8 GB LP\"],[\"Intel Core i3 (10th Gen)\",\"8 GB LP\"],[\"Intel Core i5 (10th Gen)\",\"8 GB LP\"],[\"Intel Core i5 (11th Gen)\",\"16 GB LP\"],[\"Intel Core i5 (11th Gen)\",\"16 GB LP\"],[\"Intel Core i3 (10th Gen)\",\"8 GB LP\"],[\"Intel Core i3 (12th Gen)\",\"8 GB LP\"],[\"Intel Core i3 (10th Gen)\",\"8 GB \"],[\"Intel Celeron Quad-Core\",\"4 GB LP\"],[\"Intel Celeron Quad-Core\",\"4 GB LP\"],[\"Intel Core i5 (12th Gen)\",\"16 GB LP\"],[\"Intel Core i3 (10th Gen)\",\"8 GB LP\"],[\"Intel Core i3 (10th Gen)\",\"8 GB LP\"],[\"Intel Core Ultra 9\",\"32 GB LP\"],[\"Intel Core i7 (13th Gen)\",\"16 GB LP\"]],\"hovertemplate\":\"Brand=Infinix<br>Price=%{x}<br>Battery_Life_num=%{y}<br>Processor_Name=%{customdata[0]}<br>RAM=%{customdata[1]}<extra></extra>\",\"legendgroup\":\"Infinix\",\"marker\":{\"color\":\"#B6E880\",\"symbol\":\"circle\"},\"mode\":\"markers\",\"name\":\"Infinix\",\"showlegend\":true,\"x\":[0.028231498285944748,0.07259528130671507,0.04033071183706392,0.06452913893930227,0.14919943537003427,0.07057874571486186,0.13490623109497882,0.10082677959265982,0.11897559991933858,0.04234724742891712,0.05041338979632991,0.13712442024601734,0.09074410163339383,0.04033071183706392,0.04234724742891712,0.07259528130671507,0.07662835249042145,0.04436378302077032,0.04033071183706392,0.051220004033071184,0.05847953216374269,0.04638031861262351,0.03932244404113733,0.04638031861262351,0.039927404718693285,0.024803387779794312,0.034281105061504336,0.05847953216374269,0.04436378302077032,0.0544464609800363,0.15527324057269612,0.08469449485783424],\"xaxis\":\"x\",\"y\":[8.0,8.0,8.0,10.0,10.0,10.0,10.0,10.0,10.0,10.0,10.0,10.0,10.0,10.0,10.0,10.0,11.0,11.0,11.0,11.0,11.0,11.0,11.0,11.0,11.0,11.0,11.0,11.0,13.0,13.0,13.0,13.0],\"yaxis\":\"y\",\"type\":\"scattergl\"},{\"customdata\":[[\"Intel Core i5 (10th Gen)\",\"8 GB \"]],\"hovertemplate\":\"Brand=Nokia<br>Price=%{x}<br>Battery_Life_num=%{y}<br>Processor_Name=%{customdata[0]}<br>RAM=%{customdata[1]}<extra></extra>\",\"legendgroup\":\"Nokia\",\"marker\":{\"color\":\"#FF97FF\",\"symbol\":\"circle\"},\"mode\":\"markers\",\"name\":\"Nokia\",\"showlegend\":true,\"x\":[0.07043153861665659],\"xaxis\":\"x\",\"y\":[8.0],\"yaxis\":\"y\",\"type\":\"scattergl\"},{\"customdata\":[[\"Intel Atom Quad-Core\",\"2 GB \"]],\"hovertemplate\":\"Brand=Lava<br>Price=%{x}<br>Battery_Life_num=%{y}<br>Processor_Name=%{customdata[0]}<br>RAM=%{customdata[1]}<extra></extra>\",\"legendgroup\":\"Lava\",\"marker\":{\"color\":\"#FECB52\",\"symbol\":\"circle\"},\"mode\":\"markers\",\"name\":\"Lava\",\"showlegend\":true,\"x\":[0.014133897963299053],\"xaxis\":\"x\",\"y\":[9.0],\"yaxis\":\"y\",\"type\":\"scattergl\"},{\"customdata\":[[\"Intel Core i5 (8th Gen)\",\"8 GB LP\"],[\"Intel Core i5 (8th Gen)\",\"8 GB LP\"],[\"Intel Core i5 (8th Gen)\",\"8 GB LP\"],[\"Intel Core i7 (6th Gen)\",\"16 GB LP\"],[\"Intel Core i5 (8th Gen)\",\"8 GB LP\"],[\"Intel Core M3 (7th Gen)\",\"8 GB LP\"],[\"Intel Core i5 (5th Gen)\",\"8 GB \"],[\"Intel Core i9 (9th Gen)\",\"16 GB \"],[\"Intel Core i5 (10th Gen)\",\"8 GB LP\"],[\"Intel Core i5 (10th Gen)\",\"8 GB LP\"],[\"Intel Core i3 (10th Gen) Processor\",\"8 GB LP\"],[\"Intel Core i5 (8th Gen)\",\"8 GB LP\"],[\"Intel Core i5 (5th Gen)\",\"8 GB LP\"],[\"Intel Core i5 (8th Gen)\",\"8 GB LP\"],[\"Intel Core i5 (8th Gen)\",\"8 GB LP\"],[\"Intel Core i5 (8th Gen)\",\"8 GB LP\"],[\"Intel Core i5 (8th Gen)\",\"8 GB LP\"],[\"Intel Core i5 (8th Gen)\",\"8 GB LP\"],[\"Intel Core i5 (8th Gen)\",\"8 GB LP\"],[\"Intel Core i5 (8th Gen)\",\"8 GB LP\"],[\"1.6 Ghz Processor\",\"8 GB LP\"],[\"Intel Core i5 (8th Gen)\",\"8 GB LP\"],[\"Intel Core i5 (8th Gen)\",\"8 GB LP\"],[\"Intel Core i5 (8th Gen)\",\"8 GB LP\"],[\"Apple M1\",\"8 GB \"],[\"Apple M1 Processor\",\"16 GB \"],[\"2.3 Ghz Processor\",\"16 GB RAM \"],[\"Apple M3 Pro\",\"18 GB RAM\"],[\"Apple M2 Processor\",\"8 GB RAM\"],[\"Apple M2 Processor\",\"8 GB RAM\"],[\"Apple M2 Processor\",\"8 GB RAM\"],[\"Apple M2 Processor\",\"8 GB RAM\"],[\"Apple M2 Processor\",\"8 GB RAM\"],[\"Apple M2 Processor\",\"8 GB RAM\"],[\"Apple M2 Processor\",\"8 GB RAM\"],[\"Apple M2 Processor\",\"8 GB RAM\"],[\"Apple M2 Pro\",\"16 GB RAM\"],[\"Apple M2 Processor\",\"8 GB LP\"],[\"Apple M2 Processor\",\"8 GB LP\"],[\"Apple M1 Pro\",\"16 GB RAM\"],[\"Apple M2 Max Processor\",\"32 GB RAM\"],[\"Apple M2 Pro\",\"16 GB RAM \"],[\"Apple M3 Pro\",\"36 GB RAM\"]],\"hovertemplate\":\"Brand=Apple<br>Price=%{x}<br>Battery_Life_num=%{y}<br>Processor_Name=%{customdata[0]}<br>RAM=%{customdata[1]}<extra></extra>\",\"legendgroup\":\"Apple\",\"marker\":{\"color\":\"#636efa\",\"symbol\":\"circle\"},\"mode\":\"markers\",\"name\":\"Apple\",\"showlegend\":true,\"x\":[0.1795724944545271,0.2863480540431539,0.20982052833232506,0.3990925589836661,0.3125630167372454,0.16535591853196208,0.14702561000201653,0.4194394031054648,0.205686630369026,0.18552127445049404,0.1532567049808429,0.20165355918531963,0.12099213551119177,0.1270619076426699,0.17543859649122806,0.16535591853196208,0.20810647307924984,0.19560395240976003,0.24198427102238354,0.19560395240976003,0.1996370235934664,0.20367009477717282,0.24198427102238354,0.1996370235934664,0.1671909659205485,0.2044767090139141,0.4275055454728776,0.46765476910667475,0.17140552530752168,0.20367009477717282,0.2861665658398871,0.2962492437991531,0.28614640048396855,0.2525993143778988,0.25591853196208914,0.2491046581972172,0.3869933454325469,0.2861665658398871,0.24583585400282315,0.328695301472071,0.6894736842105263,0.5281508368622706,0.5684815486993345],\"xaxis\":\"x\",\"y\":[10.0,10.0,10.0,10.0,10.0,10.0,10.0,11.0,11.0,11.0,11.0,12.0,12.0,12.0,12.0,12.0,12.0,12.0,13.0,13.0,13.0,13.0,13.0,13.0,15.0,15.0,17.0,18.0,18.0,18.0,18.0,18.0,18.0,18.0,18.0,18.0,18.0,20.0,20.0,21.0,22.0,22.0,22.0],\"yaxis\":\"y\",\"type\":\"scattergl\"},{\"customdata\":[[\"Intel Core i3 (11th Gen)\",\"8 GB \"],[\"Intel Core i5 (10th Gen)\",\"8 GB \"],[\"Intel Core i5 (10th Gen)\",\"8 GB \"],[\"Intel Core i5 (11th Gen)\",\"8 GB \"],[\"Intel Core i3 (11th Gen)\",\"8 GB \"],[\"Intel Core i5 (11th Gen)\",\"8 GB \"]],\"hovertemplate\":\"Brand=Xiaomi<br>Price=%{x}<br>Battery_Life_num=%{y}<br>Processor_Name=%{customdata[0]}<br>RAM=%{customdata[1]}<extra></extra>\",\"legendgroup\":\"Xiaomi\",\"marker\":{\"color\":\"#EF553B\",\"symbol\":\"circle\"},\"mode\":\"markers\",\"name\":\"Xiaomi\",\"showlegend\":true,\"x\":[0.04712038717483363,0.05968945351885461,0.07462996571889494,0.06452913893930227,0.047388586408550114,0.10487799959669288],\"xaxis\":\"x\",\"y\":[10.0,10.0,10.0,10.0,10.0,12.0],\"yaxis\":\"y\",\"type\":\"scattergl\"},{\"customdata\":[[\"Intel Atom Quad-Core\",\"2 GB \"],[\"Intel Atom Quad-Core\",\"2 GB \"],[\"Intel Atom Quad-Core\",\"2 GB \"]],\"hovertemplate\":\"Brand=Micromax<br>Price=%{x}<br>Battery_Life_num=%{y}<br>Processor_Name=%{customdata[0]}<br>RAM=%{customdata[1]}<extra></extra>\",\"legendgroup\":\"Micromax\",\"marker\":{\"color\":\"#00cc96\",\"symbol\":\"circle\"},\"mode\":\"markers\",\"name\":\"Micromax\",\"showlegend\":true,\"x\":[0.020183504738858642,0.0030429522081064733,0.00504133897963299],\"xaxis\":\"x\",\"y\":[10.0,10.0,11.0],\"yaxis\":\"y\",\"type\":\"scattergl\"},{\"customdata\":[[\"Intel Core i7 (12th Gen)\",\"16 GB \"],[\"Intel Core i7 (12th Gen)\",\"16 GB \"],[\"Intel Core i3 (11th Gen)\",\"8 GB LP\"],[\"Intel Core i5 (12th Gen)\",\"16 GB \"],[\"Intel Core i5 (12th Gen)\",\"8 GB \"],[\"Intel Core i5 (11th Gen)\",\"8 GB LP\"],[\"Intel Core i5 (11th Gen)\",\"16 GB LP\"]],\"hovertemplate\":\"Brand=Zebronics<br>Price=%{x}<br>Battery_Life_num=%{y}<br>Processor_Name=%{customdata[0]}<br>RAM=%{customdata[1]}<extra></extra>\",\"legendgroup\":\"Zebronics\",\"marker\":{\"color\":\"#ab63fa\",\"symbol\":\"circle\"},\"mode\":\"markers\",\"name\":\"Zebronics\",\"showlegend\":true,\"x\":[0.08671103044968743,0.09074410163339383,0.030248033877797943,0.06452913893930227,0.060496067755595885,0.04234724742891712,0.04436378302077032],\"xaxis\":\"x\",\"y\":[10.0,10.0,10.0,10.0,10.0,10.0,10.0],\"yaxis\":\"y\",\"type\":\"scattergl\"},{\"customdata\":[[\"Intel Core i7 (11th Gen)\",\"16 GB \"],[\"Intel Core i3 (11th Gen)\",\"8 GB \"],[\"Intel Core i3 (11th Gen)\",\"8 GB \"],[\"Intel Core i5 (11th Gen)\",\"8 GB \"]],\"hovertemplate\":\"Brand=Wings<br>Price=%{x}<br>Battery_Life_num=%{y}<br>Processor_Name=%{customdata[0]}<br>RAM=%{customdata[1]}<extra></extra>\",\"legendgroup\":\"Wings\",\"marker\":{\"color\":\"#FFA15A\",\"symbol\":\"circle\"},\"mode\":\"markers\",\"name\":\"Wings\",\"showlegend\":true,\"x\":[0.08469449485783424,0.034281105061504336,0.036297640653357534,0.04234724742891712],\"xaxis\":\"x\",\"y\":[10.0,10.0,10.0,10.0],\"yaxis\":\"y\",\"type\":\"scattergl\"},{\"customdata\":[[\"Intel Atom Quad-Core\",\"2 GB \"]],\"hovertemplate\":\"Brand=RDP<br>Price=%{x}<br>Battery_Life_num=%{y}<br>Processor_Name=%{customdata[0]}<br>RAM=%{customdata[1]}<extra></extra>\",\"legendgroup\":\"RDP\",\"marker\":{\"color\":\"#19d3f3\",\"symbol\":\"circle\"},\"mode\":\"markers\",\"name\":\"RDP\",\"showlegend\":true,\"x\":[0.005059487799959669],\"xaxis\":\"x\",\"y\":[10.5],\"yaxis\":\"y\",\"type\":\"scattergl\"},{\"customdata\":[[\"Intel Core i7 (10th Gen)\",\"8 GB \"],[\"Intel Core i5 (10th Gen)\",\"8 GB \"],[\"Intel Core i5 (10th Gen)\",\"8 GB \"],[\"Intel Core i5 (8th Gen)\",\"8 GB \"],[\"Intel Core i5 (8th Gen)\",\"8 GB \"]],\"hovertemplate\":\"Brand=LG<br>Price=%{x}<br>Battery_Life_num=%{y}<br>Processor_Name=%{customdata[0]}<br>RAM=%{customdata[1]}<extra></extra>\",\"legendgroup\":\"LG\",\"marker\":{\"color\":\"#FF6692\",\"symbol\":\"circle\"},\"mode\":\"markers\",\"name\":\"LG\",\"showlegend\":true,\"x\":[0.13914095583787053,0.06452913893930227,0.11494252873563218,0.12502520669489817,0.09074410163339383],\"xaxis\":\"x\",\"y\":[17.0,18.5,18.5,21.5,23.5],\"yaxis\":\"y\",\"type\":\"scattergl\"},{\"customdata\":[[\"Intel Core i3 (11th Gen)\",\"8 GB RAM\"],[\"Intel Core i5 (11th Gen)\",\"16 GB \"]],\"hovertemplate\":\"Brand=Tecno<br>Price=%{x}<br>Battery_Life_num=%{y}<br>Processor_Name=%{customdata[0]}<br>RAM=%{customdata[1]}<extra></extra>\",\"legendgroup\":\"Tecno\",\"marker\":{\"color\":\"#B6E880\",\"symbol\":\"circle\"},\"mode\":\"markers\",\"name\":\"Tecno\",\"showlegend\":true,\"x\":[0.06051421657592256,0.08067957249445452],\"xaxis\":\"x\",\"y\":[17.5,17.5],\"yaxis\":\"y\",\"type\":\"scattergl\"}],                        {\"template\":{\"data\":{\"histogram2dcontour\":[{\"type\":\"histogram2dcontour\",\"colorbar\":{\"outlinewidth\":0,\"ticks\":\"\"},\"colorscale\":[[0.0,\"#0d0887\"],[0.1111111111111111,\"#46039f\"],[0.2222222222222222,\"#7201a8\"],[0.3333333333333333,\"#9c179e\"],[0.4444444444444444,\"#bd3786\"],[0.5555555555555556,\"#d8576b\"],[0.6666666666666666,\"#ed7953\"],[0.7777777777777778,\"#fb9f3a\"],[0.8888888888888888,\"#fdca26\"],[1.0,\"#f0f921\"]]}],\"choropleth\":[{\"type\":\"choropleth\",\"colorbar\":{\"outlinewidth\":0,\"ticks\":\"\"}}],\"histogram2d\":[{\"type\":\"histogram2d\",\"colorbar\":{\"outlinewidth\":0,\"ticks\":\"\"},\"colorscale\":[[0.0,\"#0d0887\"],[0.1111111111111111,\"#46039f\"],[0.2222222222222222,\"#7201a8\"],[0.3333333333333333,\"#9c179e\"],[0.4444444444444444,\"#bd3786\"],[0.5555555555555556,\"#d8576b\"],[0.6666666666666666,\"#ed7953\"],[0.7777777777777778,\"#fb9f3a\"],[0.8888888888888888,\"#fdca26\"],[1.0,\"#f0f921\"]]}],\"heatmap\":[{\"type\":\"heatmap\",\"colorbar\":{\"outlinewidth\":0,\"ticks\":\"\"},\"colorscale\":[[0.0,\"#0d0887\"],[0.1111111111111111,\"#46039f\"],[0.2222222222222222,\"#7201a8\"],[0.3333333333333333,\"#9c179e\"],[0.4444444444444444,\"#bd3786\"],[0.5555555555555556,\"#d8576b\"],[0.6666666666666666,\"#ed7953\"],[0.7777777777777778,\"#fb9f3a\"],[0.8888888888888888,\"#fdca26\"],[1.0,\"#f0f921\"]]}],\"heatmapgl\":[{\"type\":\"heatmapgl\",\"colorbar\":{\"outlinewidth\":0,\"ticks\":\"\"},\"colorscale\":[[0.0,\"#0d0887\"],[0.1111111111111111,\"#46039f\"],[0.2222222222222222,\"#7201a8\"],[0.3333333333333333,\"#9c179e\"],[0.4444444444444444,\"#bd3786\"],[0.5555555555555556,\"#d8576b\"],[0.6666666666666666,\"#ed7953\"],[0.7777777777777778,\"#fb9f3a\"],[0.8888888888888888,\"#fdca26\"],[1.0,\"#f0f921\"]]}],\"contourcarpet\":[{\"type\":\"contourcarpet\",\"colorbar\":{\"outlinewidth\":0,\"ticks\":\"\"}}],\"contour\":[{\"type\":\"contour\",\"colorbar\":{\"outlinewidth\":0,\"ticks\":\"\"},\"colorscale\":[[0.0,\"#0d0887\"],[0.1111111111111111,\"#46039f\"],[0.2222222222222222,\"#7201a8\"],[0.3333333333333333,\"#9c179e\"],[0.4444444444444444,\"#bd3786\"],[0.5555555555555556,\"#d8576b\"],[0.6666666666666666,\"#ed7953\"],[0.7777777777777778,\"#fb9f3a\"],[0.8888888888888888,\"#fdca26\"],[1.0,\"#f0f921\"]]}],\"surface\":[{\"type\":\"surface\",\"colorbar\":{\"outlinewidth\":0,\"ticks\":\"\"},\"colorscale\":[[0.0,\"#0d0887\"],[0.1111111111111111,\"#46039f\"],[0.2222222222222222,\"#7201a8\"],[0.3333333333333333,\"#9c179e\"],[0.4444444444444444,\"#bd3786\"],[0.5555555555555556,\"#d8576b\"],[0.6666666666666666,\"#ed7953\"],[0.7777777777777778,\"#fb9f3a\"],[0.8888888888888888,\"#fdca26\"],[1.0,\"#f0f921\"]]}],\"mesh3d\":[{\"type\":\"mesh3d\",\"colorbar\":{\"outlinewidth\":0,\"ticks\":\"\"}}],\"scatter\":[{\"fillpattern\":{\"fillmode\":\"overlay\",\"size\":10,\"solidity\":0.2},\"type\":\"scatter\"}],\"parcoords\":[{\"type\":\"parcoords\",\"line\":{\"colorbar\":{\"outlinewidth\":0,\"ticks\":\"\"}}}],\"scatterpolargl\":[{\"type\":\"scatterpolargl\",\"marker\":{\"colorbar\":{\"outlinewidth\":0,\"ticks\":\"\"}}}],\"bar\":[{\"error_x\":{\"color\":\"#2a3f5f\"},\"error_y\":{\"color\":\"#2a3f5f\"},\"marker\":{\"line\":{\"color\":\"#E5ECF6\",\"width\":0.5},\"pattern\":{\"fillmode\":\"overlay\",\"size\":10,\"solidity\":0.2}},\"type\":\"bar\"}],\"scattergeo\":[{\"type\":\"scattergeo\",\"marker\":{\"colorbar\":{\"outlinewidth\":0,\"ticks\":\"\"}}}],\"scatterpolar\":[{\"type\":\"scatterpolar\",\"marker\":{\"colorbar\":{\"outlinewidth\":0,\"ticks\":\"\"}}}],\"histogram\":[{\"marker\":{\"pattern\":{\"fillmode\":\"overlay\",\"size\":10,\"solidity\":0.2}},\"type\":\"histogram\"}],\"scattergl\":[{\"type\":\"scattergl\",\"marker\":{\"colorbar\":{\"outlinewidth\":0,\"ticks\":\"\"}}}],\"scatter3d\":[{\"type\":\"scatter3d\",\"line\":{\"colorbar\":{\"outlinewidth\":0,\"ticks\":\"\"}},\"marker\":{\"colorbar\":{\"outlinewidth\":0,\"ticks\":\"\"}}}],\"scattermapbox\":[{\"type\":\"scattermapbox\",\"marker\":{\"colorbar\":{\"outlinewidth\":0,\"ticks\":\"\"}}}],\"scatterternary\":[{\"type\":\"scatterternary\",\"marker\":{\"colorbar\":{\"outlinewidth\":0,\"ticks\":\"\"}}}],\"scattercarpet\":[{\"type\":\"scattercarpet\",\"marker\":{\"colorbar\":{\"outlinewidth\":0,\"ticks\":\"\"}}}],\"carpet\":[{\"aaxis\":{\"endlinecolor\":\"#2a3f5f\",\"gridcolor\":\"white\",\"linecolor\":\"white\",\"minorgridcolor\":\"white\",\"startlinecolor\":\"#2a3f5f\"},\"baxis\":{\"endlinecolor\":\"#2a3f5f\",\"gridcolor\":\"white\",\"linecolor\":\"white\",\"minorgridcolor\":\"white\",\"startlinecolor\":\"#2a3f5f\"},\"type\":\"carpet\"}],\"table\":[{\"cells\":{\"fill\":{\"color\":\"#EBF0F8\"},\"line\":{\"color\":\"white\"}},\"header\":{\"fill\":{\"color\":\"#C8D4E3\"},\"line\":{\"color\":\"white\"}},\"type\":\"table\"}],\"barpolar\":[{\"marker\":{\"line\":{\"color\":\"#E5ECF6\",\"width\":0.5},\"pattern\":{\"fillmode\":\"overlay\",\"size\":10,\"solidity\":0.2}},\"type\":\"barpolar\"}],\"pie\":[{\"automargin\":true,\"type\":\"pie\"}]},\"layout\":{\"autotypenumbers\":\"strict\",\"colorway\":[\"#636efa\",\"#EF553B\",\"#00cc96\",\"#ab63fa\",\"#FFA15A\",\"#19d3f3\",\"#FF6692\",\"#B6E880\",\"#FF97FF\",\"#FECB52\"],\"font\":{\"color\":\"#2a3f5f\"},\"hovermode\":\"closest\",\"hoverlabel\":{\"align\":\"left\"},\"paper_bgcolor\":\"white\",\"plot_bgcolor\":\"#E5ECF6\",\"polar\":{\"bgcolor\":\"#E5ECF6\",\"angularaxis\":{\"gridcolor\":\"white\",\"linecolor\":\"white\",\"ticks\":\"\"},\"radialaxis\":{\"gridcolor\":\"white\",\"linecolor\":\"white\",\"ticks\":\"\"}},\"ternary\":{\"bgcolor\":\"#E5ECF6\",\"aaxis\":{\"gridcolor\":\"white\",\"linecolor\":\"white\",\"ticks\":\"\"},\"baxis\":{\"gridcolor\":\"white\",\"linecolor\":\"white\",\"ticks\":\"\"},\"caxis\":{\"gridcolor\":\"white\",\"linecolor\":\"white\",\"ticks\":\"\"}},\"coloraxis\":{\"colorbar\":{\"outlinewidth\":0,\"ticks\":\"\"}},\"colorscale\":{\"sequential\":[[0.0,\"#0d0887\"],[0.1111111111111111,\"#46039f\"],[0.2222222222222222,\"#7201a8\"],[0.3333333333333333,\"#9c179e\"],[0.4444444444444444,\"#bd3786\"],[0.5555555555555556,\"#d8576b\"],[0.6666666666666666,\"#ed7953\"],[0.7777777777777778,\"#fb9f3a\"],[0.8888888888888888,\"#fdca26\"],[1.0,\"#f0f921\"]],\"sequentialminus\":[[0.0,\"#0d0887\"],[0.1111111111111111,\"#46039f\"],[0.2222222222222222,\"#7201a8\"],[0.3333333333333333,\"#9c179e\"],[0.4444444444444444,\"#bd3786\"],[0.5555555555555556,\"#d8576b\"],[0.6666666666666666,\"#ed7953\"],[0.7777777777777778,\"#fb9f3a\"],[0.8888888888888888,\"#fdca26\"],[1.0,\"#f0f921\"]],\"diverging\":[[0,\"#8e0152\"],[0.1,\"#c51b7d\"],[0.2,\"#de77ae\"],[0.3,\"#f1b6da\"],[0.4,\"#fde0ef\"],[0.5,\"#f7f7f7\"],[0.6,\"#e6f5d0\"],[0.7,\"#b8e186\"],[0.8,\"#7fbc41\"],[0.9,\"#4d9221\"],[1,\"#276419\"]]},\"xaxis\":{\"gridcolor\":\"white\",\"linecolor\":\"white\",\"ticks\":\"\",\"title\":{\"standoff\":15},\"zerolinecolor\":\"white\",\"automargin\":true,\"zerolinewidth\":2},\"yaxis\":{\"gridcolor\":\"white\",\"linecolor\":\"white\",\"ticks\":\"\",\"title\":{\"standoff\":15},\"zerolinecolor\":\"white\",\"automargin\":true,\"zerolinewidth\":2},\"scene\":{\"xaxis\":{\"backgroundcolor\":\"#E5ECF6\",\"gridcolor\":\"white\",\"linecolor\":\"white\",\"showbackground\":true,\"ticks\":\"\",\"zerolinecolor\":\"white\",\"gridwidth\":2},\"yaxis\":{\"backgroundcolor\":\"#E5ECF6\",\"gridcolor\":\"white\",\"linecolor\":\"white\",\"showbackground\":true,\"ticks\":\"\",\"zerolinecolor\":\"white\",\"gridwidth\":2},\"zaxis\":{\"backgroundcolor\":\"#E5ECF6\",\"gridcolor\":\"white\",\"linecolor\":\"white\",\"showbackground\":true,\"ticks\":\"\",\"zerolinecolor\":\"white\",\"gridwidth\":2}},\"shapedefaults\":{\"line\":{\"color\":\"#2a3f5f\"}},\"annotationdefaults\":{\"arrowcolor\":\"#2a3f5f\",\"arrowhead\":0,\"arrowwidth\":1},\"geo\":{\"bgcolor\":\"white\",\"landcolor\":\"#E5ECF6\",\"subunitcolor\":\"white\",\"showland\":true,\"showlakes\":true,\"lakecolor\":\"white\"},\"title\":{\"x\":0.05},\"mapbox\":{\"style\":\"light\"}}},\"xaxis\":{\"anchor\":\"y\",\"domain\":[0.0,1.0],\"title\":{\"text\":\"Price\"}},\"yaxis\":{\"anchor\":\"x\",\"domain\":[0.0,1.0],\"title\":{\"text\":\"Battery_Life_num\"}},\"legend\":{\"title\":{\"text\":\"Brand\"},\"tracegroupgap\":0},\"margin\":{\"t\":60},\"title\":{\"text\":\"Price vs Battery_Life\"}},                        {\"responsive\": true}                    ).then(function(){\n",
       "                            \n",
       "var gd = document.getElementById('0d3bd330-46ac-46d9-a98e-8d2d5d6244da');\n",
       "var x = new MutationObserver(function (mutations, observer) {{\n",
       "        var display = window.getComputedStyle(gd).display;\n",
       "        if (!display || display === 'none') {{\n",
       "            console.log([gd, 'removed!']);\n",
       "            Plotly.purge(gd);\n",
       "            observer.disconnect();\n",
       "        }}\n",
       "}});\n",
       "\n",
       "// Listen for the removal of the full notebook cells\n",
       "var notebookContainer = gd.closest('#notebook-container');\n",
       "if (notebookContainer) {{\n",
       "    x.observe(notebookContainer, {childList: true});\n",
       "}}\n",
       "\n",
       "// Listen for the clearing of the current output cell\n",
       "var outputEl = gd.closest('.output');\n",
       "if (outputEl) {{\n",
       "    x.observe(outputEl, {childList: true});\n",
       "}}\n",
       "\n",
       "                        })                };                });            </script>        </div>"
      ]
     },
     "metadata": {},
     "output_type": "display_data"
    }
   ],
   "source": [
    "import plotly.express as px\n",
    "\n",
    "del encoding_map['Processor_Brand']\n",
    "del encoding_map['GPU_Brand']\n",
    "decoded_table = laptop_original.copy()\n",
    "for col in encoding_map:\n",
    "    decoded_table[col] = decoded_table[col].map(encoding_map[col])\n",
    "\n",
    "    \n",
    "decoded_table = decoded_table[~decoded_table['Battery_Life'].str.contains(\"Adapter\")]\n",
    "   \n",
    "decoded_table['Battery_Life_num'] = decoded_table['Battery_Life'].str.extract(r'(\\d+\\.\\d+|\\d+)').astype(float)\n",
    "\n",
    "# decoded_table = decoded_table.sort_values(by='Battery_Life_num')\n",
    "\n",
    "# 4. 将 `Battery_Life` 列设置为按数值大小排序的分类数据类型\n",
    "# decoded_table['Battery_Life'] = pd.Categorical(decoded_table['Battery_Life'], categories=decoded_table['Battery_Life'], ordered=True)\n",
    "    \n",
    "    \n",
    "# Interactive scatter plot for price vs performance\n",
    "fig = px.scatter(decoded_table.sort_values(by='Battery_Life_num'), x='Price', y='Battery_Life_num', color='Brand', hover_data=['Processor_Name', 'RAM'])\n",
    "fig.update_layout(title='Price vs Battery_Life')\n",
    "fig.show()"
   ]
  },
  {
   "cell_type": "markdown",
   "id": "9d2ca965",
   "metadata": {},
   "source": [
    "# genreate the prediction for computer"
   ]
  },
  {
   "cell_type": "code",
   "execution_count": 299,
   "id": "babcb873",
   "metadata": {},
   "outputs": [],
   "source": [
    "#### first genreate the train and test data\n",
    "from sklearn.model_selection import train_test_split\n",
    "from sklearn.linear_model import LinearRegression\n",
    "from sklearn.metrics import mean_squared_error, r2_score\n",
    "\n",
    "y = laptop_original['Price']\n",
    "X = laptop_original.drop(columns=['Price','Unnamed: 0'])\n",
    "\n",
    "# 划分训练集和测试集\n",
    "X_train, X_test, y_train, y_test = train_test_split(X, y, test_size=0.2, random_state=42)"
   ]
  },
  {
   "cell_type": "code",
   "execution_count": 300,
   "id": "4be4ce10",
   "metadata": {},
   "outputs": [
    {
     "data": {
      "text/plain": [
       "LinearRegression()"
      ]
     },
     "execution_count": 300,
     "metadata": {},
     "output_type": "execute_result"
    }
   ],
   "source": [
    "#build the linear regression model\n",
    "model = LinearRegression()\n",
    "model.fit(X_train, y_train)"
   ]
  },
  {
   "cell_type": "code",
   "execution_count": 301,
   "id": "9a8476fd",
   "metadata": {},
   "outputs": [
    {
     "data": {
      "text/html": [
       "<div>\n",
       "<style scoped>\n",
       "    .dataframe tbody tr th:only-of-type {\n",
       "        vertical-align: middle;\n",
       "    }\n",
       "\n",
       "    .dataframe tbody tr th {\n",
       "        vertical-align: top;\n",
       "    }\n",
       "\n",
       "    .dataframe thead th {\n",
       "        text-align: right;\n",
       "    }\n",
       "</style>\n",
       "<table border=\"1\" class=\"dataframe\">\n",
       "  <thead>\n",
       "    <tr style=\"text-align: right;\">\n",
       "      <th></th>\n",
       "      <th>Brand</th>\n",
       "      <th>Processor_Name</th>\n",
       "      <th>RAM_Expandable</th>\n",
       "      <th>RAM</th>\n",
       "      <th>RAM_TYPE</th>\n",
       "      <th>Ghz</th>\n",
       "      <th>Display_type</th>\n",
       "      <th>Display</th>\n",
       "      <th>GPU</th>\n",
       "      <th>SSD</th>\n",
       "      <th>HDD</th>\n",
       "      <th>Adapter</th>\n",
       "      <th>Battery_Life</th>\n",
       "    </tr>\n",
       "  </thead>\n",
       "  <tbody>\n",
       "    <tr>\n",
       "      <th>0</th>\n",
       "      <td>0</td>\n",
       "      <td>0</td>\n",
       "      <td>0</td>\n",
       "      <td>0</td>\n",
       "      <td>0</td>\n",
       "      <td>0.363636</td>\n",
       "      <td>0</td>\n",
       "      <td>0</td>\n",
       "      <td>0</td>\n",
       "      <td>0</td>\n",
       "      <td>0</td>\n",
       "      <td>0.136364</td>\n",
       "      <td>0</td>\n",
       "    </tr>\n",
       "    <tr>\n",
       "      <th>1</th>\n",
       "      <td>1</td>\n",
       "      <td>1</td>\n",
       "      <td>1</td>\n",
       "      <td>1</td>\n",
       "      <td>1</td>\n",
       "      <td>0.727273</td>\n",
       "      <td>1</td>\n",
       "      <td>1</td>\n",
       "      <td>1</td>\n",
       "      <td>1</td>\n",
       "      <td>0</td>\n",
       "      <td>0.196970</td>\n",
       "      <td>1</td>\n",
       "    </tr>\n",
       "    <tr>\n",
       "      <th>2</th>\n",
       "      <td>2</td>\n",
       "      <td>2</td>\n",
       "      <td>2</td>\n",
       "      <td>2</td>\n",
       "      <td>2</td>\n",
       "      <td>0.600000</td>\n",
       "      <td>1</td>\n",
       "      <td>1</td>\n",
       "      <td>2</td>\n",
       "      <td>1</td>\n",
       "      <td>0</td>\n",
       "      <td>0.169697</td>\n",
       "      <td>2</td>\n",
       "    </tr>\n",
       "    <tr>\n",
       "      <th>3</th>\n",
       "      <td>0</td>\n",
       "      <td>2</td>\n",
       "      <td>3</td>\n",
       "      <td>1</td>\n",
       "      <td>1</td>\n",
       "      <td>0.763636</td>\n",
       "      <td>1</td>\n",
       "      <td>1</td>\n",
       "      <td>3</td>\n",
       "      <td>1</td>\n",
       "      <td>0</td>\n",
       "      <td>0.000000</td>\n",
       "      <td>3</td>\n",
       "    </tr>\n",
       "    <tr>\n",
       "      <th>4</th>\n",
       "      <td>3</td>\n",
       "      <td>3</td>\n",
       "      <td>0</td>\n",
       "      <td>3</td>\n",
       "      <td>3</td>\n",
       "      <td>0.309091</td>\n",
       "      <td>1</td>\n",
       "      <td>1</td>\n",
       "      <td>4</td>\n",
       "      <td>1</td>\n",
       "      <td>0</td>\n",
       "      <td>0.136364</td>\n",
       "      <td>4</td>\n",
       "    </tr>\n",
       "    <tr>\n",
       "      <th>...</th>\n",
       "      <td>...</td>\n",
       "      <td>...</td>\n",
       "      <td>...</td>\n",
       "      <td>...</td>\n",
       "      <td>...</td>\n",
       "      <td>...</td>\n",
       "      <td>...</td>\n",
       "      <td>...</td>\n",
       "      <td>...</td>\n",
       "      <td>...</td>\n",
       "      <td>...</td>\n",
       "      <td>...</td>\n",
       "      <td>...</td>\n",
       "    </tr>\n",
       "    <tr>\n",
       "      <th>3971</th>\n",
       "      <td>5</td>\n",
       "      <td>31</td>\n",
       "      <td>2</td>\n",
       "      <td>1</td>\n",
       "      <td>1</td>\n",
       "      <td>0.290909</td>\n",
       "      <td>0</td>\n",
       "      <td>2</td>\n",
       "      <td>24</td>\n",
       "      <td>1</td>\n",
       "      <td>0</td>\n",
       "      <td>0.196970</td>\n",
       "      <td>6</td>\n",
       "    </tr>\n",
       "    <tr>\n",
       "      <th>3972</th>\n",
       "      <td>5</td>\n",
       "      <td>3</td>\n",
       "      <td>0</td>\n",
       "      <td>1</td>\n",
       "      <td>0</td>\n",
       "      <td>0.727273</td>\n",
       "      <td>0</td>\n",
       "      <td>1</td>\n",
       "      <td>4</td>\n",
       "      <td>4</td>\n",
       "      <td>0</td>\n",
       "      <td>0.196970</td>\n",
       "      <td>56</td>\n",
       "    </tr>\n",
       "    <tr>\n",
       "      <th>3973</th>\n",
       "      <td>5</td>\n",
       "      <td>7</td>\n",
       "      <td>0</td>\n",
       "      <td>2</td>\n",
       "      <td>0</td>\n",
       "      <td>0.563636</td>\n",
       "      <td>0</td>\n",
       "      <td>1</td>\n",
       "      <td>2</td>\n",
       "      <td>3</td>\n",
       "      <td>0</td>\n",
       "      <td>0.363636</td>\n",
       "      <td>56</td>\n",
       "    </tr>\n",
       "    <tr>\n",
       "      <th>3974</th>\n",
       "      <td>5</td>\n",
       "      <td>24</td>\n",
       "      <td>2</td>\n",
       "      <td>1</td>\n",
       "      <td>1</td>\n",
       "      <td>0.381818</td>\n",
       "      <td>0</td>\n",
       "      <td>1</td>\n",
       "      <td>9</td>\n",
       "      <td>1</td>\n",
       "      <td>0</td>\n",
       "      <td>0.454545</td>\n",
       "      <td>7</td>\n",
       "    </tr>\n",
       "    <tr>\n",
       "      <th>3975</th>\n",
       "      <td>1</td>\n",
       "      <td>13</td>\n",
       "      <td>0</td>\n",
       "      <td>1</td>\n",
       "      <td>0</td>\n",
       "      <td>0.454545</td>\n",
       "      <td>0</td>\n",
       "      <td>1</td>\n",
       "      <td>71</td>\n",
       "      <td>1</td>\n",
       "      <td>0</td>\n",
       "      <td>0.181818</td>\n",
       "      <td>64</td>\n",
       "    </tr>\n",
       "  </tbody>\n",
       "</table>\n",
       "<p>3546 rows × 13 columns</p>\n",
       "</div>"
      ],
      "text/plain": [
       "      Brand  Processor_Name  RAM_Expandable  RAM  RAM_TYPE       Ghz  \\\n",
       "0         0               0               0    0         0  0.363636   \n",
       "1         1               1               1    1         1  0.727273   \n",
       "2         2               2               2    2         2  0.600000   \n",
       "3         0               2               3    1         1  0.763636   \n",
       "4         3               3               0    3         3  0.309091   \n",
       "...     ...             ...             ...  ...       ...       ...   \n",
       "3971      5              31               2    1         1  0.290909   \n",
       "3972      5               3               0    1         0  0.727273   \n",
       "3973      5               7               0    2         0  0.563636   \n",
       "3974      5              24               2    1         1  0.381818   \n",
       "3975      1              13               0    1         0  0.454545   \n",
       "\n",
       "      Display_type  Display  GPU  SSD  HDD   Adapter  Battery_Life  \n",
       "0                0        0    0    0    0  0.136364             0  \n",
       "1                1        1    1    1    0  0.196970             1  \n",
       "2                1        1    2    1    0  0.169697             2  \n",
       "3                1        1    3    1    0  0.000000             3  \n",
       "4                1        1    4    1    0  0.136364             4  \n",
       "...            ...      ...  ...  ...  ...       ...           ...  \n",
       "3971             0        2   24    1    0  0.196970             6  \n",
       "3972             0        1    4    4    0  0.196970            56  \n",
       "3973             0        1    2    3    0  0.363636            56  \n",
       "3974             0        1    9    1    0  0.454545             7  \n",
       "3975             0        1   71    1    0  0.181818            64  \n",
       "\n",
       "[3546 rows x 13 columns]"
      ]
     },
     "execution_count": 301,
     "metadata": {},
     "output_type": "execute_result"
    }
   ],
   "source": [
    "X"
   ]
  },
  {
   "cell_type": "code",
   "execution_count": 302,
   "id": "0328722b",
   "metadata": {},
   "outputs": [
    {
     "data": {
      "text/plain": [
       "(array([-2.97541980e-04,  8.02482021e-04,  2.99028515e-03,  1.81854033e-02,\n",
       "        -2.46630084e-03,  6.98171491e-02,  5.12732040e-04,  5.09207593e-03,\n",
       "         1.21191306e-04,  2.28357886e-03, -1.59148285e-02,  1.96906934e-01,\n",
       "         7.28071929e-05]),\n",
       " -0.01675740799774597)"
      ]
     },
     "execution_count": 302,
     "metadata": {},
     "output_type": "execute_result"
    }
   ],
   "source": [
    "model.coef_, model.intercept_"
   ]
  },
  {
   "cell_type": "code",
   "execution_count": 303,
   "id": "211ff3e2",
   "metadata": {
    "scrolled": true
   },
   "outputs": [
    {
     "name": "stdout",
     "output_type": "stream",
     "text": [
      "Mean Squared Error (MSE): 0.005431145318761942\n",
      "R-squared (R2): 0.5033521627377229\n"
     ]
    }
   ],
   "source": [
    "### measure the prediction\n",
    "y_pred = model.predict(X_test)\n",
    "\n",
    "mse = mean_squared_error(y_test, y_pred)\n",
    "r2 = r2_score(y_test, y_pred)\n",
    "\n",
    "print(\"Mean Squared Error (MSE):\", mse)\n",
    "print(\"R-squared (R2):\", r2)"
   ]
  },
  {
   "cell_type": "code",
   "execution_count": 304,
   "id": "61d2948f",
   "metadata": {},
   "outputs": [
    {
     "data": {
      "image/png": "[encoded data removed]",
      "text/plain": [
       "<Figure size 1008x432 with 1 Axes>"
      ]
     },
     "metadata": {
      "needs_background": "light"
     },
     "output_type": "display_data"
    }
   ],
   "source": [
    "##plot our prediction with the real vale\n",
    "plt.figure(figsize=(14, 6))\n",
    "\n",
    "plt.plot(range(len(y_test)), y_test.values, label='Actual Prices', linestyle='-', color='b')\n",
    "plt.plot(range(len(y_test)), y_pred, label='Predicted Prices', linestyle='--', color='r')\n",
    "\n",
    "plt.title('Comparison of Actual and Predicted Prices')\n",
    "plt.xlabel('Sample Index')\n",
    "plt.ylabel('Price')\n",
    "plt.legend()\n",
    "plt.grid()\n",
    "plt.show()"
   ]
  },
  {
   "cell_type": "code",
   "execution_count": 316,
   "id": "c7805582",
   "metadata": {},
   "outputs": [],
   "source": [
    "####save categorical and type\n",
    "import json\n",
    "\n",
    "#laptop_original = pd.read_csv(\"laptop.csv\")\n",
    "# str_columns = ['Brand', 'Processor_Name','RAM_Expandable',\"RAM\",\"RAM_TYPE\",\"Ghz\",'Display_type','Display','GPU','SSD','HDD','Adapter','Battery_Life']\n",
    "\n",
    "unique_values = laptop_original['Ghz'].unique()\n",
    "encoding_map['Ghz'] = {x: \"{:.2f}\".format(x * (save_Ghz_max - save_Ghz_min) + save_Ghz_min) for x in unique_values}\n",
    "\n",
    "unique_values = laptop_original['Adapter'].unique()\n",
    "encoding_map['Adapter'] = {x: \"{:.2f}\".format(x * (save_Adapter_max - save_Adapter_min) + save_Adapter_min) for x in unique_values}\n",
    "\n",
    "# encoding_map['Adapter'] = {laptop_original['Adapter']:laptop_original['Adapter']*(save_Adapter_max - save_Adapter_min)+save_Adapter_min}\n",
    "    \n",
    "with open('category_data.json', 'w', encoding='utf-8') as f:\n",
    "    json.dump(encoding_map, f, ensure_ascii=False, indent=4)"
   ]
  },
  {
   "cell_type": "code",
   "execution_count": 257,
   "id": "94e8dc9f",
   "metadata": {},
   "outputs": [
    {
     "data": {
      "text/html": [
       "<div>\n",
       "<style scoped>\n",
       "    .dataframe tbody tr th:only-of-type {\n",
       "        vertical-align: middle;\n",
       "    }\n",
       "\n",
       "    .dataframe tbody tr th {\n",
       "        vertical-align: top;\n",
       "    }\n",
       "\n",
       "    .dataframe thead th {\n",
       "        text-align: right;\n",
       "    }\n",
       "</style>\n",
       "<table border=\"1\" class=\"dataframe\">\n",
       "  <thead>\n",
       "    <tr style=\"text-align: right;\">\n",
       "      <th></th>\n",
       "      <th>Unnamed: 0</th>\n",
       "      <th>Brand</th>\n",
       "      <th>Price</th>\n",
       "      <th>Processor_Name</th>\n",
       "      <th>RAM_Expandable</th>\n",
       "      <th>RAM</th>\n",
       "      <th>RAM_TYPE</th>\n",
       "      <th>Ghz</th>\n",
       "      <th>Display_type</th>\n",
       "      <th>Display</th>\n",
       "      <th>GPU</th>\n",
       "      <th>SSD</th>\n",
       "      <th>HDD</th>\n",
       "      <th>Adapter</th>\n",
       "      <th>Battery_Life</th>\n",
       "      <th>Battery_Life_num</th>\n",
       "    </tr>\n",
       "  </thead>\n",
       "  <tbody>\n",
       "    <tr>\n",
       "      <th>0</th>\n",
       "      <td>0</td>\n",
       "      <td>HP</td>\n",
       "      <td>0.030248</td>\n",
       "      <td>MediaTek Octa-core</td>\n",
       "      <td>Not Expandable</td>\n",
       "      <td>4 GB</td>\n",
       "      <td>DDR4 RAM</td>\n",
       "      <td>0.363636</td>\n",
       "      <td>LED</td>\n",
       "      <td>11.6</td>\n",
       "      <td>Integrated Graphics</td>\n",
       "      <td>64 GB SSD Storage</td>\n",
       "      <td>No HDD</td>\n",
       "      <td>0.136364</td>\n",
       "      <td>Upto 12 Hrs Battery Life</td>\n",
       "      <td>12.0</td>\n",
       "    </tr>\n",
       "    <tr>\n",
       "      <th>1</th>\n",
       "      <td>1</td>\n",
       "      <td>Lenovo</td>\n",
       "      <td>0.057066</td>\n",
       "      <td>AMD Hexa-Core Ryzen 5</td>\n",
       "      <td>12 GB Expandable</td>\n",
       "      <td>8 GB</td>\n",
       "      <td>DDR4 RAM</td>\n",
       "      <td>0.727273</td>\n",
       "      <td>LCD</td>\n",
       "      <td>15.6</td>\n",
       "      <td>Radeon</td>\n",
       "      <td>512 GB SSD Storage</td>\n",
       "      <td>No HDD</td>\n",
       "      <td>0.196970</td>\n",
       "      <td>Upto 11 Hrs Battery Life</td>\n",
       "      <td>11.0</td>\n",
       "    </tr>\n",
       "    <tr>\n",
       "      <th>2</th>\n",
       "      <td>3</td>\n",
       "      <td>Dell</td>\n",
       "      <td>0.142186</td>\n",
       "      <td>Intel Core i5 (12th Gen)</td>\n",
       "      <td>32 GB Expandable</td>\n",
       "      <td>16 GB</td>\n",
       "      <td>DDR5 RAM</td>\n",
       "      <td>0.600000</td>\n",
       "      <td>LCD</td>\n",
       "      <td>15.6</td>\n",
       "      <td>GeForce RTX 3050 GPU, 4 GB</td>\n",
       "      <td>512 GB SSD Storage</td>\n",
       "      <td>No HDD</td>\n",
       "      <td>0.169697</td>\n",
       "      <td>Upto 10 Hrs Battery Life</td>\n",
       "      <td>10.0</td>\n",
       "    </tr>\n",
       "    <tr>\n",
       "      <th>3</th>\n",
       "      <td>4</td>\n",
       "      <td>HP</td>\n",
       "      <td>0.095785</td>\n",
       "      <td>Intel Core i5 (12th Gen)</td>\n",
       "      <td>8 GB Expandable</td>\n",
       "      <td>8 GB</td>\n",
       "      <td>DDR4 RAM</td>\n",
       "      <td>0.763636</td>\n",
       "      <td>LCD</td>\n",
       "      <td>15.6</td>\n",
       "      <td>Iris Xe</td>\n",
       "      <td>512 GB SSD Storage</td>\n",
       "      <td>No HDD</td>\n",
       "      <td>0.000000</td>\n",
       "      <td>Upto 7.30 Hrs Battery Life</td>\n",
       "      <td>7.3</td>\n",
       "    </tr>\n",
       "    <tr>\n",
       "      <th>4</th>\n",
       "      <td>6</td>\n",
       "      <td>Infinix</td>\n",
       "      <td>0.028231</td>\n",
       "      <td>Intel Core i3 (11th Gen)</td>\n",
       "      <td>Not Expandable</td>\n",
       "      <td>8 GB LP</td>\n",
       "      <td>LPDDR4X RAM</td>\n",
       "      <td>0.309091</td>\n",
       "      <td>LCD</td>\n",
       "      <td>15.6</td>\n",
       "      <td>UHD</td>\n",
       "      <td>512 GB SSD Storage</td>\n",
       "      <td>No HDD</td>\n",
       "      <td>0.136364</td>\n",
       "      <td>Upto 8 Hrs Battery Life</td>\n",
       "      <td>8.0</td>\n",
       "    </tr>\n",
       "    <tr>\n",
       "      <th>...</th>\n",
       "      <td>...</td>\n",
       "      <td>...</td>\n",
       "      <td>...</td>\n",
       "      <td>...</td>\n",
       "      <td>...</td>\n",
       "      <td>...</td>\n",
       "      <td>...</td>\n",
       "      <td>...</td>\n",
       "      <td>...</td>\n",
       "      <td>...</td>\n",
       "      <td>...</td>\n",
       "      <td>...</td>\n",
       "      <td>...</td>\n",
       "      <td>...</td>\n",
       "      <td>...</td>\n",
       "      <td>...</td>\n",
       "    </tr>\n",
       "    <tr>\n",
       "      <th>3968</th>\n",
       "      <td>4400</td>\n",
       "      <td>Dell</td>\n",
       "      <td>0.056463</td>\n",
       "      <td>Intel Core i3 (11th Gen)</td>\n",
       "      <td>Not Expandable</td>\n",
       "      <td>8 GB</td>\n",
       "      <td>DDR4 RAM</td>\n",
       "      <td>0.727273</td>\n",
       "      <td>LCD</td>\n",
       "      <td>15.6</td>\n",
       "      <td>UHD</td>\n",
       "      <td>512 GB SSD Storage</td>\n",
       "      <td>No HDD</td>\n",
       "      <td>0.196970</td>\n",
       "      <td>Upto 6 Hrs Battery Life</td>\n",
       "      <td>6.0</td>\n",
       "    </tr>\n",
       "    <tr>\n",
       "      <th>3969</th>\n",
       "      <td>4401</td>\n",
       "      <td>ASUS</td>\n",
       "      <td>0.205687</td>\n",
       "      <td>Intel Core i9 (13th Gen)</td>\n",
       "      <td>Not Expandable</td>\n",
       "      <td>16 GB</td>\n",
       "      <td>DDR4 RAM</td>\n",
       "      <td>0.472727</td>\n",
       "      <td>LCD</td>\n",
       "      <td>16</td>\n",
       "      <td>GeForce RTX 3050 GPU, 4 GB</td>\n",
       "      <td>1024 GB SSD Storage</td>\n",
       "      <td>No HDD</td>\n",
       "      <td>0.363636</td>\n",
       "      <td>Upto 6 Hrs Battery Life</td>\n",
       "      <td>6.0</td>\n",
       "    </tr>\n",
       "    <tr>\n",
       "      <th>3971</th>\n",
       "      <td>4403</td>\n",
       "      <td>ASUS</td>\n",
       "      <td>0.155273</td>\n",
       "      <td>Intel Core i5 (8th Gen)</td>\n",
       "      <td>32 GB Expandable</td>\n",
       "      <td>8 GB</td>\n",
       "      <td>DDR4 RAM</td>\n",
       "      <td>0.290909</td>\n",
       "      <td>LED</td>\n",
       "      <td>14</td>\n",
       "      <td>Geforce MX150 GPU, 2 GB</td>\n",
       "      <td>512 GB SSD Storage</td>\n",
       "      <td>No HDD</td>\n",
       "      <td>0.196970</td>\n",
       "      <td>Upto 9 Hrs Battery Life</td>\n",
       "      <td>9.0</td>\n",
       "    </tr>\n",
       "    <tr>\n",
       "      <th>3972</th>\n",
       "      <td>4404</td>\n",
       "      <td>ASUS</td>\n",
       "      <td>0.064612</td>\n",
       "      <td>Intel Core i3 (11th Gen)</td>\n",
       "      <td>Not Expandable</td>\n",
       "      <td>8 GB</td>\n",
       "      <td>DDR4 RAM</td>\n",
       "      <td>0.727273</td>\n",
       "      <td>LED</td>\n",
       "      <td>15.6</td>\n",
       "      <td>UHD</td>\n",
       "      <td>256 GB SSD Storage</td>\n",
       "      <td>No HDD</td>\n",
       "      <td>0.196970</td>\n",
       "      <td>Upto 3 Hrs Battery Life</td>\n",
       "      <td>3.0</td>\n",
       "    </tr>\n",
       "    <tr>\n",
       "      <th>3973</th>\n",
       "      <td>4405</td>\n",
       "      <td>ASUS</td>\n",
       "      <td>0.137124</td>\n",
       "      <td>AMD Octa-Core Ryzen 7</td>\n",
       "      <td>Not Expandable</td>\n",
       "      <td>16 GB</td>\n",
       "      <td>DDR4 RAM</td>\n",
       "      <td>0.563636</td>\n",
       "      <td>LED</td>\n",
       "      <td>15.6</td>\n",
       "      <td>GeForce RTX 3050 GPU, 4 GB</td>\n",
       "      <td>1024 GB SSD Storage</td>\n",
       "      <td>No HDD</td>\n",
       "      <td>0.363636</td>\n",
       "      <td>Upto 3 Hrs Battery Life</td>\n",
       "      <td>3.0</td>\n",
       "    </tr>\n",
       "  </tbody>\n",
       "</table>\n",
       "<p>1496 rows × 16 columns</p>\n",
       "</div>"
      ],
      "text/plain": [
       "      Unnamed: 0    Brand     Price            Processor_Name  \\\n",
       "0              0       HP  0.030248        MediaTek Octa-core   \n",
       "1              1   Lenovo  0.057066     AMD Hexa-Core Ryzen 5   \n",
       "2              3     Dell  0.142186  Intel Core i5 (12th Gen)   \n",
       "3              4       HP  0.095785  Intel Core i5 (12th Gen)   \n",
       "4              6  Infinix  0.028231  Intel Core i3 (11th Gen)   \n",
       "...          ...      ...       ...                       ...   \n",
       "3968        4400     Dell  0.056463  Intel Core i3 (11th Gen)   \n",
       "3969        4401     ASUS  0.205687  Intel Core i9 (13th Gen)   \n",
       "3971        4403     ASUS  0.155273   Intel Core i5 (8th Gen)   \n",
       "3972        4404     ASUS  0.064612  Intel Core i3 (11th Gen)   \n",
       "3973        4405     ASUS  0.137124     AMD Octa-Core Ryzen 7   \n",
       "\n",
       "         RAM_Expandable      RAM      RAM_TYPE       Ghz Display_type Display  \\\n",
       "0        Not Expandable    4 GB       DDR4 RAM  0.363636          LED   11.6    \n",
       "1      12 GB Expandable    8 GB      DDR4 RAM   0.727273          LCD   15.6    \n",
       "2      32 GB Expandable   16 GB      DDR5 RAM   0.600000          LCD   15.6    \n",
       "3       8 GB Expandable    8 GB      DDR4 RAM   0.763636          LCD   15.6    \n",
       "4        Not Expandable  8 GB LP   LPDDR4X RAM  0.309091          LCD   15.6    \n",
       "...                 ...      ...           ...       ...          ...     ...   \n",
       "3968     Not Expandable    8 GB       DDR4 RAM  0.727273          LCD   15.6    \n",
       "3969     Not Expandable   16 GB       DDR4 RAM  0.472727          LCD     16    \n",
       "3971   32 GB Expandable    8 GB      DDR4 RAM   0.290909          LED     14    \n",
       "3972     Not Expandable    8 GB       DDR4 RAM  0.727273          LED   15.6    \n",
       "3973     Not Expandable   16 GB       DDR4 RAM  0.563636          LED   15.6    \n",
       "\n",
       "                             GPU                  SSD     HDD   Adapter  \\\n",
       "0            Integrated Graphics    64 GB SSD Storage  No HDD  0.136364   \n",
       "1                         Radeon   512 GB SSD Storage  No HDD  0.196970   \n",
       "2     GeForce RTX 3050 GPU, 4 GB   512 GB SSD Storage  No HDD  0.169697   \n",
       "3                        Iris Xe   512 GB SSD Storage  No HDD  0.000000   \n",
       "4                            UHD   512 GB SSD Storage  No HDD  0.136364   \n",
       "...                          ...                  ...     ...       ...   \n",
       "3968                         UHD   512 GB SSD Storage  No HDD  0.196970   \n",
       "3969  GeForce RTX 3050 GPU, 4 GB  1024 GB SSD Storage  No HDD  0.363636   \n",
       "3971     Geforce MX150 GPU, 2 GB   512 GB SSD Storage  No HDD  0.196970   \n",
       "3972                         UHD   256 GB SSD Storage  No HDD  0.196970   \n",
       "3973  GeForce RTX 3050 GPU, 4 GB  1024 GB SSD Storage  No HDD  0.363636   \n",
       "\n",
       "                    Battery_Life  Battery_Life_num  \n",
       "0       Upto 12 Hrs Battery Life              12.0  \n",
       "1       Upto 11 Hrs Battery Life              11.0  \n",
       "2       Upto 10 Hrs Battery Life              10.0  \n",
       "3     Upto 7.30 Hrs Battery Life               7.3  \n",
       "4        Upto 8 Hrs Battery Life               8.0  \n",
       "...                          ...               ...  \n",
       "3968     Upto 6 Hrs Battery Life               6.0  \n",
       "3969     Upto 6 Hrs Battery Life               6.0  \n",
       "3971     Upto 9 Hrs Battery Life               9.0  \n",
       "3972     Upto 3 Hrs Battery Life               3.0  \n",
       "3973     Upto 3 Hrs Battery Life               3.0  \n",
       "\n",
       "[1496 rows x 16 columns]"
      ]
     },
     "execution_count": 257,
     "metadata": {},
     "output_type": "execute_result"
    }
   ],
   "source": [
    "decoded_table"
   ]
  },
  {
   "cell_type": "code",
   "execution_count": 313,
   "id": "05a10106",
   "metadata": {},
   "outputs": [
    {
     "ename": "KeyError",
     "evalue": "'Price'",
     "output_type": "error",
     "traceback": [
      "\u001b[1;31m---------------------------------------------------------------------------\u001b[0m",
      "\u001b[1;31mKeyError\u001b[0m                                  Traceback (most recent call last)",
      "\u001b[1;32m~\\AppData\\Roaming\\Python\\Python37\\site-packages\\pandas\\core\\indexes\\base.py\u001b[0m in \u001b[0;36mget_loc\u001b[1;34m(self, key, method, tolerance)\u001b[0m\n\u001b[0;32m   3360\u001b[0m             \u001b[1;32mtry\u001b[0m\u001b[1;33m:\u001b[0m\u001b[1;33m\u001b[0m\u001b[1;33m\u001b[0m\u001b[0m\n\u001b[1;32m-> 3361\u001b[1;33m                 \u001b[1;32mreturn\u001b[0m \u001b[0mself\u001b[0m\u001b[1;33m.\u001b[0m\u001b[0m_engine\u001b[0m\u001b[1;33m.\u001b[0m\u001b[0mget_loc\u001b[0m\u001b[1;33m(\u001b[0m\u001b[0mcasted_key\u001b[0m\u001b[1;33m)\u001b[0m\u001b[1;33m\u001b[0m\u001b[1;33m\u001b[0m\u001b[0m\n\u001b[0m\u001b[0;32m   3362\u001b[0m             \u001b[1;32mexcept\u001b[0m \u001b[0mKeyError\u001b[0m \u001b[1;32mas\u001b[0m \u001b[0merr\u001b[0m\u001b[1;33m:\u001b[0m\u001b[1;33m\u001b[0m\u001b[1;33m\u001b[0m\u001b[0m\n",
      "\u001b[1;32m~\\AppData\\Roaming\\Python\\Python37\\site-packages\\pandas\\_libs\\index.pyx\u001b[0m in \u001b[0;36mpandas._libs.index.IndexEngine.get_loc\u001b[1;34m()\u001b[0m\n",
      "\u001b[1;32m~\\AppData\\Roaming\\Python\\Python37\\site-packages\\pandas\\_libs\\index.pyx\u001b[0m in \u001b[0;36mpandas._libs.index.IndexEngine.get_loc\u001b[1;34m()\u001b[0m\n",
      "\u001b[1;32mpandas\\_libs\\hashtable_class_helper.pxi\u001b[0m in \u001b[0;36mpandas._libs.hashtable.PyObjectHashTable.get_item\u001b[1;34m()\u001b[0m\n",
      "\u001b[1;32mpandas\\_libs\\hashtable_class_helper.pxi\u001b[0m in \u001b[0;36mpandas._libs.hashtable.PyObjectHashTable.get_item\u001b[1;34m()\u001b[0m\n",
      "\u001b[1;31mKeyError\u001b[0m: 'Price'",
      "\nThe above exception was the direct cause of the following exception:\n",
      "\u001b[1;31mKeyError\u001b[0m                                  Traceback (most recent call last)",
      "\u001b[1;32m~\\AppData\\Local\\Temp/ipykernel_10912/424623819.py\u001b[0m in \u001b[0;36m<module>\u001b[1;34m\u001b[0m\n\u001b[0;32m      1\u001b[0m \u001b[1;31m#trasform value to original value and save the result for website\u001b[0m\u001b[1;33m\u001b[0m\u001b[1;33m\u001b[0m\u001b[1;33m\u001b[0m\u001b[0m\n\u001b[1;32m----> 2\u001b[1;33m \u001b[0mdecoded_table\u001b[0m\u001b[1;33m[\u001b[0m\u001b[1;34m'Price'\u001b[0m\u001b[1;33m]\u001b[0m \u001b[1;33m=\u001b[0m \u001b[0mdecoded_table\u001b[0m\u001b[1;33m[\u001b[0m\u001b[1;34m'Price'\u001b[0m\u001b[1;33m]\u001b[0m\u001b[1;33m.\u001b[0m\u001b[0mapply\u001b[0m\u001b[1;33m(\u001b[0m\u001b[1;32mlambda\u001b[0m \u001b[0mx\u001b[0m\u001b[1;33m:\u001b[0m \u001b[0mx\u001b[0m\u001b[1;33m*\u001b[0m\u001b[1;33m(\u001b[0m\u001b[0msave_price_max\u001b[0m \u001b[1;33m-\u001b[0m \u001b[0msave_price_min\u001b[0m\u001b[1;33m)\u001b[0m\u001b[1;33m+\u001b[0m\u001b[0msave_price_min\u001b[0m\u001b[1;33m)\u001b[0m\u001b[1;33m\u001b[0m\u001b[1;33m\u001b[0m\u001b[0m\n\u001b[0m\u001b[0;32m      3\u001b[0m \u001b[0mdecoded_table\u001b[0m\u001b[1;33m[\u001b[0m\u001b[1;34m'Ghz'\u001b[0m\u001b[1;33m]\u001b[0m \u001b[1;33m=\u001b[0m \u001b[0mdecoded_table\u001b[0m\u001b[1;33m[\u001b[0m\u001b[1;34m'Ghz'\u001b[0m\u001b[1;33m]\u001b[0m\u001b[1;33m.\u001b[0m\u001b[0mapply\u001b[0m\u001b[1;33m(\u001b[0m\u001b[1;32mlambda\u001b[0m \u001b[0mx\u001b[0m\u001b[1;33m:\u001b[0m \u001b[0mx\u001b[0m\u001b[1;33m*\u001b[0m\u001b[1;33m(\u001b[0m\u001b[0msave_Ghz_max\u001b[0m \u001b[1;33m-\u001b[0m \u001b[0msave_Ghz_min\u001b[0m\u001b[1;33m)\u001b[0m\u001b[1;33m+\u001b[0m\u001b[0msave_Ghz_min\u001b[0m\u001b[1;33m)\u001b[0m\u001b[1;33m\u001b[0m\u001b[1;33m\u001b[0m\u001b[0m\n\u001b[0;32m      4\u001b[0m \u001b[0mdecoded_table\u001b[0m \u001b[1;33m=\u001b[0m \u001b[0mdecoded_table\u001b[0m\u001b[1;33m.\u001b[0m\u001b[0mdrop\u001b[0m\u001b[1;33m(\u001b[0m\u001b[1;33m[\u001b[0m\u001b[1;34m'Price'\u001b[0m\u001b[1;33m,\u001b[0m\u001b[1;34m'Unnamed: 0'\u001b[0m\u001b[1;33m]\u001b[0m\u001b[1;33m,\u001b[0m\u001b[0maxis\u001b[0m\u001b[1;33m=\u001b[0m\u001b[1;36m1\u001b[0m\u001b[1;33m)\u001b[0m\u001b[1;33m\u001b[0m\u001b[1;33m\u001b[0m\u001b[0m\n\u001b[0;32m      5\u001b[0m \u001b[1;31m#decoded_table.to_csv('laptops2.csv', index=False, encoding='utf-8')\u001b[0m\u001b[1;33m\u001b[0m\u001b[1;33m\u001b[0m\u001b[1;33m\u001b[0m\u001b[0m\n",
      "\u001b[1;32m~\\AppData\\Roaming\\Python\\Python37\\site-packages\\pandas\\core\\frame.py\u001b[0m in \u001b[0;36m__getitem__\u001b[1;34m(self, key)\u001b[0m\n\u001b[0;32m   3456\u001b[0m             \u001b[1;32mif\u001b[0m \u001b[0mself\u001b[0m\u001b[1;33m.\u001b[0m\u001b[0mcolumns\u001b[0m\u001b[1;33m.\u001b[0m\u001b[0mnlevels\u001b[0m \u001b[1;33m>\u001b[0m \u001b[1;36m1\u001b[0m\u001b[1;33m:\u001b[0m\u001b[1;33m\u001b[0m\u001b[1;33m\u001b[0m\u001b[0m\n\u001b[0;32m   3457\u001b[0m                 \u001b[1;32mreturn\u001b[0m \u001b[0mself\u001b[0m\u001b[1;33m.\u001b[0m\u001b[0m_getitem_multilevel\u001b[0m\u001b[1;33m(\u001b[0m\u001b[0mkey\u001b[0m\u001b[1;33m)\u001b[0m\u001b[1;33m\u001b[0m\u001b[1;33m\u001b[0m\u001b[0m\n\u001b[1;32m-> 3458\u001b[1;33m             \u001b[0mindexer\u001b[0m \u001b[1;33m=\u001b[0m \u001b[0mself\u001b[0m\u001b[1;33m.\u001b[0m\u001b[0mcolumns\u001b[0m\u001b[1;33m.\u001b[0m\u001b[0mget_loc\u001b[0m\u001b[1;33m(\u001b[0m\u001b[0mkey\u001b[0m\u001b[1;33m)\u001b[0m\u001b[1;33m\u001b[0m\u001b[1;33m\u001b[0m\u001b[0m\n\u001b[0m\u001b[0;32m   3459\u001b[0m             \u001b[1;32mif\u001b[0m \u001b[0mis_integer\u001b[0m\u001b[1;33m(\u001b[0m\u001b[0mindexer\u001b[0m\u001b[1;33m)\u001b[0m\u001b[1;33m:\u001b[0m\u001b[1;33m\u001b[0m\u001b[1;33m\u001b[0m\u001b[0m\n\u001b[0;32m   3460\u001b[0m                 \u001b[0mindexer\u001b[0m \u001b[1;33m=\u001b[0m \u001b[1;33m[\u001b[0m\u001b[0mindexer\u001b[0m\u001b[1;33m]\u001b[0m\u001b[1;33m\u001b[0m\u001b[1;33m\u001b[0m\u001b[0m\n",
      "\u001b[1;32m~\\AppData\\Roaming\\Python\\Python37\\site-packages\\pandas\\core\\indexes\\base.py\u001b[0m in \u001b[0;36mget_loc\u001b[1;34m(self, key, method, tolerance)\u001b[0m\n\u001b[0;32m   3361\u001b[0m                 \u001b[1;32mreturn\u001b[0m \u001b[0mself\u001b[0m\u001b[1;33m.\u001b[0m\u001b[0m_engine\u001b[0m\u001b[1;33m.\u001b[0m\u001b[0mget_loc\u001b[0m\u001b[1;33m(\u001b[0m\u001b[0mcasted_key\u001b[0m\u001b[1;33m)\u001b[0m\u001b[1;33m\u001b[0m\u001b[1;33m\u001b[0m\u001b[0m\n\u001b[0;32m   3362\u001b[0m             \u001b[1;32mexcept\u001b[0m \u001b[0mKeyError\u001b[0m \u001b[1;32mas\u001b[0m \u001b[0merr\u001b[0m\u001b[1;33m:\u001b[0m\u001b[1;33m\u001b[0m\u001b[1;33m\u001b[0m\u001b[0m\n\u001b[1;32m-> 3363\u001b[1;33m                 \u001b[1;32mraise\u001b[0m \u001b[0mKeyError\u001b[0m\u001b[1;33m(\u001b[0m\u001b[0mkey\u001b[0m\u001b[1;33m)\u001b[0m \u001b[1;32mfrom\u001b[0m \u001b[0merr\u001b[0m\u001b[1;33m\u001b[0m\u001b[1;33m\u001b[0m\u001b[0m\n\u001b[0m\u001b[0;32m   3364\u001b[0m \u001b[1;33m\u001b[0m\u001b[0m\n\u001b[0;32m   3365\u001b[0m         \u001b[1;32mif\u001b[0m \u001b[0mis_scalar\u001b[0m\u001b[1;33m(\u001b[0m\u001b[0mkey\u001b[0m\u001b[1;33m)\u001b[0m \u001b[1;32mand\u001b[0m \u001b[0misna\u001b[0m\u001b[1;33m(\u001b[0m\u001b[0mkey\u001b[0m\u001b[1;33m)\u001b[0m \u001b[1;32mand\u001b[0m \u001b[1;32mnot\u001b[0m \u001b[0mself\u001b[0m\u001b[1;33m.\u001b[0m\u001b[0mhasnans\u001b[0m\u001b[1;33m:\u001b[0m\u001b[1;33m\u001b[0m\u001b[1;33m\u001b[0m\u001b[0m\n",
      "\u001b[1;31mKeyError\u001b[0m: 'Price'"
     ]
    }
   ],
   "source": [
    "#trasform value to original value and save the result for website\n",
    "decoded_table['Price'] = decoded_table['Price'].apply(lambda x: x*(save_price_max - save_price_min)+save_price_min)\n",
    "decoded_table['Ghz'] = decoded_table['Ghz'].apply(lambda x: x*(save_Ghz_max - save_Ghz_min)+save_Ghz_min)\n",
    "decoded_table = decoded_table.drop(['Price','Unnamed: 0'],axis=1)\n",
    "#decoded_table.to_csv('laptops2.csv', index=False, encoding='utf-8')"
   ]
  },
  {
   "cell_type": "code",
   "execution_count": 325,
   "id": "dc95c007",
   "metadata": {},
   "outputs": [
    {
     "data": {
      "text/plain": [
       "(495900, 7990)"
      ]
     },
     "execution_count": 325,
     "metadata": {},
     "output_type": "execute_result"
    }
   ],
   "source": [
    "save_price_max - save_price_min, save_price_min"
   ]
  },
  {
   "cell_type": "code",
   "execution_count": null,
   "id": "b46b13cb",
   "metadata": {},
   "outputs": [],
   "source": []
  }
 ],
 "metadata": {
  "kernelspec": {
   "display_name": "Python 3 (ipykernel)",
   "language": "python",
   "name": "python3"
  },
  "language_info": {
   "codemirror_mode": {
    "name": "ipython",
    "version": 3
   },
   "file_extension": ".py",
   "mimetype": "text/x-python",
   "name": "python",
   "nbconvert_exporter": "python",
   "pygments_lexer": "ipython3",
   "version": "3.7.2"
  }
 },
 "nbformat": 4,
 "nbformat_minor": 5
}
